{
 "cells": [
  {
   "cell_type": "code",
   "execution_count": 1,
   "metadata": {
    "collapsed": true
   },
   "outputs": [
    {
     "name": "stderr",
     "output_type": "stream",
     "text": [
      "D:\\Programe\\Anaconda3\\envs\\MachineLearning\\lib\\site-packages\\gensim\\utils.py:865: UserWarning: detected Windows; aliasing chunkize to chunkize_serial\n  warnings.warn(\"detected Windows; aliasing chunkize to chunkize_serial\")\n"
     ]
    }
   ],
   "source": [
    "from MLClasses import subject_postgres_corpus"
   ]
  },
  {
   "cell_type": "code",
   "execution_count": 2,
   "metadata": {},
   "outputs": [
    {
     "name": "stdout",
     "output_type": "stream",
     "text": [
      "connecting to PostgreSQL database...\n"
     ]
    },
    {
     "name": "stdout",
     "output_type": "stream",
     "text": [
      "connection established\nPostgreSQL 10.3 on x86_64-pc-linux-gnu, compiled by gcc (GCC) 4.8.3 20140911 (Red Hat 4.8.3-9), 64-bit\n"
     ]
    }
   ],
   "source": [
    ""
   ]
  },
  {
   "cell_type": "code",
   "execution_count": 2,
   "metadata": {},
   "outputs": [],
   "source": [
    ""
   ]
  },
  {
   "cell_type": "code",
   "execution_count": 3,
   "metadata": {},
   "outputs": [
    {
     "name": "stdout",
     "output_type": "stream",
     "text": [
      "MmCorpus(928 documents, 61216 features, 622724 non-zero entries)\n"
     ]
    }
   ],
   "source": [
    "mm_corpus = gensim.corpora.MmCorpus('./gensim_data/politicai_bow.mm')\n",
    "print(mm_corpus)"
   ]
  },
  {
   "cell_type": "code",
   "execution_count": 4,
   "metadata": {},
   "outputs": [
    {
     "ename": "NameError",
     "evalue": "name 'politicAiCorpus' is not defined",
     "traceback": [
      "\u001b[1;31m---------------------------------------------------------------------------\u001b[0m",
      "\u001b[1;31mNameError\u001b[0m                                 Traceback (most recent call last)",
      "\u001b[1;32m<ipython-input-4-d9b31a7a37b2>\u001b[0m in \u001b[0;36m<module>\u001b[1;34m()\u001b[0m\n\u001b[1;32m----> 1\u001b[1;33m \u001b[0mprint\u001b[0m\u001b[1;33m(\u001b[0m\u001b[0mpoliticAiCorpus\u001b[0m\u001b[1;33m.\u001b[0m\u001b[0mdictionary\u001b[0m\u001b[1;33m)\u001b[0m\u001b[1;33m\u001b[0m\u001b[0m\n\u001b[0m",
      "\u001b[1;31mNameError\u001b[0m: name 'politicAiCorpus' is not defined"
     ],
     "output_type": "error"
    }
   ],
   "source": [
    ""
   ]
  },
  {
   "cell_type": "code",
   "execution_count": 4,
   "metadata": {},
   "outputs": [],
   "source": [
    "from gensim.models import KeyedVectors\n",
    "dutch_model = KeyedVectors.load('./word2vec-pretrained/gensim.dutch')\n"
   ]
  },
  {
   "cell_type": "code",
   "execution_count": 5,
   "metadata": {},
   "outputs": [],
   "source": [
    "# Initialize WmdSimilarity.\n",
    "from gensim.similarities import WmdSimilarity\n",
    "num_best = 10\n",
    "instance = WmdSimilarity(dutch_model.vocab, dutch_model, num_best=10 )"
   ]
  },
  {
   "cell_type": "code",
   "execution_count": 10,
   "metadata": {},
   "outputs": [
    {
     "name": "stdout",
     "output_type": "stream",
     "text": [
      "[]\nWall time: 9min 7s\n"
     ]
    }
   ],
   "source": [
    ""
   ]
  },
  {
   "cell_type": "code",
   "execution_count": 6,
   "metadata": {},
   "outputs": [
    {
     "name": "stderr",
     "output_type": "stream",
     "text": [
      "D:\\Programe\\Anaconda3\\envs\\MachineLearning\\lib\\site-packages\\matplotlib\\__init__.py:913: UserWarning: axes.color_cycle is deprecated and replaced with axes.prop_cycle; please use the latter.\n  warnings.warn(self.msg_depr % (key, alt_key))\nD:\\Programe\\Anaconda3\\envs\\MachineLearning\\lib\\site-packages\\ipykernel_launcher.py:15: MatplotlibDeprecationWarning: pyplot.hold is deprecated.\n    Future behavior will be consistent with the long-time default:\n    plot commands add elements without first clearing the\n    Axes and/or Figure.\n  from ipykernel import kernelapp as app\nD:\\Programe\\Anaconda3\\envs\\MachineLearning\\lib\\site-packages\\matplotlib\\__init__.py:917: UserWarning: axes.hold is deprecated. Please remove it from your matplotlibrc and/or style files.\n  warnings.warn(self.msg_depr_set % key)\nD:\\Programe\\Anaconda3\\envs\\MachineLearning\\lib\\site-packages\\matplotlib\\rcsetup.py:152: UserWarning: axes.hold is deprecated, will be removed in 3.0\n  warnings.warn(\"axes.hold is deprecated, will be removed in 3.0\")\nD:\\Programe\\Anaconda3\\envs\\MachineLearning\\lib\\site-packages\\ipykernel_launcher.py:19: MatplotlibDeprecationWarning: pyplot.hold is deprecated.\n    Future behavior will be consistent with the long-time default:\n    plot commands add elements without first clearing the\n    Axes and/or Figure.\n"
     ]
    },
    {
     "data": {
      "image/png": "[encoded data removed]",
      "text/plain": [
       "<matplotlib.figure.Figure at 0x1ec9f42ba90>"
      ]
     },
     "metadata": {},
     "output_type": "display_data"
    }
   ],
   "source": [
    "from matplotlib import pyplot as plt\n",
    "%matplotlib inline\n",
    "\n",
    "# Document lengths.\n",
    "lens = [len(doc) for doc in mm_corpus]\n",
    "\n",
    "# Plot.\n",
    "plt.rc('figure', figsize=(8,6))\n",
    "plt.rc('font', size=14)\n",
    "plt.rc('lines', linewidth=2)\n",
    "plt.rc('axes', color_cycle=('#377eb8','#e41a1c','#4daf4a',\n",
    "                            '#984ea3','#ff7f00','#ffff33'))\n",
    "# Histogram.\n",
    "plt.hist(lens, bins=20)\n",
    "plt.hold(True)\n",
    "# Average length.\n",
    "avg_len = sum(lens) / float(len(lens))\n",
    "plt.axvline(avg_len, color='#e41a1c')\n",
    "plt.hold(False)\n",
    "plt.title('Histogram of document lengths.')\n",
    "plt.xlabel('Length')\n",
    "plt.text(100, 800, 'mean = %.2f' % avg_len)\n",
    "plt.show()"
   ]
  },
  {
   "cell_type": "code",
   "execution_count": 18,
   "metadata": {},
   "outputs": [
    {
     "name": "stdout",
     "output_type": "stream",
     "text": [
      "[(0, 1.0), (1, 1.0), (2, 1.0), (3, 1.0), (4, 1.0), (5, 1.0), (6, 1.0), (7, 1.0), (8, 1.0), (9, 1.0), (10, 1.0), (11, 1.0), (12, 1.0), (13, 1.0), (14, 1.0), (15, 1.0), (16, 1.0), (17, 1.0)]\n"
     ]
    }
   ],
   "source": [
    "print((mm_corpus.__iter__().__next__()))"
   ]
  },
  {
   "cell_type": "code",
   "execution_count": 9,
   "metadata": {},
   "outputs": [],
   "source": [
    "\n",
    "sentence_obama = 'Obama speaks to the media in Illinois'.lower().split()\n",
    "sentence_president = 'The president greets the press in Chicago'.lower().split()\n",
    "\n",
    "sentence_obama = [w for w in sentence_obama]\n",
    "sentence_president = [w for w in sentence_president]"
   ]
  },
  {
   "cell_type": "code",
   "execution_count": 19,
   "metadata": {},
   "outputs": [
    {
     "name": "stdout",
     "output_type": "stream",
     "text": [
      "connecting to PostgreSQL database...\n"
     ]
    },
    {
     "name": "stdout",
     "output_type": "stream",
     "text": [
      "connection established\nPostgreSQL 10.3 on x86_64-pc-linux-gnu, compiled by gcc (GCC) 4.8.3 20140911 (Red Hat 4.8.3-9), 64-bit\n100\nTokenized 0 statements\n"
     ]
    },
    {
     "data": {
      "text/plain": [
       "1.077435244122314"
      ]
     },
     "execution_count": 19,
     "metadata": {},
     "output_type": "execute_result"
    }
   ],
   "source": [
    "from utility.document_streaming import *\n",
    "documentStreaming = PostgresStreaming()\n",
    "documents = documentStreaming.iter_tokenize_statements()\n",
    "dutch_model.wmdistance(documents.__next__(), documents.__next__())"
   ]
  },
  {
   "cell_type": "code",
   "execution_count": 22,
   "metadata": {},
   "outputs": [
    {
     "ename": "KeyboardInterrupt",
     "evalue": "",
     "traceback": [
      "\u001b[1;31m---------------------------------------------------------------------------\u001b[0m",
      "\u001b[1;31mKeyboardInterrupt\u001b[0m                         Traceback (most recent call last)",
      "\u001b[1;32m<ipython-input-22-7051a2058199>\u001b[0m in \u001b[0;36m<module>\u001b[1;34m()\u001b[0m\n\u001b[1;32m----> 1\u001b[1;33m \u001b[0mdutch_model\u001b[0m\u001b[1;33m.\u001b[0m\u001b[0mwmdistance\u001b[0m\u001b[1;33m(\u001b[0m\u001b[0mdocuments\u001b[0m\u001b[1;33m.\u001b[0m\u001b[0m__next__\u001b[0m\u001b[1;33m(\u001b[0m\u001b[1;33m)\u001b[0m\u001b[1;33m,\u001b[0m \u001b[0mdocuments\u001b[0m\u001b[1;33m.\u001b[0m\u001b[0m__next__\u001b[0m\u001b[1;33m(\u001b[0m\u001b[1;33m)\u001b[0m\u001b[1;33m)\u001b[0m\u001b[1;33m\u001b[0m\u001b[0m\n\u001b[0m",
      "\u001b[1;32mD:\\Programe\\Anaconda3\\envs\\MachineLearning\\lib\\site-packages\\gensim\\models\\keyedvectors.py\u001b[0m in \u001b[0;36mwmdistance\u001b[1;34m(self, document1, document2)\u001b[0m\n\u001b[0;32m    421\u001b[0m                     \u001b[1;32mcontinue\u001b[0m\u001b[1;33m\u001b[0m\u001b[0m\n\u001b[0;32m    422\u001b[0m                 \u001b[1;31m# Compute Euclidean distance between word vectors.\u001b[0m\u001b[1;33m\u001b[0m\u001b[1;33m\u001b[0m\u001b[0m\n\u001b[1;32m--> 423\u001b[1;33m                 \u001b[0mdistance_matrix\u001b[0m\u001b[1;33m[\u001b[0m\u001b[0mi\u001b[0m\u001b[1;33m,\u001b[0m \u001b[0mj\u001b[0m\u001b[1;33m]\u001b[0m \u001b[1;33m=\u001b[0m \u001b[0msqrt\u001b[0m\u001b[1;33m(\u001b[0m\u001b[0mnp_sum\u001b[0m\u001b[1;33m(\u001b[0m\u001b[1;33m(\u001b[0m\u001b[0mself\u001b[0m\u001b[1;33m[\u001b[0m\u001b[0mt1\u001b[0m\u001b[1;33m]\u001b[0m \u001b[1;33m-\u001b[0m \u001b[0mself\u001b[0m\u001b[1;33m[\u001b[0m\u001b[0mt2\u001b[0m\u001b[1;33m]\u001b[0m\u001b[1;33m)\u001b[0m\u001b[1;33m**\u001b[0m\u001b[1;36m2\u001b[0m\u001b[1;33m)\u001b[0m\u001b[1;33m)\u001b[0m\u001b[1;33m\u001b[0m\u001b[0m\n\u001b[0m\u001b[0;32m    424\u001b[0m \u001b[1;33m\u001b[0m\u001b[0m\n\u001b[0;32m    425\u001b[0m         \u001b[1;32mif\u001b[0m \u001b[0mnp_sum\u001b[0m\u001b[1;33m(\u001b[0m\u001b[0mdistance_matrix\u001b[0m\u001b[1;33m)\u001b[0m \u001b[1;33m==\u001b[0m \u001b[1;36m0.0\u001b[0m\u001b[1;33m:\u001b[0m\u001b[1;33m\u001b[0m\u001b[0m\n",
      "\u001b[1;31mKeyboardInterrupt\u001b[0m: "
     ],
     "output_type": "error"
    }
   ],
   "source": [
    "dutch_model.wmdistance(documents.__next__(), documents.__next__())"
   ]
  },
  {
   "cell_type": "code",
   "execution_count": 44,
   "metadata": {},
   "outputs": [
    {
     "name": "stdout",
     "output_type": "stream",
     "text": [
      "dict_values([array([     97,     214,    3848,    8892,   39725,   40011,   57178,\n         60808,   78419,   93374,   95867,   98887,  114363,  118800,\n        118877,  121299,  139023,  143521,  156230,  156513,  159768,\n        159854,  165299,  181474,  184876,  185171,  185469,  191967,\n        199850,  200086,  200478,  200709,  201043,  201111,  224933,\n        225162,  248517,  251859,  262057,  262314,  284410,  326391,\n        329863,  330010,  333954,  336640,  336756,  337216,  337330,\n        337535,  337604,  337909,  342114,  342478,  349729,  369111,\n        372982,  381159,  404424,  421338,  434240,  434498,  438075,\n        448809,  468155,  474383,  494436,  501948,  502693,  502907,\n        511275,  511758,  514783,  514888,  515003,  515187,  521321,\n        521626,  563818,  567356,  588159,  593238,  593661,  593918,\n        596658,  619979,  639273,  643029,  670135,  670273,  674364,\n        677834,  684619,  689034,  689294,  689580,  690073,  690392,\n        690629,  690876,  714063,  722991,  726642,  730791,  763694,\n        794089,  794373,  804695,  838359,  842801,  849340,  850614,\n        856903,  865262,  871851,  877373,  880974,  881269,  881328,\n        885548,  894970,  895055,  913284,  913391,  913660,  913777,\n        914146,  914588,  914756,  915753,  922807,  948339,  948592,\n        950685,  950790,  956379,  960702,  965784,  969361,  969477,\n        970037,  970317,  970771,  971125,  971565,  984003,  987779,\n        991960, 1009859, 1039805, 1040024, 1040327, 1045601, 1045686,\n       1046175, 1050440, 1085026, 1085213, 1091147, 1094833, 1095095,\n       1095452, 1099891, 1105214, 1105299, 1105708, 1110784, 1114624,\n       1114726, 1130226, 1151697, 1156978, 1185920, 1191484, 1191780,\n       1220446, 1239096, 1249273, 1253475, 1275110, 1275401, 1275580,\n       1280026, 1317412, 1326043, 1331214, 1337069, 1337353, 1337561,\n       1346917, 1350058, 1356484, 1356974, 1357547, 1357977, 1358345,\n       1362454, 1362844, 1363230, 1367787, 1377923, 1378579, 1397771,\n       1418391, 1422432, 1422517, 1442880, 1464198, 1466297, 1470617,\n       1470743, 1476472, 1501105, 1510570, 1530364, 1530423, 1530964,\n       1531104, 1531193, 1531395, 1535026, 1535154, 1535368, 1540246,\n       1540794, 1540827, 1541080, 1547279, 1575114, 1582009, 1590519,\n       1622909, 1649312, 1649565, 1656724, 1686117, 1695106, 1695761,\n       1710377, 1730907, 1731183, 1766202, 1766388, 1771289, 1771394,\n       1775074, 1781414, 1787693, 1791746, 1796888, 1797857, 1798130,\n       1824332, 1830174, 1838737, 1840261, 1862871, 1863196, 1868727,\n       1894565, 1894839, 1898248, 1898591, 1921600, 1943044, 1943433,\n       1943849, 1945998, 1951970, 1952086, 1957857, 1964126, 1969802,\n       1970269, 1973672, 1996187, 2002086, 2028002, 2063830, 2064128,\n       2066721, 2067469, 2067839, 2068083, 2093749, 2113835, 2113889,\n       2114290, 2114490, 2121923, 2131126, 2131400, 2157140, 2163276,\n       2165848, 2187944, 2216254, 2241090, 2241395, 2254908, 2258381,\n       2284255, 2284753, 2284989, 2285293, 2285591, 2286554, 2287216,\n       2287294, 2287503, 2294014, 2336587, 2349426, 2351304, 2351578,\n       2386167, 2412487, 2416276, 2416821, 2418483, 2419279, 2419604,\n       2425138, 2455076, 2455154, 2462274, 2467460, 2471446, 2475861,\n       2480527, 2480686, 2480948, 2481242, 2481928, 2482202, 2486931,\n       2517506, 2523439, 2542829, 2545237, 2545542, 2549584, 2566980,\n       2586581, 2586802, 2587683, 2592253, 2592676, 2592906, 2596576,\n       2603950, 2604225, 2604558, 2609913, 2610187, 2622498, 2623005,\n       2623432, 2647055, 2647521, 2647794, 2662822, 2686851, 2691230,\n       2691368, 2696678, 2703318, 2703406, 2707597, 2707765, 2710855,\n       2711798, 2716181, 2740174, 2740486, 2743757, 2744017, 2759367,\n       2784461, 2784721, 2784921, 2787462, 2790025, 2813099, 2817733,\n       2824584, 2824701, 2825198, 2825604, 2825845, 2826573, 2846980,\n       2853695, 2853969, 2858237, 2918329, 2934902, 2959957, 3001209,\n       3032270, 3032585, 3038494, 3046549, 3047044, 3047512, 3056054,\n       3061936, 3062098, 3090083, 3090839, 3096299, 3101890, 3102164,\n       3103903, 3104166, 3127650, 3127896, 3128838, 3158735, 3160731,\n       3161036, 3165760, 3188709, 3192398, 3198516, 3205333, 3205695,\n       3206139, 3206310, 3207341, 3207633, 3211978, 3215687, 3215867,\n       3216006, 3216124, 3219767, 3239596, 3243525, 3243759, 3267866,\n       3268288, 3269160, 3271485, 3278907, 3299228, 3320516, 3321147,\n       3321957, 3322370, 3322440, 3324860, 3325176, 3325456, 3325758,\n       3329493, 3332125, 3355377, 3355905, 3356355, 3356555, 3357151,\n       3362141, 3364714, 3389486, 3392988, 3396628, 3396902, 3411522,\n       3434550, 3435027, 3435408, 3435848, 3436443, 3436852, 3437548,\n       3438520, 3439645, 3439715, 3442486, 3447841, 3455673, 3455989,\n       3477807, 3480554, 3480765, 3516611, 3516717, 3516945, 3526233,\n       3530779, 3568422, 3572319, 3577235, 3593581, 3594037, 3594263,\n       3594842, 3595476, 3600323, 3606763, 3606869, 3613408, 3614374,\n       3614472, 3633829, 3676644, 3676844, 3689891, 3695047, 3714220,\n       3714445, 3714858, 3715244, 3715593, 3720610, 3721690, 3722127,\n       3722698, 3724117, 3724667, 3730076, 3736767, 3737163, 3741966,\n       3742454, 3759956, 3770543, 3791947, 3796069, 3820204, 3820653,\n       3824885, 3829481, 3850739, 3872380, 3878078, 3878352, 3885683,\n       3902133, 3902584, 3903608, 3903779, 3904365, 3904839, 3905304,\n       3905524, 3905706, 3909208, 3911669, 3912095, 3926078, 3952064,\n       3953581, 3953806, 3959710, 3960015, 3964778, 3981099, 4004938,\n       4005058, 4008376, 4008523, 4024976, 4038939, 4051693, 4075376,\n       4083218, 4083355, 4102766, 4121426, 4124159, 4124485, 4128246,\n       4128446, 4130650, 4159415, 4185308, 4185760, 4185838, 4186326,\n       4186530, 4193606, 4194222, 4200586, 4200802, 4203554, 4207788,\n       4208062, 4228694, 4234561, 4248418, 4282162, 4282477, 4305908,\n       4312099, 4330243, 4342172, 4357835, 4358241, 4358641, 4362903,\n       4399155, 4399355, 4399605, 4399843, 4405244, 4408249, 4414233,\n       4426907, 4443546, 4447585, 4462389, 4482991, 4498270, 4513612,\n       4528113, 4545740, 4549182, 4559120, 4559226, 4561074, 4580439,\n       4598528, 4599725, 4603855, 4604038, 4604293, 4604528, 4604949,\n       4605027, 4605280, 4605515, 4605727, 4624081, 4624355, 4625906,\n       4628584, 4644550, 4644845, 4645124, 4684828, 4687341, 4687615,\n       4688028, 4688126, 4692476, 4692791, 4703505, 4703698, 4703980,\n       4704234, 4709779, 4710262, 4718499, 4718806, 4719067, 4719364,\n       4719756, 4723876, 4724016, 4724195, 4724625, 4725109, 4726320,\n       4726690, 4732430, 4732525, 4733518, 4741918, 4742056, 4788285,\n       4788688, 4831177, 4837009, 4881546, 4898376, 4898691, 4918978,\n       4925081, 4926829, 4943705, 4944280, 4945191, 4945797, 4946833,\n       4949421, 4956553, 4956777, 4960720, 4965874, 4966977, 5001827,\n       5002122, 5007824, 5007930, 5047301, 5083859, 5116138, 5116400,\n       5116852, 5117304, 5117741, 5117920, 5119177, 5119407, 5134173,\n       5135251, 5135806, 5136767, 5137255, 5137780, 5143686, 5143803,\n       5145129, 5145382, 5151210, 5219156, 5224051, 5228633, 5229925,\n       5269933, 5300733, 5301496, 5301593, 5301772, 5303198, 5303658,\n       5304482, 5304754, 5305082, 5310565, 5310837, 5311049, 5315715,\n       5316011, 5369303, 5373650, 5379310, 5387612, 5387994, 5392713,\n       5392903, 5393083, 5393367, 5412315, 5412372, 5412852, 5414126,\n       5415633, 5416003, 5416245, 5417532, 5418284, 5422361, 5428541,\n       5428645, 5429109, 5430047, 5477535, 5483803, 5484108, 5487186,\n       5519072, 5523471, 5523650, 5574481, 5611730, 5612470, 5614138,\n       5614964, 5615329, 5615967, 5623364, 5624412, 5624834, 5629136,\n       5629295, 5633322, 5641412, 5677127, 5677380, 5701989, 5764261,\n       5772418, 5772688, 5774858, 5783359, 5783618, 5805753, 5809621,\n       5813299, 5813821, 5824647, 5829669, 5830133, 5835166, 5835353,\n       5840172, 5845987, 5848363, 5851094, 5852075, 5887998, 5897719,\n       5907529, 5907635, 5915244, 5945206, 5950367, 5955702, 5959033,\n       5975584, 5978470, 5978670, 5978781, 5984459, 5988331, 5988815,\n       5992828, 5993218, 5993820, 5994184, 5994326, 5994568, 5994789,\n       6033857, 6034131, 6036643, 6054412, 6064058, 6064796, 6102038,\n       6133755, 6135767, 6136132, 6143316, 6154069, 6154639, 6155227,\n       6155729, 6155850, 6156190, 6156320, 6156468, 6186912, 6219155,\n       6219429, 6222253, 6242922, 6283478, 6330653, 6330958, 6341266,\n       6346567, 6347072, 6347612, 6348211, 6348642, 6354084, 6359461,\n       6363445, 6369935, 6370072, 6370350, 6371057, 6371362, 6378208,\n       6385159, 6390738, 6396866, 6402462, 6403517, 6403823, 6408397,\n       6433089, 6434629, 6479200, 6479750, 6480139, 6480723, 6481267,\n       6482181, 6482587, 6483035, 6483408, 6483806, 6517917, 6518191,\n       6553907, 6558221, 6600589, 6611951, 6623275, 6634669, 6634775,\n       6638852, 6644109, 6644643, 6645337, 6645915, 6646441, 6646869,\n       6647397, 6647899, 6655880, 6655977, 6660900, 6669951, 6676269,\n       6712302, 6714879, 6715881, 6717724, 6722213, 6722778, 6723296,\n       6723909, 6724201, 6724724, 6725312, 6725781, 6725919, 6726501,\n       6751557, 6751891, 6753707, 6784847]), None, './gensim_data/politicai_bow.mm', True, 928, 61216, 622724])\n"
     ]
    }
   ],
   "source": [
    "print(mm_corpus.__dict__.values())"
   ]
  },
  {
   "cell_type": "code",
   "execution_count": null,
   "metadata": {},
   "outputs": [],
   "source": []
  },
  {
   "cell_type": "code",
   "execution_count": 33,
   "metadata": {},
   "outputs": [
    {
     "data": {
      "text/plain": [
       "<gensim.similarities.docsim.MatrixSimilarity at 0x1eca1f69048>"
      ]
     },
     "execution_count": 32,
     "metadata": {},
     "output_type": "execute_result"
    }
   ],
   "source": [
    "gensim.similarities.MatrixSimilarity(mm_corpus,)"
   ]
  }
 ],
 "metadata": {
  "kernelspec": {
   "display_name": "Python 2",
   "language": "python",
   "name": "python2"
  },
  "language_info": {
   "codemirror_mode": {
    "name": "ipython",
    "version": 2
   },
   "file_extension": ".py",
   "mimetype": "text/x-python",
   "name": "python",
   "nbconvert_exporter": "python",
   "pygments_lexer": "ipython2",
   "version": "2.7.6"
  }
 },
 "nbformat": 4,
 "nbformat_minor": 0
}
