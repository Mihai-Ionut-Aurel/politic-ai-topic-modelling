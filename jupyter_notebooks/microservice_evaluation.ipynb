{
 "cells": [
  {
   "cell_type": "code",
   "execution_count": 1,
   "metadata": {
    "collapsed": true
   },
   "outputs": [
    {
     "name": "stderr",
     "output_type": "stream",
     "text": [
      "D:\\Programe\\Anaconda3\\envs\\MachineLearning\\lib\\site-packages\\gensim\\utils.py:1197: UserWarning: detected Windows; aliasing chunkize to chunkize_serial\n  warnings.warn(\"detected Windows; aliasing chunkize to chunkize_serial\")\n"
     ]
    }
   ],
   "source": [
    "from utility.documents_gensim import *\n",
    "from utility.s3_files_download import *"
   ]
  },
  {
   "cell_type": "code",
   "execution_count": 8,
   "metadata": {},
   "outputs": [
    {
     "name": "stdout",
     "output_type": "stream",
     "text": [
      "Current File is  ./s3/gensim_data/updated_subjects/politic-ai-corpus.mm\n"
     ]
    },
    {
     "name": "stdout",
     "output_type": "stream",
     "text": [
      "Current File is  ./s3/gensim_data/updated_subjects/politic-ai-corpus.mm.dict\n"
     ]
    },
    {
     "name": "stdout",
     "output_type": "stream",
     "text": [
      "Current File is  ./s3/gensim_data/updated_subjects/politic-ai-corpus.mm.index\nCurrent File is  ./s3/gensim_data/updated_subjects/politic-ai-corpus.mm.metadata.cpickle\n"
     ]
    },
    {
     "name": "stdout",
     "output_type": "stream",
     "text": [
      "Current File is  ./s3/gensim_data/updated_subjects/trained/politic-ai-trained.tr.lsi\n"
     ]
    },
    {
     "name": "stdout",
     "output_type": "stream",
     "text": [
      "Current File is  ./s3/gensim_data/updated_subjects/trained/politic-ai-trained.tr.lsi.index\n"
     ]
    },
    {
     "name": "stdout",
     "output_type": "stream",
     "text": [
      "Current File is  ./s3/gensim_data/updated_subjects/trained/politic-ai-trained.tr.lsi.projection\n"
     ]
    },
    {
     "name": "stdout",
     "output_type": "stream",
     "text": [
      "Current File is  ./s3/gensim_data/updated_subjects/trained/politic-ai-trained.tr.tfidf\n"
     ]
    },
    {
     "name": "stdout",
     "output_type": "stream",
     "text": [
      "Current File is  ./s3/gensim_data/updated_subjects/trained/politic-ai-trained.tr.tfidf.corpus\n"
     ]
    },
    {
     "name": "stdout",
     "output_type": "stream",
     "text": [
      "Current File is  ./s3/gensim_data/updated_subjects/trained/politic-ai-trained.trtfidf.corpus.index\nCurrent File is  ./s3/gensim_data/updated_subjects/trained/politic-ai-trained.trtfidf.corpus.index.index.npy\n"
     ]
    },
    {
     "name": "stdout",
     "output_type": "stream",
     "text": [
      "Current File is  ./s3/gensim_data/updated_subjects/trained/politic-ai-trained.trtfidf.corpus.index.sims\n"
     ]
    },
    {
     "name": "stdout",
     "output_type": "stream",
     "text": [
      "Current File is  ./s3/gensim_data/updated_subjects/twitter/twitter-corpus.mm\n"
     ]
    },
    {
     "name": "stdout",
     "output_type": "stream",
     "text": [
      "Current File is  ./s3/gensim_data/updated_subjects/twitter/twitter-corpus.mm.index\nCurrent File is  ./s3/gensim_data/updated_subjects/twitter/twitter-corpus.mm.metadata.cpickle\n"
     ]
    }
   ],
   "source": [
    "download_s3_bucket_contents('./s3/')\n",
    "\n"
   ]
  },
  {
   "cell_type": "code",
   "execution_count": 2,
   "metadata": {},
   "outputs": [
    {
     "name": "stdout",
     "output_type": "stream",
     "text": [
      "loaded\n"
     ]
    }
   ],
   "source": [
    "corpus_path = \"./s3//gensim_data/updated_subjects/politic-ai-corpus.mm\"\n",
    "trained_path = \"./s3/gensim_data/updated_subjects/trained/politic-ai-trained.tr\"\n",
    "similarDocumentsHelper = SimilarDocumentsHelper(dictionary_path=corpus_path + \".dict\",\n",
    "                                                corpus_path=corpus_path,\n",
    "                                                tfidf_path=trained_path + \".tfidf\",\n",
    "                                                corpus_tfidf_path=trained_path + \".tfidf.corpus\",\n",
    "                                                tfidf_index_sim_path=trained_path + \"tfidf.corpus.index\",\n",
    "                                                lsi_path=trained_path + \".lsi\",\n",
    "                                                lsi_index_path=trained_path + \".lsi.index\",\n",
    "                                                stopwords_path='./utility/files/stopwords.json',\n",
    "                                                tweet_corpus_path=\"./s3/gensim_data/updated_subjects/twitter/twitter-corpus.mm\")"
   ]
  },
  {
   "cell_type": "code",
   "execution_count": 12,
   "metadata": {},
   "outputs": [],
   "source": [
    "tweets = similarDocumentsHelper.get_similar_tweets(3926, 0.5)"
   ]
  },
  {
   "cell_type": "code",
   "execution_count": 13,
   "metadata": {},
   "outputs": [
    {
     "data": {
      "text/plain": [
       "4576"
      ]
     },
     "execution_count": 13,
     "metadata": {},
     "output_type": "execute_result"
    }
   ],
   "source": [
    "[*tweets[0].keys()][0]"
   ]
  },
  {
   "cell_type": "code",
   "execution_count": 5,
   "metadata": {},
   "outputs": [
    {
     "name": "stdout",
     "output_type": "stream",
     "text": [
      "connecting to PostgreSQL database...\n"
     ]
    },
    {
     "name": "stdout",
     "output_type": "stream",
     "text": [
      "connection established\nPostgreSQL 10.3 on x86_64-pc-linux-gnu, compiled by gcc (GCC) 4.8.3 20140911 (Red Hat 4.8.3-9), 64-bit\n"
     ]
    }
   ],
   "source": [
    "from utility.postgres_manager import *\n",
    "postgresManager = PostgresManager()"
   ]
  },
  {
   "cell_type": "code",
   "execution_count": 6,
   "metadata": {},
   "outputs": [],
   "source": [
    "subjects = postgresManager.select(\n",
    "    \"SELECT id FROM politicalai_ict.subject\")"
   ]
  },
  {
   "cell_type": "code",
   "execution_count": 8,
   "metadata": {},
   "outputs": [
    {
     "data": {
      "text/plain": [
       "3926"
      ]
     },
     "execution_count": 8,
     "metadata": {},
     "output_type": "execute_result"
    }
   ],
   "source": [
    "subjects[0][0]"
   ]
  },
  {
   "cell_type": "code",
   "execution_count": 21,
   "metadata": {
    "collapsed": true
   },
   "outputs": [
    {
     "name": "stdout",
     "output_type": "stream",
     "text": [
      "Subject: 3926 tweet 4576\nSubject: 3926 tweet 10482\nSubject: 3926 tweet 2410\nSubject: 3926 tweet 10467\nSubject: 3926 tweet 9005\nSubject: 3926 tweet 1610\n"
     ]
    },
    {
     "name": "stdout",
     "output_type": "stream",
     "text": [
      "Subject: 3926 tweet 1500\nSubject: 3926 tweet 773\nSubject: 3926 tweet 1058\nSubject: 3926 tweet 9085\nSubject: 3928 tweet 2669\n"
     ]
    },
    {
     "name": "stdout",
     "output_type": "stream",
     "text": [
      "Subject: 3928 tweet 1912\nSubject: 3928 tweet 8642\nSubject: 3928 tweet 324\nSubject: 3928 tweet 4919\nSubject: 3928 tweet 9180\nSubject: 3928 tweet 12227\n"
     ]
    },
    {
     "name": "stdout",
     "output_type": "stream",
     "text": [
      "Subject: 3928 tweet 4522\nSubject: 3928 tweet 2434\nSubject: 3928 tweet 12458\nSubject: 3929 tweet 3382\nSubject: 3929 tweet 8917\n"
     ]
    },
    {
     "name": "stdout",
     "output_type": "stream",
     "text": [
      "Subject: 3929 tweet 1244\nSubject: 3929 tweet 4546\nSubject: 3929 tweet 4272\nSubject: 3929 tweet 6562\nSubject: 3929 tweet 10104\n"
     ]
    },
    {
     "name": "stdout",
     "output_type": "stream",
     "text": [
      "Subject: 3929 tweet 6921\nSubject: 3929 tweet 10920\nSubject: 3929 tweet 7374\nSubject: 3935 tweet 4576\nSubject: 3935 tweet 10482\n"
     ]
    },
    {
     "name": "stdout",
     "output_type": "stream",
     "text": [
      "Subject: 3935 tweet 2410\nSubject: 3935 tweet 10467\nSubject: 3935 tweet 9005\nSubject: 3935 tweet 1610\nSubject: 3935 tweet 1500\nSubject: 3935 tweet 773\n"
     ]
    },
    {
     "name": "stdout",
     "output_type": "stream",
     "text": [
      "Subject: 3935 tweet 1058\nSubject: 3935 tweet 9085\nSubject: 3937 tweet 2669\nSubject: 3937 tweet 1912\nSubject: 3937 tweet 8642\n"
     ]
    },
    {
     "name": "stdout",
     "output_type": "stream",
     "text": [
      "Subject: 3937 tweet 324\nSubject: 3937 tweet 4919\nSubject: 3937 tweet 9180\nSubject: 3937 tweet 12227\nSubject: 3937 tweet 4522\nSubject: 3937 tweet 2434\n"
     ]
    },
    {
     "name": "stdout",
     "output_type": "stream",
     "text": [
      "Subject: 3937 tweet 12458\nSubject: 3938 tweet 3382\nSubject: 3938 tweet 8917\nSubject: 3938 tweet 1244\nSubject: 3938 tweet 4546\n"
     ]
    },
    {
     "name": "stdout",
     "output_type": "stream",
     "text": [
      "Subject: 3938 tweet 4272\nSubject: 3938 tweet 6562\nSubject: 3938 tweet 10104\nSubject: 3938 tweet 6921\nSubject: 3938 tweet 10920\nSubject: 3938 tweet 7374\n"
     ]
    },
    {
     "name": "stdout",
     "output_type": "stream",
     "text": [
      "Subject: 3944 tweet 8478\nSubject: 3944 tweet 6044\nSubject: 3944 tweet 9083\nSubject: 3944 tweet 1678\nSubject: 3944 tweet 6471\n"
     ]
    },
    {
     "name": "stdout",
     "output_type": "stream",
     "text": [
      "Subject: 3944 tweet 885\nSubject: 3944 tweet 6394\nSubject: 3944 tweet 9084\nSubject: 3944 tweet 11987\nSubject: 3944 tweet 6571\n"
     ]
    },
    {
     "name": "stdout",
     "output_type": "stream",
     "text": [
      "Subject: 3946 tweet 12443\nSubject: 3946 tweet 8620\nSubject: 3946 tweet 3794\nSubject: 3946 tweet 2233\nSubject: 3946 tweet 2588\nSubject: 3946 tweet 9993\n"
     ]
    },
    {
     "name": "stdout",
     "output_type": "stream",
     "text": [
      "Subject: 3946 tweet 807\nSubject: 3946 tweet 7249\nSubject: 3946 tweet 1199\nSubject: 3946 tweet 239\nSubject: 3947 tweet 7162\n"
     ]
    },
    {
     "name": "stdout",
     "output_type": "stream",
     "text": [
      "Subject: 3947 tweet 1743\nSubject: 3947 tweet 3\nSubject: 3947 tweet 1384\nSubject: 3947 tweet 156\nSubject: 3947 tweet 198\nSubject: 3947 tweet 8977\n"
     ]
    },
    {
     "name": "stdout",
     "output_type": "stream",
     "text": [
      "Subject: 3947 tweet 2243\nSubject: 3947 tweet 9452\nSubject: 3947 tweet 8891\nSubject: 3948 tweet 8618\nSubject: 3948 tweet 3202\n"
     ]
    },
    {
     "name": "stdout",
     "output_type": "stream",
     "text": [
      "Subject: 3948 tweet 9926\nSubject: 3948 tweet 9034\nSubject: 3948 tweet 1534\nSubject: 3948 tweet 9721\nSubject: 3948 tweet 9814\nSubject: 3948 tweet 10532\n"
     ]
    },
    {
     "name": "stdout",
     "output_type": "stream",
     "text": [
      "Subject: 3948 tweet 4429\nSubject: 3948 tweet 10131\nSubject: 3949 tweet 7431\nSubject: 3949 tweet 4195\nSubject: 3949 tweet 12320\n"
     ]
    },
    {
     "name": "stdout",
     "output_type": "stream",
     "text": [
      "Subject: 3949 tweet 7295\nSubject: 3949 tweet 4196\nSubject: 3949 tweet 10284\nSubject: 3949 tweet 7296\nSubject: 3949 tweet 8236\n"
     ]
    },
    {
     "name": "stdout",
     "output_type": "stream",
     "text": [
      "Subject: 3949 tweet 1812\nSubject: 3949 tweet 9727\nSubject: 3950 tweet 7\nSubject: 3950 tweet 10203\nSubject: 3950 tweet 9897\n"
     ]
    },
    {
     "name": "stdout",
     "output_type": "stream",
     "text": [
      "Subject: 3950 tweet 10122\nSubject: 3950 tweet 10710\nSubject: 3950 tweet 1949\nSubject: 3950 tweet 10242\nSubject: 3950 tweet 1403\n"
     ]
    },
    {
     "name": "stdout",
     "output_type": "stream",
     "text": [
      "Subject: 3950 tweet 10267\nSubject: 3950 tweet 9789\nSubject: 3951 tweet 9828\nSubject: 3951 tweet 454\nSubject: 3951 tweet 4344\n"
     ]
    },
    {
     "name": "stdout",
     "output_type": "stream",
     "text": [
      "Subject: 3951 tweet 4411\nSubject: 3951 tweet 1857\nSubject: 3951 tweet 7087\nSubject: 3951 tweet 5448\nSubject: 3951 tweet 8829\n"
     ]
    },
    {
     "name": "stdout",
     "output_type": "stream",
     "text": [
      "Subject: 3951 tweet 8856\nSubject: 3951 tweet 9082\nSubject: 3952 tweet 10255\nSubject: 3952 tweet 10277\nSubject: 3952 tweet 4337\n"
     ]
    },
    {
     "name": "stdout",
     "output_type": "stream",
     "text": [
      "Subject: 3952 tweet 3666\nSubject: 3952 tweet 10300\nSubject: 3952 tweet 8949\nSubject: 3952 tweet 9920\nSubject: 3952 tweet 9975\n"
     ]
    },
    {
     "name": "stdout",
     "output_type": "stream",
     "text": [
      "Subject: 3952 tweet 8989\nSubject: 3952 tweet 8986\nSubject: 3956 tweet 10105\nSubject: 3956 tweet 7379\nSubject: 3956 tweet 8082\n"
     ]
    },
    {
     "name": "stdout",
     "output_type": "stream",
     "text": [
      "Subject: 3956 tweet 1734\nSubject: 3956 tweet 5854\nSubject: 3957 tweet 6458\nSubject: 3957 tweet 6456\n"
     ]
    },
    {
     "name": "stdout",
     "output_type": "stream",
     "text": [
      "Subject: 3957 tweet 2284\nSubject: 3957 tweet 7125\nSubject: 3957 tweet 6748\nSubject: 3957 tweet 6277\n"
     ]
    },
    {
     "name": "stdout",
     "output_type": "stream",
     "text": [
      "Subject: 3957 tweet 6281\nSubject: 3957 tweet 6436\nSubject: 3957 tweet 7678\nSubject: 3957 tweet 7243\n"
     ]
    },
    {
     "name": "stdout",
     "output_type": "stream",
     "text": [
      "Subject: 3961 tweet 7616\nSubject: 3961 tweet 7048\nSubject: 3961 tweet 7275\nSubject: 3961 tweet 7242\nSubject: 3961 tweet 3908\n"
     ]
    },
    {
     "name": "stdout",
     "output_type": "stream",
     "text": [
      "Subject: 3961 tweet 11922\nSubject: 3961 tweet 1527\nSubject: 3961 tweet 1436\nSubject: 3961 tweet 4318\nSubject: 3961 tweet 361\n"
     ]
    },
    {
     "name": "stdout",
     "output_type": "stream",
     "text": [
      "Subject: 3962 tweet 6701\nSubject: 3962 tweet 11144\nSubject: 3962 tweet 1525\nSubject: 3962 tweet 8633\nSubject: 3962 tweet 4912\n"
     ]
    },
    {
     "name": "stdout",
     "output_type": "stream",
     "text": [
      "Subject: 3962 tweet 8328\nSubject: 3962 tweet 3288\nSubject: 3962 tweet 7025\nSubject: 3962 tweet 9093\nSubject: 3962 tweet 6118\n"
     ]
    },
    {
     "name": "stdout",
     "output_type": "stream",
     "text": [
      "Subject: 3965 tweet 12602\nSubject: 3965 tweet 3223\nSubject: 3965 tweet 3791\nSubject: 3965 tweet 2642\nSubject: 3965 tweet 12222\nSubject: 3965 tweet 11854\n"
     ]
    },
    {
     "name": "stdout",
     "output_type": "stream",
     "text": [
      "Subject: 3965 tweet 3424\nSubject: 3965 tweet 3941\nSubject: 3965 tweet 1216\nSubject: 3965 tweet 9242\nSubject: 3966 tweet 1025\n"
     ]
    },
    {
     "name": "stdout",
     "output_type": "stream",
     "text": [
      "Subject: 3966 tweet 12430\nSubject: 3966 tweet 12557\nSubject: 3966 tweet 8597\nSubject: 3966 tweet 5833\nSubject: 3966 tweet 11818\nSubject: 3966 tweet 408\n"
     ]
    },
    {
     "name": "stdout",
     "output_type": "stream",
     "text": [
      "Subject: 3966 tweet 12556\nSubject: 3966 tweet 3628\nSubject: 3966 tweet 3577\nSubject: 3968 tweet 4657\nSubject: 3968 tweet 9894\n"
     ]
    },
    {
     "name": "stdout",
     "output_type": "stream",
     "text": [
      "Subject: 3968 tweet 7622\nSubject: 3968 tweet 7623\nSubject: 3968 tweet 7444\nSubject: 3968 tweet 10477\nSubject: 3968 tweet 12249\nSubject: 3968 tweet 7624\n"
     ]
    },
    {
     "name": "stdout",
     "output_type": "stream",
     "text": [
      "Subject: 3968 tweet 1464\nSubject: 3968 tweet 8607\nSubject: 3970 tweet 7582\nSubject: 3970 tweet 7192\nSubject: 3970 tweet 7049\n"
     ]
    },
    {
     "name": "stdout",
     "output_type": "stream",
     "text": [
      "Subject: 3970 tweet 25\nSubject: 3970 tweet 3401\nSubject: 3970 tweet 7477\nSubject: 3970 tweet 2112\nSubject: 3970 tweet 6722\nSubject: 3970 tweet 11742\n"
     ]
    },
    {
     "name": "stdout",
     "output_type": "stream",
     "text": [
      "Subject: 3970 tweet 7045\nSubject: 3972 tweet 9892\nSubject: 3972 tweet 12434\nSubject: 3972 tweet 99\nSubject: 3972 tweet 95\n"
     ]
    },
    {
     "name": "stdout",
     "output_type": "stream",
     "text": [
      "Subject: 3972 tweet 4739\nSubject: 3972 tweet 8593\nSubject: 3972 tweet 7499\nSubject: 3972 tweet 8915\nSubject: 3972 tweet 9880\n"
     ]
    },
    {
     "name": "stdout",
     "output_type": "stream",
     "text": [
      "Subject: 3972 tweet 10398\nSubject: 3973 tweet 4278\nSubject: 3973 tweet 9802\nSubject: 3973 tweet 2245\nSubject: 3973 tweet 11435\n"
     ]
    },
    {
     "name": "stdout",
     "output_type": "stream",
     "text": [
      "Subject: 3973 tweet 7643\nSubject: 3973 tweet 4930\nSubject: 3973 tweet 3234\nSubject: 3973 tweet 3466\nSubject: 3973 tweet 4662\n"
     ]
    },
    {
     "name": "stdout",
     "output_type": "stream",
     "text": [
      "Subject: 3973 tweet 9859\nSubject: 3974 tweet 10704\nSubject: 3974 tweet 1349\nSubject: 3974 tweet 1446\nSubject: 3974 tweet 1406\n"
     ]
    },
    {
     "name": "stdout",
     "output_type": "stream",
     "text": [
      "Subject: 3974 tweet 3534\nSubject: 3975 tweet 7476\nSubject: 3975 tweet 115\nSubject: 3975 tweet 7289\nSubject: 3975 tweet 6739\n"
     ]
    },
    {
     "name": "stdout",
     "output_type": "stream",
     "text": [
      "Subject: 3975 tweet 946\nSubject: 3975 tweet 109\nSubject: 3975 tweet 4272\nSubject: 3975 tweet 8917\nSubject: 3975 tweet 1244\n"
     ]
    },
    {
     "name": "stdout",
     "output_type": "stream",
     "text": [
      "Subject: 3975 tweet 83\nSubject: 3976 tweet 10454\nSubject: 3976 tweet 765\nSubject: 3976 tweet 984\nSubject: 3976 tweet 1114\n"
     ]
    },
    {
     "name": "stdout",
     "output_type": "stream",
     "text": [
      "Subject: 3976 tweet 827\nSubject: 3976 tweet 7138\nSubject: 3976 tweet 1046\nSubject: 3976 tweet 3108\nSubject: 3976 tweet 6524\nSubject: 3976 tweet 5618\n"
     ]
    },
    {
     "name": "stdout",
     "output_type": "stream",
     "text": [
      "Subject: 3980 tweet 5283\nSubject: 3980 tweet 8207\nSubject: 3980 tweet 12595\nSubject: 3980 tweet 8249\nSubject: 3980 tweet 8410\n"
     ]
    },
    {
     "name": "stdout",
     "output_type": "stream",
     "text": [
      "Subject: 3980 tweet 7957\nSubject: 3980 tweet 3226\nSubject: 3980 tweet 1813\nSubject: 3980 tweet 10976\nSubject: 3980 tweet 10979\n"
     ]
    },
    {
     "name": "stdout",
     "output_type": "stream",
     "text": [
      "Subject: 3982 tweet 2789\nSubject: 3982 tweet 9298\nSubject: 3982 tweet 446\nSubject: 3982 tweet 2470\nSubject: 3982 tweet 2683\nSubject: 3982 tweet 1907\n"
     ]
    },
    {
     "name": "stdout",
     "output_type": "stream",
     "text": [
      "Subject: 3982 tweet 1924\nSubject: 3982 tweet 2518\nSubject: 3982 tweet 2099\nSubject: 3982 tweet 2404\nSubject: 3985 tweet 10315\n"
     ]
    },
    {
     "name": "stdout",
     "output_type": "stream",
     "text": [
      "Subject: 3985 tweet 10286\nSubject: 3985 tweet 10278\nSubject: 3985 tweet 9356\nSubject: 3985 tweet 4675\nSubject: 3985 tweet 3509\n"
     ]
    },
    {
     "name": "stdout",
     "output_type": "stream",
     "text": [
      "Subject: 3985 tweet 1102\nSubject: 3985 tweet 11977\nSubject: 3985 tweet 12351\nSubject: 3985 tweet 2544\nSubject: 3999 tweet 361\n"
     ]
    },
    {
     "name": "stdout",
     "output_type": "stream",
     "text": [
      "Subject: 3999 tweet 4592\nSubject: 3999 tweet 6063\nSubject: 3999 tweet 1205\nSubject: 3999 tweet 6378\nSubject: 3999 tweet 11896\nSubject: 3999 tweet 7119\n"
     ]
    },
    {
     "name": "stdout",
     "output_type": "stream",
     "text": [
      "Subject: 3999 tweet 6083\nSubject: 3999 tweet 9278\nSubject: 3999 tweet 1230\nSubject: 4000 tweet 1722\nSubject: 4000 tweet 1721\n"
     ]
    },
    {
     "name": "stdout",
     "output_type": "stream",
     "text": [
      "Subject: 4000 tweet 9157\nSubject: 4000 tweet 8453\nSubject: 4000 tweet 9163\nSubject: 4000 tweet 850\nSubject: 4000 tweet 9334\nSubject: 4000 tweet 10951\n"
     ]
    },
    {
     "name": "stdout",
     "output_type": "stream",
     "text": [
      "Subject: 4000 tweet 9103\nSubject: 4000 tweet 8248\nSubject: 4007 tweet 4900\nSubject: 4007 tweet 4697\nSubject: 4007 tweet 4881\n"
     ]
    },
    {
     "name": "stdout",
     "output_type": "stream",
     "text": [
      "Subject: 4007 tweet 3271\nSubject: 4007 tweet 1774\nSubject: 4007 tweet 2962\nSubject: 4007 tweet 2769\n"
     ]
    },
    {
     "name": "stdout",
     "output_type": "stream",
     "text": [
      "Subject: 4008 tweet 3265\nSubject: 4008 tweet 9355\nSubject: 4008 tweet 5940\nSubject: 4008 tweet 10543\nSubject: 4008 tweet 8730\n"
     ]
    },
    {
     "name": "stdout",
     "output_type": "stream",
     "text": [
      "Subject: 4008 tweet 9267\nSubject: 4008 tweet 4420\nSubject: 4008 tweet 7581\nSubject: 4008 tweet 9735\nSubject: 4008 tweet 104\n"
     ]
    },
    {
     "name": "stdout",
     "output_type": "stream",
     "text": [
      "Subject: 4014 tweet 1943\nSubject: 4014 tweet 708\nSubject: 4016 tweet 2490\nSubject: 4016 tweet 243\nSubject: 4016 tweet 11480\n"
     ]
    },
    {
     "name": "stdout",
     "output_type": "stream",
     "text": [
      "Subject: 4016 tweet 2077\nSubject: 4016 tweet 4085\nSubject: 4016 tweet 9286\nSubject: 4016 tweet 11338\nSubject: 4016 tweet 8814\nSubject: 4016 tweet 3175\n"
     ]
    },
    {
     "name": "stdout",
     "output_type": "stream",
     "text": [
      "Subject: 4016 tweet 2624\nSubject: 4018 tweet 6519\nSubject: 4018 tweet 8514\nSubject: 4018 tweet 5475\nSubject: 4018 tweet 8824\n"
     ]
    },
    {
     "name": "stdout",
     "output_type": "stream",
     "text": [
      "Subject: 4018 tweet 7564\nSubject: 4018 tweet 10652\nSubject: 4018 tweet 3086\nSubject: 4018 tweet 4649\nSubject: 4018 tweet 6956\nSubject: 4018 tweet 263\n"
     ]
    },
    {
     "name": "stdout",
     "output_type": "stream",
     "text": [
      "Subject: 4020 tweet 919\nSubject: 4020 tweet 1938\nSubject: 4020 tweet 3214\nSubject: 4020 tweet 1935\nSubject: 4020 tweet 8455\nSubject: 4020 tweet 7100\n"
     ]
    },
    {
     "name": "stdout",
     "output_type": "stream",
     "text": [
      "Subject: 4020 tweet 8313\nSubject: 4020 tweet 2743\nSubject: 4020 tweet 3978\nSubject: 4020 tweet 233\nSubject: 4022 tweet 3129\n"
     ]
    },
    {
     "name": "stdout",
     "output_type": "stream",
     "text": [
      "Subject: 4022 tweet 1445\nSubject: 4022 tweet 8725\nSubject: 4022 tweet 3096\nSubject: 4022 tweet 3859\nSubject: 4022 tweet 11047\nSubject: 4022 tweet 1211\n"
     ]
    },
    {
     "name": "stdout",
     "output_type": "stream",
     "text": [
      "Subject: 4022 tweet 8142\nSubject: 4022 tweet 4154\nSubject: 4022 tweet 10941\nSubject: 4032 tweet 1411\nSubject: 4032 tweet 2195\n"
     ]
    },
    {
     "name": "stdout",
     "output_type": "stream",
     "text": [
      "Subject: 4032 tweet 6140\nSubject: 4032 tweet 2481\nSubject: 4032 tweet 8581\nSubject: 4032 tweet 6363\nSubject: 4032 tweet 6581\n"
     ]
    },
    {
     "name": "stdout",
     "output_type": "stream",
     "text": [
      "Subject: 4032 tweet 9041\nSubject: 4032 tweet 1944\nSubject: 4032 tweet 9720\nSubject: 4034 tweet 1888\nSubject: 4034 tweet 12432\n"
     ]
    },
    {
     "name": "stdout",
     "output_type": "stream",
     "text": [
      "Subject: 4034 tweet 5227\nSubject: 4034 tweet 12464\nSubject: 4034 tweet 4227\nSubject: 4034 tweet 4387\nSubject: 4034 tweet 6353\n"
     ]
    },
    {
     "name": "stdout",
     "output_type": "stream",
     "text": [
      "Subject: 4034 tweet 891\nSubject: 4034 tweet 5263\nSubject: 4034 tweet 2129\nSubject: 4036 tweet 12509\nSubject: 4036 tweet 1434\n"
     ]
    },
    {
     "name": "stdout",
     "output_type": "stream",
     "text": [
      "Subject: 4036 tweet 5312\nSubject: 4036 tweet 5263\nSubject: 4036 tweet 9385\nSubject: 4036 tweet 5227\nSubject: 4036 tweet 8343\n"
     ]
    },
    {
     "name": "stdout",
     "output_type": "stream",
     "text": [
      "Subject: 4036 tweet 8189\nSubject: 4036 tweet 8771\nSubject: 4036 tweet 8966\nSubject: 4039 tweet 5285\n"
     ]
    },
    {
     "name": "stdout",
     "output_type": "stream",
     "text": [
      "Subject: 4039 tweet 6155\nSubject: 4039 tweet 6182\nSubject: 4039 tweet 6008\nSubject: 4039 tweet 6115\nSubject: 4039 tweet 5317\nSubject: 4039 tweet 4294\n"
     ]
    },
    {
     "name": "stdout",
     "output_type": "stream",
     "text": [
      "Subject: 4039 tweet 7741\nSubject: 4039 tweet 6257\nSubject: 4039 tweet 4887\nSubject: 4040 tweet 1867\nSubject: 4040 tweet 4713\n"
     ]
    },
    {
     "name": "stdout",
     "output_type": "stream",
     "text": [
      "Subject: 4040 tweet 5665\nSubject: 4040 tweet 2722\nSubject: 4040 tweet 2785\nSubject: 4040 tweet 2498\nSubject: 4040 tweet 7532\nSubject: 4040 tweet 7500\n"
     ]
    },
    {
     "name": "stdout",
     "output_type": "stream",
     "text": [
      "Subject: 4040 tweet 2852\nSubject: 4040 tweet 4706\nSubject: 4041 tweet 349\n"
     ]
    },
    {
     "name": "stdout",
     "output_type": "stream",
     "text": [
      "Subject: 4041 tweet 3531\nSubject: 4041 tweet 3545\n"
     ]
    },
    {
     "name": "stdout",
     "output_type": "stream",
     "text": [
      "Subject: 4041 tweet 3634\nSubject: 4041 tweet 3629\n"
     ]
    },
    {
     "name": "stdout",
     "output_type": "stream",
     "text": [
      "Subject: 4041 tweet 1091\nSubject: 4041 tweet 1149\nSubject: 4041 tweet 1085\nSubject: 4041 tweet 12164\nSubject: 4041 tweet 3567\n"
     ]
    },
    {
     "name": "stdout",
     "output_type": "stream",
     "text": [
      "Subject: 4042 tweet 3543\nSubject: 4042 tweet 3567\nSubject: 4042 tweet 9905\nSubject: 4042 tweet 3398\nSubject: 4042 tweet 3508\nSubject: 4042 tweet 9484\n"
     ]
    },
    {
     "name": "stdout",
     "output_type": "stream",
     "text": [
      "Subject: 4042 tweet 2474\nSubject: 4042 tweet 12564\nSubject: 4042 tweet 3559\nSubject: 4042 tweet 472\nSubject: 4048 tweet 11263\n"
     ]
    },
    {
     "name": "stdout",
     "output_type": "stream",
     "text": [
      "Subject: 4048 tweet 3032\nSubject: 4048 tweet 11678\nSubject: 4048 tweet 9302\nSubject: 4048 tweet 2490\nSubject: 4048 tweet 243\nSubject: 4048 tweet 10363\n"
     ]
    },
    {
     "name": "stdout",
     "output_type": "stream",
     "text": [
      "Subject: 4048 tweet 1845\nSubject: 4048 tweet 9286\nSubject: 4048 tweet 10861\nSubject: 4049 tweet 4984\nSubject: 4049 tweet 11982\n"
     ]
    },
    {
     "name": "stdout",
     "output_type": "stream",
     "text": [
      "Subject: 4049 tweet 4285\nSubject: 4049 tweet 3087\nSubject: 4049 tweet 1388\nSubject: 4049 tweet 1858\n"
     ]
    },
    {
     "name": "stdout",
     "output_type": "stream",
     "text": [
      "Subject: 4049 tweet 7124\nSubject: 4049 tweet 7392\nSubject: 4049 tweet 7463\nSubject: 4049 tweet 3264\nSubject: 4051 tweet 6036\n"
     ]
    },
    {
     "name": "stdout",
     "output_type": "stream",
     "text": [
      "Subject: 4051 tweet 2714\nSubject: 4051 tweet 5157\nSubject: 4051 tweet 1795\nSubject: 4051 tweet 5749\nSubject: 4051 tweet 6484\n"
     ]
    },
    {
     "name": "stdout",
     "output_type": "stream",
     "text": [
      "Subject: 4051 tweet 8817\nSubject: 4051 tweet 2734\nSubject: 4051 tweet 4588\nSubject: 4051 tweet 8016\nSubject: 4057 tweet 7474\n"
     ]
    },
    {
     "name": "stdout",
     "output_type": "stream",
     "text": [
      "Subject: 4057 tweet 2286\nSubject: 4057 tweet 8505\nSubject: 4057 tweet 8507\nSubject: 4057 tweet 7509\nSubject: 4057 tweet 12542\nSubject: 4057 tweet 346\n"
     ]
    },
    {
     "name": "stdout",
     "output_type": "stream",
     "text": [
      "Subject: 4057 tweet 2802\nSubject: 4057 tweet 2346\nSubject: 4057 tweet 2667\nSubject: 4058 tweet 6287\n"
     ]
    },
    {
     "name": "stdout",
     "output_type": "stream",
     "text": [
      "Subject: 4058 tweet 6920\nSubject: 4058 tweet 10392\nSubject: 4058 tweet 2614\nSubject: 4058 tweet 11005\nSubject: 4058 tweet 3533\nSubject: 4058 tweet 11011\n"
     ]
    },
    {
     "name": "stdout",
     "output_type": "stream",
     "text": [
      "Subject: 4058 tweet 8566\nSubject: 4058 tweet 1811\nSubject: 4058 tweet 5188\nSubject: 4060 tweet 6967\nSubject: 4060 tweet 6917\n"
     ]
    },
    {
     "name": "stdout",
     "output_type": "stream",
     "text": [
      "Subject: 4060 tweet 11382\nSubject: 4060 tweet 5263\nSubject: 4060 tweet 5227\nSubject: 4060 tweet 5312\nSubject: 4060 tweet 1026\nSubject: 4060 tweet 372\n"
     ]
    },
    {
     "name": "stdout",
     "output_type": "stream",
     "text": [
      "Subject: 4060 tweet 2890\nSubject: 4060 tweet 8176\nSubject: 4062 tweet 4962\nSubject: 4062 tweet 4954\nSubject: 4062 tweet 9595\n"
     ]
    },
    {
     "name": "stdout",
     "output_type": "stream",
     "text": [
      "Subject: 4062 tweet 8523\nSubject: 4062 tweet 4708\nSubject: 4062 tweet 4748\nSubject: 4062 tweet 11570\nSubject: 4062 tweet 1853\nSubject: 4062 tweet 1723\n"
     ]
    },
    {
     "name": "stdout",
     "output_type": "stream",
     "text": [
      "Subject: 4062 tweet 10559\nSubject: 4063 tweet 11300\nSubject: 4063 tweet 11683\nSubject: 4063 tweet 11249\nSubject: 4063 tweet 11682\n"
     ]
    },
    {
     "name": "stdout",
     "output_type": "stream",
     "text": [
      "Subject: 4063 tweet 3299\nSubject: 4063 tweet 11680\nSubject: 4063 tweet 11304\nSubject: 4063 tweet 450\nSubject: 4063 tweet 3364\nSubject: 4063 tweet 11569\n"
     ]
    },
    {
     "name": "stdout",
     "output_type": "stream",
     "text": [
      "Subject: 4064 tweet 8529\nSubject: 4064 tweet 4309\nSubject: 4064 tweet 10988\nSubject: 4064 tweet 9719\nSubject: 4064 tweet 992\n"
     ]
    },
    {
     "name": "stdout",
     "output_type": "stream",
     "text": [
      "Subject: 4064 tweet 4070\nSubject: 4064 tweet 4732\nSubject: 4064 tweet 5080\nSubject: 4064 tweet 8871\n"
     ]
    },
    {
     "name": "stdout",
     "output_type": "stream",
     "text": [
      "Subject: 4066 tweet 8529\nSubject: 4066 tweet 5136\nSubject: 4066 tweet 7689\nSubject: 4066 tweet 11564\nSubject: 4066 tweet 4309\nSubject: 4066 tweet 4070\n"
     ]
    },
    {
     "name": "stdout",
     "output_type": "stream",
     "text": [
      "Subject: 4066 tweet 12145\nSubject: 4066 tweet 1580\nSubject: 4066 tweet 335\nSubject: 4068 tweet 2176\nSubject: 4068 tweet 2242\n"
     ]
    },
    {
     "name": "stdout",
     "output_type": "stream",
     "text": [
      "Subject: 4068 tweet 5687\nSubject: 4068 tweet 11697\nSubject: 4068 tweet 7259\nSubject: 4068 tweet 10801\nSubject: 4069 tweet 5950\n"
     ]
    },
    {
     "name": "stdout",
     "output_type": "stream",
     "text": [
      "Subject: 4069 tweet 6596\nSubject: 4069 tweet 6593\nSubject: 4069 tweet 6598\nSubject: 4069 tweet 5909\nSubject: 4069 tweet 6443\nSubject: 4069 tweet 6570\n"
     ]
    },
    {
     "name": "stdout",
     "output_type": "stream",
     "text": [
      "Subject: 4069 tweet 6019\nSubject: 4069 tweet 6532\nSubject: 4069 tweet 5560\nSubject: 4070 tweet 8271\nSubject: 4070 tweet 9662\n"
     ]
    },
    {
     "name": "stdout",
     "output_type": "stream",
     "text": [
      "Subject: 4070 tweet 947\nSubject: 4070 tweet 5514\nSubject: 4070 tweet 11723\nSubject: 4070 tweet 7317\nSubject: 4070 tweet 9017\nSubject: 4070 tweet 6430\n"
     ]
    },
    {
     "name": "stdout",
     "output_type": "stream",
     "text": [
      "Subject: 4070 tweet 5571\nSubject: 4070 tweet 1764\nSubject: 4071 tweet 4460\nSubject: 4071 tweet 9265\nSubject: 4071 tweet 6371\n"
     ]
    },
    {
     "name": "stdout",
     "output_type": "stream",
     "text": [
      "Subject: 4071 tweet 10497\nSubject: 4071 tweet 9301\nSubject: 4071 tweet 12169\nSubject: 4071 tweet 6073\nSubject: 4071 tweet 10389\nSubject: 4071 tweet 6419\n"
     ]
    },
    {
     "name": "stdout",
     "output_type": "stream",
     "text": [
      "Subject: 4071 tweet 8484\nSubject: 4075 tweet 8704\nSubject: 4075 tweet 6304\nSubject: 4075 tweet 3162\nSubject: 4075 tweet 11939\n"
     ]
    },
    {
     "name": "stdout",
     "output_type": "stream",
     "text": [
      "Subject: 4075 tweet 9961\nSubject: 4075 tweet 3206\nSubject: 4075 tweet 8023\nSubject: 4075 tweet 11342\nSubject: 4075 tweet 9574\nSubject: 4075 tweet 3238\n"
     ]
    },
    {
     "name": "stdout",
     "output_type": "stream",
     "text": [
      "Subject: 4076 tweet 8837\nSubject: 4076 tweet 12329\nSubject: 4076 tweet 12601\nSubject: 4076 tweet 9529\nSubject: 4076 tweet 7886\nSubject: 4076 tweet 12575\n"
     ]
    },
    {
     "name": "stdout",
     "output_type": "stream",
     "text": [
      "Subject: 4076 tweet 9478\nSubject: 4076 tweet 864\nSubject: 4076 tweet 1098\nSubject: 4076 tweet 12554\nSubject: 4079 tweet 10596\n"
     ]
    },
    {
     "name": "stdout",
     "output_type": "stream",
     "text": [
      "Subject: 4079 tweet 12063\nSubject: 4079 tweet 1426\nSubject: 4079 tweet 7213\nSubject: 4079 tweet 2345\nSubject: 4079 tweet 9302\n"
     ]
    },
    {
     "name": "stdout",
     "output_type": "stream",
     "text": [
      "Subject: 4082 tweet 10209\nSubject: 4082 tweet 10317\nSubject: 4082 tweet 10141\nSubject: 4082 tweet 2385\nSubject: 4082 tweet 480\nSubject: 4082 tweet 10009\n"
     ]
    },
    {
     "name": "stdout",
     "output_type": "stream",
     "text": [
      "Subject: 4082 tweet 10140\nSubject: 4082 tweet 10180\nSubject: 4082 tweet 10382\nSubject: 4082 tweet 9994\nSubject: 4083 tweet 637\n"
     ]
    },
    {
     "name": "stdout",
     "output_type": "stream",
     "text": [
      "Subject: 4083 tweet 9693\nSubject: 4083 tweet 8903\nSubject: 4083 tweet 268\nSubject: 4083 tweet 9803\nSubject: 4083 tweet 8338\n"
     ]
    },
    {
     "name": "stdout",
     "output_type": "stream",
     "text": [
      "Subject: 4083 tweet 9750\nSubject: 4083 tweet 9585\nSubject: 4083 tweet 9984\nSubject: 4083 tweet 9487\n"
     ]
    },
    {
     "name": "stdout",
     "output_type": "stream",
     "text": [
      "Subject: 4087 tweet 6295\nSubject: 4087 tweet 6427\nSubject: 4087 tweet 5242\nSubject: 4087 tweet 6428\nSubject: 4087 tweet 6210\nSubject: 4087 tweet 8198\n"
     ]
    },
    {
     "name": "stdout",
     "output_type": "stream",
     "text": [
      "Subject: 4087 tweet 6603\nSubject: 4087 tweet 3502\nSubject: 4087 tweet 6271\nSubject: 4087 tweet 3500\nSubject: 4088 tweet 2383\n"
     ]
    },
    {
     "name": "stdout",
     "output_type": "stream",
     "text": [
      "Subject: 4088 tweet 2381\nSubject: 4088 tweet 2384\nSubject: 4088 tweet 10166\nSubject: 4088 tweet 12151\nSubject: 4088 tweet 10360\nSubject: 4088 tweet 2503\n"
     ]
    },
    {
     "name": "stdout",
     "output_type": "stream",
     "text": [
      "Subject: 4088 tweet 5863\nSubject: 4088 tweet 12545\nSubject: 4088 tweet 5452\nSubject: 4090 tweet 932\nSubject: 4090 tweet 964\n"
     ]
    },
    {
     "name": "stdout",
     "output_type": "stream",
     "text": [
      "Subject: 4090 tweet 1141\nSubject: 4090 tweet 11072\nSubject: 4090 tweet 1096\nSubject: 4090 tweet 941\nSubject: 4090 tweet 930\nSubject: 4090 tweet 2300\n"
     ]
    },
    {
     "name": "stdout",
     "output_type": "stream",
     "text": [
      "Subject: 4090 tweet 11071\nSubject: 4090 tweet 10072\nSubject: 4091 tweet 5710\nSubject: 4091 tweet 12143\nSubject: 4091 tweet 5241\n"
     ]
    },
    {
     "name": "stdout",
     "output_type": "stream",
     "text": [
      "Subject: 4091 tweet 7646\nSubject: 4091 tweet 12011\nSubject: 4091 tweet 12010\nSubject: 4091 tweet 5807\nSubject: 4091 tweet 5768\nSubject: 4091 tweet 8616\n"
     ]
    },
    {
     "name": "stdout",
     "output_type": "stream",
     "text": [
      "Subject: 4091 tweet 10570\nSubject: 4098 tweet 9625\nSubject: 4098 tweet 8401\nSubject: 4098 tweet 9060\nSubject: 4098 tweet 9026\n"
     ]
    },
    {
     "name": "stdout",
     "output_type": "stream",
     "text": [
      "Subject: 4098 tweet 3335\nSubject: 4098 tweet 3385\nSubject: 4098 tweet 9135\nSubject: 4098 tweet 11248\nSubject: 4098 tweet 887\n"
     ]
    },
    {
     "name": "stdout",
     "output_type": "stream",
     "text": [
      "Subject: 4098 tweet 5290\nSubject: 4103 tweet 254\nSubject: 4103 tweet 4903\nSubject: 4103 tweet 11820\nSubject: 4103 tweet 1015\n"
     ]
    },
    {
     "name": "stdout",
     "output_type": "stream",
     "text": [
      "Subject: 4103 tweet 925\nSubject: 4103 tweet 928\nSubject: 4103 tweet 1008\nSubject: 4103 tweet 10978\nSubject: 4103 tweet 9579\nSubject: 4103 tweet 2228\n"
     ]
    },
    {
     "name": "stdout",
     "output_type": "stream",
     "text": [
      "Subject: 4105 tweet 2207\nSubject: 4105 tweet 2635\nSubject: 4105 tweet 4791\nSubject: 4105 tweet 11845\nSubject: 4105 tweet 11907\nSubject: 4105 tweet 9316\n"
     ]
    },
    {
     "name": "stdout",
     "output_type": "stream",
     "text": [
      "Subject: 4105 tweet 10537\nSubject: 4105 tweet 11846\nSubject: 4105 tweet 12570\nSubject: 4105 tweet 8556\nSubject: 4107 tweet 12340\n"
     ]
    },
    {
     "name": "stdout",
     "output_type": "stream",
     "text": [
      "Subject: 4107 tweet 896\nSubject: 4107 tweet 926\nSubject: 4107 tweet 11702\nSubject: 4107 tweet 9271\nSubject: 4107 tweet 11705\nSubject: 4107 tweet 1420\n"
     ]
    },
    {
     "name": "stdout",
     "output_type": "stream",
     "text": [
      "Subject: 4107 tweet 11706\nSubject: 4107 tweet 4280\nSubject: 4107 tweet 937\nSubject: 4108 tweet 2954\nSubject: 4108 tweet 2862\n"
     ]
    },
    {
     "name": "stdout",
     "output_type": "stream",
     "text": [
      "Subject: 4108 tweet 6037\nSubject: 4108 tweet 5525\nSubject: 4108 tweet 6894\nSubject: 4108 tweet 54\nSubject: 4108 tweet 4756\n"
     ]
    },
    {
     "name": "stdout",
     "output_type": "stream",
     "text": [
      "Subject: 4108 tweet 11310\nSubject: 4108 tweet 11437\nSubject: 4108 tweet 7762\nSubject: 4109 tweet 376\nSubject: 4109 tweet 7490\n"
     ]
    },
    {
     "name": "stdout",
     "output_type": "stream",
     "text": [
      "Subject: 4109 tweet 7611\nSubject: 4109 tweet 9928\nSubject: 4109 tweet 9704\n"
     ]
    },
    {
     "name": "stdout",
     "output_type": "stream",
     "text": [
      "Subject: 4109 tweet 3130\nSubject: 4109 tweet 12373\nSubject: 4109 tweet 7073\nSubject: 4109 tweet 1535\nSubject: 4109 tweet 4566\n"
     ]
    },
    {
     "name": "stdout",
     "output_type": "stream",
     "text": [
      "Subject: 4118 tweet 7536\nSubject: 4118 tweet 5054\nSubject: 4118 tweet 8349\nSubject: 4118 tweet 9867\nSubject: 4118 tweet 8137\nSubject: 4118 tweet 7537\n"
     ]
    },
    {
     "name": "stdout",
     "output_type": "stream",
     "text": [
      "Subject: 4118 tweet 4116\nSubject: 4118 tweet 11118\nSubject: 4118 tweet 4441\nSubject: 4118 tweet 4346\nSubject: 4122 tweet 9680\n"
     ]
    },
    {
     "name": "stdout",
     "output_type": "stream",
     "text": [
      "Subject: 4122 tweet 9755\nSubject: 4122 tweet 3203\nSubject: 4122 tweet 8919\nSubject: 4122 tweet 9836\nSubject: 4122 tweet 1871\nSubject: 4122 tweet 8968\n"
     ]
    },
    {
     "name": "stdout",
     "output_type": "stream",
     "text": [
      "Subject: 4122 tweet 9435\nSubject: 4122 tweet 9538\nSubject: 4122 tweet 9760\nSubject: 4124 tweet 10125\nSubject: 4124 tweet 9972\n"
     ]
    },
    {
     "name": "stdout",
     "output_type": "stream",
     "text": [
      "Subject: 4124 tweet 3506\nSubject: 4124 tweet 9464\nSubject: 4124 tweet 9992\nSubject: 4124 tweet 9569\nSubject: 4124 tweet 9883\n"
     ]
    },
    {
     "name": "stdout",
     "output_type": "stream",
     "text": [
      "Subject: 4124 tweet 4648\nSubject: 4124 tweet 9860\nSubject: 4124 tweet 3391\nSubject: 4125 tweet 3952\nSubject: 4125 tweet 10490\n"
     ]
    },
    {
     "name": "stdout",
     "output_type": "stream",
     "text": [
      "Subject: 4125 tweet 9253\nSubject: 4125 tweet 6752\nSubject: 4125 tweet 5540\nSubject: 4125 tweet 11165\nSubject: 4125 tweet 3097\nSubject: 4125 tweet 4803\n"
     ]
    },
    {
     "name": "stdout",
     "output_type": "stream",
     "text": [
      "Subject: 4125 tweet 2647\nSubject: 4125 tweet 2368\nSubject: 4126 tweet 6331\nSubject: 4126 tweet 8552\nSubject: 4126 tweet 5685\n"
     ]
    },
    {
     "name": "stdout",
     "output_type": "stream",
     "text": [
      "Subject: 4126 tweet 2742\nSubject: 4126 tweet 6231\nSubject: 4126 tweet 12226\nSubject: 4126 tweet 93\nSubject: 4126 tweet 7173\nSubject: 4126 tweet 11636\n"
     ]
    },
    {
     "name": "stdout",
     "output_type": "stream",
     "text": [
      "Subject: 4126 tweet 1408\nSubject: 4127 tweet 3544\nSubject: 4127 tweet 3548\nSubject: 4127 tweet 3672\nSubject: 4127 tweet 9911\n"
     ]
    },
    {
     "name": "stdout",
     "output_type": "stream",
     "text": [
      "Subject: 4127 tweet 9930\nSubject: 4127 tweet 7166\nSubject: 4127 tweet 3550\nSubject: 4127 tweet 107\nSubject: 4128 tweet 10387\n"
     ]
    },
    {
     "name": "stdout",
     "output_type": "stream",
     "text": [
      "Subject: 4128 tweet 617\nSubject: 4128 tweet 6537\nSubject: 4128 tweet 6058\nSubject: 4128 tweet 6567\nSubject: 4128 tweet 10825\nSubject: 4128 tweet 6267\n"
     ]
    },
    {
     "name": "stdout",
     "output_type": "stream",
     "text": [
      "Subject: 4128 tweet 4860\nSubject: 4128 tweet 10873\nSubject: 4128 tweet 6065\nSubject: 4138 tweet 5506\nSubject: 4138 tweet 6368\n"
     ]
    },
    {
     "name": "stdout",
     "output_type": "stream",
     "text": [
      "Subject: 4138 tweet 9266\nSubject: 4138 tweet 8308\nSubject: 4138 tweet 9255\nSubject: 4138 tweet 10485\nSubject: 4138 tweet 2846\nSubject: 4138 tweet 8764\n"
     ]
    },
    {
     "name": "stdout",
     "output_type": "stream",
     "text": [
      "Subject: 4138 tweet 7165\nSubject: 4138 tweet 7811\nSubject: 4140 tweet 2533\nSubject: 4140 tweet 3101\nSubject: 4140 tweet 2140\n"
     ]
    },
    {
     "name": "stdout",
     "output_type": "stream",
     "text": [
      "Subject: 4140 tweet 4463\nSubject: 4140 tweet 9504\nSubject: 4140 tweet 1988\nSubject: 4140 tweet 10540\nSubject: 4140 tweet 2139\n"
     ]
    },
    {
     "name": "stdout",
     "output_type": "stream",
     "text": [
      "Subject: 4140 tweet 1838\nSubject: 4140 tweet 1971\nSubject: 4141 tweet 4252\nSubject: 4141 tweet 2780\nSubject: 4141 tweet 2803\n"
     ]
    },
    {
     "name": "stdout",
     "output_type": "stream",
     "text": [
      "Subject: 4141 tweet 10748\nSubject: 4141 tweet 4204\nSubject: 4141 tweet 9436\nSubject: 4141 tweet 11840\nSubject: 4141 tweet 4375\nSubject: 4141 tweet 4320\n"
     ]
    },
    {
     "name": "stdout",
     "output_type": "stream",
     "text": [
      "Subject: 4141 tweet 4238\nSubject: 4142 tweet 322\nSubject: 4142 tweet 8176\nSubject: 4142 tweet 2585\nSubject: 4142 tweet 8167\n"
     ]
    },
    {
     "name": "stdout",
     "output_type": "stream",
     "text": [
      "Subject: 4142 tweet 6513\nSubject: 4142 tweet 725\nSubject: 4142 tweet 1178\nSubject: 4142 tweet 2396\nSubject: 4142 tweet 6203\n"
     ]
    },
    {
     "name": "stdout",
     "output_type": "stream",
     "text": [
      "Subject: 4142 tweet 1269\nSubject: 4144 tweet 6497\nSubject: 4144 tweet 9249\nSubject: 4144 tweet 9269\n"
     ]
    },
    {
     "name": "stdout",
     "output_type": "stream",
     "text": [
      "Subject: 4144 tweet 1689\nSubject: 4144 tweet 3742\nSubject: 4144 tweet 6393\nSubject: 4144 tweet 9257\nSubject: 4144 tweet 6359\nSubject: 4144 tweet 6431\n"
     ]
    },
    {
     "name": "stdout",
     "output_type": "stream",
     "text": [
      "Subject: 4144 tweet 9275\nSubject: 4145 tweet 456\nSubject: 4145 tweet 305\nSubject: 4145 tweet 9373\nSubject: 4145 tweet 6536\n"
     ]
    },
    {
     "name": "stdout",
     "output_type": "stream",
     "text": [
      "Subject: 4146 tweet 9868\nSubject: 4146 tweet 996\nSubject: 4146 tweet 2693\nSubject: 4146 tweet 2817\nSubject: 4146 tweet 4228\nSubject: 4146 tweet 11551\n"
     ]
    },
    {
     "name": "stdout",
     "output_type": "stream",
     "text": [
      "Subject: 4146 tweet 862\nSubject: 4146 tweet 11587\nSubject: 4146 tweet 10865\nSubject: 4146 tweet 740\nSubject: 4147 tweet 320\n"
     ]
    },
    {
     "name": "stdout",
     "output_type": "stream",
     "text": [
      "Subject: 4147 tweet 2490\nSubject: 4147 tweet 2077\nSubject: 4147 tweet 243\nSubject: 4147 tweet 4085\nSubject: 4147 tweet 9286\nSubject: 4147 tweet 829\n"
     ]
    },
    {
     "name": "stdout",
     "output_type": "stream",
     "text": [
      "Subject: 4147 tweet 11338\nSubject: 4147 tweet 11480\nSubject: 4147 tweet 4886\nSubject: 4149 tweet 3761\nSubject: 4149 tweet 10064\n"
     ]
    },
    {
     "name": "stdout",
     "output_type": "stream",
     "text": [
      "Subject: 4149 tweet 28\nSubject: 4149 tweet 102\nSubject: 4149 tweet 12440\nSubject: 4149 tweet 11077\nSubject: 4149 tweet 6911\nSubject: 4149 tweet 2348\n"
     ]
    },
    {
     "name": "stdout",
     "output_type": "stream",
     "text": [
      "Subject: 4149 tweet 3295\nSubject: 4150 tweet 1545\nSubject: 4150 tweet 320\nSubject: 4150 tweet 3353\nSubject: 4150 tweet 3370\n"
     ]
    },
    {
     "name": "stdout",
     "output_type": "stream",
     "text": [
      "Subject: 4150 tweet 1010\nSubject: 4150 tweet 2322\nSubject: 4150 tweet 1597\nSubject: 4150 tweet 11678\nSubject: 4150 tweet 12518\nSubject: 4150 tweet 3001\n"
     ]
    },
    {
     "name": "stdout",
     "output_type": "stream",
     "text": [
      "Subject: 4156 tweet 9288\nSubject: 4156 tweet 9247\nSubject: 4156 tweet 9245\nSubject: 4156 tweet 6489\nSubject: 4156 tweet 2519\n"
     ]
    },
    {
     "name": "stdout",
     "output_type": "stream",
     "text": [
      "Subject: 4156 tweet 2016\nSubject: 4156 tweet 8519\nSubject: 4157 tweet 11634\nSubject: 4157 tweet 3166\nSubject: 4157 tweet 6638\n"
     ]
    },
    {
     "name": "stdout",
     "output_type": "stream",
     "text": [
      "Subject: 4157 tweet 7818\nSubject: 4157 tweet 1525\nSubject: 4157 tweet 6220\nSubject: 4157 tweet 5714\nSubject: 4157 tweet 3288\nSubject: 4157 tweet 5029\n"
     ]
    },
    {
     "name": "stdout",
     "output_type": "stream",
     "text": [
      "Subject: 4157 tweet 6301\nSubject: 4158 tweet 3033\nSubject: 4158 tweet 2945\nSubject: 4158 tweet 3859\n"
     ]
    },
    {
     "name": "stdout",
     "output_type": "stream",
     "text": [
      "Subject: 4158 tweet 6317\nSubject: 4158 tweet 1211\nSubject: 4158 tweet 4154\nSubject: 4158 tweet 7092\nSubject: 4158 tweet 1302\nSubject: 4158 tweet 3096\n"
     ]
    },
    {
     "name": "stdout",
     "output_type": "stream",
     "text": [
      "Subject: 4158 tweet 4693\nSubject: 4159 tweet 6358\nSubject: 4159 tweet 5119\nSubject: 4159 tweet 5958\nSubject: 4159 tweet 5956\n"
     ]
    },
    {
     "name": "stdout",
     "output_type": "stream",
     "text": [
      "Subject: 4159 tweet 6455\nSubject: 4159 tweet 6030\nSubject: 4159 tweet 1377\nSubject: 4159 tweet 6832\nSubject: 4159 tweet 11383\nSubject: 4159 tweet 4437\n"
     ]
    },
    {
     "name": "stdout",
     "output_type": "stream",
     "text": [
      "Subject: 4160 tweet 482\nSubject: 4160 tweet 6927\nSubject: 4160 tweet 10781\nSubject: 4160 tweet 7280\nSubject: 4160 tweet 7281\nSubject: 4160 tweet 9387\n"
     ]
    },
    {
     "name": "stdout",
     "output_type": "stream",
     "text": [
      "Subject: 4160 tweet 8435\nSubject: 4160 tweet 1001\nSubject: 4160 tweet 2974\nSubject: 4160 tweet 1658\nSubject: 4161 tweet 3177\n"
     ]
    },
    {
     "name": "stdout",
     "output_type": "stream",
     "text": [
      "Subject: 4161 tweet 10521\nSubject: 4161 tweet 2164\nSubject: 4161 tweet 10476\nSubject: 4161 tweet 8993\nSubject: 4161 tweet 10327\nSubject: 4161 tweet 278\n"
     ]
    },
    {
     "name": "stdout",
     "output_type": "stream",
     "text": [
      "Subject: 4161 tweet 2119\nSubject: 4161 tweet 3282\nSubject: 4161 tweet 11333\nSubject: 4162 tweet 6384\nSubject: 4162 tweet 4235\n"
     ]
    },
    {
     "name": "stdout",
     "output_type": "stream",
     "text": [
      "Subject: 4162 tweet 315\nSubject: 4162 tweet 12361\nSubject: 4162 tweet 11763\nSubject: 4162 tweet 3655\nSubject: 4162 tweet 11707\nSubject: 4162 tweet 3376\n"
     ]
    },
    {
     "name": "stdout",
     "output_type": "stream",
     "text": [
      "Subject: 4162 tweet 9499\nSubject: 4162 tweet 7673\nSubject: 4168 tweet 9465\nSubject: 4168 tweet 9458\nSubject: 4168 tweet 8380\n"
     ]
    },
    {
     "name": "stdout",
     "output_type": "stream",
     "text": [
      "Subject: 4168 tweet 8723\nSubject: 4168 tweet 1314\nSubject: 4168 tweet 4400\nSubject: 4168 tweet 12083\nSubject: 4168 tweet 7668\nSubject: 4168 tweet 942\n"
     ]
    },
    {
     "name": "stdout",
     "output_type": "stream",
     "text": [
      "Subject: 4168 tweet 1921\nSubject: 4175 tweet 3309\nSubject: 4175 tweet 10303\nSubject: 4175 tweet 7674\nSubject: 4175 tweet 12478\n"
     ]
    },
    {
     "name": "stdout",
     "output_type": "stream",
     "text": [
      "Subject: 4175 tweet 9643\nSubject: 4175 tweet 10927\nSubject: 4175 tweet 6794\nSubject: 4175 tweet 10155\nSubject: 4175 tweet 2091\n"
     ]
    },
    {
     "name": "stdout",
     "output_type": "stream",
     "text": [
      "Subject: 4176 tweet 973\nSubject: 4176 tweet 5196\nSubject: 4176 tweet 9482\nSubject: 4176 tweet 7843\nSubject: 4176 tweet 3563\nSubject: 4176 tweet 9586\n"
     ]
    },
    {
     "name": "stdout",
     "output_type": "stream",
     "text": [
      "Subject: 4176 tweet 9485\nSubject: 4176 tweet 9562\nSubject: 4176 tweet 3107\nSubject: 4176 tweet 5039\nSubject: 4177 tweet 1854\n"
     ]
    },
    {
     "name": "stdout",
     "output_type": "stream",
     "text": [
      "Subject: 4177 tweet 5218\nSubject: 4177 tweet 1746\nSubject: 4177 tweet 2106\nSubject: 4177 tweet 8042\nSubject: 4177 tweet 4219\nSubject: 4177 tweet 7612\n"
     ]
    },
    {
     "name": "stdout",
     "output_type": "stream",
     "text": [
      "Subject: 4177 tweet 10736\nSubject: 4177 tweet 1744\nSubject: 4177 tweet 1719\nSubject: 4178 tweet 6276\nSubject: 4178 tweet 8100\n"
     ]
    },
    {
     "name": "stdout",
     "output_type": "stream",
     "text": [
      "Subject: 4178 tweet 6282\nSubject: 4178 tweet 8838\nSubject: 4178 tweet 8148\nSubject: 4178 tweet 2605\nSubject: 4178 tweet 4822\nSubject: 4178 tweet 8276\n"
     ]
    },
    {
     "name": "stdout",
     "output_type": "stream",
     "text": [
      "Subject: 4178 tweet 8509\nSubject: 4178 tweet 8756\nSubject: 4181 tweet 7006\nSubject: 4181 tweet 365\nSubject: 4181 tweet 9666\n"
     ]
    },
    {
     "name": "stdout",
     "output_type": "stream",
     "text": [
      "Subject: 4181 tweet 9415\nSubject: 4181 tweet 7369\nSubject: 4181 tweet 407\nSubject: 4181 tweet 1053\nSubject: 4181 tweet 1215\n"
     ]
    },
    {
     "name": "stdout",
     "output_type": "stream",
     "text": [
      "Subject: 4181 tweet 4846\nSubject: 4183 tweet 7457\nSubject: 4183 tweet 6972\nSubject: 4183 tweet 1454\nSubject: 4183 tweet 363\n"
     ]
    },
    {
     "name": "stdout",
     "output_type": "stream",
     "text": [
      "Subject: 4183 tweet 112\nSubject: 4183 tweet 116\nSubject: 4183 tweet 1158\nSubject: 4183 tweet 97\nSubject: 4183 tweet 6470\nSubject: 4183 tweet 10350\n"
     ]
    },
    {
     "name": "stdout",
     "output_type": "stream",
     "text": [
      "Subject: 4184 tweet 7211\nSubject: 4184 tweet 6406\nSubject: 4184 tweet 150\nSubject: 4184 tweet 726\nSubject: 4184 tweet 8802\nSubject: 4184 tweet 5663\n"
     ]
    },
    {
     "name": "stdout",
     "output_type": "stream",
     "text": [
      "Subject: 4184 tweet 7238\nSubject: 4184 tweet 309\nSubject: 4184 tweet 12183\nSubject: 4184 tweet 10005\nSubject: 4186 tweet 5918\n"
     ]
    },
    {
     "name": "stdout",
     "output_type": "stream",
     "text": [
      "Subject: 4186 tweet 3334\nSubject: 4186 tweet 5988\nSubject: 4186 tweet 6992\nSubject: 4186 tweet 347\nSubject: 4186 tweet 4809\nSubject: 4186 tweet 5723\n"
     ]
    },
    {
     "name": "stdout",
     "output_type": "stream",
     "text": [
      "Subject: 4186 tweet 6266\nSubject: 4186 tweet 6016\nSubject: 4186 tweet 8675\nSubject: 4188 tweet 11748\n"
     ]
    },
    {
     "name": "stdout",
     "output_type": "stream",
     "text": [
      "Subject: 4188 tweet 11773\nSubject: 4188 tweet 11602\nSubject: 4188 tweet 11644\nSubject: 4188 tweet 11593\nSubject: 4188 tweet 11615\nSubject: 4188 tweet 6774\n"
     ]
    },
    {
     "name": "stdout",
     "output_type": "stream",
     "text": [
      "Subject: 4188 tweet 11599\nSubject: 4188 tweet 5153\nSubject: 4188 tweet 11767\nSubject: 4202 tweet 7416\nSubject: 4202 tweet 6732\n"
     ]
    },
    {
     "name": "stdout",
     "output_type": "stream",
     "text": [
      "Subject: 4202 tweet 11667\nSubject: 4202 tweet 12446\nSubject: 4202 tweet 1307\nSubject: 4202 tweet 6693\nSubject: 4202 tweet 425\nSubject: 4202 tweet 9973\n"
     ]
    },
    {
     "name": "stdout",
     "output_type": "stream",
     "text": [
      "Subject: 4202 tweet 7129\nSubject: 4202 tweet 9167\nSubject: 4204 tweet 6255\nSubject: 4204 tweet 2153\nSubject: 4204 tweet 11423\n"
     ]
    },
    {
     "name": "stdout",
     "output_type": "stream",
     "text": [
      "Subject: 4204 tweet 10566\nSubject: 4204 tweet 3013\nSubject: 4204 tweet 7729\nSubject: 4204 tweet 4112\nSubject: 4204 tweet 4941\nSubject: 4204 tweet 7725\n"
     ]
    },
    {
     "name": "stdout",
     "output_type": "stream",
     "text": [
      "Subject: 4204 tweet 6070\nSubject: 4206 tweet 878\nSubject: 4206 tweet 1066\nSubject: 4206 tweet 3494\n"
     ]
    },
    {
     "name": "stdout",
     "output_type": "stream",
     "text": [
      "Subject: 4206 tweet 8587\nSubject: 4206 tweet 307\nSubject: 4206 tweet 362\nSubject: 4206 tweet 2603\nSubject: 4208 tweet 11044\n"
     ]
    },
    {
     "name": "stdout",
     "output_type": "stream",
     "text": [
      "Subject: 4208 tweet 11040\nSubject: 4208 tweet 11732\nSubject: 4208 tweet 10999\nSubject: 4208 tweet 960\nSubject: 4208 tweet 11052\nSubject: 4208 tweet 1241\n"
     ]
    },
    {
     "name": "stdout",
     "output_type": "stream",
     "text": [
      "Subject: 4208 tweet 12590\nSubject: 4208 tweet 11390\nSubject: 4208 tweet 11436\nSubject: 4210 tweet 6492\n"
     ]
    },
    {
     "name": "stdout",
     "output_type": "stream",
     "text": [
      "Subject: 4210 tweet 4209\nSubject: 4210 tweet 2248\nSubject: 4210 tweet 8499\nSubject: 4210 tweet 4882\nSubject: 4210 tweet 12415\n"
     ]
    },
    {
     "name": "stdout",
     "output_type": "stream",
     "text": [
      "Subject: 4210 tweet 4845\nSubject: 4210 tweet 986\nSubject: 4210 tweet 944\nSubject: 4210 tweet 9183\nSubject: 4212 tweet 2563\n"
     ]
    },
    {
     "name": "stdout",
     "output_type": "stream",
     "text": [
      "Subject: 4212 tweet 4218\nSubject: 4212 tweet 9774\nSubject: 4212 tweet 2905\nSubject: 4212 tweet 10265\nSubject: 4212 tweet 9951\nSubject: 4212 tweet 9376\n"
     ]
    },
    {
     "name": "stdout",
     "output_type": "stream",
     "text": [
      "Subject: 4212 tweet 9598\nSubject: 4212 tweet 7895\nSubject: 4212 tweet 11984\nSubject: 4214 tweet 2200\nSubject: 4214 tweet 3905\n"
     ]
    },
    {
     "name": "stdout",
     "output_type": "stream",
     "text": [
      "Subject: 4214 tweet 4047\nSubject: 4214 tweet 3732\nSubject: 4214 tweet 3894\nSubject: 4214 tweet 4192\nSubject: 4214 tweet 4190\n"
     ]
    },
    {
     "name": "stdout",
     "output_type": "stream",
     "text": [
      "Subject: 4214 tweet 6444\nSubject: 4214 tweet 2418\nSubject: 4214 tweet 9454\nSubject: 4215 tweet 4151\nSubject: 4215 tweet 471\n"
     ]
    },
    {
     "name": "stdout",
     "output_type": "stream",
     "text": [
      "Subject: 4215 tweet 10755\nSubject: 4215 tweet 4507\nSubject: 4215 tweet 10281\nSubject: 4215 tweet 2527\nSubject: 4215 tweet 10280\nSubject: 4215 tweet 10002\n"
     ]
    },
    {
     "name": "stdout",
     "output_type": "stream",
     "text": [
      "Subject: 4215 tweet 1102\nSubject: 4215 tweet 11584\nSubject: 4217 tweet 1693\nSubject: 4217 tweet 2062\nSubject: 4217 tweet 2459\n"
     ]
    },
    {
     "name": "stdout",
     "output_type": "stream",
     "text": [
      "Subject: 4217 tweet 2659\nSubject: 4217 tweet 4234\nSubject: 4217 tweet 4712\nSubject: 4217 tweet 3807\nSubject: 4217 tweet 5231\nSubject: 4217 tweet 6306\n"
     ]
    },
    {
     "name": "stdout",
     "output_type": "stream",
     "text": [
      "Subject: 4217 tweet 6207\nSubject: 4218 tweet 3444\nSubject: 4218 tweet 2983\nSubject: 4218 tweet 1528\nSubject: 4218 tweet 478\n"
     ]
    },
    {
     "name": "stdout",
     "output_type": "stream",
     "text": [
      "Subject: 4218 tweet 9987\nSubject: 4218 tweet 12620\nSubject: 4218 tweet 4846\nSubject: 4218 tweet 6034\nSubject: 4218 tweet 406\nSubject: 4218 tweet 3349\n"
     ]
    },
    {
     "name": "stdout",
     "output_type": "stream",
     "text": [
      "Subject: 4219 tweet 11948\nSubject: 4219 tweet 1086\nSubject: 4219 tweet 5535\nSubject: 4219 tweet 1233\nSubject: 4219 tweet 12386\nSubject: 4219 tweet 8116\n"
     ]
    },
    {
     "name": "stdout",
     "output_type": "stream",
     "text": [
      "Subject: 4219 tweet 9211\nSubject: 4219 tweet 8648\nSubject: 4221 tweet 12215\nSubject: 4221 tweet 12454\n"
     ]
    },
    {
     "name": "stdout",
     "output_type": "stream",
     "text": [
      "Subject: 4221 tweet 2487\nSubject: 4221 tweet 12420\nSubject: 4221 tweet 2908\nSubject: 4221 tweet 983\nSubject: 4221 tweet 12058\nSubject: 4221 tweet 5220\n"
     ]
    },
    {
     "name": "stdout",
     "output_type": "stream",
     "text": [
      "Subject: 4221 tweet 818\nSubject: 4221 tweet 673\nSubject: 4222 tweet 8526\nSubject: 4222 tweet 12236\nSubject: 4222 tweet 12353\n"
     ]
    },
    {
     "name": "stdout",
     "output_type": "stream",
     "text": [
      "Subject: 4222 tweet 12332\nSubject: 4222 tweet 12312\nSubject: 4222 tweet 12272\nSubject: 4222 tweet 12303\nSubject: 4222 tweet 12391\nSubject: 4222 tweet 12354\n"
     ]
    },
    {
     "name": "stdout",
     "output_type": "stream",
     "text": [
      "Subject: 4222 tweet 12311\nSubject: 4228 tweet 2087\nSubject: 4228 tweet 1029\nSubject: 4228 tweet 3593\nSubject: 4228 tweet 8606\n"
     ]
    },
    {
     "name": "stdout",
     "output_type": "stream",
     "text": [
      "Subject: 4228 tweet 4843\nSubject: 4228 tweet 1144\nSubject: 4228 tweet 10879\nSubject: 4228 tweet 3612\nSubject: 4228 tweet 8457\n"
     ]
    },
    {
     "name": "stdout",
     "output_type": "stream",
     "text": [
      "Subject: 4228 tweet 1020\nSubject: 4229 tweet 6414\nSubject: 4229 tweet 11400\nSubject: 4229 tweet 333\nSubject: 4229 tweet 12187\n"
     ]
    },
    {
     "name": "stdout",
     "output_type": "stream",
     "text": [
      "Subject: 4229 tweet 12275\nSubject: 4229 tweet 12107\nSubject: 4229 tweet 11378\nSubject: 4229 tweet 161\nSubject: 4229 tweet 11205\nSubject: 4229 tweet 3518\n"
     ]
    },
    {
     "name": "stdout",
     "output_type": "stream",
     "text": [
      "Subject: 4231 tweet 2292\nSubject: 4231 tweet 5587\nSubject: 4231 tweet 5463\nSubject: 4231 tweet 12283\nSubject: 4231 tweet 7613\nSubject: 4231 tweet 7760\n"
     ]
    },
    {
     "name": "stdout",
     "output_type": "stream",
     "text": [
      "Subject: 4232 tweet 9767\nSubject: 4232 tweet 3396\nSubject: 4232 tweet 9412\nSubject: 4232 tweet 4082\nSubject: 4232 tweet 4651\nSubject: 4232 tweet 10129\n"
     ]
    },
    {
     "name": "stdout",
     "output_type": "stream",
     "text": [
      "Subject: 4232 tweet 3368\nSubject: 4232 tweet 8772\nSubject: 4232 tweet 9317\nSubject: 4232 tweet 10165\n"
     ]
    },
    {
     "name": "stdout",
     "output_type": "stream",
     "text": [
      "Subject: 4233 tweet 3580\nSubject: 4233 tweet 6477\nSubject: 4233 tweet 6202\nSubject: 4233 tweet 1649\nSubject: 4233 tweet 10798\nSubject: 4233 tweet 10843\n"
     ]
    },
    {
     "name": "stdout",
     "output_type": "stream",
     "text": [
      "Subject: 4233 tweet 2805\nSubject: 4233 tweet 2986\nSubject: 4233 tweet 8911\nSubject: 4233 tweet 2933\nSubject: 4236 tweet 1218\n"
     ]
    },
    {
     "name": "stdout",
     "output_type": "stream",
     "text": [
      "Subject: 4236 tweet 7627\nSubject: 4236 tweet 10036\nSubject: 4236 tweet 3970\nSubject: 4236 tweet 7015\nSubject: 4236 tweet 9105\nSubject: 4236 tweet 11884\n"
     ]
    },
    {
     "name": "stdout",
     "output_type": "stream",
     "text": [
      "Subject: 4236 tweet 10529\nSubject: 4236 tweet 8608\nSubject: 4236 tweet 4516\nSubject: 4237 tweet 1980\nSubject: 4237 tweet 1716\n"
     ]
    },
    {
     "name": "stdout",
     "output_type": "stream",
     "text": [
      "Subject: 4237 tweet 4654\nSubject: 4237 tweet 1717\nSubject: 4237 tweet 7303\nSubject: 4237 tweet 2716\nSubject: 4237 tweet 8846\nSubject: 4237 tweet 7282\n"
     ]
    },
    {
     "name": "stdout",
     "output_type": "stream",
     "text": [
      "Subject: 4237 tweet 2782\nSubject: 4237 tweet 9321\nSubject: 4239 tweet 318\nSubject: 4239 tweet 1174\nSubject: 4239 tweet 1169\n"
     ]
    },
    {
     "name": "stdout",
     "output_type": "stream",
     "text": [
      "Subject: 4239 tweet 10492\nSubject: 4239 tweet 7414\nSubject: 4239 tweet 3\nSubject: 4239 tweet 1348\nSubject: 4239 tweet 5703\nSubject: 4239 tweet 5288\n"
     ]
    },
    {
     "name": "stdout",
     "output_type": "stream",
     "text": [
      "Subject: 4239 tweet 11519\nSubject: 4240 tweet 10063\nSubject: 4240 tweet 3279\nSubject: 4240 tweet 5377\nSubject: 4240 tweet 5938\n"
     ]
    },
    {
     "name": "stdout",
     "output_type": "stream",
     "text": [
      "Subject: 4240 tweet 11725\nSubject: 4240 tweet 2068\nSubject: 4240 tweet 5536\nSubject: 4240 tweet 7744\nSubject: 4240 tweet 12081\nSubject: 4240 tweet 10503\n"
     ]
    },
    {
     "name": "stdout",
     "output_type": "stream",
     "text": [
      "Subject: 4241 tweet 10603\nSubject: 4241 tweet 3232\nSubject: 4241 tweet 319\nSubject: 4241 tweet 3187\nSubject: 4241 tweet 5195\nSubject: 4241 tweet 5251\n"
     ]
    },
    {
     "name": "stdout",
     "output_type": "stream",
     "text": [
      "Subject: 4241 tweet 3525\nSubject: 4241 tweet 9502\nSubject: 4241 tweet 9830\nSubject: 4241 tweet 2783\nSubject: 4246 tweet 4907\n"
     ]
    },
    {
     "name": "stdout",
     "output_type": "stream",
     "text": [
      "Subject: 4246 tweet 3557\nSubject: 4246 tweet 4908\nSubject: 4246 tweet 7120\nSubject: 4246 tweet 5405\nSubject: 4246 tweet 8301\n"
     ]
    },
    {
     "name": "stdout",
     "output_type": "stream",
     "text": [
      "Subject: 4246 tweet 12168\nSubject: 4246 tweet 7700\nSubject: 4246 tweet 8810\nSubject: 4246 tweet 12279\nSubject: 4249 tweet 8275\n"
     ]
    },
    {
     "name": "stdout",
     "output_type": "stream",
     "text": [
      "Subject: 4249 tweet 8781\nSubject: 4249 tweet 2695\nSubject: 4249 tweet 2582\nSubject: 4249 tweet 2623\nSubject: 4249 tweet 7863\n"
     ]
    },
    {
     "name": "stdout",
     "output_type": "stream",
     "text": [
      "Subject: 4249 tweet 2315\nSubject: 4249 tweet 2157\nSubject: 4249 tweet 10126\nSubject: 4249 tweet 2156\nSubject: 4250 tweet 8284\n"
     ]
    },
    {
     "name": "stdout",
     "output_type": "stream",
     "text": [
      "Subject: 4250 tweet 8416\nSubject: 4250 tweet 2308\nSubject: 4250 tweet 8213\nSubject: 4250 tweet 6066\nSubject: 4250 tweet 8229\nSubject: 4250 tweet 8302\n"
     ]
    },
    {
     "name": "stdout",
     "output_type": "stream",
     "text": [
      "Subject: 4250 tweet 5436\nSubject: 4250 tweet 5752\nSubject: 4250 tweet 8325\nSubject: 4252 tweet 2126\n"
     ]
    },
    {
     "name": "stdout",
     "output_type": "stream",
     "text": [
      "Subject: 4252 tweet 8792\nSubject: 4252 tweet 12330\nSubject: 4252 tweet 12157\nSubject: 4252 tweet 12112\nSubject: 4252 tweet 8250\nSubject: 4252 tweet 12161\n"
     ]
    },
    {
     "name": "stdout",
     "output_type": "stream",
     "text": [
      "Subject: 4252 tweet 10533\nSubject: 4252 tweet 12200\nSubject: 4252 tweet 5572\nSubject: 4253 tweet 4217\nSubject: 4253 tweet 10262\n"
     ]
    },
    {
     "name": "stdout",
     "output_type": "stream",
     "text": [
      "Subject: 4253 tweet 10316\nSubject: 4253 tweet 10263\nSubject: 4253 tweet 9593\nSubject: 4253 tweet 9427\nSubject: 4253 tweet 8975\nSubject: 4253 tweet 8998\n"
     ]
    },
    {
     "name": "stdout",
     "output_type": "stream",
     "text": [
      "Subject: 4253 tweet 9347\nSubject: 4253 tweet 9371\nSubject: 4254 tweet 1094\nSubject: 4254 tweet 2542\nSubject: 4254 tweet 5261\n"
     ]
    },
    {
     "name": "stdout",
     "output_type": "stream",
     "text": [
      "Subject: 4254 tweet 10269\nSubject: 4254 tweet 5370\nSubject: 4254 tweet 6350\nSubject: 4254 tweet 7880\nSubject: 4254 tweet 873\nSubject: 4254 tweet 2101\n"
     ]
    },
    {
     "name": "stdout",
     "output_type": "stream",
     "text": [
      "Subject: 4254 tweet 6620\nSubject: 4255 tweet 668\nSubject: 4255 tweet 8502\nSubject: 4255 tweet 8196\nSubject: 4255 tweet 8195\n"
     ]
    },
    {
     "name": "stdout",
     "output_type": "stream",
     "text": [
      "Subject: 4255 tweet 5884\nSubject: 4255 tweet 12546\nSubject: 4255 tweet 4171\nSubject: 4255 tweet 5431\nSubject: 4255 tweet 4837\nSubject: 4255 tweet 8381\n"
     ]
    },
    {
     "name": "stdout",
     "output_type": "stream",
     "text": [
      "Subject: 4257 tweet 1742\nSubject: 4257 tweet 6716\nSubject: 4257 tweet 694\nSubject: 4257 tweet 1747\nSubject: 4257 tweet 12376\nSubject: 4257 tweet 12262\n"
     ]
    },
    {
     "name": "stdout",
     "output_type": "stream",
     "text": [
      "Subject: 4257 tweet 6833\nSubject: 4257 tweet 6837\nSubject: 4257 tweet 7734\nSubject: 4257 tweet 10639\n"
     ]
    },
    {
     "name": "stdout",
     "output_type": "stream",
     "text": [
      "Subject: 4259 tweet 9837\nSubject: 4259 tweet 6847\nSubject: 4259 tweet 4936\nSubject: 4259 tweet 10711\nSubject: 4259 tweet 3312\nSubject: 4259 tweet 1653\n"
     ]
    },
    {
     "name": "stdout",
     "output_type": "stream",
     "text": [
      "Subject: 4259 tweet 5302\nSubject: 4259 tweet 8026\nSubject: 4259 tweet 8888\nSubject: 4259 tweet 3883\nSubject: 4261 tweet 9690\n"
     ]
    },
    {
     "name": "stdout",
     "output_type": "stream",
     "text": [
      "Subject: 4261 tweet 2526\nSubject: 4261 tweet 10128\nSubject: 4261 tweet 10124\nSubject: 4261 tweet 9808\nSubject: 4261 tweet 9507\nSubject: 4261 tweet 735\n"
     ]
    },
    {
     "name": "stdout",
     "output_type": "stream",
     "text": [
      "Subject: 4261 tweet 9611\nSubject: 4261 tweet 1232\nSubject: 4261 tweet 10586\nSubject: 4262 tweet 2618\n"
     ]
    },
    {
     "name": "stdout",
     "output_type": "stream",
     "text": [
      "Subject: 4262 tweet 4194\nSubject: 4262 tweet 6061\nSubject: 4262 tweet 3981\nSubject: 4262 tweet 5747\n"
     ]
    },
    {
     "name": "stdout",
     "output_type": "stream",
     "text": [
      "Subject: 4262 tweet 4190\nSubject: 4262 tweet 2418\nSubject: 4262 tweet 2370\nSubject: 4262 tweet 4001\nSubject: 4262 tweet 5411\n"
     ]
    },
    {
     "name": "stdout",
     "output_type": "stream",
     "text": [
      "Subject: 4263 tweet 1407\nSubject: 4263 tweet 7411\nSubject: 4263 tweet 6892\nSubject: 4263 tweet 9352\nSubject: 4263 tweet 8861\n"
     ]
    },
    {
     "name": "stdout",
     "output_type": "stream",
     "text": [
      "Subject: 4263 tweet 10845\nSubject: 4263 tweet 7029\nSubject: 4263 tweet 7173\nSubject: 4263 tweet 5640\nSubject: 4263 tweet 3014\n"
     ]
    },
    {
     "name": "stdout",
     "output_type": "stream",
     "text": [
      "Subject: 4269 tweet 8254\nSubject: 4269 tweet 788\nSubject: 4269 tweet 5088\nSubject: 4269 tweet 5257\nSubject: 4269 tweet 165\nSubject: 4269 tweet 164\n"
     ]
    },
    {
     "name": "stdout",
     "output_type": "stream",
     "text": [
      "Subject: 4269 tweet 2922\nSubject: 4269 tweet 3215\nSubject: 4269 tweet 2813\nSubject: 4275 tweet 6599\nSubject: 4275 tweet 1951\n"
     ]
    },
    {
     "name": "stdout",
     "output_type": "stream",
     "text": [
      "Subject: 4275 tweet 12060\nSubject: 4275 tweet 6176\nSubject: 4275 tweet 3438\nSubject: 4275 tweet 3276\nSubject: 4275 tweet 775\nSubject: 4275 tweet 1618\n"
     ]
    },
    {
     "name": "stdout",
     "output_type": "stream",
     "text": [
      "Subject: 4277 tweet 11582\nSubject: 4277 tweet 1533\nSubject: 4277 tweet 1532\nSubject: 4277 tweet 10202\nSubject: 4277 tweet 8795\n"
     ]
    },
    {
     "name": "stdout",
     "output_type": "stream",
     "text": [
      "Subject: 4277 tweet 8312\nSubject: 4277 tweet 8525\nSubject: 4277 tweet 11058\nSubject: 4277 tweet 1473\nSubject: 4277 tweet 861\n"
     ]
    },
    {
     "name": "stdout",
     "output_type": "stream",
     "text": [
      "Subject: 4294 tweet 12053\nSubject: 4294 tweet 1733\nSubject: 4294 tweet 6986\nSubject: 4294 tweet 9260\nSubject: 4294 tweet 412\nSubject: 4294 tweet 328\n"
     ]
    },
    {
     "name": "stdout",
     "output_type": "stream",
     "text": [
      "Subject: 4294 tweet 10855\nSubject: 4294 tweet 6002\nSubject: 4294 tweet 8085\nSubject: 4294 tweet 4313\nSubject: 4295 tweet 6755\n"
     ]
    },
    {
     "name": "stdout",
     "output_type": "stream",
     "text": [
      "Subject: 4295 tweet 9907\nSubject: 4295 tweet 8335\nSubject: 4295 tweet 8311\nSubject: 4295 tweet 1374\nSubject: 4295 tweet 9826\nSubject: 4295 tweet 9910\n"
     ]
    },
    {
     "name": "stdout",
     "output_type": "stream",
     "text": [
      "Subject: 4295 tweet 9919\nSubject: 4295 tweet 2565\nSubject: 4295 tweet 9813\nSubject: 4297 tweet 2469\nSubject: 4297 tweet 4816\n"
     ]
    },
    {
     "name": "stdout",
     "output_type": "stream",
     "text": [
      "Subject: 4297 tweet 10498\nSubject: 4297 tweet 4037\nSubject: 4297 tweet 2215\nSubject: 4297 tweet 10193\nSubject: 4297 tweet 10653\nSubject: 4297 tweet 8127\n"
     ]
    },
    {
     "name": "stdout",
     "output_type": "stream",
     "text": [
      "Subject: 4297 tweet 12259\nSubject: 4297 tweet 9691\nSubject: 4303 tweet 9537\nSubject: 4303 tweet 3501\nSubject: 4303 tweet 276\n"
     ]
    },
    {
     "name": "stdout",
     "output_type": "stream",
     "text": [
      "Subject: 4303 tweet 9923\nSubject: 4303 tweet 3500\nSubject: 4303 tweet 8198\nSubject: 4303 tweet 3502\nSubject: 4303 tweet 9462\nSubject: 4303 tweet 9740\n"
     ]
    },
    {
     "name": "stdout",
     "output_type": "stream",
     "text": [
      "Subject: 4303 tweet 12233\nSubject: 4304 tweet 5789\nSubject: 4304 tweet 5650\nSubject: 4304 tweet 6075\nSubject: 4304 tweet 11671\n"
     ]
    },
    {
     "name": "stdout",
     "output_type": "stream",
     "text": [
      "Subject: 4304 tweet 8130\nSubject: 4304 tweet 80\nSubject: 4304 tweet 78\nSubject: 4304 tweet 3542\nSubject: 4304 tweet 9792\nSubject: 4304 tweet 8094\n"
     ]
    },
    {
     "name": "stdout",
     "output_type": "stream",
     "text": [
      "Subject: 4305 tweet 9682\nSubject: 4305 tweet 261\nSubject: 4305 tweet 9182\nSubject: 4305 tweet 10409\nSubject: 4305 tweet 3448\nSubject: 4305 tweet 3434\n"
     ]
    },
    {
     "name": "stdout",
     "output_type": "stream",
     "text": [
      "Subject: 4305 tweet 3692\nSubject: 4305 tweet 9160\nSubject: 4305 tweet 5628\nSubject: 4305 tweet 11085\nSubject: 4306 tweet 10290\n"
     ]
    },
    {
     "name": "stdout",
     "output_type": "stream",
     "text": [
      "Subject: 4306 tweet 10744\nSubject: 4306 tweet 2778\nSubject: 4306 tweet 9467\nSubject: 4306 tweet 10055\nSubject: 4306 tweet 9475\nSubject: 4306 tweet 9154\n"
     ]
    },
    {
     "name": "stdout",
     "output_type": "stream",
     "text": [
      "Subject: 4306 tweet 11974\nSubject: 4306 tweet 9844\nSubject: 4306 tweet 8910\nSubject: 4307 tweet 2492\nSubject: 4307 tweet 2968\n"
     ]
    },
    {
     "name": "stdout",
     "output_type": "stream",
     "text": [
      "Subject: 4307 tweet 3906\nSubject: 4307 tweet 8580\nSubject: 4307 tweet 931\nSubject: 4307 tweet 8220\nSubject: 4307 tweet 2227\n"
     ]
    },
    {
     "name": "stdout",
     "output_type": "stream",
     "text": [
      "Subject: 4310 tweet 10144\nSubject: 4310 tweet 10378\nSubject: 4310 tweet 4724\nSubject: 4310 tweet 7480\nSubject: 4310 tweet 10257\nSubject: 4310 tweet 1872\n"
     ]
    },
    {
     "name": "stdout",
     "output_type": "stream",
     "text": [
      "Subject: 4310 tweet 7409\nSubject: 4310 tweet 6092\nSubject: 4312 tweet 11462\nSubject: 4312 tweet 9788\nSubject: 4312 tweet 10233\n"
     ]
    },
    {
     "name": "stdout",
     "output_type": "stream",
     "text": [
      "Subject: 4312 tweet 11385\nSubject: 4312 tweet 4714\nSubject: 4312 tweet 9134\nSubject: 4312 tweet 1961\nSubject: 4312 tweet 7528\n"
     ]
    },
    {
     "name": "stdout",
     "output_type": "stream",
     "text": [
      "Subject: 4312 tweet 3432\nSubject: 4312 tweet 4841\nSubject: 4314 tweet 10254\nSubject: 4314 tweet 7014\nSubject: 4314 tweet 3168\n"
     ]
    },
    {
     "name": "stdout",
     "output_type": "stream",
     "text": [
      "Subject: 4314 tweet 5286\nSubject: 4314 tweet 7005\nSubject: 4314 tweet 3251\nSubject: 4314 tweet 8382\nSubject: 4314 tweet 8272\nSubject: 4314 tweet 11101\n"
     ]
    },
    {
     "name": "stdout",
     "output_type": "stream",
     "text": [
      "Subject: 4314 tweet 3002\nSubject: 4317 tweet 1376\nSubject: 4317 tweet 6369\nSubject: 4317 tweet 4300\nSubject: 4317 tweet 10951\n"
     ]
    },
    {
     "name": "stdout",
     "output_type": "stream",
     "text": [
      "Subject: 4317 tweet 231\nSubject: 4317 tweet 10657\nSubject: 4318 tweet 12484\nSubject: 4318 tweet 3596\nSubject: 4318 tweet 1957\n"
     ]
    },
    {
     "name": "stdout",
     "output_type": "stream",
     "text": [
      "Subject: 4318 tweet 10634\nSubject: 4318 tweet 8\nSubject: 4318 tweet 9\nSubject: 4318 tweet 9220\nSubject: 4318 tweet 1530\n"
     ]
    },
    {
     "name": "stdout",
     "output_type": "stream",
     "text": [
      "Subject: 4318 tweet 4283\nSubject: 4318 tweet 10886\nSubject: 4328 tweet 2214\nSubject: 4328 tweet 1713\nSubject: 4328 tweet 8726\n"
     ]
    },
    {
     "name": "stdout",
     "output_type": "stream",
     "text": [
      "Subject: 4328 tweet 7835\nSubject: 4328 tweet 4243\nSubject: 4328 tweet 7667\nSubject: 4328 tweet 8032\nSubject: 4328 tweet 3173\nSubject: 4328 tweet 8102\n"
     ]
    },
    {
     "name": "stdout",
     "output_type": "stream",
     "text": [
      "Subject: 4328 tweet 4839\nSubject: 4330 tweet 5880\nSubject: 4330 tweet 5216\nSubject: 4330 tweet 5772\nSubject: 4330 tweet 1179\n"
     ]
    },
    {
     "name": "stdout",
     "output_type": "stream",
     "text": [
      "Subject: 4330 tweet 3771\nSubject: 4330 tweet 3779\nSubject: 4330 tweet 5939\nSubject: 4330 tweet 5280\nSubject: 4330 tweet 5172\n"
     ]
    },
    {
     "name": "stdout",
     "output_type": "stream",
     "text": [
      "Subject: 4330 tweet 5204\nSubject: 4341 tweet 12406\nSubject: 4341 tweet 3341\nSubject: 4341 tweet 6078\n"
     ]
    },
    {
     "name": "stdout",
     "output_type": "stream",
     "text": [
      "Subject: 4341 tweet 7569\nSubject: 4341 tweet 11632\nSubject: 4341 tweet 5507\nSubject: 4341 tweet 306\nSubject: 4341 tweet 3005\nSubject: 4341 tweet 2336\n"
     ]
    },
    {
     "name": "stdout",
     "output_type": "stream",
     "text": [
      "Subject: 4347 tweet 5873\nSubject: 4347 tweet 10734\nSubject: 4347 tweet 13\nSubject: 4347 tweet 11444\nSubject: 4347 tweet 2011\nSubject: 4347 tweet 5545\n"
     ]
    },
    {
     "name": "stdout",
     "output_type": "stream",
     "text": [
      "Subject: 4347 tweet 9194\nSubject: 4347 tweet 9213\nSubject: 4347 tweet 4407\nSubject: 4347 tweet 9214\nSubject: 4348 tweet 7878\n"
     ]
    },
    {
     "name": "stdout",
     "output_type": "stream",
     "text": [
      "Subject: 4348 tweet 6836\nSubject: 4348 tweet 2845\nSubject: 4348 tweet 3869\nSubject: 4348 tweet 8905\nSubject: 4348 tweet 1983\nSubject: 4348 tweet 5398\n"
     ]
    },
    {
     "name": "stdout",
     "output_type": "stream",
     "text": [
      "Subject: 4348 tweet 5429\nSubject: 4348 tweet 8177\nSubject: 4348 tweet 4068\nSubject: 4349 tweet 4832\nSubject: 4349 tweet 11523\n"
     ]
    },
    {
     "name": "stdout",
     "output_type": "stream",
     "text": [
      "Subject: 4349 tweet 6212\nSubject: 4349 tweet 1916\nSubject: 4349 tweet 5388\nSubject: 4349 tweet 6141\nSubject: 4349 tweet 8010\n"
     ]
    },
    {
     "name": "stdout",
     "output_type": "stream",
     "text": [
      "Subject: 4349 tweet 8273\nSubject: 4349 tweet 8518\nSubject: 4349 tweet 4931\nSubject: 4350 tweet 9035\nSubject: 4350 tweet 10223\n"
     ]
    },
    {
     "name": "stdout",
     "output_type": "stream",
     "text": [
      "Subject: 4350 tweet 4728\nSubject: 4350 tweet 11913\nSubject: 4350 tweet 7425\nSubject: 4350 tweet 145\nSubject: 4350 tweet 4621\nSubject: 4350 tweet 1567\n"
     ]
    },
    {
     "name": "stdout",
     "output_type": "stream",
     "text": [
      "Subject: 4350 tweet 1591\nSubject: 4350 tweet 1342\nSubject: 4363 tweet 4635\nSubject: 4363 tweet 4602\nSubject: 4363 tweet 2267\n"
     ]
    },
    {
     "name": "stdout",
     "output_type": "stream",
     "text": [
      "Subject: 4363 tweet 455\nSubject: 4363 tweet 68\nSubject: 4363 tweet 4605\nSubject: 4363 tweet 459\nSubject: 4363 tweet 2179\nSubject: 4363 tweet 2348\n"
     ]
    },
    {
     "name": "stdout",
     "output_type": "stream",
     "text": [
      "Subject: 4363 tweet 6463\nSubject: 4368 tweet 8955\nSubject: 4368 tweet 3933\nSubject: 4368 tweet 8982\n"
     ]
    },
    {
     "name": "stdout",
     "output_type": "stream",
     "text": [
      "Subject: 4368 tweet 4250\nSubject: 4368 tweet 2700\nSubject: 4368 tweet 2955\nSubject: 4368 tweet 2216\nSubject: 4368 tweet 3142\n"
     ]
    },
    {
     "name": "stdout",
     "output_type": "stream",
     "text": [
      "Subject: 4368 tweet 4026\nSubject: 4368 tweet 131\nSubject: 4369 tweet 302\nSubject: 4369 tweet 6241\nSubject: 4369 tweet 6172\n"
     ]
    },
    {
     "name": "stdout",
     "output_type": "stream",
     "text": [
      "Subject: 4369 tweet 10796\nSubject: 4369 tweet 8259\nSubject: 4369 tweet 9075\nSubject: 4369 tweet 5760\nSubject: 4369 tweet 765\nSubject: 4369 tweet 10454\n"
     ]
    },
    {
     "name": "stdout",
     "output_type": "stream",
     "text": [
      "Subject: 4369 tweet 984\nSubject: 4372 tweet 7195\nSubject: 4372 tweet 3198\nSubject: 4372 tweet 2202\n"
     ]
    },
    {
     "name": "stdout",
     "output_type": "stream",
     "text": [
      "Subject: 4372 tweet 1628\nSubject: 4372 tweet 7199\nSubject: 4372 tweet 1331\nSubject: 4372 tweet 1031\nSubject: 4372 tweet 6709\nSubject: 4372 tweet 1375\n"
     ]
    },
    {
     "name": "stdout",
     "output_type": "stream",
     "text": [
      "Subject: 4372 tweet 1148\nSubject: 4373 tweet 7882\nSubject: 4373 tweet 5249\nSubject: 4373 tweet 5122\nSubject: 4373 tweet 8527\n"
     ]
    },
    {
     "name": "stdout",
     "output_type": "stream",
     "text": [
      "Subject: 4373 tweet 1578\nSubject: 4373 tweet 5849\nSubject: 4373 tweet 1604\nSubject: 4373 tweet 1616\nSubject: 4373 tweet 1615\nSubject: 4373 tweet 4888\n"
     ]
    },
    {
     "name": "stdout",
     "output_type": "stream",
     "text": [
      "Subject: 4377 tweet 974\nSubject: 4377 tweet 4991\nSubject: 4377 tweet 1080\nSubject: 4377 tweet 1137\nSubject: 4377 tweet 3568\nSubject: 4377 tweet 4823\n"
     ]
    },
    {
     "name": "stdout",
     "output_type": "stream",
     "text": [
      "Subject: 4377 tweet 654\nSubject: 4377 tweet 4910\nSubject: 4377 tweet 971\nSubject: 4377 tweet 6280\nSubject: 4386 tweet 8256\n"
     ]
    },
    {
     "name": "stdout",
     "output_type": "stream",
     "text": [
      "Subject: 4386 tweet 6572\nSubject: 4386 tweet 6626\nSubject: 4386 tweet 8503\nSubject: 4386 tweet 5352\nSubject: 4386 tweet 6479\n"
     ]
    },
    {
     "name": "stdout",
     "output_type": "stream",
     "text": [
      "Subject: 4386 tweet 2325\nSubject: 4386 tweet 8822\nSubject: 4386 tweet 5667\nSubject: 4386 tweet 9241\nSubject: 4389 tweet 1906\n"
     ]
    },
    {
     "name": "stdout",
     "output_type": "stream",
     "text": [
      "Subject: 4389 tweet 7805\nSubject: 4389 tweet 1120\nSubject: 4389 tweet 8260\nSubject: 4389 tweet 12243\nSubject: 4389 tweet 7770\nSubject: 4389 tweet 8894\n"
     ]
    },
    {
     "name": "stdout",
     "output_type": "stream",
     "text": [
      "Subject: 4389 tweet 331\nSubject: 4389 tweet 4241\nSubject: 4389 tweet 3747\nSubject: 4392 tweet 9238\nSubject: 4392 tweet 6167\n"
     ]
    },
    {
     "name": "stdout",
     "output_type": "stream",
     "text": [
      "Subject: 4392 tweet 8156\nSubject: 4392 tweet 1707\nSubject: 4392 tweet 3802\nSubject: 4392 tweet 7866\nSubject: 4392 tweet 10634\nSubject: 4392 tweet 7603\n"
     ]
    },
    {
     "name": "stdout",
     "output_type": "stream",
     "text": [
      "Subject: 4392 tweet 1195\nSubject: 4392 tweet 6499\nSubject: 5291 tweet 4576\nSubject: 5291 tweet 10482\nSubject: 5291 tweet 2410\n"
     ]
    },
    {
     "name": "stdout",
     "output_type": "stream",
     "text": [
      "Subject: 5291 tweet 10467\nSubject: 5291 tweet 9005\nSubject: 5291 tweet 1610\nSubject: 5291 tweet 1500\nSubject: 5291 tweet 773\nSubject: 5291 tweet 1058\n"
     ]
    },
    {
     "name": "stdout",
     "output_type": "stream",
     "text": [
      "Subject: 5291 tweet 9085\nSubject: 4408 tweet 1668\nSubject: 4408 tweet 1996\nSubject: 4408 tweet 2181\nSubject: 4408 tweet 8573\n"
     ]
    },
    {
     "name": "stdout",
     "output_type": "stream",
     "text": [
      "Subject: 4408 tweet 2042\nSubject: 4408 tweet 2436\nSubject: 4408 tweet 2636\nSubject: 4408 tweet 12334\nSubject: 4408 tweet 2020\nSubject: 4408 tweet 12335\n"
     ]
    },
    {
     "name": "stdout",
     "output_type": "stream",
     "text": [
      "Subject: 4409 tweet 780\nSubject: 4409 tweet 667\nSubject: 4409 tweet 782\nSubject: 4409 tweet 6366\nSubject: 4409 tweet 12425\nSubject: 4411 tweet 8449\n"
     ]
    },
    {
     "name": "stdout",
     "output_type": "stream",
     "text": [
      "Subject: 4411 tweet 6729\nSubject: 4411 tweet 9575\nSubject: 4411 tweet 6131\nSubject: 4411 tweet 6434\nSubject: 4411 tweet 8849\nSubject: 4411 tweet 6703\n"
     ]
    },
    {
     "name": "stdout",
     "output_type": "stream",
     "text": [
      "Subject: 4411 tweet 126\nSubject: 4411 tweet 100\nSubject: 4411 tweet 5854\nSubject: 4413 tweet 9204\nSubject: 4413 tweet 34\n"
     ]
    },
    {
     "name": "stdout",
     "output_type": "stream",
     "text": [
      "Subject: 4413 tweet 5838\nSubject: 4413 tweet 8519\nSubject: 4413 tweet 6119\nSubject: 4413 tweet 3907\nSubject: 4413 tweet 9209\nSubject: 4413 tweet 11808\n"
     ]
    },
    {
     "name": "stdout",
     "output_type": "stream",
     "text": [
      "Subject: 4413 tweet 5906\nSubject: 4413 tweet 3804\nSubject: 4415 tweet 940\nSubject: 4415 tweet 5742\nSubject: 4415 tweet 2643\n"
     ]
    },
    {
     "name": "stdout",
     "output_type": "stream",
     "text": [
      "Subject: 4415 tweet 108\nSubject: 4415 tweet 5802\nSubject: 4415 tweet 1457\nSubject: 4415 tweet 10921\nSubject: 4415 tweet 8849\nSubject: 4415 tweet 6703\n"
     ]
    },
    {
     "name": "stdout",
     "output_type": "stream",
     "text": [
      "Subject: 4415 tweet 6552\nSubject: 4425 tweet 6488\nSubject: 4425 tweet 3991\nSubject: 4425 tweet 6691\nSubject: 4425 tweet 1553\n"
     ]
    },
    {
     "name": "stdout",
     "output_type": "stream",
     "text": [
      "Subject: 4425 tweet 7271\nSubject: 4425 tweet 1781\nSubject: 4425 tweet 9579\nSubject: 4425 tweet 2331\nSubject: 4425 tweet 10642\nSubject: 4425 tweet 9845\n"
     ]
    },
    {
     "name": "stdout",
     "output_type": "stream",
     "text": [
      "Subject: 4427 tweet 2278\nSubject: 4427 tweet 6354\nSubject: 4427 tweet 3570\nSubject: 4430 tweet 1443\n"
     ]
    },
    {
     "name": "stdout",
     "output_type": "stream",
     "text": [
      "Subject: 4430 tweet 6225\nSubject: 4430 tweet 2538\nSubject: 4430 tweet 5315\nSubject: 4430 tweet 9246\n"
     ]
    },
    {
     "name": "stdout",
     "output_type": "stream",
     "text": [
      "Subject: 4430 tweet 1797\nSubject: 4430 tweet 1210\nSubject: 4430 tweet 2204\nSubject: 4430 tweet 1953\n"
     ]
    },
    {
     "name": "stdout",
     "output_type": "stream",
     "text": [
      "Subject: 4430 tweet 5861\nSubject: 4431 tweet 2609\nSubject: 4431 tweet 8899\n"
     ]
    },
    {
     "name": "stdout",
     "output_type": "stream",
     "text": [
      "Subject: 4431 tweet 2317\nSubject: 4431 tweet 8102\nSubject: 4431 tweet 7043\nSubject: 4431 tweet 7247\nSubject: 4431 tweet 4086\nSubject: 4431 tweet 10310\n"
     ]
    },
    {
     "name": "stdout",
     "output_type": "stream",
     "text": [
      "Subject: 4431 tweet 10780\nSubject: 4431 tweet 8697\nSubject: 4432 tweet 5550\nSubject: 4432 tweet 5477\nSubject: 4432 tweet 2246\n"
     ]
    },
    {
     "name": "stdout",
     "output_type": "stream",
     "text": [
      "Subject: 4432 tweet 10137\nSubject: 4432 tweet 5451\nSubject: 4432 tweet 2253\nSubject: 4432 tweet 5420\nSubject: 4432 tweet 2848\n"
     ]
    },
    {
     "name": "stdout",
     "output_type": "stream",
     "text": [
      "Subject: 4432 tweet 1087\nSubject: 4432 tweet 8873\nSubject: 4433 tweet 12028\nSubject: 4433 tweet 12029\n"
     ]
    },
    {
     "name": "stdout",
     "output_type": "stream",
     "text": [
      "Subject: 4433 tweet 50\nSubject: 4433 tweet 4013\nSubject: 4433 tweet 2168\nSubject: 4433 tweet 2158\nSubject: 4433 tweet 8244\nSubject: 4433 tweet 11831\n"
     ]
    },
    {
     "name": "stdout",
     "output_type": "stream",
     "text": [
      "Subject: 4433 tweet 2560\nSubject: 4433 tweet 6120\nSubject: 4434 tweet 1517\nSubject: 4434 tweet 1518\nSubject: 4434 tweet 1809\n"
     ]
    },
    {
     "name": "stdout",
     "output_type": "stream",
     "text": [
      "Subject: 4434 tweet 1876\nSubject: 4434 tweet 3763\nSubject: 4434 tweet 1878\nSubject: 4434 tweet 1817\nSubject: 4434 tweet 1891\n"
     ]
    },
    {
     "name": "stdout",
     "output_type": "stream",
     "text": [
      "Subject: 4434 tweet 1874\nSubject: 4434 tweet 1873\nSubject: 4435 tweet 6579\nSubject: 4435 tweet 8067\nSubject: 4435 tweet 8171\n"
     ]
    },
    {
     "name": "stdout",
     "output_type": "stream",
     "text": [
      "Subject: 4435 tweet 7985\nSubject: 4435 tweet 812\nSubject: 4435 tweet 1067\nSubject: 4435 tweet 6909\nSubject: 4435 tweet 4544\nSubject: 4435 tweet 12527\n"
     ]
    },
    {
     "name": "stdout",
     "output_type": "stream",
     "text": [
      "Subject: 4435 tweet 6818\nSubject: 4439 tweet 1517\nSubject: 4439 tweet 1518\nSubject: 4439 tweet 1809\nSubject: 4439 tweet 1876\n"
     ]
    },
    {
     "name": "stdout",
     "output_type": "stream",
     "text": [
      "Subject: 4439 tweet 3763\nSubject: 4439 tweet 1878\nSubject: 4439 tweet 1817\nSubject: 4439 tweet 1891\nSubject: 4439 tweet 1873\n"
     ]
    },
    {
     "name": "stdout",
     "output_type": "stream",
     "text": [
      "Subject: 4439 tweet 1874\nSubject: 4440 tweet 1517\nSubject: 4440 tweet 1518\nSubject: 4440 tweet 1809\nSubject: 4440 tweet 1876\n"
     ]
    },
    {
     "name": "stdout",
     "output_type": "stream",
     "text": [
      "Subject: 4440 tweet 3763\nSubject: 4440 tweet 1878\nSubject: 4440 tweet 1817\nSubject: 4440 tweet 1891\nSubject: 4440 tweet 1874\n"
     ]
    },
    {
     "name": "stdout",
     "output_type": "stream",
     "text": [
      "Subject: 4440 tweet 1873\nSubject: 4442 tweet 6579\nSubject: 4442 tweet 8067\nSubject: 4442 tweet 8171\nSubject: 4442 tweet 7985\n"
     ]
    },
    {
     "name": "stdout",
     "output_type": "stream",
     "text": [
      "Subject: 4442 tweet 812\nSubject: 4442 tweet 1067\nSubject: 4442 tweet 6909\nSubject: 4442 tweet 4544\nSubject: 4442 tweet 12527\nSubject: 4442 tweet 6818\n"
     ]
    },
    {
     "name": "stdout",
     "output_type": "stream",
     "text": [
      "Subject: 4448 tweet 8960\nSubject: 4448 tweet 2208\nSubject: 4448 tweet 55\nSubject: 4448 tweet 3456\nSubject: 4448 tweet 9171\nSubject: 4448 tweet 1396\n"
     ]
    },
    {
     "name": "stdout",
     "output_type": "stream",
     "text": [
      "Subject: 4448 tweet 9051\nSubject: 4448 tweet 7161\nSubject: 4448 tweet 3562\nSubject: 4448 tweet 2615\nSubject: 4449 tweet 7250\n"
     ]
    },
    {
     "name": "stdout",
     "output_type": "stream",
     "text": [
      "Subject: 4449 tweet 9570\nSubject: 4449 tweet 9423\nSubject: 4449 tweet 2282\nSubject: 4449 tweet 6264\nSubject: 4449 tweet 6169\nSubject: 4449 tweet 1298\n"
     ]
    },
    {
     "name": "stdout",
     "output_type": "stream",
     "text": [
      "Subject: 4449 tweet 6592\nSubject: 4449 tweet 3319\nSubject: 4449 tweet 9451\nSubject: 4452 tweet 5240\nSubject: 4452 tweet 169\n"
     ]
    },
    {
     "name": "stdout",
     "output_type": "stream",
     "text": [
      "Subject: 4452 tweet 11755\nSubject: 4452 tweet 5051\nSubject: 4452 tweet 5750\nSubject: 4452 tweet 257\nSubject: 4452 tweet 157\nSubject: 4452 tweet 5553\n"
     ]
    },
    {
     "name": "stdout",
     "output_type": "stream",
     "text": [
      "Subject: 4452 tweet 105\nSubject: 4452 tweet 4191\nSubject: 4453 tweet 8057\nSubject: 4453 tweet 3480\nSubject: 4453 tweet 6517\n"
     ]
    },
    {
     "name": "stdout",
     "output_type": "stream",
     "text": [
      "Subject: 4453 tweet 3068\nSubject: 4453 tweet 1559\nSubject: 4453 tweet 8452\nSubject: 4453 tweet 2621\nSubject: 4453 tweet 7178\n"
     ]
    },
    {
     "name": "stdout",
     "output_type": "stream",
     "text": [
      "Subject: 4453 tweet 2516\nSubject: 4453 tweet 4705\nSubject: 4454 tweet 2600\nSubject: 4454 tweet 1952\nSubject: 4454 tweet 2697\n"
     ]
    },
    {
     "name": "stdout",
     "output_type": "stream",
     "text": [
      "Subject: 4454 tweet 3857\nSubject: 4454 tweet 2639\nSubject: 4454 tweet 10961\nSubject: 4454 tweet 2076\nSubject: 4454 tweet 4802\n"
     ]
    },
    {
     "name": "stdout",
     "output_type": "stream",
     "text": [
      "Subject: 4454 tweet 2728\nSubject: 4454 tweet 5908\nSubject: 4457 tweet 6362\nSubject: 4457 tweet 12179\nSubject: 4457 tweet 7682\n"
     ]
    },
    {
     "name": "stdout",
     "output_type": "stream",
     "text": [
      "Subject: 4457 tweet 4364\nSubject: 4457 tweet 9889\nSubject: 4457 tweet 6794\nSubject: 4457 tweet 2091\nSubject: 4457 tweet 10031\nSubject: 4457 tweet 2877\n"
     ]
    },
    {
     "name": "stdout",
     "output_type": "stream",
     "text": [
      "Subject: 4457 tweet 4787\nSubject: 4459 tweet 7828\nSubject: 4459 tweet 345\nSubject: 4459 tweet 344\nSubject: 4459 tweet 235\n"
     ]
    },
    {
     "name": "stdout",
     "output_type": "stream",
     "text": [
      "Subject: 4459 tweet 9796\nSubject: 4459 tweet 7693\nSubject: 4459 tweet 234\nSubject: 4459 tweet 343\nSubject: 4459 tweet 11701\n"
     ]
    },
    {
     "name": "stdout",
     "output_type": "stream",
     "text": [
      "Subject: 4459 tweet 11650\nSubject: 4461 tweet 5689\nSubject: 4461 tweet 760\nSubject: 4461 tweet 2074\nSubject: 4461 tweet 3066\n"
     ]
    },
    {
     "name": "stdout",
     "output_type": "stream",
     "text": [
      "Subject: 4461 tweet 2821\nSubject: 4461 tweet 5134\nSubject: 4461 tweet 3697\nSubject: 4461 tweet 9917\nSubject: 4461 tweet 3403\n"
     ]
    },
    {
     "name": "stdout",
     "output_type": "stream",
     "text": [
      "Subject: 4461 tweet 171\nSubject: 4462 tweet 7578\nSubject: 4462 tweet 3181\nSubject: 4462 tweet 4406\nSubject: 4462 tweet 9488\n"
     ]
    },
    {
     "name": "stdout",
     "output_type": "stream",
     "text": [
      "Subject: 4462 tweet 12163\nSubject: 4462 tweet 12288\nSubject: 4462 tweet 9795\nSubject: 4462 tweet 10837\nSubject: 4462 tweet 1397\nSubject: 4462 tweet 9653\n"
     ]
    },
    {
     "name": "stdout",
     "output_type": "stream",
     "text": [
      "Subject: 4463 tweet 9847\nSubject: 4463 tweet 9706\nSubject: 4463 tweet 3449\nSubject: 4463 tweet 3493\nSubject: 4463 tweet 3442\nSubject: 4463 tweet 9694\n"
     ]
    },
    {
     "name": "stdout",
     "output_type": "stream",
     "text": [
      "Subject: 4463 tweet 9849\nSubject: 4463 tweet 10662\nSubject: 4463 tweet 12356\nSubject: 4463 tweet 10661\n"
     ]
    },
    {
     "name": "stdout",
     "output_type": "stream",
     "text": [
      "Subject: 4468 tweet 6612\nSubject: 4468 tweet 5658\nSubject: 4468 tweet 5751\n"
     ]
    },
    {
     "name": "stdout",
     "output_type": "stream",
     "text": [
      "Subject: 4468 tweet 10838\nSubject: 4468 tweet 2257\nSubject: 4468 tweet 8540\nSubject: 4468 tweet 8087\nSubject: 4468 tweet 6239\n"
     ]
    },
    {
     "name": "stdout",
     "output_type": "stream",
     "text": [
      "Subject: 4468 tweet 9710\nSubject: 4468 tweet 3753\nSubject: 4469 tweet 4745\nSubject: 4469 tweet 6244\nSubject: 4469 tweet 1333\n"
     ]
    },
    {
     "name": "stdout",
     "output_type": "stream",
     "text": [
      "Subject: 4469 tweet 1265\nSubject: 4469 tweet 8493\nSubject: 4469 tweet 11022\nSubject: 4469 tweet 2814\nSubject: 4469 tweet 8561\nSubject: 4469 tweet 2942\n"
     ]
    },
    {
     "name": "stdout",
     "output_type": "stream",
     "text": [
      "Subject: 4469 tweet 8818\nSubject: 4470 tweet 6421\nSubject: 4470 tweet 1537\nSubject: 4470 tweet 2941\n"
     ]
    },
    {
     "name": "stdout",
     "output_type": "stream",
     "text": [
      "Subject: 4470 tweet 149\nSubject: 4479 tweet 8924\nSubject: 4479 tweet 8956\nSubject: 4479 tweet 8962\nSubject: 4479 tweet 3958\n"
     ]
    },
    {
     "name": "stdout",
     "output_type": "stream",
     "text": [
      "Subject: 4479 tweet 8959\nSubject: 4479 tweet 3986\nSubject: 4479 tweet 2220\nSubject: 4479 tweet 2557\nSubject: 4479 tweet 6068\n"
     ]
    },
    {
     "name": "stdout",
     "output_type": "stream",
     "text": [
      "Subject: 4479 tweet 8923\nSubject: 4494 tweet 9133\nSubject: 4494 tweet 8232\nSubject: 4494 tweet 4368\nSubject: 4494 tweet 4479\n"
     ]
    },
    {
     "name": "stdout",
     "output_type": "stream",
     "text": [
      "Subject: 4494 tweet 3114\nSubject: 4494 tweet 3163\nSubject: 4497 tweet 10812\nSubject: 4497 tweet 6312\nSubject: 4497 tweet 5137\n"
     ]
    },
    {
     "name": "stdout",
     "output_type": "stream",
     "text": [
      "Subject: 4497 tweet 4642\nSubject: 4497 tweet 9096\nSubject: 4497 tweet 10173\nSubject: 4497 tweet 12541\nSubject: 4497 tweet 4380\n"
     ]
    },
    {
     "name": "stdout",
     "output_type": "stream",
     "text": [
      "Subject: 4497 tweet 3428\nSubject: 4497 tweet 10394\nSubject: 4500 tweet 10499\nSubject: 4500 tweet 4084\nSubject: 4500 tweet 10895\n"
     ]
    },
    {
     "name": "stdout",
     "output_type": "stream",
     "text": [
      "Subject: 4500 tweet 9080\nSubject: 4500 tweet 5816\nSubject: 4500 tweet 5453\nSubject: 4500 tweet 1422\nSubject: 4500 tweet 12452\nSubject: 4500 tweet 7541\n"
     ]
    },
    {
     "name": "stdout",
     "output_type": "stream",
     "text": [
      "Subject: 4500 tweet 4365\nSubject: 4502 tweet 9473\nSubject: 4502 tweet 9020\nSubject: 4502 tweet 1933\n"
     ]
    },
    {
     "name": "stdout",
     "output_type": "stream",
     "text": [
      "Subject: 4502 tweet 3841\nSubject: 4502 tweet 37\nSubject: 4502 tweet 8768\nSubject: 4502 tweet 3426\nSubject: 4502 tweet 9929\n"
     ]
    },
    {
     "name": "stdout",
     "output_type": "stream",
     "text": [
      "Subject: 4503 tweet 4137\nSubject: 4503 tweet 1879\nSubject: 4503 tweet 3441\nSubject: 4503 tweet 44\nSubject: 4503 tweet 3407\n"
     ]
    },
    {
     "name": "stdout",
     "output_type": "stream",
     "text": [
      "Subject: 4503 tweet 5313\nSubject: 4503 tweet 271\nSubject: 4503 tweet 5293\nSubject: 4503 tweet 7838\nSubject: 4503 tweet 2107\n"
     ]
    },
    {
     "name": "stdout",
     "output_type": "stream",
     "text": [
      "Subject: 4504 tweet 3651\nSubject: 4504 tweet 12006\nSubject: 4504 tweet 3622\nSubject: 4504 tweet 11351\nSubject: 4504 tweet 2254\nSubject: 4504 tweet 11859\n"
     ]
    },
    {
     "name": "stdout",
     "output_type": "stream",
     "text": [
      "Subject: 4504 tweet 2197\nSubject: 4504 tweet 4647\nSubject: 4504 tweet 8745\nSubject: 4504 tweet 7375\nSubject: 4507 tweet 10408\n"
     ]
    },
    {
     "name": "stdout",
     "output_type": "stream",
     "text": [
      "Subject: 4507 tweet 2776\nSubject: 4507 tweet 6245\nSubject: 4507 tweet 6421\nSubject: 4507 tweet 1537\nSubject: 4507 tweet 8917\n"
     ]
    },
    {
     "name": "stdout",
     "output_type": "stream",
     "text": [
      "Subject: 4507 tweet 1244\nSubject: 4507 tweet 8826\nSubject: 4507 tweet 3034\nSubject: 4507 tweet 4271\nSubject: 4508 tweet 2328\n"
     ]
    },
    {
     "name": "stdout",
     "output_type": "stream",
     "text": [
      "Subject: 4508 tweet 8048\nSubject: 4508 tweet 300\nSubject: 4508 tweet 1895\nSubject: 4508 tweet 3895\nSubject: 4508 tweet 3627\nSubject: 4508 tweet 2915\n"
     ]
    },
    {
     "name": "stdout",
     "output_type": "stream",
     "text": [
      "Subject: 4508 tweet 10758\nSubject: 4508 tweet 1036\nSubject: 4508 tweet 7870\nSubject: 4509 tweet 2827\nSubject: 4509 tweet 7408\n"
     ]
    },
    {
     "name": "stdout",
     "output_type": "stream",
     "text": [
      "Subject: 4509 tweet 6999\nSubject: 4509 tweet 7520\nSubject: 4509 tweet 12352\nSubject: 4509 tweet 10561\nSubject: 4509 tweet 7597\n"
     ]
    },
    {
     "name": "stdout",
     "output_type": "stream",
     "text": [
      "Subject: 4509 tweet 2718\nSubject: 4509 tweet 1213\nSubject: 4509 tweet 12582\nSubject: 4512 tweet 11673\nSubject: 4512 tweet 11319\n"
     ]
    },
    {
     "name": "stdout",
     "output_type": "stream",
     "text": [
      "Subject: 4512 tweet 11906\nSubject: 4512 tweet 11834\nSubject: 4512 tweet 11211\nSubject: 4512 tweet 7896\nSubject: 4512 tweet 6633\nSubject: 4512 tweet 6987\n"
     ]
    },
    {
     "name": "stdout",
     "output_type": "stream",
     "text": [
      "Subject: 4512 tweet 11478\nSubject: 4512 tweet 11181\nSubject: 4514 tweet 9939\nSubject: 4514 tweet 5929\nSubject: 4514 tweet 8089\n"
     ]
    },
    {
     "name": "stdout",
     "output_type": "stream",
     "text": [
      "Subject: 4514 tweet 5499\nSubject: 4514 tweet 8027\nSubject: 4514 tweet 10839\nSubject: 4514 tweet 133\nSubject: 4514 tweet 6971\n"
     ]
    },
    {
     "name": "stdout",
     "output_type": "stream",
     "text": [
      "Subject: 4514 tweet 7713\nSubject: 4514 tweet 6629\nSubject: 4521 tweet 6379\nSubject: 4521 tweet 1725\n"
     ]
    },
    {
     "name": "stdout",
     "output_type": "stream",
     "text": [
      "Subject: 4521 tweet 4339\nSubject: 4521 tweet 9974\nSubject: 4521 tweet 10539\nSubject: 4521 tweet 10303\nSubject: 4521 tweet 7069\nSubject: 4521 tweet 4917\n"
     ]
    },
    {
     "name": "stdout",
     "output_type": "stream",
     "text": [
      "Subject: 4521 tweet 12558\nSubject: 4521 tweet 25\nSubject: 4522 tweet 4130\nSubject: 4522 tweet 6645\nSubject: 4522 tweet 10952\n"
     ]
    },
    {
     "name": "stdout",
     "output_type": "stream",
     "text": [
      "Subject: 4522 tweet 12437\nSubject: 4522 tweet 2842\nSubject: 4522 tweet 11038\nSubject: 4522 tweet 10996\nSubject: 4522 tweet 11021\n"
     ]
    },
    {
     "name": "stdout",
     "output_type": "stream",
     "text": [
      "Subject: 4522 tweet 10977\nSubject: 4522 tweet 6166\nSubject: 4523 tweet 10674\nSubject: 4523 tweet 9325\nSubject: 4523 tweet 3267\n"
     ]
    },
    {
     "name": "stdout",
     "output_type": "stream",
     "text": [
      "Subject: 4523 tweet 9797\nSubject: 4523 tweet 4766\nSubject: 4523 tweet 10751\nSubject: 4523 tweet 12383\nSubject: 4523 tweet 10676\nSubject: 4523 tweet 1824\n"
     ]
    },
    {
     "name": "stdout",
     "output_type": "stream",
     "text": [
      "Subject: 4523 tweet 3277\nSubject: 4524 tweet 6432\nSubject: 4524 tweet 6553\nSubject: 4524 tweet 6387\nSubject: 4524 tweet 5641\n"
     ]
    },
    {
     "name": "stdout",
     "output_type": "stream",
     "text": [
      "Subject: 4524 tweet 5848\nSubject: 4524 tweet 5851\nSubject: 4524 tweet 6386\nSubject: 4524 tweet 10225\nSubject: 4524 tweet 5739\nSubject: 4524 tweet 10231\n"
     ]
    },
    {
     "name": "stdout",
     "output_type": "stream",
     "text": [
      "Subject: 4530 tweet 6973\nSubject: 4530 tweet 4150\nSubject: 4530 tweet 4525\n"
     ]
    },
    {
     "name": "stdout",
     "output_type": "stream",
     "text": [
      "Subject: 4530 tweet 2994\nSubject: 4530 tweet 10818\nSubject: 4530 tweet 6348\nSubject: 4530 tweet 5835\nSubject: 4530 tweet 4166\n"
     ]
    },
    {
     "name": "stdout",
     "output_type": "stream",
     "text": [
      "Subject: 4530 tweet 9489\nSubject: 4531 tweet 3475\nSubject: 4531 tweet 5163\nSubject: 4531 tweet 7704\nSubject: 4531 tweet 9043\n"
     ]
    },
    {
     "name": "stdout",
     "output_type": "stream",
     "text": [
      "Subject: 4531 tweet 8473\nSubject: 4531 tweet 8205\nSubject: 4531 tweet 6931\nSubject: 4531 tweet 5459\nSubject: 4531 tweet 5057\n"
     ]
    },
    {
     "name": "stdout",
     "output_type": "stream",
     "text": [
      "Subject: 4531 tweet 8596\nSubject: 4533 tweet 9981\nSubject: 4533 tweet 9741\nSubject: 4533 tweet 6728\nSubject: 4533 tweet 7407\n"
     ]
    },
    {
     "name": "stdout",
     "output_type": "stream",
     "text": [
      "Subject: 4533 tweet 9903\nSubject: 4533 tweet 6712\nSubject: 4533 tweet 9426\nSubject: 4533 tweet 9806\nSubject: 4533 tweet 7264\nSubject: 4533 tweet 9592\n"
     ]
    },
    {
     "name": "stdout",
     "output_type": "stream",
     "text": [
      "Subject: 4535 tweet 1691\nSubject: 4535 tweet 1549\nSubject: 4535 tweet 6819\nSubject: 4535 tweet 2941\n"
     ]
    },
    {
     "name": "stdout",
     "output_type": "stream",
     "text": [
      "Subject: 4535 tweet 8769\nSubject: 4535 tweet 6421\n"
     ]
    },
    {
     "name": "stdout",
     "output_type": "stream",
     "text": [
      "Subject: 4536 tweet 3709\nSubject: 4536 tweet 4268\nSubject: 4536 tweet 3710\nSubject: 4536 tweet 3788\nSubject: 4536 tweet 4679\nSubject: 4536 tweet 4273\n"
     ]
    },
    {
     "name": "stdout",
     "output_type": "stream",
     "text": [
      "Subject: 4536 tweet 4274\nSubject: 4536 tweet 4289\nSubject: 4536 tweet 7437\nSubject: 4536 tweet 5219\nSubject: 4537 tweet 2249\n"
     ]
    },
    {
     "name": "stdout",
     "output_type": "stream",
     "text": [
      "Subject: 4537 tweet 12004\nSubject: 4537 tweet 11998\nSubject: 4537 tweet 3979\nSubject: 4537 tweet 11483\nSubject: 4537 tweet 12139\nSubject: 4537 tweet 8063\n"
     ]
    },
    {
     "name": "stdout",
     "output_type": "stream",
     "text": [
      "Subject: 4537 tweet 7804\nSubject: 4537 tweet 12286\nSubject: 4537 tweet 11718\nSubject: 4538 tweet 8152\nSubject: 4538 tweet 9753\n"
     ]
    },
    {
     "name": "stdout",
     "output_type": "stream",
     "text": [
      "Subject: 4538 tweet 12607\nSubject: 4538 tweet 12560\nSubject: 4538 tweet 4871\nSubject: 4538 tweet 8669\nSubject: 4538 tweet 4833\nSubject: 4538 tweet 9578\n"
     ]
    },
    {
     "name": "stdout",
     "output_type": "stream",
     "text": [
      "Subject: 4538 tweet 5444\nSubject: 4538 tweet 170\nSubject: 4539 tweet 6648\nSubject: 4539 tweet 11245\nSubject: 4539 tweet 3959\n"
     ]
    },
    {
     "name": "stdout",
     "output_type": "stream",
     "text": [
      "Subject: 4539 tweet 12206\nSubject: 4539 tweet 7344\nSubject: 4539 tweet 11137\nSubject: 4539 tweet 11269\nSubject: 4539 tweet 11516\nSubject: 4539 tweet 1493\n"
     ]
    },
    {
     "name": "stdout",
     "output_type": "stream",
     "text": [
      "Subject: 4539 tweet 11193\nSubject: 4540 tweet 7996\nSubject: 4540 tweet 7963\nSubject: 4540 tweet 8246\nSubject: 4540 tweet 2766\n"
     ]
    },
    {
     "name": "stdout",
     "output_type": "stream",
     "text": [
      "Subject: 4540 tweet 1327\nSubject: 4540 tweet 8161\nSubject: 4540 tweet 8270\nSubject: 4540 tweet 6360\nSubject: 4540 tweet 8492\n"
     ]
    },
    {
     "name": "stdout",
     "output_type": "stream",
     "text": [
      "Subject: 4540 tweet 12033\nSubject: 4541 tweet 5311\nSubject: 4541 tweet 3812\nSubject: 4541 tweet 7676\nSubject: 4541 tweet 1017\n"
     ]
    },
    {
     "name": "stdout",
     "output_type": "stream",
     "text": [
      "Subject: 4541 tweet 4053\nSubject: 4541 tweet 12110\nSubject: 4541 tweet 10190\nSubject: 4541 tweet 2027\nSubject: 4541 tweet 10594\n"
     ]
    },
    {
     "name": "stdout",
     "output_type": "stream",
     "text": [
      "Subject: 4542 tweet 7912\nSubject: 4542 tweet 6624\nSubject: 4542 tweet 8918\nSubject: 4542 tweet 9437\nSubject: 4542 tweet 9687\nSubject: 4542 tweet 9111\n"
     ]
    },
    {
     "name": "stdout",
     "output_type": "stream",
     "text": [
      "Subject: 4542 tweet 5548\nSubject: 4542 tweet 9558\nSubject: 4542 tweet 2610\nSubject: 4542 tweet 2675\nSubject: 4544 tweet 1584\n"
     ]
    },
    {
     "name": "stdout",
     "output_type": "stream",
     "text": [
      "Subject: 4544 tweet 11250\nSubject: 4544 tweet 11124\nSubject: 4544 tweet 1437\nSubject: 4544 tweet 6846\n"
     ]
    },
    {
     "name": "stdout",
     "output_type": "stream",
     "text": [
      "Subject: 4544 tweet 11487\n"
     ]
    },
    {
     "name": "stdout",
     "output_type": "stream",
     "text": [
      "Subject: 4544 tweet 11274\nSubject: 4544 tweet 10179\n"
     ]
    },
    {
     "name": "stdout",
     "output_type": "stream",
     "text": [
      "Subject: 4544 tweet 2615\nSubject: 4544 tweet 2915\n"
     ]
    },
    {
     "name": "stdout",
     "output_type": "stream",
     "text": [
      "Subject: 4553 tweet 4011\nSubject: 4553 tweet 10334\nSubject: 4553 tweet 7393\nSubject: 4553 tweet 9027\nSubject: 4553 tweet 2431\n"
     ]
    },
    {
     "name": "stdout",
     "output_type": "stream",
     "text": [
      "Subject: 4553 tweet 4415\nSubject: 4553 tweet 3746\nSubject: 4553 tweet 6852\nSubject: 4553 tweet 2958\nSubject: 4553 tweet 2909\n"
     ]
    },
    {
     "name": "stdout",
     "output_type": "stream",
     "text": [
      "Subject: 4554 tweet 5563\nSubject: 4554 tweet 5258\nSubject: 4554 tweet 5024\nSubject: 4554 tweet 5221\nSubject: 4554 tweet 5259\nSubject: 4554 tweet 3365\n"
     ]
    },
    {
     "name": "stdout",
     "output_type": "stream",
     "text": [
      "Subject: 4554 tweet 12328\nSubject: 4554 tweet 5423\nSubject: 4554 tweet 9190\nSubject: 4554 tweet 9651\nSubject: 4555 tweet 3192\n"
     ]
    },
    {
     "name": "stdout",
     "output_type": "stream",
     "text": [
      "Subject: 4555 tweet 6872\nSubject: 4555 tweet 3042\nSubject: 4555 tweet 2800\nSubject: 4555 tweet 4568\nSubject: 4555 tweet 3384\nSubject: 4555 tweet 3065\n"
     ]
    },
    {
     "name": "stdout",
     "output_type": "stream",
     "text": [
      "Subject: 4555 tweet 2917\nSubject: 4555 tweet 2957\nSubject: 4555 tweet 2940\nSubject: 4556 tweet 6039\nSubject: 4556 tweet 6718\n"
     ]
    },
    {
     "name": "stdout",
     "output_type": "stream",
     "text": [
      "Subject: 4556 tweet 6042\nSubject: 4556 tweet 5379\nSubject: 4556 tweet 1347\nSubject: 4556 tweet 9236\nSubject: 4556 tweet 5803\n"
     ]
    },
    {
     "name": "stdout",
     "output_type": "stream",
     "text": [
      "Subject: 4556 tweet 5505\nSubject: 4556 tweet 7873\nSubject: 4556 tweet 10831\nSubject: 4557 tweet 10813\nSubject: 4557 tweet 10469\n"
     ]
    },
    {
     "name": "stdout",
     "output_type": "stream",
     "text": [
      "Subject: 4557 tweet 1790\nSubject: 4557 tweet 9124\nSubject: 4557 tweet 1904\nSubject: 4557 tweet 194\nSubject: 4557 tweet 7808\nSubject: 4557 tweet 2545\n"
     ]
    },
    {
     "name": "stdout",
     "output_type": "stream",
     "text": [
      "Subject: 4557 tweet 12363\nSubject: 4557 tweet 379\nSubject: 4558 tweet 10159\n"
     ]
    },
    {
     "name": "stdout",
     "output_type": "stream",
     "text": [
      "Subject: 4558 tweet 9155\nSubject: 4558 tweet 310\nSubject: 4558 tweet 3397\nSubject: 4558 tweet 10328\nSubject: 4558 tweet 10599\nSubject: 4558 tweet 10600\n"
     ]
    },
    {
     "name": "stdout",
     "output_type": "stream",
     "text": [
      "Subject: 4558 tweet 2937\nSubject: 4558 tweet 4670\nSubject: 4558 tweet 10355\nSubject: 4559 tweet 11115\nSubject: 4559 tweet 10966\n"
     ]
    },
    {
     "name": "stdout",
     "output_type": "stream",
     "text": [
      "Subject: 4559 tweet 10974\nSubject: 4559 tweet 11060\nSubject: 4559 tweet 11061\nSubject: 4559 tweet 10995\nSubject: 4559 tweet 11110\nSubject: 4559 tweet 11089\n"
     ]
    },
    {
     "name": "stdout",
     "output_type": "stream",
     "text": [
      "Subject: 4559 tweet 11111\nSubject: 4559 tweet 11121\nSubject: 4564 tweet 12566\nSubject: 4564 tweet 9230\nSubject: 4564 tweet 9310\n"
     ]
    },
    {
     "name": "stdout",
     "output_type": "stream",
     "text": [
      "Subject: 4564 tweet 3180\nSubject: 4564 tweet 9251\nSubject: 4564 tweet 4110\nSubject: 4564 tweet 5642\nSubject: 4564 tweet 972\n"
     ]
    },
    {
     "name": "stdout",
     "output_type": "stream",
     "text": [
      "Subject: 4564 tweet 9243\nSubject: 4564 tweet 12619\nSubject: 4565 tweet 11544\nSubject: 4565 tweet 11613\n"
     ]
    },
    {
     "name": "stdout",
     "output_type": "stream",
     "text": [
      "Subject: 4565 tweet 5648\nSubject: 4565 tweet 631\nSubject: 4565 tweet 6117\nSubject: 4565 tweet 763\nSubject: 4565 tweet 2443\n"
     ]
    },
    {
     "name": "stdout",
     "output_type": "stream",
     "text": [
      "Subject: 4565 tweet 638\nSubject: 4565 tweet 11502\nSubject: 4565 tweet 11603\nSubject: 4567 tweet 10234\n"
     ]
    },
    {
     "name": "stdout",
     "output_type": "stream",
     "text": [
      "Subject: 4567 tweet 4676\nSubject: 4567 tweet 6611\nSubject: 4567 tweet 10376\nSubject: 4567 tweet 10075\nSubject: 4567 tweet 9147\n"
     ]
    },
    {
     "name": "stdout",
     "output_type": "stream",
     "text": [
      "Subject: 4567 tweet 10074\nSubject: 4567 tweet 9148\nSubject: 4567 tweet 10077\nSubject: 4567 tweet 9743\nSubject: 4572 tweet 2959\n"
     ]
    },
    {
     "name": "stdout",
     "output_type": "stream",
     "text": [
      "Subject: 4572 tweet 7075\nSubject: 4572 tweet 1234\nSubject: 4572 tweet 3250\nSubject: 4572 tweet 4757\nSubject: 4572 tweet 6845\nSubject: 4572 tweet 11719\n"
     ]
    },
    {
     "name": "stdout",
     "output_type": "stream",
     "text": [
      "Subject: 4572 tweet 707\nSubject: 4572 tweet 5072\nSubject: 4572 tweet 1196\nSubject: 4574 tweet 8969\nSubject: 4574 tweet 9838\n"
     ]
    },
    {
     "name": "stdout",
     "output_type": "stream",
     "text": [
      "Subject: 4574 tweet 10644\nSubject: 4574 tweet 10079\nSubject: 4574 tweet 10078\nSubject: 4574 tweet 10061\nSubject: 4574 tweet 9354\nSubject: 4574 tweet 10195\n"
     ]
    },
    {
     "name": "stdout",
     "output_type": "stream",
     "text": [
      "Subject: 4574 tweet 10098\nSubject: 4574 tweet 10740\nSubject: 4578 tweet 736\nSubject: 4578 tweet 738\nSubject: 4578 tweet 6885\n"
     ]
    },
    {
     "name": "stdout",
     "output_type": "stream",
     "text": [
      "Subject: 4578 tweet 10802\nSubject: 4578 tweet 6886\nSubject: 4578 tweet 7824\nSubject: 4578 tweet 2632\nSubject: 4578 tweet 8550\nSubject: 4578 tweet 4225\n"
     ]
    },
    {
     "name": "stdout",
     "output_type": "stream",
     "text": [
      "Subject: 4578 tweet 8565\nSubject: 4580 tweet 5059\nSubject: 4580 tweet 12439\nSubject: 4580 tweet 2648\nSubject: 4580 tweet 7294\n"
     ]
    },
    {
     "name": "stdout",
     "output_type": "stream",
     "text": [
      "Subject: 4580 tweet 8468\nSubject: 4580 tweet 5693\nSubject: 4580 tweet 7705\nSubject: 4580 tweet 6192\nSubject: 4580 tweet 2046\n"
     ]
    },
    {
     "name": "stdout",
     "output_type": "stream",
     "text": [
      "Subject: 4580 tweet 9495\nSubject: 4581 tweet 7920\nSubject: 4581 tweet 12216\nSubject: 4581 tweet 418\nSubject: 4581 tweet 11475\n"
     ]
    },
    {
     "name": "stdout",
     "output_type": "stream",
     "text": [
      "Subject: 4581 tweet 4360\nSubject: 4581 tweet 8109\nSubject: 4581 tweet 4750\nSubject: 4581 tweet 242\nSubject: 4581 tweet 71\nSubject: 4581 tweet 11134\n"
     ]
    },
    {
     "name": "stdout",
     "output_type": "stream",
     "text": [
      "Subject: 4583 tweet 12237\nSubject: 4583 tweet 190\nSubject: 4583 tweet 12137\nSubject: 4583 tweet 12146\nSubject: 4583 tweet 12313\nSubject: 4583 tweet 197\n"
     ]
    },
    {
     "name": "stdout",
     "output_type": "stream",
     "text": [
      "Subject: 4583 tweet 12271\nSubject: 4583 tweet 1101\nSubject: 4583 tweet 10580\nSubject: 4583 tweet 2360\nSubject: 4585 tweet 3876\n"
     ]
    },
    {
     "name": "stdout",
     "output_type": "stream",
     "text": [
      "Subject: 4585 tweet 10386\nSubject: 4585 tweet 167\nSubject: 4585 tweet 3113\nSubject: 4585 tweet 12450\nSubject: 4585 tweet 7468\nSubject: 4585 tweet 3443\n"
     ]
    },
    {
     "name": "stdout",
     "output_type": "stream",
     "text": [
      "Subject: 4585 tweet 1189\nSubject: 4585 tweet 1644\nSubject: 4585 tweet 7171\nSubject: 4586 tweet 1496\nSubject: 4586 tweet 5897\n"
     ]
    },
    {
     "name": "stdout",
     "output_type": "stream",
     "text": [
      "Subject: 4586 tweet 6534\nSubject: 4586 tweet 6962\nSubject: 4586 tweet 6439\nSubject: 4586 tweet 1892\nSubject: 4586 tweet 11471\nSubject: 4586 tweet 5442\n"
     ]
    },
    {
     "name": "stdout",
     "output_type": "stream",
     "text": [
      "Subject: 4586 tweet 11470\nSubject: 4586 tweet 5966\nSubject: 4587 tweet 5614\nSubject: 4587 tweet 12517\n"
     ]
    },
    {
     "name": "stdout",
     "output_type": "stream",
     "text": [
      "Subject: 4587 tweet 6440\nSubject: 4587 tweet 10192\nSubject: 4587 tweet 12371\nSubject: 4587 tweet 12127\nSubject: 4587 tweet 12463\n"
     ]
    },
    {
     "name": "stdout",
     "output_type": "stream",
     "text": [
      "Subject: 4587 tweet 3333\nSubject: 4587 tweet 3094\nSubject: 4587 tweet 9708\nSubject: 4588 tweet 12047\nSubject: 4588 tweet 2193\n"
     ]
    },
    {
     "name": "stdout",
     "output_type": "stream",
     "text": [
      "Subject: 4588 tweet 8848\nSubject: 4588 tweet 9822\nSubject: 4588 tweet 7710\nSubject: 4588 tweet 9125\nSubject: 4588 tweet 2851\nSubject: 4588 tweet 12499\n"
     ]
    },
    {
     "name": "stdout",
     "output_type": "stream",
     "text": [
      "Subject: 4588 tweet 3912\nSubject: 4588 tweet 1444\nSubject: 4590 tweet 3105\nSubject: 4590 tweet 5446\nSubject: 4590 tweet 6706\n"
     ]
    },
    {
     "name": "stdout",
     "output_type": "stream",
     "text": [
      "Subject: 4590 tweet 3247\nSubject: 4590 tweet 5141\nSubject: 4593 tweet 3035\nSubject: 4593 tweet 8679\nSubject: 4593 tweet 9229\n"
     ]
    },
    {
     "name": "stdout",
     "output_type": "stream",
     "text": [
      "Subject: 4593 tweet 1462\nSubject: 4593 tweet 1206\nSubject: 4593 tweet 437\nSubject: 4593 tweet 2451\nSubject: 4593 tweet 2222\nSubject: 4593 tweet 7658\n"
     ]
    },
    {
     "name": "stdout",
     "output_type": "stream",
     "text": [
      "Subject: 4593 tweet 5143\nSubject: 4594 tweet 3852\nSubject: 4594 tweet 3067\nSubject: 4594 tweet 2063\nSubject: 4594 tweet 3828\n"
     ]
    },
    {
     "name": "stdout",
     "output_type": "stream",
     "text": [
      "Subject: 4594 tweet 2651\nSubject: 4594 tweet 3934\nSubject: 4594 tweet 3935\nSubject: 4594 tweet 1826\nSubject: 4594 tweet 4002\n"
     ]
    },
    {
     "name": "stdout",
     "output_type": "stream",
     "text": [
      "Subject: 4594 tweet 4073\nSubject: 4595 tweet 186\nSubject: 4595 tweet 3495\n"
     ]
    },
    {
     "name": "stdout",
     "output_type": "stream",
     "text": [
      "Subject: 4595 tweet 187\nSubject: 4595 tweet 2401\nSubject: 4595 tweet 7654\nSubject: 4595 tweet 7817\n"
     ]
    },
    {
     "name": "stdout",
     "output_type": "stream",
     "text": [
      "Subject: 4596 tweet 6209\nSubject: 4596 tweet 4043\nSubject: 4596 tweet 7224\nSubject: 4596 tweet 5430\n"
     ]
    },
    {
     "name": "stdout",
     "output_type": "stream",
     "text": [
      "Subject: 4596 tweet 8801\nSubject: 4596 tweet 4638\nSubject: 4596 tweet 3287\nSubject: 4596 tweet 9647\nSubject: 4596 tweet 6563\nSubject: 4596 tweet 1161\n"
     ]
    },
    {
     "name": "stdout",
     "output_type": "stream",
     "text": [
      "Subject: 4597 tweet 7640\nSubject: 4597 tweet 1706\nSubject: 4597 tweet 12487\nSubject: 4597 tweet 10893\nSubject: 4597 tweet 1861\nSubject: 4597 tweet 2265\n"
     ]
    },
    {
     "name": "stdout",
     "output_type": "stream",
     "text": [
      "Subject: 4597 tweet 7636\nSubject: 4597 tweet 7508\nSubject: 4597 tweet 7351\nSubject: 4597 tweet 6980\nSubject: 4599 tweet 3172\n"
     ]
    },
    {
     "name": "stdout",
     "output_type": "stream",
     "text": [
      "Subject: 4599 tweet 8859\nSubject: 4599 tweet 1069\nSubject: 4599 tweet 10608\nSubject: 4599 tweet 799\n"
     ]
    },
    {
     "name": "stdout",
     "output_type": "stream",
     "text": [
      "Subject: 4599 tweet 8475\nSubject: 4599 tweet 305\nSubject: 4600 tweet 831\n"
     ]
    },
    {
     "name": "stdout",
     "output_type": "stream",
     "text": [
      "Subject: 4600 tweet 7201\nSubject: 4600 tweet 1704\nSubject: 4600 tweet 8672\nSubject: 4600 tweet 3691\nSubject: 4600 tweet 6816\nSubject: 4600 tweet 9925\n"
     ]
    },
    {
     "name": "stdout",
     "output_type": "stream",
     "text": [
      "Subject: 4600 tweet 6870\nSubject: 4600 tweet 7560\nSubject: 4600 tweet 10232\nSubject: 4601 tweet 2037\nSubject: 4601 tweet 9000\n"
     ]
    },
    {
     "name": "stdout",
     "output_type": "stream",
     "text": [
      "Subject: 4601 tweet 11078\nSubject: 4601 tweet 2039\nSubject: 4601 tweet 7484\nSubject: 4601 tweet 10828\nSubject: 4601 tweet 7159\n"
     ]
    },
    {
     "name": "stdout",
     "output_type": "stream",
     "text": [
      "Subject: 4601 tweet 1255\nSubject: 4601 tweet 791\nSubject: 4601 tweet 11013\nSubject: 4604 tweet 6027\nSubject: 4604 tweet 6591\n"
     ]
    },
    {
     "name": "stdout",
     "output_type": "stream",
     "text": [
      "Subject: 4604 tweet 7756\nSubject: 4604 tweet 1963\nSubject: 4604 tweet 7747\nSubject: 4604 tweet 5569\nSubject: 4604 tweet 5826\n"
     ]
    },
    {
     "name": "stdout",
     "output_type": "stream",
     "text": [
      "Subject: 4604 tweet 2790\nSubject: 4604 tweet 2515\nSubject: 4604 tweet 6481\nSubject: 4606 tweet 6286\nSubject: 4606 tweet 12508\n"
     ]
    },
    {
     "name": "stdout",
     "output_type": "stream",
     "text": [
      "Subject: 4606 tweet 1280\nSubject: 4606 tweet 1430\nSubject: 4606 tweet 2417\nSubject: 4606 tweet 1294\nSubject: 4606 tweet 10876\nSubject: 4606 tweet 1300\n"
     ]
    },
    {
     "name": "stdout",
     "output_type": "stream",
     "text": [
      "Subject: 4606 tweet 1247\nSubject: 4606 tweet 2918\nSubject: 4607 tweet 10443\nSubject: 4607 tweet 10456\nSubject: 4607 tweet 10606\n"
     ]
    },
    {
     "name": "stdout",
     "output_type": "stream",
     "text": [
      "Subject: 4607 tweet 6658\nSubject: 4607 tweet 8914\nSubject: 4607 tweet 8785\nSubject: 4607 tweet 9702\nSubject: 4607 tweet 10766\nSubject: 4607 tweet 7008\n"
     ]
    },
    {
     "name": "stdout",
     "output_type": "stream",
     "text": [
      "Subject: 4607 tweet 7200\nSubject: 4610 tweet 442\nSubject: 4610 tweet 3540\nSubject: 4610 tweet 10397\nSubject: 4610 tweet 11838\n"
     ]
    },
    {
     "name": "stdout",
     "output_type": "stream",
     "text": [
      "Subject: 4610 tweet 9825\nSubject: 4610 tweet 9479\nSubject: 4610 tweet 9938\nSubject: 4610 tweet 11976\nSubject: 4610 tweet 4613\n"
     ]
    },
    {
     "name": "stdout",
     "output_type": "stream",
     "text": [
      "Subject: 4610 tweet 3327\nSubject: 4611 tweet 9744\nSubject: 4611 tweet 2661\nSubject: 4611 tweet 4909\nSubject: 4611 tweet 3305\n"
     ]
    },
    {
     "name": "stdout",
     "output_type": "stream",
     "text": [
      "Subject: 4611 tweet 5283\nSubject: 4611 tweet 9895\nSubject: 4611 tweet 2580\nSubject: 4611 tweet 4\nSubject: 4611 tweet 9935\n"
     ]
    },
    {
     "name": "stdout",
     "output_type": "stream",
     "text": [
      "Subject: 4611 tweet 1285\nSubject: 4612 tweet 4810\nSubject: 4612 tweet 10295\nSubject: 4612 tweet 488\nSubject: 4612 tweet 487\n"
     ]
    },
    {
     "name": "stdout",
     "output_type": "stream",
     "text": [
      "Subject: 4612 tweet 2558\nSubject: 4612 tweet 8433\nSubject: 4612 tweet 9640\nSubject: 4612 tweet 10039\nSubject: 4612 tweet 12017\nSubject: 4612 tweet 11956\n"
     ]
    },
    {
     "name": "stdout",
     "output_type": "stream",
     "text": [
      "Subject: 4613 tweet 4576\nSubject: 4613 tweet 10482\nSubject: 4613 tweet 2410\nSubject: 4613 tweet 10467\nSubject: 4613 tweet 9005\n"
     ]
    },
    {
     "name": "stdout",
     "output_type": "stream",
     "text": [
      "Subject: 4613 tweet 1610\nSubject: 4613 tweet 1500\nSubject: 4613 tweet 773\nSubject: 4613 tweet 1058\nSubject: 4613 tweet 9085\n"
     ]
    },
    {
     "name": "stdout",
     "output_type": "stream",
     "text": [
      "Subject: 4615 tweet 2669\nSubject: 4615 tweet 1912\nSubject: 4615 tweet 8642\nSubject: 4615 tweet 324\nSubject: 4615 tweet 4919\nSubject: 4615 tweet 9180\n"
     ]
    },
    {
     "name": "stdout",
     "output_type": "stream",
     "text": [
      "Subject: 4615 tweet 12227\nSubject: 4615 tweet 4522\nSubject: 4615 tweet 2434\nSubject: 4615 tweet 12458\nSubject: 4616 tweet 3382\n"
     ]
    },
    {
     "name": "stdout",
     "output_type": "stream",
     "text": [
      "Subject: 4616 tweet 8917\nSubject: 4616 tweet 1244\nSubject: 4616 tweet 4546\nSubject: 4616 tweet 4272\nSubject: 4616 tweet 6562\nSubject: 4616 tweet 10104\n"
     ]
    },
    {
     "name": "stdout",
     "output_type": "stream",
     "text": [
      "Subject: 4616 tweet 6921\nSubject: 4616 tweet 10920\n"
     ]
    },
    {
     "name": "stdout",
     "output_type": "stream",
     "text": [
      "Subject: 4616 tweet 7374\nSubject: 4622 tweet 8478\n"
     ]
    },
    {
     "name": "stdout",
     "output_type": "stream",
     "text": [
      "Subject: 4622 tweet 6044\nSubject: 4622 tweet 9083\nSubject: 4622 tweet 1678\nSubject: 4622 tweet 6471\nSubject: 4622 tweet 885\nSubject: 4622 tweet 6394\n"
     ]
    },
    {
     "name": "stdout",
     "output_type": "stream",
     "text": [
      "Subject: 4622 tweet 9084\nSubject: 4622 tweet 11987\nSubject: 4622 tweet 6571\nSubject: 4624 tweet 12443\nSubject: 4624 tweet 8620\n"
     ]
    },
    {
     "name": "stdout",
     "output_type": "stream",
     "text": [
      "Subject: 4624 tweet 3794\nSubject: 4624 tweet 2233\nSubject: 4624 tweet 2588\nSubject: 4624 tweet 9993\nSubject: 4624 tweet 807\n"
     ]
    },
    {
     "name": "stdout",
     "output_type": "stream",
     "text": [
      "Subject: 4624 tweet 7249\nSubject: 4624 tweet 1199\nSubject: 4624 tweet 239\nSubject: 4625 tweet 7162\nSubject: 4625 tweet 1743\n"
     ]
    },
    {
     "name": "stdout",
     "output_type": "stream",
     "text": [
      "Subject: 4625 tweet 3\nSubject: 4625 tweet 1384\nSubject: 4625 tweet 156\nSubject: 4625 tweet 198\nSubject: 4625 tweet 8977\nSubject: 4625 tweet 2243\n"
     ]
    },
    {
     "name": "stdout",
     "output_type": "stream",
     "text": [
      "Subject: 4625 tweet 9452\nSubject: 4625 tweet 8891\nSubject: 4626 tweet 8618\nSubject: 4626 tweet 3202\n"
     ]
    },
    {
     "name": "stdout",
     "output_type": "stream",
     "text": [
      "Subject: 4626 tweet 9926\nSubject: 4626 tweet 9034\nSubject: 4626 tweet 1534\nSubject: 4626 tweet 9721\nSubject: 4626 tweet 9814\n"
     ]
    },
    {
     "name": "stdout",
     "output_type": "stream",
     "text": [
      "Subject: 4626 tweet 10532\nSubject: 4626 tweet 4429\nSubject: 4626 tweet 10131\nSubject: 4627 tweet 7431\nSubject: 4627 tweet 4195\n"
     ]
    },
    {
     "name": "stdout",
     "output_type": "stream",
     "text": [
      "Subject: 4627 tweet 12320\nSubject: 4627 tweet 7295\nSubject: 4627 tweet 4196\nSubject: 4627 tweet 10284\nSubject: 4627 tweet 7296\nSubject: 4627 tweet 8236\n"
     ]
    },
    {
     "name": "stdout",
     "output_type": "stream",
     "text": [
      "Subject: 4627 tweet 1812\nSubject: 4627 tweet 9727\nSubject: 4628 tweet 7\nSubject: 4628 tweet 10203\nSubject: 4628 tweet 9897\n"
     ]
    },
    {
     "name": "stdout",
     "output_type": "stream",
     "text": [
      "Subject: 4628 tweet 10122\nSubject: 4628 tweet 10710\nSubject: 4628 tweet 1949\nSubject: 4628 tweet 10242\nSubject: 4628 tweet 1403\nSubject: 4628 tweet 10267\n"
     ]
    },
    {
     "name": "stdout",
     "output_type": "stream",
     "text": [
      "Subject: 4628 tweet 9789\nSubject: 4629 tweet 9828\nSubject: 4629 tweet 454\nSubject: 4629 tweet 4344\nSubject: 4629 tweet 4411\n"
     ]
    },
    {
     "name": "stdout",
     "output_type": "stream",
     "text": [
      "Subject: 4629 tweet 1857\nSubject: 4629 tweet 7087\nSubject: 4629 tweet 5448\nSubject: 4629 tweet 8829\nSubject: 4629 tweet 8856\nSubject: 4629 tweet 9082\n"
     ]
    },
    {
     "name": "stdout",
     "output_type": "stream",
     "text": [
      "Subject: 4630 tweet 10255\nSubject: 4630 tweet 10277\nSubject: 4630 tweet 4337\nSubject: 4630 tweet 3666\nSubject: 4630 tweet 10300\n"
     ]
    },
    {
     "name": "stdout",
     "output_type": "stream",
     "text": [
      "Subject: 4630 tweet 8949\nSubject: 4630 tweet 9920\nSubject: 4630 tweet 9975\nSubject: 4630 tweet 8989\nSubject: 4630 tweet 8986\n"
     ]
    },
    {
     "name": "stdout",
     "output_type": "stream",
     "text": [
      "Subject: 4634 tweet 10105\nSubject: 4634 tweet 7379\nSubject: 4634 tweet 8082\nSubject: 4634 tweet 1734\nSubject: 4634 tweet 5854\n"
     ]
    },
    {
     "name": "stdout",
     "output_type": "stream",
     "text": [
      "Subject: 4635 tweet 6458\nSubject: 4635 tweet 6456\nSubject: 4635 tweet 2284\nSubject: 4635 tweet 7125\nSubject: 4635 tweet 6748\nSubject: 4635 tweet 6277\n"
     ]
    },
    {
     "name": "stdout",
     "output_type": "stream",
     "text": [
      "Subject: 4635 tweet 6281\nSubject: 4635 tweet 6436\nSubject: 4635 tweet 7678\nSubject: 4635 tweet 7243\n"
     ]
    },
    {
     "name": "stdout",
     "output_type": "stream",
     "text": [
      "Subject: 4636 tweet 4576\nSubject: 4636 tweet 10482\nSubject: 4636 tweet 2410\nSubject: 4636 tweet 10467\nSubject: 4636 tweet 9005\nSubject: 4636 tweet 1610\n"
     ]
    },
    {
     "name": "stdout",
     "output_type": "stream",
     "text": [
      "Subject: 4636 tweet 1500\nSubject: 4636 tweet 773\nSubject: 4636 tweet 1058\nSubject: 4636 tweet 9085\nSubject: 4637 tweet 4576\n"
     ]
    },
    {
     "name": "stdout",
     "output_type": "stream",
     "text": [
      "Subject: 4637 tweet 10482\nSubject: 4637 tweet 2410\nSubject: 4637 tweet 10467\nSubject: 4637 tweet 9005\nSubject: 4637 tweet 1610\nSubject: 4637 tweet 1500\n"
     ]
    },
    {
     "name": "stdout",
     "output_type": "stream",
     "text": [
      "Subject: 4637 tweet 773\nSubject: 4637 tweet 1058\nSubject: 4637 tweet 9085\nSubject: 4640 tweet 2669\nSubject: 4640 tweet 1912\n"
     ]
    },
    {
     "name": "stdout",
     "output_type": "stream",
     "text": [
      "Subject: 4640 tweet 8642\nSubject: 4640 tweet 324\nSubject: 4640 tweet 4919\nSubject: 4640 tweet 9180\nSubject: 4640 tweet 12227\nSubject: 4640 tweet 4522\n"
     ]
    },
    {
     "name": "stdout",
     "output_type": "stream",
     "text": [
      "Subject: 4640 tweet 2434\nSubject: 4640 tweet 12458\nSubject: 4641 tweet 2669\nSubject: 4641 tweet 1912\nSubject: 4641 tweet 8642\n"
     ]
    },
    {
     "name": "stdout",
     "output_type": "stream",
     "text": [
      "Subject: 4641 tweet 324\nSubject: 4641 tweet 4919\nSubject: 4641 tweet 9180\nSubject: 4641 tweet 12227\nSubject: 4641 tweet 4522\n"
     ]
    },
    {
     "name": "stdout",
     "output_type": "stream",
     "text": [
      "Subject: 4641 tweet 2434\nSubject: 4641 tweet 12458\nSubject: 4642 tweet 3382\nSubject: 4642 tweet 8917\nSubject: 4642 tweet 1244\n"
     ]
    },
    {
     "name": "stdout",
     "output_type": "stream",
     "text": [
      "Subject: 4642 tweet 4546\nSubject: 4642 tweet 4272\nSubject: 4642 tweet 6562\nSubject: 4642 tweet 10104\nSubject: 4642 tweet 6921\nSubject: 4642 tweet 10920\n"
     ]
    },
    {
     "name": "stdout",
     "output_type": "stream",
     "text": [
      "Subject: 4642 tweet 7374\nSubject: 4643 tweet 3382\nSubject: 4643 tweet 8917\nSubject: 4643 tweet 1244\nSubject: 4643 tweet 4546\n"
     ]
    },
    {
     "name": "stdout",
     "output_type": "stream",
     "text": [
      "Subject: 4643 tweet 4272\nSubject: 4643 tweet 6562\nSubject: 4643 tweet 10104\nSubject: 4643 tweet 6921\nSubject: 4643 tweet 10920\nSubject: 4643 tweet 7374\n"
     ]
    },
    {
     "name": "stdout",
     "output_type": "stream",
     "text": [
      "Subject: 4654 tweet 8478\nSubject: 4654 tweet 6044\nSubject: 4654 tweet 9083\nSubject: 4654 tweet 1678\nSubject: 4654 tweet 6471\nSubject: 4654 tweet 885\n"
     ]
    },
    {
     "name": "stdout",
     "output_type": "stream",
     "text": [
      "Subject: 4654 tweet 6394\nSubject: 4654 tweet 9084\nSubject: 4654 tweet 11987\nSubject: 4654 tweet 6571\nSubject: 4655 tweet 8478\n"
     ]
    },
    {
     "name": "stdout",
     "output_type": "stream",
     "text": [
      "Subject: 4655 tweet 6044\nSubject: 4655 tweet 9083\nSubject: 4655 tweet 1678\nSubject: 4655 tweet 6471\nSubject: 4655 tweet 885\nSubject: 4655 tweet 6394\n"
     ]
    },
    {
     "name": "stdout",
     "output_type": "stream",
     "text": [
      "Subject: 4655 tweet 9084\nSubject: 4655 tweet 11987\nSubject: 4655 tweet 6571\nSubject: 4658 tweet 12443\n"
     ]
    },
    {
     "name": "stdout",
     "output_type": "stream",
     "text": [
      "Subject: 4658 tweet 8620\nSubject: 4658 tweet 3794\nSubject: 4658 tweet 2233\nSubject: 4658 tweet 2588\nSubject: 4658 tweet 9993\nSubject: 4658 tweet 807\n"
     ]
    },
    {
     "name": "stdout",
     "output_type": "stream",
     "text": [
      "Subject: 4658 tweet 7249\nSubject: 4658 tweet 1199\nSubject: 4658 tweet 239\nSubject: 4659 tweet 12443\n"
     ]
    },
    {
     "name": "stdout",
     "output_type": "stream",
     "text": [
      "Subject: 4659 tweet 8620\nSubject: 4659 tweet 3794\nSubject: 4659 tweet 2233\nSubject: 4659 tweet 2588\nSubject: 4659 tweet 9993\n"
     ]
    },
    {
     "name": "stdout",
     "output_type": "stream",
     "text": [
      "Subject: 4659 tweet 807\nSubject: 4659 tweet 7249\nSubject: 4659 tweet 1199\nSubject: 4659 tweet 239\nSubject: 4660 tweet 7162\n"
     ]
    },
    {
     "name": "stdout",
     "output_type": "stream",
     "text": [
      "Subject: 4660 tweet 1743\nSubject: 4660 tweet 3\nSubject: 4660 tweet 1384\nSubject: 4660 tweet 156\nSubject: 4660 tweet 198\nSubject: 4660 tweet 8977\n"
     ]
    },
    {
     "name": "stdout",
     "output_type": "stream",
     "text": [
      "Subject: 4660 tweet 2243\nSubject: 4660 tweet 9452\nSubject: 4660 tweet 8891\n"
     ]
    },
    {
     "name": "stdout",
     "output_type": "stream",
     "text": [
      "Subject: 4661 tweet 7162\nSubject: 4661 tweet 1743\nSubject: 4661 tweet 3\nSubject: 4661 tweet 1384\nSubject: 4661 tweet 156\n"
     ]
    },
    {
     "name": "stdout",
     "output_type": "stream",
     "text": [
      "Subject: 4661 tweet 198\nSubject: 4661 tweet 8977\nSubject: 4661 tweet 2243\nSubject: 4661 tweet 9452\nSubject: 4661 tweet 8891\n"
     ]
    },
    {
     "name": "stdout",
     "output_type": "stream",
     "text": [
      "Subject: 4662 tweet 8618\nSubject: 4662 tweet 3202\nSubject: 4662 tweet 9926\nSubject: 4662 tweet 9034\nSubject: 4662 tweet 1534\nSubject: 4662 tweet 9721\n"
     ]
    },
    {
     "name": "stdout",
     "output_type": "stream",
     "text": [
      "Subject: 4662 tweet 9814\nSubject: 4662 tweet 10532\nSubject: 4662 tweet 4429\nSubject: 4662 tweet 10131\nSubject: 4663 tweet 8618\n"
     ]
    },
    {
     "name": "stdout",
     "output_type": "stream",
     "text": [
      "Subject: 4663 tweet 3202\nSubject: 4663 tweet 9926\nSubject: 4663 tweet 9034\nSubject: 4663 tweet 1534\nSubject: 4663 tweet 9721\nSubject: 4663 tweet 9814\n"
     ]
    },
    {
     "name": "stdout",
     "output_type": "stream",
     "text": [
      "Subject: 4663 tweet 10532\nSubject: 4663 tweet 4429\nSubject: 4663 tweet 10131\nSubject: 4664 tweet 7431\nSubject: 4664 tweet 4195\n"
     ]
    },
    {
     "name": "stdout",
     "output_type": "stream",
     "text": [
      "Subject: 4664 tweet 12320\nSubject: 4664 tweet 7295\nSubject: 4664 tweet 4196\nSubject: 4664 tweet 10284\nSubject: 4664 tweet 7296\nSubject: 4664 tweet 8236\n"
     ]
    },
    {
     "name": "stdout",
     "output_type": "stream",
     "text": [
      "Subject: 4664 tweet 1812\nSubject: 4664 tweet 9727\nSubject: 4665 tweet 7431\nSubject: 4665 tweet 4195\nSubject: 4665 tweet 12320\n"
     ]
    },
    {
     "name": "stdout",
     "output_type": "stream",
     "text": [
      "Subject: 4665 tweet 7295\nSubject: 4665 tweet 4196\nSubject: 4665 tweet 10284\nSubject: 4665 tweet 7296\nSubject: 4665 tweet 8236\nSubject: 4665 tweet 1812\n"
     ]
    },
    {
     "name": "stdout",
     "output_type": "stream",
     "text": [
      "Subject: 4665 tweet 9727\nSubject: 4666 tweet 7\nSubject: 4666 tweet 1403\nSubject: 4666 tweet 10203\nSubject: 4666 tweet 9897\n"
     ]
    },
    {
     "name": "stdout",
     "output_type": "stream",
     "text": [
      "Subject: 4666 tweet 10122\nSubject: 4666 tweet 10710\nSubject: 4666 tweet 9969\nSubject: 4666 tweet 1072\nSubject: 4666 tweet 1936\n"
     ]
    },
    {
     "name": "stdout",
     "output_type": "stream",
     "text": [
      "Subject: 4666 tweet 9366\nSubject: 4667 tweet 7\nSubject: 4667 tweet 10203\nSubject: 4667 tweet 9897\n"
     ]
    },
    {
     "name": "stdout",
     "output_type": "stream",
     "text": [
      "Subject: 4667 tweet 10122\nSubject: 4667 tweet 10710\nSubject: 4667 tweet 1949\nSubject: 4667 tweet 10242\nSubject: 4667 tweet 1403\nSubject: 4667 tweet 10267\n"
     ]
    },
    {
     "name": "stdout",
     "output_type": "stream",
     "text": [
      "Subject: 4667 tweet 9789\nSubject: 4668 tweet 9828\nSubject: 4668 tweet 454\nSubject: 4668 tweet 4344\n"
     ]
    },
    {
     "name": "stdout",
     "output_type": "stream",
     "text": [
      "Subject: 4668 tweet 4411\nSubject: 4668 tweet 1857\nSubject: 4668 tweet 7087\nSubject: 4668 tweet 5448\nSubject: 4668 tweet 8829\n"
     ]
    },
    {
     "name": "stdout",
     "output_type": "stream",
     "text": [
      "Subject: 4668 tweet 8856\nSubject: 4668 tweet 9082\nSubject: 4669 tweet 10255\nSubject: 4669 tweet 10277\nSubject: 4669 tweet 4337\n"
     ]
    },
    {
     "name": "stdout",
     "output_type": "stream",
     "text": [
      "Subject: 4669 tweet 3666\nSubject: 4669 tweet 10300\nSubject: 4669 tweet 8949\nSubject: 4669 tweet 9920\nSubject: 4669 tweet 9975\nSubject: 4669 tweet 8989\n"
     ]
    },
    {
     "name": "stdout",
     "output_type": "stream",
     "text": [
      "Subject: 4669 tweet 8986\nSubject: 4673 tweet 10105\nSubject: 4673 tweet 7379\nSubject: 4673 tweet 8082\nSubject: 4673 tweet 1734\n"
     ]
    },
    {
     "name": "stdout",
     "output_type": "stream",
     "text": [
      "Subject: 4673 tweet 5854\nSubject: 4674 tweet 6458\nSubject: 4674 tweet 6456\nSubject: 4674 tweet 2284\nSubject: 4674 tweet 7125\n"
     ]
    },
    {
     "name": "stdout",
     "output_type": "stream",
     "text": [
      "Subject: 4674 tweet 6748\nSubject: 4674 tweet 6277\nSubject: 4674 tweet 6281\nSubject: 4674 tweet 6436\nSubject: 4674 tweet 7678\nSubject: 4674 tweet 7243\n"
     ]
    },
    {
     "name": "stdout",
     "output_type": "stream",
     "text": [
      "Subject: 4678 tweet 7616\nSubject: 4678 tweet 7048\nSubject: 4678 tweet 7275\nSubject: 4678 tweet 7242\nSubject: 4678 tweet 3908\n"
     ]
    },
    {
     "name": "stdout",
     "output_type": "stream",
     "text": [
      "Subject: 4678 tweet 11922\nSubject: 4678 tweet 1527\nSubject: 4678 tweet 1436\nSubject: 4678 tweet 4318\nSubject: 4678 tweet 361\n"
     ]
    },
    {
     "name": "stdout",
     "output_type": "stream",
     "text": [
      "Subject: 4679 tweet 6701\nSubject: 4679 tweet 11144\nSubject: 4679 tweet 1525\nSubject: 4679 tweet 8633\nSubject: 4679 tweet 4912\n"
     ]
    },
    {
     "name": "stdout",
     "output_type": "stream",
     "text": [
      "Subject: 4679 tweet 8328\nSubject: 4679 tweet 3288\nSubject: 4679 tweet 7025\nSubject: 4679 tweet 9093\nSubject: 4679 tweet 6118\n"
     ]
    },
    {
     "name": "stdout",
     "output_type": "stream",
     "text": [
      "Subject: 4681 tweet 4576\nSubject: 4681 tweet 10482\nSubject: 4681 tweet 2410\nSubject: 4681 tweet 10467\nSubject: 4681 tweet 9005\nSubject: 4681 tweet 1610\n"
     ]
    },
    {
     "name": "stdout",
     "output_type": "stream",
     "text": [
      "Subject: 4681 tweet 1500\nSubject: 4681 tweet 773\nSubject: 4681 tweet 1058\nSubject: 4681 tweet 9085\nSubject: 4683 tweet 2669\n"
     ]
    },
    {
     "name": "stdout",
     "output_type": "stream",
     "text": [
      "Subject: 4683 tweet 1912\nSubject: 4683 tweet 8642\nSubject: 4683 tweet 324\nSubject: 4683 tweet 4919\nSubject: 4683 tweet 9180\nSubject: 4683 tweet 12227\n"
     ]
    },
    {
     "name": "stdout",
     "output_type": "stream",
     "text": [
      "Subject: 4683 tweet 4522\nSubject: 4683 tweet 2434\nSubject: 4683 tweet 12458\nSubject: 4685 tweet 3382\nSubject: 4685 tweet 8917\n"
     ]
    },
    {
     "name": "stdout",
     "output_type": "stream",
     "text": [
      "Subject: 4685 tweet 1244\nSubject: 4685 tweet 4546\nSubject: 4685 tweet 4272\nSubject: 4685 tweet 6562\nSubject: 4685 tweet 10104\nSubject: 4685 tweet 6921\n"
     ]
    },
    {
     "name": "stdout",
     "output_type": "stream",
     "text": [
      "Subject: 4685 tweet 10920\nSubject: 4685 tweet 7374\nSubject: 4686 tweet 12602\nSubject: 4686 tweet 3223\nSubject: 4686 tweet 3791\n"
     ]
    },
    {
     "name": "stdout",
     "output_type": "stream",
     "text": [
      "Subject: 4686 tweet 2642\nSubject: 4686 tweet 12222\nSubject: 4686 tweet 11854\nSubject: 4686 tweet 3424\nSubject: 4686 tweet 3941\nSubject: 4686 tweet 1216\n"
     ]
    },
    {
     "name": "stdout",
     "output_type": "stream",
     "text": [
      "Subject: 4686 tweet 9242\nSubject: 4687 tweet 1025\nSubject: 4687 tweet 12430\nSubject: 4687 tweet 12557\nSubject: 4687 tweet 8597\n"
     ]
    },
    {
     "name": "stdout",
     "output_type": "stream",
     "text": [
      "Subject: 4687 tweet 5833\nSubject: 4687 tweet 11818\nSubject: 4687 tweet 408\nSubject: 4687 tweet 12556\nSubject: 4687 tweet 3628\n"
     ]
    },
    {
     "name": "stdout",
     "output_type": "stream",
     "text": [
      "Subject: 4687 tweet 3577\nSubject: 4697 tweet 8478\nSubject: 4697 tweet 6044\nSubject: 4697 tweet 9083\nSubject: 4697 tweet 1678\n"
     ]
    },
    {
     "name": "stdout",
     "output_type": "stream",
     "text": [
      "Subject: 4697 tweet 6471\nSubject: 4697 tweet 885\nSubject: 4697 tweet 6394\nSubject: 4697 tweet 9084\nSubject: 4697 tweet 11987\n"
     ]
    },
    {
     "name": "stdout",
     "output_type": "stream",
     "text": [
      "Subject: 4697 tweet 6571\nSubject: 4699 tweet 12443\nSubject: 4699 tweet 8620\nSubject: 4699 tweet 3794\n"
     ]
    },
    {
     "name": "stdout",
     "output_type": "stream",
     "text": [
      "Subject: 4699 tweet 2233\nSubject: 4699 tweet 2588\nSubject: 4699 tweet 9993\nSubject: 4699 tweet 807\nSubject: 4699 tweet 7249\n"
     ]
    },
    {
     "name": "stdout",
     "output_type": "stream",
     "text": [
      "Subject: 4699 tweet 1199\nSubject: 4699 tweet 239\n"
     ]
    },
    {
     "name": "stdout",
     "output_type": "stream",
     "text": [
      "Subject: 4700 tweet 7162\nSubject: 4700 tweet 1743\nSubject: 4700 tweet 3\n"
     ]
    },
    {
     "name": "stdout",
     "output_type": "stream",
     "text": [
      "Subject: 4700 tweet 1384\nSubject: 4700 tweet 156\nSubject: 4700 tweet 198\nSubject: 4700 tweet 8977\nSubject: 4700 tweet 2243\n"
     ]
    },
    {
     "name": "stdout",
     "output_type": "stream",
     "text": [
      "Subject: 4700 tweet 9452\nSubject: 4700 tweet 8891\n"
     ]
    },
    {
     "name": "stdout",
     "output_type": "stream",
     "text": [
      "Subject: 4702 tweet 8618\nSubject: 4702 tweet 3202\nSubject: 4702 tweet 9926\nSubject: 4702 tweet 9034\nSubject: 4702 tweet 1534\nSubject: 4702 tweet 9721\n"
     ]
    },
    {
     "name": "stdout",
     "output_type": "stream",
     "text": [
      "Subject: 4702 tweet 9814\nSubject: 4702 tweet 10532\nSubject: 4702 tweet 4429\nSubject: 4702 tweet 10131\n"
     ]
    },
    {
     "name": "stdout",
     "output_type": "stream",
     "text": [
      "Subject: 4692 tweet 4657\nSubject: 4692 tweet 9894\nSubject: 4692 tweet 7622\nSubject: 4692 tweet 7623\nSubject: 4692 tweet 7444\nSubject: 4692 tweet 10477\n"
     ]
    },
    {
     "name": "stdout",
     "output_type": "stream",
     "text": [
      "Subject: 4692 tweet 12249\nSubject: 4692 tweet 7624\nSubject: 4692 tweet 1464\nSubject: 4692 tweet 8607\n"
     ]
    },
    {
     "name": "stdout",
     "output_type": "stream",
     "text": [
      "Subject: 4696 tweet 7582\nSubject: 4696 tweet 7192\nSubject: 4696 tweet 7049\nSubject: 4696 tweet 25\nSubject: 4696 tweet 3401\nSubject: 4696 tweet 7477\n"
     ]
    },
    {
     "name": "stdout",
     "output_type": "stream",
     "text": [
      "Subject: 4696 tweet 2112\nSubject: 4696 tweet 6722\nSubject: 4696 tweet 11742\nSubject: 4696 tweet 7045\nSubject: 4703 tweet 7431\n"
     ]
    },
    {
     "name": "stdout",
     "output_type": "stream",
     "text": [
      "Subject: 4703 tweet 4195\nSubject: 4703 tweet 12320\nSubject: 4703 tweet 7295\nSubject: 4703 tweet 4196\nSubject: 4703 tweet 10284\nSubject: 4703 tweet 7296\n"
     ]
    },
    {
     "name": "stdout",
     "output_type": "stream",
     "text": [
      "Subject: 4703 tweet 8236\nSubject: 4703 tweet 1812\nSubject: 4703 tweet 9727\nSubject: 4704 tweet 7\nSubject: 4704 tweet 10203\n"
     ]
    },
    {
     "name": "stdout",
     "output_type": "stream",
     "text": [
      "Subject: 4704 tweet 9897\nSubject: 4704 tweet 10122\nSubject: 4704 tweet 10710\nSubject: 4704 tweet 1949\nSubject: 4704 tweet 10242\n"
     ]
    },
    {
     "name": "stdout",
     "output_type": "stream",
     "text": [
      "Subject: 4704 tweet 1403\nSubject: 4704 tweet 10267\nSubject: 4704 tweet 9789\nSubject: 4705 tweet 9828\nSubject: 4705 tweet 454\n"
     ]
    },
    {
     "name": "stdout",
     "output_type": "stream",
     "text": [
      "Subject: 4705 tweet 4344\nSubject: 4705 tweet 4411\nSubject: 4705 tweet 1857\nSubject: 4705 tweet 7087\nSubject: 4705 tweet 5448\n"
     ]
    },
    {
     "name": "stdout",
     "output_type": "stream",
     "text": [
      "Subject: 4705 tweet 8829\nSubject: 4705 tweet 8856\nSubject: 4705 tweet 9082\nSubject: 4706 tweet 9892\n"
     ]
    },
    {
     "name": "stdout",
     "output_type": "stream",
     "text": [
      "Subject: 4706 tweet 12434\nSubject: 4706 tweet 99\nSubject: 4706 tweet 95\nSubject: 4706 tweet 4739\nSubject: 4706 tweet 8593\nSubject: 4706 tweet 7499\n"
     ]
    },
    {
     "name": "stdout",
     "output_type": "stream",
     "text": [
      "Subject: 4706 tweet 8915\nSubject: 4706 tweet 9880\nSubject: 4706 tweet 10398\nSubject: 4707 tweet 4278\n"
     ]
    },
    {
     "name": "stdout",
     "output_type": "stream",
     "text": [
      "Subject: 4707 tweet 9802\nSubject: 4707 tweet 2245\nSubject: 4707 tweet 11435\nSubject: 4707 tweet 7643\nSubject: 4707 tweet 4930\n"
     ]
    },
    {
     "name": "stdout",
     "output_type": "stream",
     "text": [
      "Subject: 4707 tweet 3234\nSubject: 4707 tweet 3466\nSubject: 4707 tweet 4662\nSubject: 4707 tweet 9859\nSubject: 4708 tweet 4576\n"
     ]
    },
    {
     "name": "stdout",
     "output_type": "stream",
     "text": [
      "Subject: 4708 tweet 10482\nSubject: 4708 tweet 2410\nSubject: 4708 tweet 10467\nSubject: 4708 tweet 9005\nSubject: 4708 tweet 1610\nSubject: 4708 tweet 1500\n"
     ]
    },
    {
     "name": "stdout",
     "output_type": "stream",
     "text": [
      "Subject: 4708 tweet 773\nSubject: 4708 tweet 1058\nSubject: 4708 tweet 9085\nSubject: 4710 tweet 10704\nSubject: 4710 tweet 1349\n"
     ]
    },
    {
     "name": "stdout",
     "output_type": "stream",
     "text": [
      "Subject: 4710 tweet 1446\nSubject: 4710 tweet 1406\nSubject: 4710 tweet 3534\nSubject: 4711 tweet 10255\nSubject: 4711 tweet 10277\n"
     ]
    },
    {
     "name": "stdout",
     "output_type": "stream",
     "text": [
      "Subject: 4711 tweet 4337\nSubject: 4711 tweet 3666\nSubject: 4711 tweet 10300\nSubject: 4711 tweet 8949\nSubject: 4711 tweet 9920\nSubject: 4711 tweet 9975\n"
     ]
    },
    {
     "name": "stdout",
     "output_type": "stream",
     "text": [
      "Subject: 4711 tweet 8989\nSubject: 4711 tweet 8986\nSubject: 4712 tweet 4576\nSubject: 4712 tweet 10482\n"
     ]
    },
    {
     "name": "stdout",
     "output_type": "stream",
     "text": [
      "Subject: 4712 tweet 2410\nSubject: 4712 tweet 10467\nSubject: 4712 tweet 9005\nSubject: 4712 tweet 1610\nSubject: 4712 tweet 1500\n"
     ]
    },
    {
     "name": "stdout",
     "output_type": "stream",
     "text": [
      "Subject: 4712 tweet 773\nSubject: 4712 tweet 1058\nSubject: 4712 tweet 9085\nSubject: 4713 tweet 2669\nSubject: 4713 tweet 1912\n"
     ]
    },
    {
     "name": "stdout",
     "output_type": "stream",
     "text": [
      "Subject: 4713 tweet 8642\nSubject: 4713 tweet 324\nSubject: 4713 tweet 4919\nSubject: 4713 tweet 9180\nSubject: 4713 tweet 12227\n"
     ]
    },
    {
     "name": "stdout",
     "output_type": "stream",
     "text": [
      "Subject: 4713 tweet 4522\nSubject: 4713 tweet 2434\nSubject: 4713 tweet 12458\nSubject: 4714 tweet 7476\nSubject: 4714 tweet 115\n"
     ]
    },
    {
     "name": "stdout",
     "output_type": "stream",
     "text": [
      "Subject: 4714 tweet 7289\nSubject: 4714 tweet 6739\nSubject: 4714 tweet 946\nSubject: 4714 tweet 109\nSubject: 4714 tweet 4272\nSubject: 4714 tweet 8917\n"
     ]
    },
    {
     "name": "stdout",
     "output_type": "stream",
     "text": [
      "Subject: 4714 tweet 1244\nSubject: 4714 tweet 83\nSubject: 4716 tweet 10454\nSubject: 4716 tweet 765\nSubject: 4716 tweet 984\n"
     ]
    },
    {
     "name": "stdout",
     "output_type": "stream",
     "text": [
      "Subject: 4716 tweet 1114\nSubject: 4716 tweet 827\nSubject: 4716 tweet 7138\nSubject: 4716 tweet 1046\nSubject: 4716 tweet 3108\n"
     ]
    },
    {
     "name": "stdout",
     "output_type": "stream",
     "text": [
      "Subject: 4716 tweet 6524\nSubject: 4716 tweet 5618\nSubject: 4718 tweet 2669\nSubject: 4718 tweet 1912\nSubject: 4718 tweet 8642\n"
     ]
    },
    {
     "name": "stdout",
     "output_type": "stream",
     "text": [
      "Subject: 4718 tweet 324\nSubject: 4718 tweet 4919\nSubject: 4718 tweet 9180\n"
     ]
    },
    {
     "name": "stdout",
     "output_type": "stream",
     "text": [
      "Subject: 4718 tweet 12227\nSubject: 4718 tweet 4522\nSubject: 4718 tweet 2434\nSubject: 4718 tweet 12458\nSubject: 4719 tweet 3382\n"
     ]
    },
    {
     "name": "stdout",
     "output_type": "stream",
     "text": [
      "Subject: 4719 tweet 8917\nSubject: 4719 tweet 1244\nSubject: 4719 tweet 4546\nSubject: 4719 tweet 4272\nSubject: 4719 tweet 6562\nSubject: 4719 tweet 10104\n"
     ]
    },
    {
     "name": "stdout",
     "output_type": "stream",
     "text": [
      "Subject: 4719 tweet 6921\nSubject: 4719 tweet 10920\nSubject: 4719 tweet 7374\nSubject: 4723 tweet 3382\nSubject: 4723 tweet 8917\n"
     ]
    },
    {
     "name": "stdout",
     "output_type": "stream",
     "text": [
      "Subject: 4723 tweet 1244\nSubject: 4723 tweet 4546\nSubject: 4723 tweet 4272\nSubject: 4723 tweet 6562\nSubject: 4723 tweet 10104\nSubject: 4723 tweet 6921\n"
     ]
    },
    {
     "name": "stdout",
     "output_type": "stream",
     "text": [
      "Subject: 4723 tweet 10920\nSubject: 4723 tweet 7374\nSubject: 4725 tweet 5283\nSubject: 4725 tweet 8207\nSubject: 4725 tweet 12595\n"
     ]
    },
    {
     "name": "stdout",
     "output_type": "stream",
     "text": [
      "Subject: 4725 tweet 8249\nSubject: 4725 tweet 8410\nSubject: 4725 tweet 7957\nSubject: 4725 tweet 3226\nSubject: 4725 tweet 1813\n"
     ]
    },
    {
     "name": "stdout",
     "output_type": "stream",
     "text": [
      "Subject: 4725 tweet 10976\nSubject: 4725 tweet 10979\nSubject: 4734 tweet 2789\nSubject: 4734 tweet 9298\nSubject: 4734 tweet 446\n"
     ]
    },
    {
     "name": "stdout",
     "output_type": "stream",
     "text": [
      "Subject: 4734 tweet 2470\nSubject: 4734 tweet 2683\nSubject: 4734 tweet 1907\nSubject: 4734 tweet 1924\nSubject: 4734 tweet 2518\n"
     ]
    },
    {
     "name": "stdout",
     "output_type": "stream",
     "text": [
      "Subject: 4734 tweet 2099\nSubject: 4734 tweet 2404\nSubject: 4737 tweet 8478\nSubject: 4737 tweet 6044\nSubject: 4737 tweet 9083\n"
     ]
    },
    {
     "name": "stdout",
     "output_type": "stream",
     "text": [
      "Subject: 4737 tweet 1678\nSubject: 4737 tweet 6471\nSubject: 4737 tweet 885\nSubject: 4737 tweet 6394\nSubject: 4737 tweet 9084\nSubject: 4737 tweet 11987\n"
     ]
    },
    {
     "name": "stdout",
     "output_type": "stream",
     "text": [
      "Subject: 4737 tweet 6571\nSubject: 4740 tweet 8478\nSubject: 4740 tweet 6044\nSubject: 4740 tweet 9083\nSubject: 4740 tweet 1678\n"
     ]
    },
    {
     "name": "stdout",
     "output_type": "stream",
     "text": [
      "Subject: 4740 tweet 6471\nSubject: 4740 tweet 885\nSubject: 4740 tweet 6394\nSubject: 4740 tweet 9084\nSubject: 4740 tweet 11987\nSubject: 4740 tweet 6571\n"
     ]
    },
    {
     "name": "stdout",
     "output_type": "stream",
     "text": [
      "Subject: 4741 tweet 12443\nSubject: 4741 tweet 8620\nSubject: 4741 tweet 3794\nSubject: 4741 tweet 2233\nSubject: 4741 tweet 2588\nSubject: 4741 tweet 9993\n"
     ]
    },
    {
     "name": "stdout",
     "output_type": "stream",
     "text": [
      "Subject: 4741 tweet 807\nSubject: 4741 tweet 7249\nSubject: 4741 tweet 1199\nSubject: 4741 tweet 239\nSubject: 4742 tweet 9356\n"
     ]
    },
    {
     "name": "stdout",
     "output_type": "stream",
     "text": [
      "Subject: 4742 tweet 4304\nSubject: 4742 tweet 5332\nSubject: 4742 tweet 9689\nSubject: 4742 tweet 1962\nSubject: 4742 tweet 3509\nSubject: 4742 tweet 7511\n"
     ]
    },
    {
     "name": "stdout",
     "output_type": "stream",
     "text": [
      "Subject: 4742 tweet 10278\nSubject: 4742 tweet 9104\nSubject: 4742 tweet 1257\nSubject: 4744 tweet 7162\nSubject: 4744 tweet 1743\n"
     ]
    },
    {
     "name": "stdout",
     "output_type": "stream",
     "text": [
      "Subject: 4744 tweet 3\nSubject: 4744 tweet 1384\nSubject: 4744 tweet 156\nSubject: 4744 tweet 198\nSubject: 4744 tweet 8977\n"
     ]
    },
    {
     "name": "stdout",
     "output_type": "stream",
     "text": [
      "Subject: 4744 tweet 2243\nSubject: 4744 tweet 9452\nSubject: 4744 tweet 8891\nSubject: 4745 tweet 12443\nSubject: 4745 tweet 8620\n"
     ]
    },
    {
     "name": "stdout",
     "output_type": "stream",
     "text": [
      "Subject: 4745 tweet 3794\nSubject: 4745 tweet 2233\nSubject: 4745 tweet 2588\nSubject: 4745 tweet 9993\nSubject: 4745 tweet 807\nSubject: 4745 tweet 7249\n"
     ]
    },
    {
     "name": "stdout",
     "output_type": "stream",
     "text": [
      "Subject: 4745 tweet 1199\nSubject: 4745 tweet 239\nSubject: 4746 tweet 8618\nSubject: 4746 tweet 3202\n"
     ]
    },
    {
     "name": "stdout",
     "output_type": "stream",
     "text": [
      "Subject: 4746 tweet 9926\nSubject: 4746 tweet 9034\nSubject: 4746 tweet 1534\nSubject: 4746 tweet 9721\nSubject: 4746 tweet 9814\n"
     ]
    },
    {
     "name": "stdout",
     "output_type": "stream",
     "text": [
      "Subject: 4746 tweet 10532\nSubject: 4746 tweet 4429\nSubject: 4746 tweet 10131\nSubject: 4747 tweet 7162\nSubject: 4747 tweet 1743\n"
     ]
    },
    {
     "name": "stdout",
     "output_type": "stream",
     "text": [
      "Subject: 4747 tweet 3\nSubject: 4747 tweet 1384\nSubject: 4747 tweet 156\nSubject: 4747 tweet 198\nSubject: 4747 tweet 8977\nSubject: 4747 tweet 2243\n"
     ]
    },
    {
     "name": "stdout",
     "output_type": "stream",
     "text": [
      "Subject: 4747 tweet 9452\nSubject: 4747 tweet 8891\nSubject: 4748 tweet 7431\nSubject: 4748 tweet 4195\n"
     ]
    },
    {
     "name": "stdout",
     "output_type": "stream",
     "text": [
      "Subject: 4748 tweet 12320\nSubject: 4748 tweet 7295\nSubject: 4748 tweet 4196\nSubject: 4748 tweet 10284\nSubject: 4748 tweet 7296\nSubject: 4748 tweet 8236\n"
     ]
    },
    {
     "name": "stdout",
     "output_type": "stream",
     "text": [
      "Subject: 4748 tweet 1812\nSubject: 4748 tweet 9727\nSubject: 4749 tweet 8618\nSubject: 4749 tweet 3202\n"
     ]
    },
    {
     "name": "stdout",
     "output_type": "stream",
     "text": [
      "Subject: 4749 tweet 9926\nSubject: 4749 tweet 9034\nSubject: 4749 tweet 1534\nSubject: 4749 tweet 9721\nSubject: 4749 tweet 9814\nSubject: 4749 tweet 10532\n"
     ]
    },
    {
     "name": "stdout",
     "output_type": "stream",
     "text": [
      "Subject: 4749 tweet 4429\nSubject: 4749 tweet 10131\nSubject: 4750 tweet 7\nSubject: 4750 tweet 1403\nSubject: 4750 tweet 10203\n"
     ]
    },
    {
     "name": "stdout",
     "output_type": "stream",
     "text": [
      "Subject: 4750 tweet 9897\nSubject: 4750 tweet 10122\nSubject: 4750 tweet 10710\nSubject: 4750 tweet 9969\nSubject: 4750 tweet 1072\nSubject: 4750 tweet 1936\n"
     ]
    },
    {
     "name": "stdout",
     "output_type": "stream",
     "text": [
      "Subject: 4750 tweet 9366\nSubject: 4751 tweet 7431\nSubject: 4751 tweet 4195\nSubject: 4751 tweet 12320\nSubject: 4751 tweet 7295\n"
     ]
    },
    {
     "name": "stdout",
     "output_type": "stream",
     "text": [
      "Subject: 4751 tweet 4196\nSubject: 4751 tweet 10284\nSubject: 4751 tweet 7296\nSubject: 4751 tweet 8236\nSubject: 4751 tweet 1812\nSubject: 4751 tweet 9727\n"
     ]
    },
    {
     "name": "stdout",
     "output_type": "stream",
     "text": [
      "Subject: 4752 tweet 7\nSubject: 4752 tweet 10203\nSubject: 4752 tweet 9897\nSubject: 4752 tweet 10122\nSubject: 4752 tweet 10710\nSubject: 4752 tweet 1949\n"
     ]
    },
    {
     "name": "stdout",
     "output_type": "stream",
     "text": [
      "Subject: 4752 tweet 10242\nSubject: 4752 tweet 1403\nSubject: 4752 tweet 10267\nSubject: 4752 tweet 9789\nSubject: 4753 tweet 9828\n"
     ]
    },
    {
     "name": "stdout",
     "output_type": "stream",
     "text": [
      "Subject: 4753 tweet 454\nSubject: 4753 tweet 4344\nSubject: 4753 tweet 4411\nSubject: 4753 tweet 1857\nSubject: 4753 tweet 7087\n"
     ]
    },
    {
     "name": "stdout",
     "output_type": "stream",
     "text": [
      "Subject: 4753 tweet 5448\nSubject: 4753 tweet 8829\nSubject: 4753 tweet 8856\nSubject: 4753 tweet 9082\nSubject: 4754 tweet 10255\n"
     ]
    },
    {
     "name": "stdout",
     "output_type": "stream",
     "text": [
      "Subject: 4754 tweet 10277\nSubject: 4754 tweet 4337\nSubject: 4754 tweet 3666\nSubject: 4754 tweet 10300\nSubject: 4754 tweet 8949\n"
     ]
    },
    {
     "name": "stdout",
     "output_type": "stream",
     "text": [
      "Subject: 4754 tweet 9920\n"
     ]
    },
    {
     "name": "stdout",
     "output_type": "stream",
     "text": [
      "Subject: 4754 tweet 9975\nSubject: 4754 tweet 8989\n"
     ]
    },
    {
     "name": "stdout",
     "output_type": "stream",
     "text": [
      "Subject: 4754 tweet 8986\n"
     ]
    },
    {
     "name": "stdout",
     "output_type": "stream",
     "text": [
      "Subject: 4758 tweet 10105\nSubject: 4758 tweet 7379\nSubject: 4758 tweet 8082\nSubject: 4758 tweet 1734\nSubject: 4758 tweet 5854\n"
     ]
    },
    {
     "name": "stdout",
     "output_type": "stream",
     "text": [
      "Subject: 4759 tweet 6458\nSubject: 4759 tweet 6456\nSubject: 4759 tweet 2284\nSubject: 4759 tweet 7125\nSubject: 4759 tweet 6748\nSubject: 4759 tweet 6277\n"
     ]
    },
    {
     "name": "stdout",
     "output_type": "stream",
     "text": [
      "Subject: 4759 tweet 6281\nSubject: 4759 tweet 6436\nSubject: 4759 tweet 7678\nSubject: 4759 tweet 7243\nSubject: 4763 tweet 7616\n"
     ]
    },
    {
     "name": "stdout",
     "output_type": "stream",
     "text": [
      "Subject: 4763 tweet 7048\nSubject: 4763 tweet 7275\nSubject: 4763 tweet 7242\nSubject: 4763 tweet 3908\nSubject: 4763 tweet 11922\nSubject: 4763 tweet 1527\n"
     ]
    },
    {
     "name": "stdout",
     "output_type": "stream",
     "text": [
      "Subject: 4763 tweet 1436\nSubject: 4763 tweet 4318\nSubject: 4763 tweet 361\nSubject: 4764 tweet 6701\n"
     ]
    },
    {
     "name": "stdout",
     "output_type": "stream",
     "text": [
      "Subject: 4764 tweet 11144\nSubject: 4764 tweet 1525\nSubject: 4764 tweet 8633\nSubject: 4764 tweet 4912\nSubject: 4764 tweet 8328\nSubject: 4764 tweet 3288\n"
     ]
    },
    {
     "name": "stdout",
     "output_type": "stream",
     "text": [
      "Subject: 4764 tweet 7025\nSubject: 4764 tweet 9093\nSubject: 4764 tweet 6118\nSubject: 4767 tweet 12602\nSubject: 4767 tweet 3223\n"
     ]
    },
    {
     "name": "stdout",
     "output_type": "stream",
     "text": [
      "Subject: 4767 tweet 3791\nSubject: 4767 tweet 2642\nSubject: 4767 tweet 12222\nSubject: 4767 tweet 11854\nSubject: 4767 tweet 3424\n"
     ]
    },
    {
     "name": "stdout",
     "output_type": "stream",
     "text": [
      "Subject: 4767 tweet 3941\nSubject: 4767 tweet 1216\nSubject: 4767 tweet 9242\n"
     ]
    },
    {
     "name": "stdout",
     "output_type": "stream",
     "text": [
      "Subject: 4768 tweet 1025\nSubject: 4768 tweet 12430\nSubject: 4768 tweet 12557\nSubject: 4768 tweet 8597\nSubject: 4768 tweet 5833\nSubject: 4768 tweet 11818\n"
     ]
    },
    {
     "name": "stdout",
     "output_type": "stream",
     "text": [
      "Subject: 4768 tweet 408\nSubject: 4768 tweet 12556\nSubject: 4768 tweet 3628\nSubject: 4768 tweet 3577\n"
     ]
    },
    {
     "name": "stdout",
     "output_type": "stream",
     "text": [
      "Subject: 4769 tweet 4576\nSubject: 4769 tweet 10482\nSubject: 4769 tweet 2410\nSubject: 4769 tweet 10467\nSubject: 4769 tweet 9005\n"
     ]
    },
    {
     "name": "stdout",
     "output_type": "stream",
     "text": [
      "Subject: 4769 tweet 1610\nSubject: 4769 tweet 1500\nSubject: 4769 tweet 773\nSubject: 4769 tweet 1058\nSubject: 4769 tweet 9085\n"
     ]
    },
    {
     "name": "stdout",
     "output_type": "stream",
     "text": [
      "Subject: 4772 tweet 4657\nSubject: 4772 tweet 9894\nSubject: 4772 tweet 7622\nSubject: 4772 tweet 7623\nSubject: 4772 tweet 7444\n"
     ]
    },
    {
     "name": "stdout",
     "output_type": "stream",
     "text": [
      "Subject: 4772 tweet 10477\nSubject: 4772 tweet 12249\nSubject: 4772 tweet 7624\nSubject: 4772 tweet 1464\nSubject: 4772 tweet 8607\n"
     ]
    },
    {
     "name": "stdout",
     "output_type": "stream",
     "text": [
      "Subject: 4773 tweet 2669\nSubject: 4773 tweet 1912\nSubject: 4773 tweet 8642\nSubject: 4773 tweet 324\nSubject: 4773 tweet 4919\n"
     ]
    },
    {
     "name": "stdout",
     "output_type": "stream",
     "text": [
      "Subject: 4773 tweet 9180\nSubject: 4773 tweet 12227\nSubject: 4773 tweet 4522\nSubject: 4773 tweet 2434\nSubject: 4773 tweet 12458\n"
     ]
    },
    {
     "name": "stdout",
     "output_type": "stream",
     "text": [
      "Subject: 4775 tweet 7582\nSubject: 4775 tweet 7192\nSubject: 4775 tweet 7049\nSubject: 4775 tweet 25\nSubject: 4775 tweet 3401\n"
     ]
    },
    {
     "name": "stdout",
     "output_type": "stream",
     "text": [
      "Subject: 4775 tweet 7477\nSubject: 4775 tweet 2112\nSubject: 4775 tweet 6722\nSubject: 4775 tweet 11742\nSubject: 4775 tweet 7045\n"
     ]
    },
    {
     "name": "stdout",
     "output_type": "stream",
     "text": [
      "Subject: 4776 tweet 3382\nSubject: 4776 tweet 8917\nSubject: 4776 tweet 1244\nSubject: 4776 tweet 4546\nSubject: 4776 tweet 4272\nSubject: 4776 tweet 6562\n"
     ]
    },
    {
     "name": "stdout",
     "output_type": "stream",
     "text": [
      "Subject: 4776 tweet 10104\nSubject: 4776 tweet 6921\nSubject: 4776 tweet 10920\nSubject: 4776 tweet 7374\nSubject: 4783 tweet 9892\n"
     ]
    },
    {
     "name": "stdout",
     "output_type": "stream",
     "text": [
      "Subject: 4783 tweet 12434\nSubject: 4783 tweet 99\nSubject: 4783 tweet 95\nSubject: 4783 tweet 4739\nSubject: 4783 tweet 8593\nSubject: 4783 tweet 7499\n"
     ]
    },
    {
     "name": "stdout",
     "output_type": "stream",
     "text": [
      "Subject: 4783 tweet 8915\nSubject: 4783 tweet 9880\nSubject: 4783 tweet 10398\nSubject: 4784 tweet 4278\nSubject: 4784 tweet 9802\n"
     ]
    },
    {
     "name": "stdout",
     "output_type": "stream",
     "text": [
      "Subject: 4784 tweet 2245\nSubject: 4784 tweet 11435\nSubject: 4784 tweet 7643\nSubject: 4784 tweet 4930\nSubject: 4784 tweet 3234\nSubject: 4784 tweet 3466\n"
     ]
    },
    {
     "name": "stdout",
     "output_type": "stream",
     "text": [
      "Subject: 4784 tweet 4662\nSubject: 4784 tweet 9859\nSubject: 4785 tweet 10704\nSubject: 4785 tweet 1349\n"
     ]
    },
    {
     "name": "stdout",
     "output_type": "stream",
     "text": [
      "Subject: 4785 tweet 1446\nSubject: 4785 tweet 1406\nSubject: 4785 tweet 3534\nSubject: 4786 tweet 8478\nSubject: 4786 tweet 6044\n"
     ]
    },
    {
     "name": "stdout",
     "output_type": "stream",
     "text": [
      "Subject: 4786 tweet 9083\nSubject: 4786 tweet 1678\nSubject: 4786 tweet 6471\nSubject: 4786 tweet 885\nSubject: 4786 tweet 6394\nSubject: 4786 tweet 9084\n"
     ]
    },
    {
     "name": "stdout",
     "output_type": "stream",
     "text": [
      "Subject: 4786 tweet 11987\nSubject: 4786 tweet 6571\nSubject: 4787 tweet 7476\n"
     ]
    },
    {
     "name": "stdout",
     "output_type": "stream",
     "text": [
      "Subject: 4787 tweet 115\nSubject: 4787 tweet 7289\nSubject: 4787 tweet 6739\nSubject: 4787 tweet 946\nSubject: 4787 tweet 109\nSubject: 4787 tweet 4272\n"
     ]
    },
    {
     "name": "stdout",
     "output_type": "stream",
     "text": [
      "Subject: 4787 tweet 8917\nSubject: 4787 tweet 1244\nSubject: 4787 tweet 83\nSubject: 4789 tweet 10454\nSubject: 4789 tweet 765\n"
     ]
    },
    {
     "name": "stdout",
     "output_type": "stream",
     "text": [
      "Subject: 4789 tweet 984\nSubject: 4789 tweet 1114\nSubject: 4789 tweet 827\nSubject: 4789 tweet 7138\nSubject: 4789 tweet 1046\n"
     ]
    },
    {
     "name": "stdout",
     "output_type": "stream",
     "text": [
      "Subject: 4789 tweet 3108\nSubject: 4789 tweet 6524\nSubject: 4789 tweet 5618\nSubject: 4790 tweet 12443\nSubject: 4790 tweet 8620\n"
     ]
    },
    {
     "name": "stdout",
     "output_type": "stream",
     "text": [
      "Subject: 4790 tweet 3794\nSubject: 4790 tweet 2233\nSubject: 4790 tweet 2588\nSubject: 4790 tweet 9993\nSubject: 4790 tweet 807\nSubject: 4790 tweet 7249\n"
     ]
    },
    {
     "name": "stdout",
     "output_type": "stream",
     "text": [
      "Subject: 4790 tweet 1199\nSubject: 4790 tweet 239\nSubject: 4792 tweet 7162\nSubject: 4792 tweet 1743\n"
     ]
    },
    {
     "name": "stdout",
     "output_type": "stream",
     "text": [
      "Subject: 4792 tweet 3\nSubject: 4792 tweet 1384\nSubject: 4792 tweet 156\nSubject: 4792 tweet 198\nSubject: 4792 tweet 8977\nSubject: 4792 tweet 2243\n"
     ]
    },
    {
     "name": "stdout",
     "output_type": "stream",
     "text": [
      "Subject: 4792 tweet 9452\nSubject: 4792 tweet 8891\nSubject: 4794 tweet 8618\nSubject: 4794 tweet 3202\nSubject: 4794 tweet 9926\n"
     ]
    },
    {
     "name": "stdout",
     "output_type": "stream",
     "text": [
      "Subject: 4794 tweet 9034\nSubject: 4794 tweet 1534\nSubject: 4794 tweet 9721\nSubject: 4794 tweet 9814\nSubject: 4794 tweet 10532\nSubject: 4794 tweet 4429\n"
     ]
    },
    {
     "name": "stdout",
     "output_type": "stream",
     "text": [
      "Subject: 4794 tweet 10131\nSubject: 4796 tweet 7431\nSubject: 4796 tweet 4195\nSubject: 4796 tweet 12320\nSubject: 4796 tweet 7295\n"
     ]
    },
    {
     "name": "stdout",
     "output_type": "stream",
     "text": [
      "Subject: 4796 tweet 4196\nSubject: 4796 tweet 10284\nSubject: 4796 tweet 7296\nSubject: 4796 tweet 8236\nSubject: 4796 tweet 1812\nSubject: 4796 tweet 9727\n"
     ]
    },
    {
     "name": "stdout",
     "output_type": "stream",
     "text": [
      "Subject: 4797 tweet 7\nSubject: 4797 tweet 10203\nSubject: 4797 tweet 9897\nSubject: 4797 tweet 10122\nSubject: 4797 tweet 10710\n"
     ]
    },
    {
     "name": "stdout",
     "output_type": "stream",
     "text": [
      "Subject: 4797 tweet 1949\nSubject: 4797 tweet 10242\nSubject: 4797 tweet 1403\nSubject: 4797 tweet 10267\nSubject: 4797 tweet 9789\n"
     ]
    },
    {
     "name": "stdout",
     "output_type": "stream",
     "text": [
      "Subject: 4798 tweet 5283\nSubject: 4798 tweet 8207\nSubject: 4798 tweet 12595\nSubject: 4798 tweet 8249\nSubject: 4798 tweet 8410\n"
     ]
    },
    {
     "name": "stdout",
     "output_type": "stream",
     "text": [
      "Subject: 4798 tweet 7957\nSubject: 4798 tweet 3226\nSubject: 4798 tweet 1813\nSubject: 4798 tweet 10976\nSubject: 4798 tweet 10979\n"
     ]
    },
    {
     "name": "stdout",
     "output_type": "stream",
     "text": [
      "Subject: 4799 tweet 4576\nSubject: 4799 tweet 10482\nSubject: 4799 tweet 2410\nSubject: 4799 tweet 10467\nSubject: 4799 tweet 9005\nSubject: 4799 tweet 1610\n"
     ]
    },
    {
     "name": "stdout",
     "output_type": "stream",
     "text": [
      "Subject: 4799 tweet 1500\nSubject: 4799 tweet 773\nSubject: 4799 tweet 1058\nSubject: 4799 tweet 9085\nSubject: 4802 tweet 9828\n"
     ]
    },
    {
     "name": "stdout",
     "output_type": "stream",
     "text": [
      "Subject: 4802 tweet 454\nSubject: 4802 tweet 4344\nSubject: 4802 tweet 4411\nSubject: 4802 tweet 1857\nSubject: 4802 tweet 7087\n"
     ]
    },
    {
     "name": "stdout",
     "output_type": "stream",
     "text": [
      "Subject: 4802 tweet 5448\nSubject: 4802 tweet 8829\nSubject: 4802 tweet 8856\nSubject: 4802 tweet 9082\nSubject: 4803 tweet 2789\n"
     ]
    },
    {
     "name": "stdout",
     "output_type": "stream",
     "text": [
      "Subject: 4803 tweet 9298\nSubject: 4803 tweet 446\nSubject: 4803 tweet 2470\nSubject: 4803 tweet 2683\nSubject: 4803 tweet 1907\nSubject: 4803 tweet 1924\n"
     ]
    },
    {
     "name": "stdout",
     "output_type": "stream",
     "text": [
      "Subject: 4803 tweet 2518\nSubject: 4803 tweet 2099\nSubject: 4803 tweet 2404\nSubject: 4804 tweet 2669\nSubject: 4804 tweet 1912\n"
     ]
    },
    {
     "name": "stdout",
     "output_type": "stream",
     "text": [
      "Subject: 4804 tweet 8642\nSubject: 4804 tweet 324\nSubject: 4804 tweet 4919\nSubject: 4804 tweet 9180\nSubject: 4804 tweet 12227\nSubject: 4804 tweet 4522\n"
     ]
    },
    {
     "name": "stdout",
     "output_type": "stream",
     "text": [
      "Subject: 4804 tweet 2434\nSubject: 4804 tweet 12458\nSubject: 4807 tweet 3382\nSubject: 4807 tweet 8917\nSubject: 4807 tweet 1244\n"
     ]
    },
    {
     "name": "stdout",
     "output_type": "stream",
     "text": [
      "Subject: 4807 tweet 4546\nSubject: 4807 tweet 4272\nSubject: 4807 tweet 6562\nSubject: 4807 tweet 10104\nSubject: 4807 tweet 6921\nSubject: 4807 tweet 10920\n"
     ]
    },
    {
     "name": "stdout",
     "output_type": "stream",
     "text": [
      "Subject: 4807 tweet 7374\nSubject: 4810 tweet 10315\nSubject: 4810 tweet 10286\nSubject: 4810 tweet 3302\nSubject: 4810 tweet 11977\n"
     ]
    },
    {
     "name": "stdout",
     "output_type": "stream",
     "text": [
      "Subject: 4810 tweet 9356\nSubject: 4810 tweet 4304\nSubject: 4810 tweet 10516\nSubject: 4810 tweet 10278\nSubject: 4810 tweet 5332\n"
     ]
    },
    {
     "name": "stdout",
     "output_type": "stream",
     "text": [
      "Subject: 4810 tweet 3509\nSubject: 4815 tweet 8478\nSubject: 4815 tweet 6044\nSubject: 4815 tweet 9083\nSubject: 4815 tweet 1678\n"
     ]
    },
    {
     "name": "stdout",
     "output_type": "stream",
     "text": [
      "Subject: 4815 tweet 6471\nSubject: 4815 tweet 885\nSubject: 4815 tweet 6394\nSubject: 4815 tweet 9084\nSubject: 4815 tweet 11987\n"
     ]
    },
    {
     "name": "stdout",
     "output_type": "stream",
     "text": [
      "Subject: 4815 tweet 6571\nSubject: 4817 tweet 12443\nSubject: 4817 tweet 8620\nSubject: 4817 tweet 3794\nSubject: 4817 tweet 2233\n"
     ]
    },
    {
     "name": "stdout",
     "output_type": "stream",
     "text": [
      "Subject: 4817 tweet 2588\nSubject: 4817 tweet 9993\nSubject: 4817 tweet 807\nSubject: 4817 tweet 7249\nSubject: 4817 tweet 1199\nSubject: 4817 tweet 239\n"
     ]
    },
    {
     "name": "stdout",
     "output_type": "stream",
     "text": [
      "Subject: 4818 tweet 7162\nSubject: 4818 tweet 1743\nSubject: 4818 tweet 3\nSubject: 4818 tweet 1384\nSubject: 4818 tweet 156\nSubject: 4818 tweet 198\n"
     ]
    },
    {
     "name": "stdout",
     "output_type": "stream",
     "text": [
      "Subject: 4818 tweet 8977\nSubject: 4818 tweet 2243\nSubject: 4818 tweet 9452\nSubject: 4818 tweet 8891\nSubject: 4819 tweet 8618\n"
     ]
    },
    {
     "name": "stdout",
     "output_type": "stream",
     "text": [
      "Subject: 4819 tweet 3202\nSubject: 4819 tweet 9926\nSubject: 4819 tweet 9034\nSubject: 4819 tweet 1534\nSubject: 4819 tweet 9721\n"
     ]
    },
    {
     "name": "stdout",
     "output_type": "stream",
     "text": [
      "Subject: 4819 tweet 9814\nSubject: 4819 tweet 10532\nSubject: 4819 tweet 4429\nSubject: 4819 tweet 10131\nSubject: 4820 tweet 7431\n"
     ]
    },
    {
     "name": "stdout",
     "output_type": "stream",
     "text": [
      "Subject: 4820 tweet 4195\nSubject: 4820 tweet 12320\nSubject: 4820 tweet 7295\nSubject: 4820 tweet 4196\nSubject: 4820 tweet 10284\n"
     ]
    },
    {
     "name": "stdout",
     "output_type": "stream",
     "text": [
      "Subject: 4820 tweet 7296\nSubject: 4820 tweet 8236\nSubject: 4820 tweet 1812\nSubject: 4820 tweet 9727\n"
     ]
    },
    {
     "name": "stdout",
     "output_type": "stream",
     "text": [
      "Subject: 4821 tweet 7\nSubject: 4821 tweet 10203\nSubject: 4821 tweet 9897\nSubject: 4821 tweet 10122\nSubject: 4821 tweet 10710\nSubject: 4821 tweet 1949\n"
     ]
    },
    {
     "name": "stdout",
     "output_type": "stream",
     "text": [
      "Subject: 4821 tweet 10242\nSubject: 4821 tweet 1403\nSubject: 4821 tweet 10267\nSubject: 4821 tweet 9789\nSubject: 4822 tweet 9828\n"
     ]
    },
    {
     "name": "stdout",
     "output_type": "stream",
     "text": [
      "Subject: 4822 tweet 454\nSubject: 4822 tweet 4344\nSubject: 4822 tweet 4411\nSubject: 4822 tweet 1857\nSubject: 4822 tweet 7087\nSubject: 4822 tweet 5448\n"
     ]
    },
    {
     "name": "stdout",
     "output_type": "stream",
     "text": [
      "Subject: 4822 tweet 8829\nSubject: 4822 tweet 8856\nSubject: 4822 tweet 9082\nSubject: 4823 tweet 10255\nSubject: 4823 tweet 10277\n"
     ]
    },
    {
     "name": "stdout",
     "output_type": "stream",
     "text": [
      "Subject: 4823 tweet 4337\nSubject: 4823 tweet 3666\nSubject: 4823 tweet 10300\nSubject: 4823 tweet 8949\nSubject: 4823 tweet 9920\nSubject: 4823 tweet 9975\n"
     ]
    },
    {
     "name": "stdout",
     "output_type": "stream",
     "text": [
      "Subject: 4823 tweet 8989\nSubject: 4823 tweet 8986\nSubject: 4827 tweet 10105\nSubject: 4827 tweet 7379\nSubject: 4827 tweet 8082\n"
     ]
    },
    {
     "name": "stdout",
     "output_type": "stream",
     "text": [
      "Subject: 4827 tweet 1734\nSubject: 4827 tweet 5854\nSubject: 4828 tweet 6458\nSubject: 4828 tweet 6456\nSubject: 4828 tweet 2284\n"
     ]
    },
    {
     "name": "stdout",
     "output_type": "stream",
     "text": [
      "Subject: 4828 tweet 7125\nSubject: 4828 tweet 6748\nSubject: 4828 tweet 6277\nSubject: 4828 tweet 6281\nSubject: 4828 tweet 6436\nSubject: 4828 tweet 7678\n"
     ]
    },
    {
     "name": "stdout",
     "output_type": "stream",
     "text": [
      "Subject: 4828 tweet 7243\nSubject: 4832 tweet 7616\nSubject: 4832 tweet 7048\nSubject: 4832 tweet 7275\nSubject: 4832 tweet 7242\n"
     ]
    },
    {
     "name": "stdout",
     "output_type": "stream",
     "text": [
      "Subject: 4832 tweet 3908\nSubject: 4832 tweet 11922\nSubject: 4832 tweet 1527\nSubject: 4832 tweet 1436\nSubject: 4832 tweet 4318\nSubject: 4832 tweet 361\n"
     ]
    },
    {
     "name": "stdout",
     "output_type": "stream",
     "text": [
      "Subject: 4833 tweet 6701\nSubject: 4833 tweet 11144\nSubject: 4833 tweet 1525\nSubject: 4833 tweet 8633\nSubject: 4833 tweet 4912\n"
     ]
    },
    {
     "name": "stdout",
     "output_type": "stream",
     "text": [
      "Subject: 4833 tweet 8328\nSubject: 4833 tweet 3288\nSubject: 4833 tweet 7025\nSubject: 4833 tweet 9093\nSubject: 4833 tweet 6118\n"
     ]
    },
    {
     "name": "stdout",
     "output_type": "stream",
     "text": [
      "Subject: 4835 tweet 4576\nSubject: 4835 tweet 10482\nSubject: 4835 tweet 2410\nSubject: 4835 tweet 10467\nSubject: 4835 tweet 9005\n"
     ]
    },
    {
     "name": "stdout",
     "output_type": "stream",
     "text": [
      "Subject: 4835 tweet 1610\nSubject: 4835 tweet 1500\nSubject: 4835 tweet 773\nSubject: 4835 tweet 1058\nSubject: 4835 tweet 9085\n"
     ]
    },
    {
     "name": "stdout",
     "output_type": "stream",
     "text": [
      "Subject: 4838 tweet 2669\nSubject: 4838 tweet 1912\nSubject: 4838 tweet 8642\nSubject: 4838 tweet 324\nSubject: 4838 tweet 4919\n"
     ]
    },
    {
     "name": "stdout",
     "output_type": "stream",
     "text": [
      "Subject: 4838 tweet 9180\nSubject: 4838 tweet 12227\nSubject: 4838 tweet 4522\nSubject: 4838 tweet 2434\nSubject: 4838 tweet 12458\n"
     ]
    },
    {
     "name": "stdout",
     "output_type": "stream",
     "text": [
      "Subject: 4839 tweet 12602\nSubject: 4839 tweet 3223\nSubject: 4839 tweet 3791\nSubject: 4839 tweet 2642\nSubject: 4839 tweet 12222\nSubject: 4839 tweet 11854\n"
     ]
    },
    {
     "name": "stdout",
     "output_type": "stream",
     "text": [
      "Subject: 4839 tweet 3424\nSubject: 4839 tweet 3941\nSubject: 4839 tweet 1216\nSubject: 4839 tweet 9242\nSubject: 4840 tweet 1124\n"
     ]
    },
    {
     "name": "stdout",
     "output_type": "stream",
     "text": [
      "Subject: 4840 tweet 366\nSubject: 4840 tweet 5833\nSubject: 4840 tweet 7356\nSubject: 4840 tweet 12246\nSubject: 4840 tweet 1110\n"
     ]
    },
    {
     "name": "stdout",
     "output_type": "stream",
     "text": [
      "Subject: 4840 tweet 3678\nSubject: 4840 tweet 3628\nSubject: 4840 tweet 1107\nSubject: 4840 tweet 8368\nSubject: 4841 tweet 3382\n"
     ]
    },
    {
     "name": "stdout",
     "output_type": "stream",
     "text": [
      "Subject: 4841 tweet 8917\nSubject: 4841 tweet 1244\nSubject: 4841 tweet 4546\nSubject: 4841 tweet 4272\nSubject: 4841 tweet 6562\n"
     ]
    },
    {
     "name": "stdout",
     "output_type": "stream",
     "text": [
      "Subject: 4841 tweet 10104\nSubject: 4841 tweet 6921\nSubject: 4841 tweet 10920\nSubject: 4841 tweet 7374\nSubject: 4847 tweet 8478\n"
     ]
    },
    {
     "name": "stdout",
     "output_type": "stream",
     "text": [
      "Subject: 4847 tweet 6044\nSubject: 4847 tweet 9083\nSubject: 4847 tweet 1678\nSubject: 4847 tweet 6471\nSubject: 4847 tweet 885\n"
     ]
    },
    {
     "name": "stdout",
     "output_type": "stream",
     "text": [
      "Subject: 4847 tweet 6394\nSubject: 4847 tweet 9084\nSubject: 4847 tweet 11987\nSubject: 4847 tweet 6571\n"
     ]
    },
    {
     "name": "stdout",
     "output_type": "stream",
     "text": [
      "Subject: 4849 tweet 12443\nSubject: 4849 tweet 8620\nSubject: 4849 tweet 3794\nSubject: 4849 tweet 2233\nSubject: 4849 tweet 2588\n"
     ]
    },
    {
     "name": "stdout",
     "output_type": "stream",
     "text": [
      "Subject: 4849 tweet 9993\nSubject: 4849 tweet 807\nSubject: 4849 tweet 7249\nSubject: 4849 tweet 1199\nSubject: 4849 tweet 239\n"
     ]
    },
    {
     "name": "stdout",
     "output_type": "stream",
     "text": [
      "Subject: 4850 tweet 7162\nSubject: 4850 tweet 1743\nSubject: 4850 tweet 3\nSubject: 4850 tweet 1384\nSubject: 4850 tweet 156\nSubject: 4850 tweet 198\n"
     ]
    },
    {
     "name": "stdout",
     "output_type": "stream",
     "text": [
      "Subject: 4850 tweet 8977\nSubject: 4850 tweet 2243\nSubject: 4850 tweet 9452\nSubject: 4850 tweet 8891\nSubject: 4851 tweet 8618\n"
     ]
    },
    {
     "name": "stdout",
     "output_type": "stream",
     "text": [
      "Subject: 4851 tweet 3202\nSubject: 4851 tweet 9926\nSubject: 4851 tweet 9034\nSubject: 4851 tweet 1534\nSubject: 4851 tweet 9721\nSubject: 4851 tweet 9814\n"
     ]
    },
    {
     "name": "stdout",
     "output_type": "stream",
     "text": [
      "Subject: 4851 tweet 10532\nSubject: 4851 tweet 4429\nSubject: 4851 tweet 10131\nSubject: 4852 tweet 7431\nSubject: 4852 tweet 4195\n"
     ]
    },
    {
     "name": "stdout",
     "output_type": "stream",
     "text": [
      "Subject: 4852 tweet 12320\nSubject: 4852 tweet 7295\nSubject: 4852 tweet 4196\nSubject: 4852 tweet 10284\nSubject: 4852 tweet 7296\nSubject: 4852 tweet 8236\n"
     ]
    },
    {
     "name": "stdout",
     "output_type": "stream",
     "text": [
      "Subject: 4852 tweet 1812\nSubject: 4852 tweet 9727\nSubject: 4853 tweet 7\nSubject: 4853 tweet 10203\nSubject: 4853 tweet 9897\n"
     ]
    },
    {
     "name": "stdout",
     "output_type": "stream",
     "text": [
      "Subject: 4853 tweet 10122\nSubject: 4853 tweet 10710\nSubject: 4853 tweet 1949\nSubject: 4853 tweet 10242\nSubject: 4853 tweet 1403\nSubject: 4853 tweet 10267\n"
     ]
    },
    {
     "name": "stdout",
     "output_type": "stream",
     "text": [
      "Subject: 4853 tweet 9789\nSubject: 4854 tweet 9828\nSubject: 4854 tweet 454\nSubject: 4854 tweet 4344\nSubject: 4854 tweet 4411\n"
     ]
    },
    {
     "name": "stdout",
     "output_type": "stream",
     "text": [
      "Subject: 4854 tweet 1857\nSubject: 4854 tweet 7087\nSubject: 4854 tweet 5448\nSubject: 4854 tweet 8829\nSubject: 4854 tweet 8856\nSubject: 4854 tweet 9082\n"
     ]
    },
    {
     "name": "stdout",
     "output_type": "stream",
     "text": [
      "Subject: 4855 tweet 10255\nSubject: 4855 tweet 10277\nSubject: 4855 tweet 4337\nSubject: 4855 tweet 3666\nSubject: 4855 tweet 10300\n"
     ]
    },
    {
     "name": "stdout",
     "output_type": "stream",
     "text": [
      "Subject: 4855 tweet 8949\nSubject: 4855 tweet 9920\nSubject: 4855 tweet 9975\nSubject: 4855 tweet 8989\nSubject: 4855 tweet 8986\n"
     ]
    },
    {
     "name": "stdout",
     "output_type": "stream",
     "text": [
      "Subject: 4859 tweet 10105\nSubject: 4859 tweet 7379\nSubject: 4859 tweet 8082\nSubject: 4859 tweet 1734\nSubject: 4859 tweet 5854\n"
     ]
    },
    {
     "name": "stdout",
     "output_type": "stream",
     "text": [
      "Subject: 4860 tweet 6458\nSubject: 4860 tweet 6456\nSubject: 4860 tweet 2284\nSubject: 4860 tweet 7125\nSubject: 4860 tweet 6748\nSubject: 4860 tweet 6277\n"
     ]
    },
    {
     "name": "stdout",
     "output_type": "stream",
     "text": [
      "Subject: 4860 tweet 6281\nSubject: 4860 tweet 6436\nSubject: 4860 tweet 7678\nSubject: 4860 tweet 7243\nSubject: 4864 tweet 7616\n"
     ]
    },
    {
     "name": "stdout",
     "output_type": "stream",
     "text": [
      "Subject: 4864 tweet 7048\nSubject: 4864 tweet 7275\nSubject: 4864 tweet 7242\nSubject: 4864 tweet 3908\nSubject: 4864 tweet 11922\nSubject: 4864 tweet 1527\n"
     ]
    },
    {
     "name": "stdout",
     "output_type": "stream",
     "text": [
      "Subject: 4864 tweet 1436\nSubject: 4864 tweet 4318\nSubject: 4864 tweet 361\nSubject: 4865 tweet 6701\nSubject: 4865 tweet 11144\n"
     ]
    },
    {
     "name": "stdout",
     "output_type": "stream",
     "text": [
      "Subject: 4865 tweet 1525\nSubject: 4865 tweet 8633\nSubject: 4865 tweet 4912\nSubject: 4865 tweet 8328\nSubject: 4865 tweet 3288\nSubject: 4865 tweet 7025\n"
     ]
    },
    {
     "name": "stdout",
     "output_type": "stream",
     "text": [
      "Subject: 4865 tweet 9093\nSubject: 4865 tweet 6118\nSubject: 4868 tweet 12602\nSubject: 4868 tweet 3223\n"
     ]
    },
    {
     "name": "stdout",
     "output_type": "stream",
     "text": [
      "Subject: 4868 tweet 3791\nSubject: 4868 tweet 2642\nSubject: 4868 tweet 12222\nSubject: 4868 tweet 11854\nSubject: 4868 tweet 3424\nSubject: 4868 tweet 3941\n"
     ]
    },
    {
     "name": "stdout",
     "output_type": "stream",
     "text": [
      "Subject: 4868 tweet 1216\nSubject: 4868 tweet 9242\nSubject: 4869 tweet 1025\nSubject: 4869 tweet 12430\nSubject: 4869 tweet 12557\n"
     ]
    },
    {
     "name": "stdout",
     "output_type": "stream",
     "text": [
      "Subject: 4869 tweet 8597\nSubject: 4869 tweet 5833\nSubject: 4869 tweet 11818\nSubject: 4869 tweet 408\nSubject: 4869 tweet 12556\nSubject: 4869 tweet 3628\n"
     ]
    },
    {
     "name": "stdout",
     "output_type": "stream",
     "text": [
      "Subject: 4869 tweet 3577\nSubject: 4871 tweet 4657\nSubject: 4871 tweet 9894\nSubject: 4871 tweet 7622\n"
     ]
    },
    {
     "name": "stdout",
     "output_type": "stream",
     "text": [
      "Subject: 4871 tweet 7623\nSubject: 4871 tweet 7444\nSubject: 4871 tweet 10477\nSubject: 4871 tweet 12249\nSubject: 4871 tweet 7624\nSubject: 4871 tweet 1464\n"
     ]
    },
    {
     "name": "stdout",
     "output_type": "stream",
     "text": [
      "Subject: 4871 tweet 8607\nSubject: 4873 tweet 7582\nSubject: 4873 tweet 7192\nSubject: 4873 tweet 7049\nSubject: 4873 tweet 25\n"
     ]
    },
    {
     "name": "stdout",
     "output_type": "stream",
     "text": [
      "Subject: 4873 tweet 3401\nSubject: 4873 tweet 7477\nSubject: 4873 tweet 2112\nSubject: 4873 tweet 6722\nSubject: 4873 tweet 11742\nSubject: 4873 tweet 7045\n"
     ]
    },
    {
     "name": "stdout",
     "output_type": "stream",
     "text": [
      "Subject: 4875 tweet 9892\nSubject: 4875 tweet 12434\nSubject: 4875 tweet 99\nSubject: 4875 tweet 95\nSubject: 4875 tweet 4739\nSubject: 4875 tweet 8593\n"
     ]
    },
    {
     "name": "stdout",
     "output_type": "stream",
     "text": [
      "Subject: 4875 tweet 7499\nSubject: 4875 tweet 8915\nSubject: 4875 tweet 9880\nSubject: 4875 tweet 10398\nSubject: 4876 tweet 4278\n"
     ]
    },
    {
     "name": "stdout",
     "output_type": "stream",
     "text": [
      "Subject: 4876 tweet 9802\nSubject: 4876 tweet 2245\nSubject: 4876 tweet 11435\nSubject: 4876 tweet 7643\nSubject: 4876 tweet 4930\nSubject: 4876 tweet 3234\n"
     ]
    },
    {
     "name": "stdout",
     "output_type": "stream",
     "text": [
      "Subject: 4876 tweet 3466\nSubject: 4876 tweet 4662\nSubject: 4876 tweet 9859\nSubject: 4877 tweet 10704\nSubject: 4877 tweet 1349\n"
     ]
    },
    {
     "name": "stdout",
     "output_type": "stream",
     "text": [
      "Subject: 4877 tweet 1446\nSubject: 4877 tweet 1406\nSubject: 4877 tweet 3534\nSubject: 4878 tweet 7476\nSubject: 4878 tweet 115\n"
     ]
    },
    {
     "name": "stdout",
     "output_type": "stream",
     "text": [
      "Subject: 4878 tweet 7289\nSubject: 4878 tweet 6739\nSubject: 4878 tweet 946\nSubject: 4878 tweet 109\nSubject: 4878 tweet 4272\nSubject: 4878 tweet 8917\n"
     ]
    },
    {
     "name": "stdout",
     "output_type": "stream",
     "text": [
      "Subject: 4878 tweet 1244\nSubject: 4878 tweet 83\nSubject: 4879 tweet 10454\n"
     ]
    },
    {
     "name": "stdout",
     "output_type": "stream",
     "text": [
      "Subject: 4879 tweet 765\nSubject: 4879 tweet 984\nSubject: 4879 tweet 1114\nSubject: 4879 tweet 827\nSubject: 4879 tweet 7138\nSubject: 4879 tweet 1046\n"
     ]
    },
    {
     "name": "stdout",
     "output_type": "stream",
     "text": [
      "Subject: 4879 tweet 3108\nSubject: 4879 tweet 6524\nSubject: 4879 tweet 5618\nSubject: 4883 tweet 5283\nSubject: 4883 tweet 8207\n"
     ]
    },
    {
     "name": "stdout",
     "output_type": "stream",
     "text": [
      "Subject: 4883 tweet 12595\nSubject: 4883 tweet 8249\nSubject: 4883 tweet 8410\nSubject: 4883 tweet 7957\nSubject: 4883 tweet 3226\n"
     ]
    },
    {
     "name": "stdout",
     "output_type": "stream",
     "text": [
      "Subject: 4883 tweet 1813\nSubject: 4883 tweet 10976\nSubject: 4883 tweet 10979\n"
     ]
    },
    {
     "name": "stdout",
     "output_type": "stream",
     "text": [
      "Subject: 4885 tweet 2789\nSubject: 4885 tweet 9298\n"
     ]
    },
    {
     "name": "stdout",
     "output_type": "stream",
     "text": [
      "Subject: 4885 tweet 446\nSubject: 4885 tweet 2470\nSubject: 4885 tweet 2683\n"
     ]
    },
    {
     "name": "stdout",
     "output_type": "stream",
     "text": [
      "Subject: 4885 tweet 1907\n"
     ]
    },
    {
     "name": "stdout",
     "output_type": "stream",
     "text": [
      "Subject: 4885 tweet 1924\nSubject: 4885 tweet 2518\n"
     ]
    },
    {
     "name": "stdout",
     "output_type": "stream",
     "text": [
      "Subject: 4885 tweet 2099\nSubject: 4885 tweet 2404\nSubject: 4888 tweet 10315\n"
     ]
    },
    {
     "name": "stdout",
     "output_type": "stream",
     "text": [
      "Subject: 4888 tweet 10286\nSubject: 4888 tweet 10278\nSubject: 4888 tweet 9356\n"
     ]
    },
    {
     "name": "stdout",
     "output_type": "stream",
     "text": [
      "Subject: 4888 tweet 4675\nSubject: 4888 tweet 3509\n"
     ]
    },
    {
     "name": "stdout",
     "output_type": "stream",
     "text": [
      "Subject: 4888 tweet 1102\nSubject: 4888 tweet 11977\n"
     ]
    },
    {
     "name": "stdout",
     "output_type": "stream",
     "text": [
      "Subject: 4888 tweet 12351\nSubject: 4888 tweet 2544\nSubject: 4902 tweet 361\nSubject: 4902 tweet 4592\nSubject: 4902 tweet 6063\n"
     ]
    },
    {
     "name": "stdout",
     "output_type": "stream",
     "text": [
      "Subject: 4902 tweet 1205\nSubject: 4902 tweet 6378\nSubject: 4902 tweet 11896\nSubject: 4902 tweet 7119\nSubject: 4902 tweet 6083\nSubject: 4902 tweet 9278\n"
     ]
    },
    {
     "name": "stdout",
     "output_type": "stream",
     "text": [
      "Subject: 4902 tweet 1230\nSubject: 4903 tweet 1722\nSubject: 4903 tweet 1721\nSubject: 4903 tweet 9157\n"
     ]
    },
    {
     "name": "stdout",
     "output_type": "stream",
     "text": [
      "Subject: 4903 tweet 8453\nSubject: 4903 tweet 9163\nSubject: 4903 tweet 850\nSubject: 4903 tweet 9334\nSubject: 4903 tweet 10951\nSubject: 4903 tweet 9103\n"
     ]
    },
    {
     "name": "stdout",
     "output_type": "stream",
     "text": [
      "Subject: 4903 tweet 8248\nSubject: 4910 tweet 4900\nSubject: 4910 tweet 4697\nSubject: 4910 tweet 4881\nSubject: 4910 tweet 3271\n"
     ]
    },
    {
     "name": "stdout",
     "output_type": "stream",
     "text": [
      "Subject: 4910 tweet 1774\nSubject: 4910 tweet 2962\nSubject: 4910 tweet 2769\nSubject: 4911 tweet 3265\nSubject: 4911 tweet 9355\n"
     ]
    },
    {
     "name": "stdout",
     "output_type": "stream",
     "text": [
      "Subject: 4911 tweet 5940\nSubject: 4911 tweet 10543\nSubject: 4911 tweet 8730\nSubject: 4911 tweet 9267\nSubject: 4911 tweet 4420\nSubject: 4911 tweet 7581\n"
     ]
    },
    {
     "name": "stdout",
     "output_type": "stream",
     "text": [
      "Subject: 4911 tweet 9735\nSubject: 4911 tweet 104\nSubject: 4917 tweet 1943\nSubject: 4917 tweet 708\n"
     ]
    },
    {
     "name": "stdout",
     "output_type": "stream",
     "text": [
      "Subject: 4919 tweet 11480\nSubject: 4919 tweet 2077\nSubject: 4919 tweet 243\nSubject: 4919 tweet 4085\nSubject: 4919 tweet 2490\nSubject: 4919 tweet 9286\n"
     ]
    },
    {
     "name": "stdout",
     "output_type": "stream",
     "text": [
      "Subject: 4919 tweet 11338\nSubject: 4919 tweet 1845\nSubject: 4919 tweet 2948\nSubject: 4919 tweet 2624\nSubject: 4920 tweet 4576\n"
     ]
    },
    {
     "name": "stdout",
     "output_type": "stream",
     "text": [
      "Subject: 4920 tweet 10482\nSubject: 4920 tweet 2410\nSubject: 4920 tweet 10467\nSubject: 4920 tweet 9005\nSubject: 4920 tweet 1610\nSubject: 4920 tweet 1500\n"
     ]
    },
    {
     "name": "stdout",
     "output_type": "stream",
     "text": [
      "Subject: 4920 tweet 773\nSubject: 4920 tweet 1058\nSubject: 4920 tweet 9085\nSubject: 4922 tweet 2669\nSubject: 4922 tweet 1912\n"
     ]
    },
    {
     "name": "stdout",
     "output_type": "stream",
     "text": [
      "Subject: 4922 tweet 8642\nSubject: 4922 tweet 324\nSubject: 4922 tweet 4919\nSubject: 4922 tweet 9180\nSubject: 4922 tweet 12227\nSubject: 4922 tweet 4522\n"
     ]
    },
    {
     "name": "stdout",
     "output_type": "stream",
     "text": [
      "Subject: 4922 tweet 2434\nSubject: 4922 tweet 12458\nSubject: 4923 tweet 3382\nSubject: 4923 tweet 8917\nSubject: 4923 tweet 1244\n"
     ]
    },
    {
     "name": "stdout",
     "output_type": "stream",
     "text": [
      "Subject: 4923 tweet 4546\nSubject: 4923 tweet 4272\nSubject: 4923 tweet 6562\nSubject: 4923 tweet 10104\nSubject: 4923 tweet 6921\n"
     ]
    },
    {
     "name": "stdout",
     "output_type": "stream",
     "text": [
      "Subject: 4923 tweet 10920\nSubject: 4923 tweet 7374\nSubject: 4929 tweet 8478\nSubject: 4929 tweet 6044\n"
     ]
    },
    {
     "name": "stdout",
     "output_type": "stream",
     "text": [
      "Subject: 4929 tweet 9083\nSubject: 4929 tweet 1678\nSubject: 4929 tweet 6471\nSubject: 4929 tweet 885\nSubject: 4929 tweet 6394\n"
     ]
    },
    {
     "name": "stdout",
     "output_type": "stream",
     "text": [
      "Subject: 4929 tweet 9084\nSubject: 4929 tweet 11987\nSubject: 4929 tweet 6571\nSubject: 4931 tweet 12443\nSubject: 4931 tweet 8620\n"
     ]
    },
    {
     "name": "stdout",
     "output_type": "stream",
     "text": [
      "Subject: 4931 tweet 3794\nSubject: 4931 tweet 2233\nSubject: 4931 tweet 2588\nSubject: 4931 tweet 9993\nSubject: 4931 tweet 807\nSubject: 4931 tweet 7249\n"
     ]
    },
    {
     "name": "stdout",
     "output_type": "stream",
     "text": [
      "Subject: 4931 tweet 1199\nSubject: 4931 tweet 239\nSubject: 4932 tweet 7162\nSubject: 4932 tweet 1743\nSubject: 4932 tweet 3\n"
     ]
    },
    {
     "name": "stdout",
     "output_type": "stream",
     "text": [
      "Subject: 4932 tweet 1384\nSubject: 4932 tweet 156\nSubject: 4932 tweet 198\nSubject: 4932 tweet 8977\nSubject: 4932 tweet 2243\nSubject: 4932 tweet 9452\n"
     ]
    },
    {
     "name": "stdout",
     "output_type": "stream",
     "text": [
      "Subject: 4932 tweet 8891\nSubject: 4933 tweet 8618\nSubject: 4933 tweet 3202\nSubject: 4933 tweet 9926\nSubject: 4933 tweet 9034\n"
     ]
    },
    {
     "name": "stdout",
     "output_type": "stream",
     "text": [
      "Subject: 4933 tweet 1534\nSubject: 4933 tweet 9721\nSubject: 4933 tweet 9814\nSubject: 4933 tweet 10532\nSubject: 4933 tweet 4429\nSubject: 4933 tweet 10131\n"
     ]
    },
    {
     "name": "stdout",
     "output_type": "stream",
     "text": [
      "Subject: 4934 tweet 7431\nSubject: 4934 tweet 4195\nSubject: 4934 tweet 12320\nSubject: 4934 tweet 7295\nSubject: 4934 tweet 4196\nSubject: 4934 tweet 10284\n"
     ]
    },
    {
     "name": "stdout",
     "output_type": "stream",
     "text": [
      "Subject: 4934 tweet 7296\nSubject: 4934 tweet 8236\nSubject: 4934 tweet 1812\nSubject: 4934 tweet 9727\nSubject: 4935 tweet 7\n"
     ]
    },
    {
     "name": "stdout",
     "output_type": "stream",
     "text": [
      "Subject: 4935 tweet 10203\nSubject: 4935 tweet 9897\nSubject: 4935 tweet 10122\nSubject: 4935 tweet 10710\nSubject: 4935 tweet 1949\nSubject: 4935 tweet 10242\n"
     ]
    },
    {
     "name": "stdout",
     "output_type": "stream",
     "text": [
      "Subject: 4935 tweet 1403\nSubject: 4935 tweet 10267\nSubject: 4935 tweet 9789\nSubject: 4936 tweet 9828\nSubject: 4936 tweet 454\n"
     ]
    },
    {
     "name": "stdout",
     "output_type": "stream",
     "text": [
      "Subject: 4936 tweet 4344\nSubject: 4936 tweet 4411\nSubject: 4936 tweet 1857\nSubject: 4936 tweet 7087\nSubject: 4936 tweet 5448\n"
     ]
    },
    {
     "name": "stdout",
     "output_type": "stream",
     "text": [
      "Subject: 4936 tweet 8829\nSubject: 4936 tweet 8856\nSubject: 4936 tweet 9082\nSubject: 4937 tweet 10255\nSubject: 4937 tweet 10277\n"
     ]
    },
    {
     "name": "stdout",
     "output_type": "stream",
     "text": [
      "Subject: 4937 tweet 4337\nSubject: 4937 tweet 3666\nSubject: 4937 tweet 10300\nSubject: 4937 tweet 8949\nSubject: 4937 tweet 9920\nSubject: 4937 tweet 9975\n"
     ]
    },
    {
     "name": "stdout",
     "output_type": "stream",
     "text": [
      "Subject: 4937 tweet 8989\nSubject: 4937 tweet 8986\nSubject: 4941 tweet 10105\nSubject: 4941 tweet 7379\nSubject: 4941 tweet 8082\n"
     ]
    },
    {
     "name": "stdout",
     "output_type": "stream",
     "text": [
      "Subject: 4941 tweet 1734\nSubject: 4941 tweet 5854\nSubject: 4942 tweet 6458\nSubject: 4942 tweet 6456\n"
     ]
    },
    {
     "name": "stdout",
     "output_type": "stream",
     "text": [
      "Subject: 4942 tweet 2284\nSubject: 4942 tweet 7125\nSubject: 4942 tweet 6748\nSubject: 4942 tweet 6277\nSubject: 4942 tweet 6281\nSubject: 4942 tweet 6436\n"
     ]
    },
    {
     "name": "stdout",
     "output_type": "stream",
     "text": [
      "Subject: 4942 tweet 7678\nSubject: 4942 tweet 7243\nSubject: 4946 tweet 7616\nSubject: 4946 tweet 7048\nSubject: 4946 tweet 7275\n"
     ]
    },
    {
     "name": "stdout",
     "output_type": "stream",
     "text": [
      "Subject: 4946 tweet 7242\nSubject: 4946 tweet 3908\nSubject: 4946 tweet 11922\nSubject: 4946 tweet 1527\nSubject: 4946 tweet 1436\nSubject: 4946 tweet 4318\n"
     ]
    },
    {
     "name": "stdout",
     "output_type": "stream",
     "text": [
      "Subject: 4946 tweet 361\nSubject: 4947 tweet 6701\nSubject: 4947 tweet 11144\nSubject: 4947 tweet 1525\nSubject: 4947 tweet 8633\n"
     ]
    },
    {
     "name": "stdout",
     "output_type": "stream",
     "text": [
      "Subject: 4947 tweet 4912\nSubject: 4947 tweet 8328\nSubject: 4947 tweet 3288\nSubject: 4947 tweet 7025\nSubject: 4947 tweet 9093\n"
     ]
    },
    {
     "name": "stdout",
     "output_type": "stream",
     "text": [
      "Subject: 4947 tweet 6118\nSubject: 4950 tweet 12602\nSubject: 4950 tweet 3223\nSubject: 4950 tweet 3791\nSubject: 4950 tweet 2642\n"
     ]
    },
    {
     "name": "stdout",
     "output_type": "stream",
     "text": [
      "Subject: 4950 tweet 12222\nSubject: 4950 tweet 11854\nSubject: 4950 tweet 3424\nSubject: 4950 tweet 3941\nSubject: 4950 tweet 1216\nSubject: 4950 tweet 9242\n"
     ]
    },
    {
     "name": "stdout",
     "output_type": "stream",
     "text": [
      "Subject: 4951 tweet 1025\nSubject: 4951 tweet 12430\nSubject: 4951 tweet 12557\nSubject: 4951 tweet 8597\n"
     ]
    },
    {
     "name": "stdout",
     "output_type": "stream",
     "text": [
      "Subject: 4951 tweet 5833\nSubject: 4951 tweet 11818\nSubject: 4951 tweet 408\nSubject: 4951 tweet 12556\nSubject: 4951 tweet 3628\n"
     ]
    },
    {
     "name": "stdout",
     "output_type": "stream",
     "text": [
      "Subject: 4951 tweet 3577\nSubject: 4953 tweet 4657\nSubject: 4953 tweet 9894\nSubject: 4953 tweet 7622\n"
     ]
    },
    {
     "name": "stdout",
     "output_type": "stream",
     "text": [
      "Subject: 4953 tweet 7623\nSubject: 4953 tweet 7444\nSubject: 4953 tweet 10477\nSubject: 4953 tweet 12249\nSubject: 4953 tweet 7624\nSubject: 4953 tweet 1464\n"
     ]
    },
    {
     "name": "stdout",
     "output_type": "stream",
     "text": [
      "Subject: 4953 tweet 8607\nSubject: 4955 tweet 7582\nSubject: 4955 tweet 7192\nSubject: 4955 tweet 7049\nSubject: 4955 tweet 25\n"
     ]
    },
    {
     "name": "stdout",
     "output_type": "stream",
     "text": [
      "Subject: 4955 tweet 3401\nSubject: 4955 tweet 7477\nSubject: 4955 tweet 2112\nSubject: 4955 tweet 6722\nSubject: 4955 tweet 11742\nSubject: 4955 tweet 7045\n"
     ]
    },
    {
     "name": "stdout",
     "output_type": "stream",
     "text": [
      "Subject: 4957 tweet 9892\nSubject: 4957 tweet 12434\nSubject: 4957 tweet 99\nSubject: 4957 tweet 95\nSubject: 4957 tweet 4739\nSubject: 4957 tweet 8593\n"
     ]
    },
    {
     "name": "stdout",
     "output_type": "stream",
     "text": [
      "Subject: 4957 tweet 7499\nSubject: 4957 tweet 8915\nSubject: 4957 tweet 9880\nSubject: 4957 tweet 10398\nSubject: 4958 tweet 4278\n"
     ]
    },
    {
     "name": "stdout",
     "output_type": "stream",
     "text": [
      "Subject: 4958 tweet 9802\nSubject: 4958 tweet 2245\nSubject: 4958 tweet 11435\nSubject: 4958 tweet 7643\nSubject: 4958 tweet 4930\n"
     ]
    },
    {
     "name": "stdout",
     "output_type": "stream",
     "text": [
      "Subject: 4958 tweet 3234\nSubject: 4958 tweet 3466\nSubject: 4958 tweet 4662\nSubject: 4958 tweet 9859\nSubject: 4959 tweet 10704\n"
     ]
    },
    {
     "name": "stdout",
     "output_type": "stream",
     "text": [
      "Subject: 4959 tweet 1349\nSubject: 4959 tweet 1446\nSubject: 4959 tweet 1406\nSubject: 4959 tweet 3534\n"
     ]
    },
    {
     "name": "stdout",
     "output_type": "stream",
     "text": [
      "Subject: 4960 tweet 7476\nSubject: 4960 tweet 115\nSubject: 4960 tweet 7289\nSubject: 4960 tweet 6739\nSubject: 4960 tweet 946\nSubject: 4960 tweet 109\n"
     ]
    },
    {
     "name": "stdout",
     "output_type": "stream",
     "text": [
      "Subject: 4960 tweet 4272\nSubject: 4960 tweet 8917\nSubject: 4960 tweet 1244\nSubject: 4960 tweet 83\nSubject: 4961 tweet 10454\n"
     ]
    },
    {
     "name": "stdout",
     "output_type": "stream",
     "text": [
      "Subject: 4961 tweet 765\nSubject: 4961 tweet 984\nSubject: 4961 tweet 1114\nSubject: 4961 tweet 827\nSubject: 4961 tweet 7138\n"
     ]
    },
    {
     "name": "stdout",
     "output_type": "stream",
     "text": [
      "Subject: 4961 tweet 1046\nSubject: 4961 tweet 3108\nSubject: 4961 tweet 6524\nSubject: 4961 tweet 5618\nSubject: 4965 tweet 5283\n"
     ]
    },
    {
     "name": "stdout",
     "output_type": "stream",
     "text": [
      "Subject: 4965 tweet 8207\nSubject: 4965 tweet 12595\nSubject: 4965 tweet 8249\nSubject: 4965 tweet 8410\nSubject: 4965 tweet 7957\nSubject: 4965 tweet 3226\n"
     ]
    },
    {
     "name": "stdout",
     "output_type": "stream",
     "text": [
      "Subject: 4965 tweet 1813\nSubject: 4965 tweet 10976\nSubject: 4965 tweet 10979\nSubject: 4967 tweet 2789\n"
     ]
    },
    {
     "name": "stdout",
     "output_type": "stream",
     "text": [
      "Subject: 4967 tweet 9298\nSubject: 4967 tweet 446\nSubject: 4967 tweet 2470\nSubject: 4967 tweet 2683\nSubject: 4967 tweet 1907\nSubject: 4967 tweet 1924\n"
     ]
    },
    {
     "name": "stdout",
     "output_type": "stream",
     "text": [
      "Subject: 4967 tweet 2518\nSubject: 4967 tweet 2099\nSubject: 4967 tweet 2404\nSubject: 4970 tweet 10315\n"
     ]
    },
    {
     "name": "stdout",
     "output_type": "stream",
     "text": [
      "Subject: 4970 tweet 10286\nSubject: 4970 tweet 10278\nSubject: 4970 tweet 9356\nSubject: 4970 tweet 4675\nSubject: 4970 tweet 3509\nSubject: 4970 tweet 1102\n"
     ]
    },
    {
     "name": "stdout",
     "output_type": "stream",
     "text": [
      "Subject: 4970 tweet 11977\nSubject: 4970 tweet 12351\nSubject: 4970 tweet 2544\nSubject: 4983 tweet 361\nSubject: 4983 tweet 4592\n"
     ]
    },
    {
     "name": "stdout",
     "output_type": "stream",
     "text": [
      "Subject: 4983 tweet 6063\nSubject: 4983 tweet 1205\nSubject: 4983 tweet 6378\nSubject: 4983 tweet 11896\nSubject: 4983 tweet 7119\nSubject: 4983 tweet 6083\n"
     ]
    },
    {
     "name": "stdout",
     "output_type": "stream",
     "text": [
      "Subject: 4983 tweet 9278\nSubject: 4983 tweet 1230\nSubject: 4984 tweet 1722\nSubject: 4984 tweet 1721\nSubject: 4984 tweet 9157\n"
     ]
    },
    {
     "name": "stdout",
     "output_type": "stream",
     "text": [
      "Subject: 4984 tweet 8453\nSubject: 4984 tweet 9163\nSubject: 4984 tweet 850\nSubject: 4984 tweet 9334\nSubject: 4984 tweet 10951\n"
     ]
    },
    {
     "name": "stdout",
     "output_type": "stream",
     "text": [
      "Subject: 4984 tweet 9103\nSubject: 4984 tweet 8248\nSubject: 4991 tweet 4900\nSubject: 4991 tweet 4697\nSubject: 4991 tweet 4881\n"
     ]
    },
    {
     "name": "stdout",
     "output_type": "stream",
     "text": [
      "Subject: 4991 tweet 3271\nSubject: 4991 tweet 1774\nSubject: 4991 tweet 2962\nSubject: 4991 tweet 2769\n"
     ]
    },
    {
     "name": "stdout",
     "output_type": "stream",
     "text": [
      "Subject: 4992 tweet 3265\nSubject: 4992 tweet 9355\nSubject: 4992 tweet 5940\nSubject: 4992 tweet 10543\nSubject: 4992 tweet 8730\n"
     ]
    },
    {
     "name": "stdout",
     "output_type": "stream",
     "text": [
      "Subject: 4992 tweet 9267\nSubject: 4992 tweet 4420\nSubject: 4992 tweet 7581\nSubject: 4992 tweet 9735\nSubject: 4992 tweet 104\n"
     ]
    },
    {
     "name": "stdout",
     "output_type": "stream",
     "text": [
      "Subject: 4998 tweet 1943\nSubject: 4998 tweet 708\nSubject: 5000 tweet 2490\nSubject: 5000 tweet 243\nSubject: 5000 tweet 11480\n"
     ]
    },
    {
     "name": "stdout",
     "output_type": "stream",
     "text": [
      "Subject: 5000 tweet 2077\nSubject: 5000 tweet 4085\nSubject: 5000 tweet 9286\nSubject: 5000 tweet 11338\nSubject: 5000 tweet 8814\n"
     ]
    },
    {
     "name": "stdout",
     "output_type": "stream",
     "text": [
      "Subject: 5000 tweet 3175\nSubject: 5000 tweet 2624\nSubject: 5002 tweet 6519\nSubject: 5002 tweet 8514\nSubject: 5002 tweet 5475\n"
     ]
    },
    {
     "name": "stdout",
     "output_type": "stream",
     "text": [
      "Subject: 5002 tweet 8824\nSubject: 5002 tweet 7564\nSubject: 5002 tweet 10652\nSubject: 5002 tweet 3086\nSubject: 5002 tweet 4649\nSubject: 5002 tweet 6956\n"
     ]
    },
    {
     "name": "stdout",
     "output_type": "stream",
     "text": [
      "Subject: 5002 tweet 263\nSubject: 5004 tweet 919\nSubject: 5004 tweet 1938\nSubject: 5004 tweet 3214\nSubject: 5004 tweet 1935\n"
     ]
    },
    {
     "name": "stdout",
     "output_type": "stream",
     "text": [
      "Subject: 5004 tweet 8455\nSubject: 5004 tweet 7100\nSubject: 5004 tweet 8313\nSubject: 5004 tweet 2743\nSubject: 5004 tweet 3978\nSubject: 5004 tweet 233\n"
     ]
    },
    {
     "name": "stdout",
     "output_type": "stream",
     "text": [
      "Subject: 5006 tweet 3129\nSubject: 5006 tweet 1445\nSubject: 5006 tweet 8725\nSubject: 5006 tweet 3096\nSubject: 5006 tweet 3859\nSubject: 5006 tweet 11047\n"
     ]
    },
    {
     "name": "stdout",
     "output_type": "stream",
     "text": [
      "Subject: 5006 tweet 1211\nSubject: 5006 tweet 8142\nSubject: 5006 tweet 4154\nSubject: 5006 tweet 10941\nSubject: 5016 tweet 1411\n"
     ]
    },
    {
     "name": "stdout",
     "output_type": "stream",
     "text": [
      "Subject: 5016 tweet 2195\nSubject: 5016 tweet 6140\nSubject: 5016 tweet 2481\nSubject: 5016 tweet 8581\nSubject: 5016 tweet 6363\nSubject: 5016 tweet 6581\n"
     ]
    },
    {
     "name": "stdout",
     "output_type": "stream",
     "text": [
      "Subject: 5016 tweet 9041\nSubject: 5016 tweet 1944\nSubject: 5016 tweet 9720\nSubject: 5018 tweet 1888\n"
     ]
    },
    {
     "name": "stdout",
     "output_type": "stream",
     "text": [
      "Subject: 5018 tweet 12432\nSubject: 5018 tweet 5227\nSubject: 5018 tweet 12464\nSubject: 5018 tweet 4227\nSubject: 5018 tweet 4387\nSubject: 5018 tweet 6353\n"
     ]
    },
    {
     "name": "stdout",
     "output_type": "stream",
     "text": [
      "Subject: 5018 tweet 891\nSubject: 5018 tweet 5263\nSubject: 5018 tweet 2129\nSubject: 5020 tweet 12509\nSubject: 5020 tweet 1434\n"
     ]
    },
    {
     "name": "stdout",
     "output_type": "stream",
     "text": [
      "Subject: 5020 tweet 5312\nSubject: 5020 tweet 5263\nSubject: 5020 tweet 9385\nSubject: 5020 tweet 5227\nSubject: 5020 tweet 8343\n"
     ]
    },
    {
     "name": "stdout",
     "output_type": "stream",
     "text": [
      "Subject: 5020 tweet 8189\nSubject: 5020 tweet 8771\nSubject: 5020 tweet 8966\nSubject: 5023 tweet 5285\nSubject: 5023 tweet 6155\n"
     ]
    },
    {
     "name": "stdout",
     "output_type": "stream",
     "text": [
      "Subject: 5023 tweet 6182\nSubject: 5023 tweet 6008\nSubject: 5023 tweet 6115\nSubject: 5023 tweet 5317\nSubject: 5023 tweet 4294\nSubject: 5023 tweet 7741\n"
     ]
    },
    {
     "name": "stdout",
     "output_type": "stream",
     "text": [
      "Subject: 5023 tweet 6257\nSubject: 5023 tweet 4887\nSubject: 5024 tweet 1867\nSubject: 5024 tweet 4713\nSubject: 5024 tweet 5665\n"
     ]
    },
    {
     "name": "stdout",
     "output_type": "stream",
     "text": [
      "Subject: 5024 tweet 2722\nSubject: 5024 tweet 2785\nSubject: 5024 tweet 2498\nSubject: 5024 tweet 7532\nSubject: 5024 tweet 7500\nSubject: 5024 tweet 2852\n"
     ]
    },
    {
     "name": "stdout",
     "output_type": "stream",
     "text": [
      "Subject: 5024 tweet 4706\nSubject: 5025 tweet 349\nSubject: 5025 tweet 3531\nSubject: 5025 tweet 3545\nSubject: 5025 tweet 3634\n"
     ]
    },
    {
     "name": "stdout",
     "output_type": "stream",
     "text": [
      "Subject: 5025 tweet 3629\nSubject: 5025 tweet 1091\nSubject: 5025 tweet 1149\nSubject: 5025 tweet 1085\nSubject: 5025 tweet 12164\nSubject: 5025 tweet 3567\n"
     ]
    },
    {
     "name": "stdout",
     "output_type": "stream",
     "text": [
      "Subject: 5026 tweet 3543\nSubject: 5026 tweet 3567\nSubject: 5026 tweet 9905\nSubject: 5026 tweet 3398\nSubject: 5026 tweet 3508\n"
     ]
    },
    {
     "name": "stdout",
     "output_type": "stream",
     "text": [
      "Subject: 5026 tweet 9484\nSubject: 5026 tweet 2474\nSubject: 5026 tweet 12564\nSubject: 5026 tweet 3559\nSubject: 5026 tweet 472\n"
     ]
    },
    {
     "name": "stdout",
     "output_type": "stream",
     "text": [
      "Subject: 5032 tweet 11263\nSubject: 5032 tweet 3032\nSubject: 5032 tweet 11678\nSubject: 5032 tweet 9302\nSubject: 5032 tweet 2490\n"
     ]
    },
    {
     "name": "stdout",
     "output_type": "stream",
     "text": [
      "Subject: 5032 tweet 243\nSubject: 5032 tweet 10363\nSubject: 5032 tweet 1845\nSubject: 5032 tweet 9286\nSubject: 5032 tweet 10861\n"
     ]
    },
    {
     "name": "stdout",
     "output_type": "stream",
     "text": [
      "Subject: 5033 tweet 4984\nSubject: 5033 tweet 11982\nSubject: 5033 tweet 4285\nSubject: 5033 tweet 3087\nSubject: 5033 tweet 1388\nSubject: 5033 tweet 1858\n"
     ]
    },
    {
     "name": "stdout",
     "output_type": "stream",
     "text": [
      "Subject: 5033 tweet 7124\nSubject: 5033 tweet 7392\nSubject: 5033 tweet 7463\nSubject: 5033 tweet 3264\nSubject: 5035 tweet 6036\n"
     ]
    },
    {
     "name": "stdout",
     "output_type": "stream",
     "text": [
      "Subject: 5035 tweet 2714\nSubject: 5035 tweet 5157\nSubject: 5035 tweet 1795\nSubject: 5035 tweet 5749\nSubject: 5035 tweet 6484\nSubject: 5035 tweet 8817\n"
     ]
    },
    {
     "name": "stdout",
     "output_type": "stream",
     "text": [
      "Subject: 5035 tweet 2734\nSubject: 5035 tweet 4588\nSubject: 5035 tweet 8016\n"
     ]
    },
    {
     "name": "stdout",
     "output_type": "stream",
     "text": [
      "Subject: 5041 tweet 7474\nSubject: 5041 tweet 2286\nSubject: 5041 tweet 8505\nSubject: 5041 tweet 8507\nSubject: 5041 tweet 7509\nSubject: 5041 tweet 12542\n"
     ]
    },
    {
     "name": "stdout",
     "output_type": "stream",
     "text": [
      "Subject: 5041 tweet 346\nSubject: 5041 tweet 2802\nSubject: 5041 tweet 2346\nSubject: 5041 tweet 2667\nSubject: 5042 tweet 6287\n"
     ]
    },
    {
     "name": "stdout",
     "output_type": "stream",
     "text": [
      "Subject: 5042 tweet 6920\nSubject: 5042 tweet 10392\nSubject: 5042 tweet 2614\nSubject: 5042 tweet 11005\nSubject: 5042 tweet 3533\nSubject: 5042 tweet 11011\n"
     ]
    },
    {
     "name": "stdout",
     "output_type": "stream",
     "text": [
      "Subject: 5042 tweet 8566\nSubject: 5042 tweet 1811\nSubject: 5042 tweet 5188\nSubject: 5044 tweet 6967\nSubject: 5044 tweet 6917\n"
     ]
    },
    {
     "name": "stdout",
     "output_type": "stream",
     "text": [
      "Subject: 5044 tweet 11382\nSubject: 5044 tweet 5263\nSubject: 5044 tweet 5227\nSubject: 5044 tweet 5312\nSubject: 5044 tweet 1026\nSubject: 5044 tweet 372\n"
     ]
    },
    {
     "name": "stdout",
     "output_type": "stream",
     "text": [
      "Subject: 5044 tweet 2890\nSubject: 5044 tweet 8176\nSubject: 5046 tweet 4962\nSubject: 5046 tweet 4954\nSubject: 5046 tweet 9595\n"
     ]
    },
    {
     "name": "stdout",
     "output_type": "stream",
     "text": [
      "Subject: 5046 tweet 8523\nSubject: 5046 tweet 4708\nSubject: 5046 tweet 4748\nSubject: 5046 tweet 11570\nSubject: 5046 tweet 1853\nSubject: 5046 tweet 1723\n"
     ]
    },
    {
     "name": "stdout",
     "output_type": "stream",
     "text": [
      "Subject: 5046 tweet 10559\nSubject: 5047 tweet 11300\nSubject: 5047 tweet 11683\nSubject: 5047 tweet 11249\n"
     ]
    },
    {
     "name": "stdout",
     "output_type": "stream",
     "text": [
      "Subject: 5047 tweet 11682\nSubject: 5047 tweet 3299\nSubject: 5047 tweet 11680\nSubject: 5047 tweet 11304\nSubject: 5047 tweet 450\nSubject: 5047 tweet 3364\n"
     ]
    },
    {
     "name": "stdout",
     "output_type": "stream",
     "text": [
      "Subject: 5047 tweet 11569\nSubject: 5048 tweet 8529\nSubject: 5048 tweet 4309\nSubject: 5048 tweet 10988\nSubject: 5048 tweet 9719\n"
     ]
    },
    {
     "name": "stdout",
     "output_type": "stream",
     "text": [
      "Subject: 5048 tweet 992\nSubject: 5048 tweet 4070\nSubject: 5048 tweet 4732\nSubject: 5048 tweet 5080\nSubject: 5048 tweet 8871\n"
     ]
    },
    {
     "name": "stdout",
     "output_type": "stream",
     "text": [
      "Subject: 5050 tweet 5136\nSubject: 5050 tweet 7689\nSubject: 5050 tweet 12145\nSubject: 5050 tweet 8529\nSubject: 5050 tweet 4070\nSubject: 5050 tweet 4309\n"
     ]
    },
    {
     "name": "stdout",
     "output_type": "stream",
     "text": [
      "Subject: 5050 tweet 335\nSubject: 5050 tweet 11213\nSubject: 5050 tweet 6725\nSubject: 5050 tweet 3063\nSubject: 5051 tweet 4576\n"
     ]
    },
    {
     "name": "stdout",
     "output_type": "stream",
     "text": [
      "Subject: 5051 tweet 10482\nSubject: 5051 tweet 2410\nSubject: 5051 tweet 10467\nSubject: 5051 tweet 9005\nSubject: 5051 tweet 1610\nSubject: 5051 tweet 1500\n"
     ]
    },
    {
     "name": "stdout",
     "output_type": "stream",
     "text": [
      "Subject: 5051 tweet 773\nSubject: 5051 tweet 1058\nSubject: 5051 tweet 9085\nSubject: 5053 tweet 2669\nSubject: 5053 tweet 1912\n"
     ]
    },
    {
     "name": "stdout",
     "output_type": "stream",
     "text": [
      "Subject: 5053 tweet 8642\nSubject: 5053 tweet 324\nSubject: 5053 tweet 4919\nSubject: 5053 tweet 9180\nSubject: 5053 tweet 12227\nSubject: 5053 tweet 4522\n"
     ]
    },
    {
     "name": "stdout",
     "output_type": "stream",
     "text": [
      "Subject: 5053 tweet 2434\nSubject: 5053 tweet 12458\nSubject: 5054 tweet 4576\nSubject: 5054 tweet 10482\nSubject: 5054 tweet 2410\n"
     ]
    },
    {
     "name": "stdout",
     "output_type": "stream",
     "text": [
      "Subject: 5054 tweet 10467\nSubject: 5054 tweet 9005\nSubject: 5054 tweet 1610\nSubject: 5054 tweet 1500\nSubject: 5054 tweet 773\nSubject: 5054 tweet 1058\n"
     ]
    },
    {
     "name": "stdout",
     "output_type": "stream",
     "text": [
      "Subject: 5054 tweet 9085\nSubject: 5056 tweet 4576\nSubject: 5056 tweet 10482\nSubject: 5056 tweet 2410\nSubject: 5056 tweet 10467\n"
     ]
    },
    {
     "name": "stdout",
     "output_type": "stream",
     "text": [
      "Subject: 5056 tweet 9005\nSubject: 5056 tweet 1610\nSubject: 5056 tweet 1500\nSubject: 5056 tweet 773\n"
     ]
    },
    {
     "name": "stdout",
     "output_type": "stream",
     "text": [
      "Subject: 5056 tweet 1058\nSubject: 5056 tweet 9085\nSubject: 5058 tweet 2669\nSubject: 5058 tweet 1912\nSubject: 5058 tweet 8642\n"
     ]
    },
    {
     "name": "stdout",
     "output_type": "stream",
     "text": [
      "Subject: 5058 tweet 324\nSubject: 5058 tweet 4919\nSubject: 5058 tweet 9180\nSubject: 5058 tweet 12227\nSubject: 5058 tweet 4522\nSubject: 5058 tweet 2434\n"
     ]
    },
    {
     "name": "stdout",
     "output_type": "stream",
     "text": [
      "Subject: 5058 tweet 12458\nSubject: 5059 tweet 3382\nSubject: 5059 tweet 8917\nSubject: 5059 tweet 1244\nSubject: 5059 tweet 4546\n"
     ]
    },
    {
     "name": "stdout",
     "output_type": "stream",
     "text": [
      "Subject: 5059 tweet 4272\nSubject: 5059 tweet 6562\nSubject: 5059 tweet 10104\nSubject: 5059 tweet 6921\nSubject: 5059 tweet 10920\nSubject: 5059 tweet 7374\n"
     ]
    },
    {
     "name": "stdout",
     "output_type": "stream",
     "text": [
      "Subject: 5060 tweet 2669\nSubject: 5060 tweet 1912\nSubject: 5060 tweet 8642\nSubject: 5060 tweet 324\nSubject: 5060 tweet 4919\n"
     ]
    },
    {
     "name": "stdout",
     "output_type": "stream",
     "text": [
      "Subject: 5060 tweet 9180\nSubject: 5060 tweet 12227\nSubject: 5060 tweet 4522\nSubject: 5060 tweet 2434\nSubject: 5060 tweet 12458\n"
     ]
    },
    {
     "name": "stdout",
     "output_type": "stream",
     "text": [
      "Subject: 5062 tweet 3382\nSubject: 5062 tweet 8917\nSubject: 5062 tweet 1244\nSubject: 5062 tweet 4546\nSubject: 5062 tweet 4272\nSubject: 5062 tweet 6562\n"
     ]
    },
    {
     "name": "stdout",
     "output_type": "stream",
     "text": [
      "Subject: 5062 tweet 10104\nSubject: 5062 tweet 6921\nSubject: 5062 tweet 10920\nSubject: 5062 tweet 7374\nSubject: 5063 tweet 3382\n"
     ]
    },
    {
     "name": "stdout",
     "output_type": "stream",
     "text": [
      "Subject: 5063 tweet 8917\nSubject: 5063 tweet 1244\nSubject: 5063 tweet 4546\nSubject: 5063 tweet 4272\nSubject: 5063 tweet 6562\nSubject: 5063 tweet 10104\n"
     ]
    },
    {
     "name": "stdout",
     "output_type": "stream",
     "text": [
      "Subject: 5063 tweet 6921\nSubject: 5063 tweet 10920\nSubject: 5063 tweet 7374\nSubject: 5066 tweet 4576\nSubject: 5066 tweet 10482\n"
     ]
    },
    {
     "name": "stdout",
     "output_type": "stream",
     "text": [
      "Subject: 5066 tweet 2410\nSubject: 5066 tweet 10467\nSubject: 5066 tweet 9005\nSubject: 5066 tweet 1610\nSubject: 5066 tweet 1500\nSubject: 5066 tweet 773\n"
     ]
    },
    {
     "name": "stdout",
     "output_type": "stream",
     "text": [
      "Subject: 5066 tweet 1058\nSubject: 5066 tweet 9085\nSubject: 5068 tweet 4576\nSubject: 5068 tweet 10482\nSubject: 5068 tweet 2410\n"
     ]
    },
    {
     "name": "stdout",
     "output_type": "stream",
     "text": [
      "Subject: 5068 tweet 10467\nSubject: 5068 tweet 9005\nSubject: 5068 tweet 1610\nSubject: 5068 tweet 1500\nSubject: 5068 tweet 773\n"
     ]
    },
    {
     "name": "stdout",
     "output_type": "stream",
     "text": [
      "Subject: 5068 tweet 1058\nSubject: 5068 tweet 9085\nSubject: 5070 tweet 2669\nSubject: 5070 tweet 1912\nSubject: 5070 tweet 8642\n"
     ]
    },
    {
     "name": "stdout",
     "output_type": "stream",
     "text": [
      "Subject: 5070 tweet 324\nSubject: 5070 tweet 4919\nSubject: 5070 tweet 9180\nSubject: 5070 tweet 12227\nSubject: 5070 tweet 4522\n"
     ]
    },
    {
     "name": "stdout",
     "output_type": "stream",
     "text": [
      "Subject: 5070 tweet 2434\nSubject: 5070 tweet 12458\nSubject: 5071 tweet 2669\nSubject: 5071 tweet 1912\nSubject: 5071 tweet 8642\n"
     ]
    },
    {
     "name": "stdout",
     "output_type": "stream",
     "text": [
      "Subject: 5071 tweet 324\nSubject: 5071 tweet 4919\nSubject: 5071 tweet 9180\nSubject: 5071 tweet 12227\nSubject: 5071 tweet 4522\nSubject: 5071 tweet 2434\n"
     ]
    },
    {
     "name": "stdout",
     "output_type": "stream",
     "text": [
      "Subject: 5071 tweet 12458\nSubject: 5072 tweet 3382\nSubject: 5072 tweet 8917\nSubject: 5072 tweet 1244\nSubject: 5072 tweet 4546\n"
     ]
    },
    {
     "name": "stdout",
     "output_type": "stream",
     "text": [
      "Subject: 5072 tweet 4272\nSubject: 5072 tweet 6562\nSubject: 5072 tweet 10104\n"
     ]
    },
    {
     "name": "stdout",
     "output_type": "stream",
     "text": [
      "Subject: 5072 tweet 6921\nSubject: 5072 tweet 10920\nSubject: 5072 tweet 7374\nSubject: 5073 tweet 3382\nSubject: 5073 tweet 8917\n"
     ]
    },
    {
     "name": "stdout",
     "output_type": "stream",
     "text": [
      "Subject: 5073 tweet 1244\nSubject: 5073 tweet 4546\nSubject: 5073 tweet 4272\nSubject: 5073 tweet 6562\nSubject: 5073 tweet 10104\nSubject: 5073 tweet 6921\n"
     ]
    },
    {
     "name": "stdout",
     "output_type": "stream",
     "text": [
      "Subject: 5073 tweet 10920\nSubject: 5073 tweet 7374\nSubject: 5076 tweet 4576\nSubject: 5076 tweet 10482\nSubject: 5076 tweet 2410\n"
     ]
    },
    {
     "name": "stdout",
     "output_type": "stream",
     "text": [
      "Subject: 5076 tweet 10467\nSubject: 5076 tweet 9005\nSubject: 5076 tweet 1610\nSubject: 5076 tweet 1500\nSubject: 5076 tweet 773\n"
     ]
    },
    {
     "name": "stdout",
     "output_type": "stream",
     "text": [
      "Subject: 5076 tweet 1058\nSubject: 5076 tweet 9085\nSubject: 5078 tweet 2669\nSubject: 5078 tweet 1912\nSubject: 5078 tweet 8642\n"
     ]
    },
    {
     "name": "stdout",
     "output_type": "stream",
     "text": [
      "Subject: 5078 tweet 324\nSubject: 5078 tweet 4919\nSubject: 5078 tweet 9180\nSubject: 5078 tweet 12227\nSubject: 5078 tweet 4522\nSubject: 5078 tweet 2434\n"
     ]
    },
    {
     "name": "stdout",
     "output_type": "stream",
     "text": [
      "Subject: 5078 tweet 12458\nSubject: 5079 tweet 3382\nSubject: 5079 tweet 8917\nSubject: 5079 tweet 1244\nSubject: 5079 tweet 4546\n"
     ]
    },
    {
     "name": "stdout",
     "output_type": "stream",
     "text": [
      "Subject: 5079 tweet 4272\nSubject: 5079 tweet 6562\nSubject: 5079 tweet 10104\nSubject: 5079 tweet 6921\nSubject: 5079 tweet 10920\n"
     ]
    },
    {
     "name": "stdout",
     "output_type": "stream",
     "text": [
      "Subject: 5079 tweet 7374\nSubject: 5081 tweet 4576\nSubject: 5081 tweet 10482\nSubject: 5081 tweet 2410\nSubject: 5081 tweet 10467\n"
     ]
    },
    {
     "name": "stdout",
     "output_type": "stream",
     "text": [
      "Subject: 5081 tweet 9005\nSubject: 5081 tweet 1610\nSubject: 5081 tweet 1500\nSubject: 5081 tweet 773\nSubject: 5081 tweet 1058\nSubject: 5081 tweet 9085\n"
     ]
    },
    {
     "name": "stdout",
     "output_type": "stream",
     "text": [
      "Subject: 5083 tweet 2669\nSubject: 5083 tweet 1912\nSubject: 5083 tweet 8642\nSubject: 5083 tweet 324\nSubject: 5083 tweet 4919\nSubject: 5083 tweet 9180\n"
     ]
    },
    {
     "name": "stdout",
     "output_type": "stream",
     "text": [
      "Subject: 5083 tweet 12227\nSubject: 5083 tweet 4522\nSubject: 5083 tweet 2434\nSubject: 5083 tweet 12458\nSubject: 5084 tweet 3382\n"
     ]
    },
    {
     "name": "stdout",
     "output_type": "stream",
     "text": [
      "Subject: 5084 tweet 8917\nSubject: 5084 tweet 1244\nSubject: 5084 tweet 4546\nSubject: 5084 tweet 4272\nSubject: 5084 tweet 6562\nSubject: 5084 tweet 10104\n"
     ]
    },
    {
     "name": "stdout",
     "output_type": "stream",
     "text": [
      "Subject: 5084 tweet 6921\nSubject: 5084 tweet 10920\nSubject: 5084 tweet 7374\nSubject: 5086 tweet 4576\nSubject: 5086 tweet 10482\n"
     ]
    },
    {
     "name": "stdout",
     "output_type": "stream",
     "text": [
      "Subject: 5086 tweet 2410\nSubject: 5086 tweet 10467\nSubject: 5086 tweet 9005\nSubject: 5086 tweet 1610\nSubject: 5086 tweet 1500\nSubject: 5086 tweet 773\n"
     ]
    },
    {
     "name": "stdout",
     "output_type": "stream",
     "text": [
      "Subject: 5086 tweet 1058\nSubject: 5086 tweet 9085\nSubject: 5088 tweet 2669\nSubject: 5088 tweet 1912\nSubject: 5088 tweet 8642"
     ]
    },
    {
     "name": "stdout",
     "output_type": "stream",
     "text": [
      "\nSubject: 5088 tweet 324\nSubject: 5088 tweet 4919\nSubject: 5088 tweet 9180\nSubject: 5088 tweet 12227\nSubject: 5088 tweet 4522\n"
     ]
    },
    {
     "name": "stdout",
     "output_type": "stream",
     "text": [
      "Subject: 5088 tweet 2434\nSubject: 5088 tweet 12458\nSubject: 5089 tweet 3382\nSubject: 5089 tweet 8917\n"
     ]
    },
    {
     "name": "stdout",
     "output_type": "stream",
     "text": [
      "Subject: 5089 tweet 1244\nSubject: 5089 tweet 4546\nSubject: 5089 tweet 4272\nSubject: 5089 tweet 6562\nSubject: 5089 tweet 10104\nSubject: 5089 tweet 6921\n"
     ]
    },
    {
     "name": "stdout",
     "output_type": "stream",
     "text": [
      "Subject: 5089 tweet 10920\nSubject: 5089 tweet 7374\nSubject: 5091 tweet 4576\nSubject: 5091 tweet 10482\nSubject: 5091 tweet 2410\n"
     ]
    },
    {
     "name": "stdout",
     "output_type": "stream",
     "text": [
      "Subject: 5091 tweet 10467\nSubject: 5091 tweet 9005\nSubject: 5091 tweet 1610\nSubject: 5091 tweet 1500\nSubject: 5091 tweet 773\nSubject: 5091 tweet 1058\n"
     ]
    },
    {
     "name": "stdout",
     "output_type": "stream",
     "text": [
      "Subject: 5091 tweet 9085\nSubject: 5093 tweet 2669\nSubject: 5093 tweet 1912\nSubject: 5093 tweet 8642\nSubject: 5093 tweet 324\n"
     ]
    },
    {
     "name": "stdout",
     "output_type": "stream",
     "text": [
      "Subject: 5093 tweet 4919\nSubject: 5093 tweet 9180\nSubject: 5093 tweet 12227\nSubject: 5093 tweet 4522\nSubject: 5093 tweet 2434\n"
     ]
    },
    {
     "name": "stdout",
     "output_type": "stream",
     "text": [
      "Subject: 5093 tweet 12458\nSubject: 5094 tweet 3382\nSubject: 5094 tweet 8917\nSubject: 5094 tweet 1244\n"
     ]
    },
    {
     "name": "stdout",
     "output_type": "stream",
     "text": [
      "Subject: 5094 tweet 4546\nSubject: 5094 tweet 4272\nSubject: 5094 tweet 6562\nSubject: 5094 tweet 10104\nSubject: 5094 tweet 6921\n"
     ]
    },
    {
     "name": "stdout",
     "output_type": "stream",
     "text": [
      "Subject: 5094 tweet 10920\nSubject: 5094 tweet 7374\nSubject: 5095 tweet 4576\nSubject: 5095 tweet 10482\nSubject: 5095 tweet 2410\n"
     ]
    },
    {
     "name": "stdout",
     "output_type": "stream",
     "text": [
      "Subject: 5095 tweet 10467\nSubject: 5095 tweet 9005\nSubject: 5095 tweet 1610\nSubject: 5095 tweet 1500\nSubject: 5095 tweet 773\nSubject: 5095 tweet 1058\n"
     ]
    },
    {
     "name": "stdout",
     "output_type": "stream",
     "text": [
      "Subject: 5095 tweet 9085\nSubject: 5097 tweet 4576\nSubject: 5097 tweet 10482\nSubject: 5097 tweet 2410\nSubject: 5097 tweet 10467\n"
     ]
    },
    {
     "name": "stdout",
     "output_type": "stream",
     "text": [
      "Subject: 5097 tweet 9005\nSubject: 5097 tweet 1610\nSubject: 5097 tweet 1500\nSubject: 5097 tweet 773\nSubject: 5097 tweet 1058\n"
     ]
    },
    {
     "name": "stdout",
     "output_type": "stream",
     "text": [
      "Subject: 5097 tweet 9085\nSubject: 5100 tweet 2669\nSubject: 5100 tweet 1912\nSubject: 5100 tweet 8642\nSubject: 5100 tweet 324\n"
     ]
    },
    {
     "name": "stdout",
     "output_type": "stream",
     "text": [
      "Subject: 5100 tweet 4919\nSubject: 5100 tweet 9180\nSubject: 5100 tweet 12227\nSubject: 5100 tweet 4522\nSubject: 5100 tweet 2434\n"
     ]
    },
    {
     "name": "stdout",
     "output_type": "stream",
     "text": [
      "Subject: 5100 tweet 12458\nSubject: 5101 tweet 2669\nSubject: 5101 tweet 1912\nSubject: 5101 tweet 8642\nSubject: 5101 tweet 324\n"
     ]
    },
    {
     "name": "stdout",
     "output_type": "stream",
     "text": [
      "Subject: 5101 tweet 4919\nSubject: 5101 tweet 9180\nSubject: 5101 tweet 12227\nSubject: 5101 tweet 4522\nSubject: 5101 tweet 2434\n"
     ]
    },
    {
     "name": "stdout",
     "output_type": "stream",
     "text": [
      "Subject: 5101 tweet 12458\nSubject: 5102 tweet 3382\nSubject: 5102 tweet 8917\nSubject: 5102 tweet 1244\nSubject: 5102 tweet 4546\n"
     ]
    },
    {
     "name": "stdout",
     "output_type": "stream",
     "text": [
      "Subject: 5102 tweet 4272\nSubject: 5102 tweet 6562\nSubject: 5102 tweet 10104\nSubject: 5102 tweet 6921\nSubject: 5102 tweet 10920\nSubject: 5102 tweet 7374\n"
     ]
    },
    {
     "name": "stdout",
     "output_type": "stream",
     "text": [
      "Subject: 5103 tweet 3382\nSubject: 5103 tweet 8917\nSubject: 5103 tweet 1244\nSubject: 5103 tweet 4546\nSubject: 5103 tweet 4272\nSubject: 5103 tweet 6562\n"
     ]
    },
    {
     "name": "stdout",
     "output_type": "stream",
     "text": [
      "Subject: 5103 tweet 10104\nSubject: 5103 tweet 6921\nSubject: 5103 tweet 10920\nSubject: 5103 tweet 7374\nSubject: 5106 tweet 4576\n"
     ]
    },
    {
     "name": "stdout",
     "output_type": "stream",
     "text": [
      "Subject: 5106 tweet 10482\nSubject: 5106 tweet 2410\nSubject: 5106 tweet 10467\nSubject: 5106 tweet 9005\nSubject: 5106 tweet 1610\nSubject: 5106 tweet 1500\n"
     ]
    },
    {
     "name": "stdout",
     "output_type": "stream",
     "text": [
      "Subject: 5106 tweet 773\nSubject: 5106 tweet 1058\nSubject: 5106 tweet 9085\nSubject: 5108 tweet 2669\nSubject: 5108 tweet 1912\n"
     ]
    },
    {
     "name": "stdout",
     "output_type": "stream",
     "text": [
      "Subject: 5108 tweet 8642\nSubject: 5108 tweet 324\nSubject: 5108 tweet 4919\nSubject: 5108 tweet 9180\nSubject: 5108 tweet 12227\nSubject: 5108 tweet 4522\n"
     ]
    },
    {
     "name": "stdout",
     "output_type": "stream",
     "text": [
      "Subject: 5108 tweet 2434\nSubject: 5108 tweet 12458\nSubject: 5109 tweet 3382\nSubject: 5109 tweet 8917\nSubject: 5109 tweet 1244\n"
     ]
    },
    {
     "name": "stdout",
     "output_type": "stream",
     "text": [
      "Subject: 5109 tweet 4546\nSubject: 5109 tweet 4272\nSubject: 5109 tweet 6562\nSubject: 5109 tweet 10104\nSubject: 5109 tweet 6921\nSubject: 5109 tweet 10920\n"
     ]
    },
    {
     "name": "stdout",
     "output_type": "stream",
     "text": [
      "Subject: 5109 tweet 7374\nSubject: 5111 tweet 4576\nSubject: 5111 tweet 10482\nSubject: 5111 tweet 2410\n"
     ]
    },
    {
     "name": "stdout",
     "output_type": "stream",
     "text": [
      "Subject: 5111 tweet 10467\nSubject: 5111 tweet 9005\nSubject: 5111 tweet 1610\nSubject: 5111 tweet 1500\nSubject: 5111 tweet 773\n"
     ]
    },
    {
     "name": "stdout",
     "output_type": "stream",
     "text": [
      "Subject: 5111 tweet 1058\nSubject: 5111 tweet 9085\nSubject: 5113 tweet 2669\nSubject: 5113 tweet 1912\n"
     ]
    },
    {
     "name": "stdout",
     "output_type": "stream",
     "text": [
      "Subject: 5113 tweet 8642\nSubject: 5113 tweet 324\nSubject: 5113 tweet 4919\nSubject: 5113 tweet 9180\nSubject: 5113 tweet 12227\nSubject: 5113 tweet 4522\n"
     ]
    },
    {
     "name": "stdout",
     "output_type": "stream",
     "text": [
      "Subject: 5113 tweet 2434\nSubject: 5113 tweet 12458\nSubject: 5114 tweet 3382\nSubject: 5114 tweet 8917\nSubject: 5114 tweet 1244\n"
     ]
    },
    {
     "name": "stdout",
     "output_type": "stream",
     "text": [
      "Subject: 5114 tweet 4546\nSubject: 5114 tweet 4272\nSubject: 5114 tweet 6562\nSubject: 5114 tweet 10104\nSubject: 5114 tweet 6921\nSubject: 5114 tweet 10920\n"
     ]
    },
    {
     "name": "stdout",
     "output_type": "stream",
     "text": [
      "Subject: 5114 tweet 7374\nSubject: 5116 tweet 4576\nSubject: 5116 tweet 10482\nSubject: 5116 tweet 2410\nSubject: 5116 tweet 10467\n"
     ]
    },
    {
     "name": "stdout",
     "output_type": "stream",
     "text": [
      "Subject: 5116 tweet 9005\nSubject: 5116 tweet 1610\nSubject: 5116 tweet 1500\nSubject: 5116 tweet 773\nSubject: 5116 tweet 1058\nSubject: 5116 tweet 9085\n"
     ]
    },
    {
     "name": "stdout",
     "output_type": "stream",
     "text": [
      "Subject: 5118 tweet 2669\nSubject: 5118 tweet 1912\nSubject: 5118 tweet 8642\nSubject: 5118 tweet 324\nSubject: 5118 tweet 4919\nSubject: 5118 tweet 9180\n"
     ]
    },
    {
     "name": "stdout",
     "output_type": "stream",
     "text": [
      "Subject: 5118 tweet 12227\nSubject: 5118 tweet 4522\nSubject: 5118 tweet 2434\nSubject: 5118 tweet 12458\nSubject: 5119 tweet 4576\n"
     ]
    },
    {
     "name": "stdout",
     "output_type": "stream",
     "text": [
      "Subject: 5119 tweet 10482\nSubject: 5119 tweet 2410\nSubject: 5119 tweet 10467\nSubject: 5119 tweet 9005\nSubject: 5119 tweet 1610\nSubject: 5119 tweet 1500\n"
     ]
    },
    {
     "name": "stdout",
     "output_type": "stream",
     "text": [
      "Subject: 5119 tweet 773\nSubject: 5119 tweet 1058\nSubject: 5119 tweet 9085\nSubject: 5121 tweet 3382\nSubject: 5121 tweet 8917\n"
     ]
    },
    {
     "name": "stdout",
     "output_type": "stream",
     "text": [
      "Subject: 5121 tweet 1244\nSubject: 5121 tweet 4546\nSubject: 5121 tweet 4272\nSubject: 5121 tweet 6562\nSubject: 5121 tweet 10104\nSubject: 5121 tweet 6921\n"
     ]
    },
    {
     "name": "stdout",
     "output_type": "stream",
     "text": [
      "Subject: 5121 tweet 10920\nSubject: 5121 tweet 7374\nSubject: 5122 tweet 4576\nSubject: 5122 tweet 10482\nSubject: 5122 tweet 2410\n"
     ]
    },
    {
     "name": "stdout",
     "output_type": "stream",
     "text": [
      "Subject: 5122 tweet 10467\nSubject: 5122 tweet 9005\nSubject: 5122 tweet 1610\nSubject: 5122 tweet 1500\nSubject: 5122 tweet 773\nSubject: 5122 tweet 1058\n"
     ]
    },
    {
     "name": "stdout",
     "output_type": "stream",
     "text": [
      "Subject: 5122 tweet 9085\nSubject: 5123 tweet 2669\nSubject: 5123 tweet 1912\nSubject: 5123 tweet 8642\nSubject: 5123 tweet 324\n"
     ]
    },
    {
     "name": "stdout",
     "output_type": "stream",
     "text": [
      "Subject: 5123 tweet 4919\nSubject: 5123 tweet 9180\nSubject: 5123 tweet 12227\nSubject: 5123 tweet 4522\nSubject: 5123 tweet 2434\n"
     ]
    },
    {
     "name": "stdout",
     "output_type": "stream",
     "text": [
      "Subject: 5123 tweet 12458\nSubject: 5126 tweet 2669\nSubject: 5126 tweet 1912\nSubject: 5126 tweet 8642\nSubject: 5126 tweet 324\n"
     ]
    },
    {
     "name": "stdout",
     "output_type": "stream",
     "text": [
      "Subject: 5126 tweet 4919\nSubject: 5126 tweet 9180\nSubject: 5126 tweet 12227\nSubject: 5126 tweet 4522\nSubject: 5126 tweet 2434\n"
     ]
    },
    {
     "name": "stdout",
     "output_type": "stream",
     "text": [
      "Subject: 5126 tweet 12458\nSubject: 5127 tweet 3382\nSubject: 5127 tweet 8917\nSubject: 5127 tweet 1244\nSubject: 5127 tweet 4546\n"
     ]
    },
    {
     "name": "stdout",
     "output_type": "stream",
     "text": [
      "Subject: 5127 tweet 4272\nSubject: 5127 tweet 6562\nSubject: 5127 tweet 10104\nSubject: 5127 tweet 6921\nSubject: 5127 tweet 10920\n"
     ]
    },
    {
     "name": "stdout",
     "output_type": "stream",
     "text": [
      "Subject: 5127 tweet 7374\nSubject: 5129 tweet 3382\nSubject: 5129 tweet 8917\nSubject: 5129 tweet 1244\nSubject: 5129 tweet 4546\n"
     ]
    },
    {
     "name": "stdout",
     "output_type": "stream",
     "text": [
      "Subject: 5129 tweet 4272\nSubject: 5129 tweet 6562\nSubject: 5129 tweet 10104\nSubject: 5129 tweet 6921\nSubject: 5129 tweet 10920\nSubject: 5129 tweet 7374\n"
     ]
    },
    {
     "name": "stdout",
     "output_type": "stream",
     "text": [
      "Subject: 5131 tweet 4576\nSubject: 5131 tweet 10482\nSubject: 5131 tweet 2410\nSubject: 5131 tweet 10467\nSubject: 5131 tweet 9005\n"
     ]
    },
    {
     "name": "stdout",
     "output_type": "stream",
     "text": [
      "Subject: 5131 tweet 1610\nSubject: 5131 tweet 1500\nSubject: 5131 tweet 773\nSubject: 5131 tweet 1058\nSubject: 5131 tweet 9085\n"
     ]
    },
    {
     "name": "stdout",
     "output_type": "stream",
     "text": [
      "Subject: 5133 tweet 2669\nSubject: 5133 tweet 1912\nSubject: 5133 tweet 8642\nSubject: 5133 tweet 324\nSubject: 5133 tweet 4919\nSubject: 5133 tweet 9180\n"
     ]
    },
    {
     "name": "stdout",
     "output_type": "stream",
     "text": [
      "Subject: 5133 tweet 12227\nSubject: 5133 tweet 4522\nSubject: 5133 tweet 2434\nSubject: 5133 tweet 12458\n"
     ]
    },
    {
     "name": "stdout",
     "output_type": "stream",
     "text": [
      "Subject: 5134 tweet 3382\nSubject: 5134 tweet 8917\nSubject: 5134 tweet 1244\nSubject: 5134 tweet 4546\nSubject: 5134 tweet 4272\n"
     ]
    },
    {
     "name": "stdout",
     "output_type": "stream",
     "text": [
      "Subject: 5134 tweet 6562\nSubject: 5134 tweet 10104\nSubject: 5134 tweet 6921\nSubject: 5134 tweet 10920\nSubject: 5134 tweet 7374\n"
     ]
    },
    {
     "name": "stdout",
     "output_type": "stream",
     "text": [
      "Subject: 5136 tweet 4576\nSubject: 5136 tweet 10482\nSubject: 5136 tweet 2410\nSubject: 5136 tweet 10467\nSubject: 5136 tweet 9005\n"
     ]
    },
    {
     "name": "stdout",
     "output_type": "stream",
     "text": [
      "Subject: 5136 tweet 1610\nSubject: 5136 tweet 1500\nSubject: 5136 tweet 773\nSubject: 5136 tweet 1058\nSubject: 5136 tweet 9085\n"
     ]
    },
    {
     "name": "stdout",
     "output_type": "stream",
     "text": [
      "Subject: 5138 tweet 2669\nSubject: 5138 tweet 1912\nSubject: 5138 tweet 8642\nSubject: 5138 tweet 324\nSubject: 5138 tweet 4919\n"
     ]
    },
    {
     "name": "stdout",
     "output_type": "stream",
     "text": [
      "Subject: 5138 tweet 9180\nSubject: 5138 tweet 12227\nSubject: 5138 tweet 4522\nSubject: 5138 tweet 2434\nSubject: 5138 tweet 12458\n"
     ]
    },
    {
     "name": "stdout",
     "output_type": "stream",
     "text": [
      "Subject: 5139 tweet 4576\nSubject: 5139 tweet 10482\nSubject: 5139 tweet 2410\nSubject: 5139 tweet 10467\nSubject: 5139 tweet 9005\nSubject: 5139 tweet 1610\n"
     ]
    },
    {
     "name": "stdout",
     "output_type": "stream",
     "text": [
      "Subject: 5139 tweet 1500\nSubject: 5139 tweet 773\nSubject: 5139 tweet 1058\nSubject: 5139 tweet 9085\nSubject: 5141 tweet 3382\n"
     ]
    },
    {
     "name": "stdout",
     "output_type": "stream",
     "text": [
      "Subject: 5141 tweet 8917\nSubject: 5141 tweet 1244\nSubject: 5141 tweet 4546\nSubject: 5141 tweet 4272\nSubject: 5141 tweet 6562\nSubject: 5141 tweet 10104\n"
     ]
    },
    {
     "name": "stdout",
     "output_type": "stream",
     "text": [
      "Subject: 5141 tweet 6921\nSubject: 5141 tweet 10920\nSubject: 5141 tweet 7374\nSubject: 5142 tweet 2669\nSubject: 5142 tweet 1912\n"
     ]
    },
    {
     "name": "stdout",
     "output_type": "stream",
     "text": [
      "Subject: 5142 tweet 8642\nSubject: 5142 tweet 324\nSubject: 5142 tweet 4919\nSubject: 5142 tweet 9180\nSubject: 5142 tweet 12227\nSubject: 5142 tweet 4522\n"
     ]
    },
    {
     "name": "stdout",
     "output_type": "stream",
     "text": [
      "Subject: 5142 tweet 2434\nSubject: 5142 tweet 12458\nSubject: 5144 tweet 3382\nSubject: 5144 tweet 8917\nSubject: 5144 tweet 1244\n"
     ]
    },
    {
     "name": "stdout",
     "output_type": "stream",
     "text": [
      "Subject: 5144 tweet 4546\nSubject: 5144 tweet 4272\nSubject: 5144 tweet 6562\nSubject: 5144 tweet 10104\nSubject: 5144 tweet 6921\nSubject: 5144 tweet 10920\n"
     ]
    },
    {
     "name": "stdout",
     "output_type": "stream",
     "text": [
      "Subject: 5144 tweet 7374\nSubject: 5146 tweet 4576\nSubject: 5146 tweet 10482\nSubject: 5146 tweet 2410\nSubject: 5146 tweet 10467\n"
     ]
    },
    {
     "name": "stdout",
     "output_type": "stream",
     "text": [
      "Subject: 5146 tweet 9005\nSubject: 5146 tweet 1610\nSubject: 5146 tweet 1500\nSubject: 5146 tweet 773\nSubject: 5146 tweet 1058\n"
     ]
    },
    {
     "name": "stdout",
     "output_type": "stream",
     "text": [
      "Subject: 5146 tweet 9085\nSubject: 5148 tweet 4576\nSubject: 5148 tweet 10482\nSubject: 5148 tweet 2410\nSubject: 5148 tweet 10467\n"
     ]
    },
    {
     "name": "stdout",
     "output_type": "stream",
     "text": [
      "Subject: 5148 tweet 9005\nSubject: 5148 tweet 1610\nSubject: 5148 tweet 1500\nSubject: 5148 tweet 773\nSubject: 5148 tweet 1058\n"
     ]
    },
    {
     "name": "stdout",
     "output_type": "stream",
     "text": [
      "Subject: 5148 tweet 9085\nSubject: 5149 tweet 2669\nSubject: 5149 tweet 1912\nSubject: 5149 tweet 8642\nSubject: 5149 tweet 324\n"
     ]
    },
    {
     "name": "stdout",
     "output_type": "stream",
     "text": [
      "Subject: 5149 tweet 4919\nSubject: 5149 tweet 9180\nSubject: 5149 tweet 12227\nSubject: 5149 tweet 4522\nSubject: 5149 tweet 2434\n"
     ]
    },
    {
     "name": "stdout",
     "output_type": "stream",
     "text": [
      "Subject: 5149 tweet 12458\nSubject: 5151 tweet 4576\nSubject: 5151 tweet 10482\nSubject: 5151 tweet 2410\nSubject: 5151 tweet 10467\n"
     ]
    },
    {
     "name": "stdout",
     "output_type": "stream",
     "text": [
      "Subject: 5151 tweet 9005\nSubject: 5151 tweet 1610\nSubject: 5151 tweet 1500\nSubject: 5151 tweet 773\nSubject: 5151 tweet 1058\n"
     ]
    },
    {
     "name": "stdout",
     "output_type": "stream",
     "text": [
      "Subject: 5151 tweet 9085\nSubject: 5153 tweet 2669\nSubject: 5153 tweet 1912\nSubject: 5153 tweet 8642\n"
     ]
    },
    {
     "name": "stdout",
     "output_type": "stream",
     "text": [
      "Subject: 5153 tweet 324\nSubject: 5153 tweet 4919\nSubject: 5153 tweet 9180\nSubject: 5153 tweet 12227\nSubject: 5153 tweet 4522\nSubject: 5153 tweet 2434\n"
     ]
    },
    {
     "name": "stdout",
     "output_type": "stream",
     "text": [
      "Subject: 5153 tweet 12458\nSubject: 5154 tweet 3382\nSubject: 5154 tweet 8917\nSubject: 5154 tweet 1244\nSubject: 5154 tweet 4546\n"
     ]
    },
    {
     "name": "stdout",
     "output_type": "stream",
     "text": [
      "Subject: 5154 tweet 4272\nSubject: 5154 tweet 6562\nSubject: 5154 tweet 10104\nSubject: 5154 tweet 6921\nSubject: 5154 tweet 10920\nSubject: 5154 tweet 7374\n"
     ]
    },
    {
     "name": "stdout",
     "output_type": "stream",
     "text": [
      "Subject: 5155 tweet 2669\nSubject: 5155 tweet 1912\nSubject: 5155 tweet 8642\nSubject: 5155 tweet 324\nSubject: 5155 tweet 4919\nSubject: 5155 tweet 9180\n"
     ]
    },
    {
     "name": "stdout",
     "output_type": "stream",
     "text": [
      "Subject: 5155 tweet 12227\nSubject: 5155 tweet 4522\nSubject: 5155 tweet 2434\nSubject: 5155 tweet 12458\nSubject: 5157 tweet 3382\n"
     ]
    },
    {
     "name": "stdout",
     "output_type": "stream",
     "text": [
      "Subject: 5157 tweet 8917\nSubject: 5157 tweet 1244\nSubject: 5157 tweet 4546\nSubject: 5157 tweet 4272\nSubject: 5157 tweet 6562\nSubject: 5157 tweet 10104\n"
     ]
    },
    {
     "name": "stdout",
     "output_type": "stream",
     "text": [
      "Subject: 5157 tweet 6921\nSubject: 5157 tweet 10920\nSubject: 5157 tweet 7374\nSubject: 5158 tweet 3382\n"
     ]
    },
    {
     "name": "stdout",
     "output_type": "stream",
     "text": [
      "Subject: 5158 tweet 8917\nSubject: 5158 tweet 1244\nSubject: 5158 tweet 4546\nSubject: 5158 tweet 4272\nSubject: 5158 tweet 6562\nSubject: 5158 tweet 10104\n"
     ]
    },
    {
     "name": "stdout",
     "output_type": "stream",
     "text": [
      "Subject: 5158 tweet 6921\nSubject: 5158 tweet 10920\nSubject: 5158 tweet 7374\nSubject: 5161 tweet 4576\n"
     ]
    },
    {
     "name": "stdout",
     "output_type": "stream",
     "text": [
      "Subject: 5161 tweet 10482\nSubject: 5161 tweet 2410\nSubject: 5161 tweet 10467\nSubject: 5161 tweet 9005\nSubject: 5161 tweet 1610\nSubject: 5161 tweet 1500\n"
     ]
    },
    {
     "name": "stdout",
     "output_type": "stream",
     "text": [
      "Subject: 5161 tweet 773\nSubject: 5161 tweet 1058\nSubject: 5161 tweet 9085\nSubject: 5163 tweet 2669\nSubject: 5163 tweet 1912\n"
     ]
    },
    {
     "name": "stdout",
     "output_type": "stream",
     "text": [
      "Subject: 5163 tweet 8642\nSubject: 5163 tweet 324\nSubject: 5163 tweet 4919\nSubject: 5163 tweet 9180\nSubject: 5163 tweet 12227\n"
     ]
    },
    {
     "name": "stdout",
     "output_type": "stream",
     "text": [
      "Subject: 5163 tweet 4522\nSubject: 5163 tweet 2434\nSubject: 5163 tweet 12458\nSubject: 5164 tweet 3382\nSubject: 5164 tweet 8917\n"
     ]
    },
    {
     "name": "stdout",
     "output_type": "stream",
     "text": [
      "Subject: 5164 tweet 1244\nSubject: 5164 tweet 4546\nSubject: 5164 tweet 4272\nSubject: 5164 tweet 6562\nSubject: 5164 tweet 10104\nSubject: 5164 tweet 6921\n"
     ]
    },
    {
     "name": "stdout",
     "output_type": "stream",
     "text": [
      "Subject: 5164 tweet 10920\nSubject: 5164 tweet 7374\nSubject: 5166 tweet 4576\nSubject: 5166 tweet 10482\nSubject: 5166 tweet 2410\n"
     ]
    },
    {
     "name": "stdout",
     "output_type": "stream",
     "text": [
      "Subject: 5166 tweet 10467\nSubject: 5166 tweet 9005\nSubject: 5166 tweet 1610\nSubject: 5166 tweet 1500\nSubject: 5166 tweet 773\n"
     ]
    },
    {
     "name": "stdout",
     "output_type": "stream",
     "text": [
      "Subject: 5166 tweet 1058\nSubject: 5166 tweet 9085\nSubject: 5168 tweet 2669\nSubject: 5168 tweet 1912\nSubject: 5168 tweet 8642\n"
     ]
    },
    {
     "name": "stdout",
     "output_type": "stream",
     "text": [
      "Subject: 5168 tweet 324\nSubject: 5168 tweet 4919\nSubject: 5168 tweet 9180\nSubject: 5168 tweet 12227\nSubject: 5168 tweet 4522\nSubject: 5168 tweet 2434\n"
     ]
    },
    {
     "name": "stdout",
     "output_type": "stream",
     "text": [
      "Subject: 5168 tweet 12458\nSubject: 5169 tweet 3382\nSubject: 5169 tweet 8917\nSubject: 5169 tweet 1244\nSubject: 5169 tweet 4546\n"
     ]
    },
    {
     "name": "stdout",
     "output_type": "stream",
     "text": [
      "Subject: 5169 tweet 4272\nSubject: 5169 tweet 6562\nSubject: 5169 tweet 10104\nSubject: 5169 tweet 6921\nSubject: 5169 tweet 10920\n"
     ]
    },
    {
     "name": "stdout",
     "output_type": "stream",
     "text": [
      "Subject: 5169 tweet 7374\nSubject: 5171 tweet 4576\nSubject: 5171 tweet 10482\nSubject: 5171 tweet 2410\nSubject: 5171 tweet 10467\n"
     ]
    },
    {
     "name": "stdout",
     "output_type": "stream",
     "text": [
      "Subject: 5171 tweet 9005\nSubject: 5171 tweet 1610\nSubject: 5171 tweet 1500\nSubject: 5171 tweet 773\nSubject: 5171 tweet 1058\nSubject: 5171 tweet 9085\n"
     ]
    },
    {
     "name": "stdout",
     "output_type": "stream",
     "text": [
      "Subject: 5173 tweet 2669\nSubject: 5173 tweet 1912\nSubject: 5173 tweet 8642\nSubject: 5173 tweet 324\nSubject: 5173 tweet 4919\nSubject: 5173 tweet 9180\n"
     ]
    },
    {
     "name": "stdout",
     "output_type": "stream",
     "text": [
      "Subject: 5173 tweet 12227\nSubject: 5173 tweet 4522\nSubject: 5173 tweet 2434\nSubject: 5173 tweet 12458\nSubject: 5174 tweet 3382\n"
     ]
    },
    {
     "name": "stdout",
     "output_type": "stream",
     "text": [
      "Subject: 5174 tweet 8917\nSubject: 5174 tweet 1244\nSubject: 5174 tweet 4546\nSubject: 5174 tweet 4272\nSubject: 5174 tweet 6562\nSubject: 5174 tweet 10104\n"
     ]
    },
    {
     "name": "stdout",
     "output_type": "stream",
     "text": [
      "Subject: 5174 tweet 6921\nSubject: 5174 tweet 10920\nSubject: 5174 tweet 7374\nSubject: 5176 tweet 4576\nSubject: 5176 tweet 10482\n"
     ]
    },
    {
     "name": "stdout",
     "output_type": "stream",
     "text": [
      "Subject: 5176 tweet 2410\nSubject: 5176 tweet 10467\nSubject: 5176 tweet 9005\nSubject: 5176 tweet 1610\nSubject: 5176 tweet 1500\nSubject: 5176 tweet 773\n"
     ]
    },
    {
     "name": "stdout",
     "output_type": "stream",
     "text": [
      "Subject: 5176 tweet 1058\nSubject: 5176 tweet 9085\nSubject: 5178 tweet 2669\nSubject: 5178 tweet 1912\n"
     ]
    },
    {
     "name": "stdout",
     "output_type": "stream",
     "text": [
      "Subject: 5178 tweet 8642\nSubject: 5178 tweet 324\nSubject: 5178 tweet 4919\nSubject: 5178 tweet 9180\nSubject: 5178 tweet 12227\n"
     ]
    },
    {
     "name": "stdout",
     "output_type": "stream",
     "text": [
      "Subject: 5178 tweet 4522\nSubject: 5178 tweet 2434\nSubject: 5178 tweet 12458\nSubject: 5179 tweet 3382\nSubject: 5179 tweet 8917\n"
     ]
    },
    {
     "name": "stdout",
     "output_type": "stream",
     "text": [
      "Subject: 5179 tweet 1244\nSubject: 5179 tweet 4546\nSubject: 5179 tweet 4272\nSubject: 5179 tweet 6562\nSubject: 5179 tweet 10104\nSubject: 5179 tweet 6921\n"
     ]
    },
    {
     "name": "stdout",
     "output_type": "stream",
     "text": [
      "Subject: 5179 tweet 10920\nSubject: 5179 tweet 7374\nSubject: 5181 tweet 4576\nSubject: 5181 tweet 10482\nSubject: 5181 tweet 2410\n"
     ]
    },
    {
     "name": "stdout",
     "output_type": "stream",
     "text": [
      "Subject: 5181 tweet 10467\nSubject: 5181 tweet 9005\nSubject: 5181 tweet 1610\nSubject: 5181 tweet 1500\nSubject: 5181 tweet 773\nSubject: 5181 tweet 1058\n"
     ]
    },
    {
     "name": "stdout",
     "output_type": "stream",
     "text": [
      "Subject: 5181 tweet 9085\nSubject: 5183 tweet 4576\nSubject: 5183 tweet 10482\nSubject: 5183 tweet 2410\nSubject: 5183 tweet 10467\n"
     ]
    },
    {
     "name": "stdout",
     "output_type": "stream",
     "text": [
      "Subject: 5183 tweet 9005\nSubject: 5183 tweet 1610\nSubject: 5183 tweet 1500\nSubject: 5183 tweet 773\nSubject: 5183 tweet 1058\nSubject: 5183 tweet 9085\n"
     ]
    },
    {
     "name": "stdout",
     "output_type": "stream",
     "text": [
      "Subject: 5184 tweet 2669\nSubject: 5184 tweet 1912\nSubject: 5184 tweet 8642\nSubject: 5184 tweet 324\nSubject: 5184 tweet 4919\n"
     ]
    },
    {
     "name": "stdout",
     "output_type": "stream",
     "text": [
      "Subject: 5184 tweet 9180\nSubject: 5184 tweet 12227\nSubject: 5184 tweet 4522\nSubject: 5184 tweet 2434\nSubject: 5184 tweet 12458\n"
     ]
    },
    {
     "name": "stdout",
     "output_type": "stream",
     "text": [
      "Subject: 5186 tweet 3382\nSubject: 5186 tweet 8917\nSubject: 5186 tweet 1244\nSubject: 5186 tweet 4546\nSubject: 5186 tweet 4272\n"
     ]
    },
    {
     "name": "stdout",
     "output_type": "stream",
     "text": [
      "Subject: 5186 tweet 6562\nSubject: 5186 tweet 10104\nSubject: 5186 tweet 6921\nSubject: 5186 tweet 10920\nSubject: 5186 tweet 7374\n"
     ]
    },
    {
     "name": "stdout",
     "output_type": "stream",
     "text": [
      "Subject: 5187 tweet 2669\nSubject: 5187 tweet 1912\nSubject: 5187 tweet 8642\nSubject: 5187 tweet 324\nSubject: 5187 tweet 4919\n"
     ]
    },
    {
     "name": "stdout",
     "output_type": "stream",
     "text": [
      "Subject: 5187 tweet 9180\nSubject: 5187 tweet 12227\nSubject: 5187 tweet 4522\nSubject: 5187 tweet 2434\nSubject: 5187 tweet 12458\n"
     ]
    },
    {
     "name": "stdout",
     "output_type": "stream",
     "text": [
      "Subject: 5189 tweet 3382\nSubject: 5189 tweet 8917\nSubject: 5189 tweet 1244\nSubject: 5189 tweet 4546\nSubject: 5189 tweet 4272\nSubject: 5189 tweet 6562\n"
     ]
    },
    {
     "name": "stdout",
     "output_type": "stream",
     "text": [
      "Subject: 5189 tweet 10104\nSubject: 5189 tweet 6921\nSubject: 5189 tweet 10920\nSubject: 5189 tweet 7374\nSubject: 5191 tweet 4576\n"
     ]
    },
    {
     "name": "stdout",
     "output_type": "stream",
     "text": [
      "Subject: 5191 tweet 10482\nSubject: 5191 tweet 2410\nSubject: 5191 tweet 10467\nSubject: 5191 tweet 9005\nSubject: 5191 tweet 1610\n"
     ]
    },
    {
     "name": "stdout",
     "output_type": "stream",
     "text": [
      "Subject: 5191 tweet 1500\nSubject: 5191 tweet 773\nSubject: 5191 tweet 1058\nSubject: 5191 tweet 9085\nSubject: 5193 tweet 2669\n"
     ]
    },
    {
     "name": "stdout",
     "output_type": "stream",
     "text": [
      "Subject: 5193 tweet 1912\nSubject: 5193 tweet 8642\nSubject: 5193 tweet 324\nSubject: 5193 tweet 4919\nSubject: 5193 tweet 9180\nSubject: 5193 tweet 12227\n"
     ]
    },
    {
     "name": "stdout",
     "output_type": "stream",
     "text": [
      "Subject: 5193 tweet 4522\nSubject: 5193 tweet 2434\nSubject: 5193 tweet 12458\nSubject: 5194 tweet 3382\nSubject: 5194 tweet 8917\n"
     ]
    },
    {
     "name": "stdout",
     "output_type": "stream",
     "text": [
      "Subject: 5194 tweet 1244\nSubject: 5194 tweet 4546\nSubject: 5194 tweet 4272\nSubject: 5194 tweet 6562\nSubject: 5194 tweet 10104\n"
     ]
    },
    {
     "name": "stdout",
     "output_type": "stream",
     "text": [
      "Subject: 5194 tweet 6921\nSubject: 5194 tweet 10920\nSubject: 5194 tweet 7374\nSubject: 5196 tweet 4576\nSubject: 5196 tweet 10482\n"
     ]
    },
    {
     "name": "stdout",
     "output_type": "stream",
     "text": [
      "Subject: 5196 tweet 2410\nSubject: 5196 tweet 10467\nSubject: 5196 tweet 9005\nSubject: 5196 tweet 1610\nSubject: 5196 tweet 1500\nSubject: 5196 tweet 773\n"
     ]
    },
    {
     "name": "stdout",
     "output_type": "stream",
     "text": [
      "Subject: 5196 tweet 1058\nSubject: 5196 tweet 9085\nSubject: 5198 tweet 2669\nSubject: 5198 tweet 1912\n"
     ]
    },
    {
     "name": "stdout",
     "output_type": "stream",
     "text": [
      "Subject: 5198 tweet 8642\nSubject: 5198 tweet 324\nSubject: 5198 tweet 4919\nSubject: 5198 tweet 9180\nSubject: 5198 tweet 12227\n"
     ]
    },
    {
     "name": "stdout",
     "output_type": "stream",
     "text": [
      "Subject: 5198 tweet 4522\nSubject: 5198 tweet 2434\nSubject: 5198 tweet 12458\nSubject: 5199 tweet 3382\nSubject: 5199 tweet 8917\n"
     ]
    },
    {
     "name": "stdout",
     "output_type": "stream",
     "text": [
      "Subject: 5199 tweet 1244\nSubject: 5199 tweet 4546\nSubject: 5199 tweet 4272\nSubject: 5199 tweet 6562\nSubject: 5199 tweet 10104\nSubject: 5199 tweet 6921\n"
     ]
    },
    {
     "name": "stdout",
     "output_type": "stream",
     "text": [
      "Subject: 5199 tweet 10920\nSubject: 5199 tweet 7374\nSubject: 5201 tweet 4576\nSubject: 5201 tweet 10482\nSubject: 5201 tweet 2410\n"
     ]
    },
    {
     "name": "stdout",
     "output_type": "stream",
     "text": [
      "Subject: 5201 tweet 10467\nSubject: 5201 tweet 9005\nSubject: 5201 tweet 1610\nSubject: 5201 tweet 1500\nSubject: 5201 tweet 773\n"
     ]
    },
    {
     "name": "stdout",
     "output_type": "stream",
     "text": [
      "Subject: 5201 tweet 1058\nSubject: 5201 tweet 9085\nSubject: 5203 tweet 2669\nSubject: 5203 tweet 1912\n"
     ]
    },
    {
     "name": "stdout",
     "output_type": "stream",
     "text": [
      "Subject: 5203 tweet 8642\nSubject: 5203 tweet 324\nSubject: 5203 tweet 4919\nSubject: 5203 tweet 9180\nSubject: 5203 tweet 12227\n"
     ]
    },
    {
     "name": "stdout",
     "output_type": "stream",
     "text": [
      "Subject: 5203 tweet 4522\nSubject: 5203 tweet 2434\nSubject: 5203 tweet 12458\nSubject: 5204 tweet 4576\nSubject: 5204 tweet 10482\n"
     ]
    },
    {
     "name": "stdout",
     "output_type": "stream",
     "text": [
      "Subject: 5204 tweet 2410\nSubject: 5204 tweet 10467\nSubject: 5204 tweet 9005\nSubject: 5204 tweet 1610\nSubject: 5204 tweet 1500\nSubject: 5204 tweet 773\n"
     ]
    },
    {
     "name": "stdout",
     "output_type": "stream",
     "text": [
      "Subject: 5204 tweet 1058\nSubject: 5204 tweet 9085\nSubject: 5205 tweet 3382\nSubject: 5205 tweet 8917\nSubject: 5205 tweet 1244\n"
     ]
    },
    {
     "name": "stdout",
     "output_type": "stream",
     "text": [
      "Subject: 5205 tweet 4546\nSubject: 5205 tweet 4272\nSubject: 5205 tweet 6562\nSubject: 5205 tweet 10104\nSubject: 5205 tweet 6921\nSubject: 5205 tweet 10920\n"
     ]
    },
    {
     "name": "stdout",
     "output_type": "stream",
     "text": [
      "Subject: 5205 tweet 7374\nSubject: 5208 tweet 2669\nSubject: 5208 tweet 1912\nSubject: 5208 tweet 8642\nSubject: 5208 tweet 324\n"
     ]
    },
    {
     "name": "stdout",
     "output_type": "stream",
     "text": [
      "Subject: 5208 tweet 4919\nSubject: 5208 tweet 9180\nSubject: 5208 tweet 12227\nSubject: 5208 tweet 4522\nSubject: 5208 tweet 2434\n"
     ]
    },
    {
     "name": "stdout",
     "output_type": "stream",
     "text": [
      "Subject: 5208 tweet 12458\nSubject: 5209 tweet 3382\nSubject: 5209 tweet 8917\nSubject: 5209 tweet 1244\n"
     ]
    },
    {
     "name": "stdout",
     "output_type": "stream",
     "text": [
      "Subject: 5209 tweet 4546\nSubject: 5209 tweet 4272\nSubject: 5209 tweet 6562\nSubject: 5209 tweet 10104\nSubject: 5209 tweet 6921\n"
     ]
    },
    {
     "name": "stdout",
     "output_type": "stream",
     "text": [
      "Subject: 5209 tweet 10920\nSubject: 5209 tweet 7374\nSubject: 5214 tweet 8478\nSubject: 5214 tweet 6044\n"
     ]
    },
    {
     "name": "stdout",
     "output_type": "stream",
     "text": [
      "Subject: 5214 tweet 9083\nSubject: 5214 tweet 1678\nSubject: 5214 tweet 6471\nSubject: 5214 tweet 885\nSubject: 5214 tweet 6394\nSubject: 5214 tweet 9084\n"
     ]
    },
    {
     "name": "stdout",
     "output_type": "stream",
     "text": [
      "Subject: 5214 tweet 11987\nSubject: 5214 tweet 6571\nSubject: 5216 tweet 4576\nSubject: 5216 tweet 10482\nSubject: 5216 tweet 2410\n"
     ]
    },
    {
     "name": "stdout",
     "output_type": "stream",
     "text": [
      "Subject: 5216 tweet 10467\nSubject: 5216 tweet 9005\nSubject: 5216 tweet 1610\nSubject: 5216 tweet 1500\nSubject: 5216 tweet 773\n"
     ]
    },
    {
     "name": "stdout",
     "output_type": "stream",
     "text": [
      "Subject: 5216 tweet 1058\nSubject: 5216 tweet 9085\nSubject: 5218 tweet 2669\nSubject: 5218 tweet 1912\n"
     ]
    },
    {
     "name": "stdout",
     "output_type": "stream",
     "text": [
      "Subject: 5218 tweet 8642\nSubject: 5218 tweet 324\nSubject: 5218 tweet 4919\nSubject: 5218 tweet 9180\nSubject: 5218 tweet 12227\nSubject: 5218 tweet 4522\n"
     ]
    },
    {
     "name": "stdout",
     "output_type": "stream",
     "text": [
      "Subject: 5218 tweet 2434\nSubject: 5218 tweet 12458\nSubject: 5219 tweet 3382\nSubject: 5219 tweet 8917\n"
     ]
    },
    {
     "name": "stdout",
     "output_type": "stream",
     "text": [
      "Subject: 5219 tweet 1244\nSubject: 5219 tweet 4546\nSubject: 5219 tweet 4272\nSubject: 5219 tweet 6562\nSubject: 5219 tweet 10104\n"
     ]
    },
    {
     "name": "stdout",
     "output_type": "stream",
     "text": [
      "Subject: 5219 tweet 6921\nSubject: 5219 tweet 10920\nSubject: 5219 tweet 7374\nSubject: 5221 tweet 4576\nSubject: 5221 tweet 10482\n"
     ]
    },
    {
     "name": "stdout",
     "output_type": "stream",
     "text": [
      "Subject: 5221 tweet 2410\nSubject: 5221 tweet 10467\nSubject: 5221 tweet 9005\nSubject: 5221 tweet 1610\nSubject: 5221 tweet 1500\n"
     ]
    },
    {
     "name": "stdout",
     "output_type": "stream",
     "text": [
      "Subject: 5221 tweet 773\nSubject: 5221 tweet 1058\nSubject: 5221 tweet 9085\nSubject: 5223 tweet 2669\nSubject: 5223 tweet 1912\n"
     ]
    },
    {
     "name": "stdout",
     "output_type": "stream",
     "text": [
      "Subject: 5223 tweet 8642\nSubject: 5223 tweet 324\nSubject: 5223 tweet 4919\nSubject: 5223 tweet 9180\nSubject: 5223 tweet 12227\nSubject: 5223 tweet 4522\n"
     ]
    },
    {
     "name": "stdout",
     "output_type": "stream",
     "text": [
      "Subject: 5223 tweet 2434\nSubject: 5223 tweet 12458\nSubject: 5224 tweet 3382\nSubject: 5224 tweet 8917\n"
     ]
    },
    {
     "name": "stdout",
     "output_type": "stream",
     "text": [
      "Subject: 5224 tweet 1244\nSubject: 5224 tweet 4546\nSubject: 5224 tweet 4272\nSubject: 5224 tweet 6562\nSubject: 5224 tweet 10104\nSubject: 5224 tweet 6921\n"
     ]
    },
    {
     "name": "stdout",
     "output_type": "stream",
     "text": [
      "Subject: 5224 tweet 10920\nSubject: 5224 tweet 7374\nSubject: 5226 tweet 4576\nSubject: 5226 tweet 10482\nSubject: 5226 tweet 2410\n"
     ]
    },
    {
     "name": "stdout",
     "output_type": "stream",
     "text": [
      "Subject: 5226 tweet 10467\nSubject: 5226 tweet 9005\nSubject: 5226 tweet 1610\nSubject: 5226 tweet 1500\nSubject: 5226 tweet 773\n"
     ]
    },
    {
     "name": "stdout",
     "output_type": "stream",
     "text": [
      "Subject: 5226 tweet 1058\nSubject: 5226 tweet 9085\nSubject: 5228 tweet 2669\nSubject: 5228 tweet 1912\nSubject: 5228 tweet 8642\n"
     ]
    },
    {
     "name": "stdout",
     "output_type": "stream",
     "text": [
      "Subject: 5228 tweet 324\nSubject: 5228 tweet 4919\nSubject: 5228 tweet 9180\nSubject: 5228 tweet 12227\nSubject: 5228 tweet 4522\n"
     ]
    },
    {
     "name": "stdout",
     "output_type": "stream",
     "text": [
      "Subject: 5228 tweet 2434\nSubject: 5228 tweet 12458\nSubject: 5229 tweet 3382\nSubject: 5229 tweet 8917\nSubject: 5229 tweet 1244\n"
     ]
    },
    {
     "name": "stdout",
     "output_type": "stream",
     "text": [
      "Subject: 5229 tweet 4546\nSubject: 5229 tweet 4272\nSubject: 5229 tweet 6562\nSubject: 5229 tweet 10104\nSubject: 5229 tweet 6921\nSubject: 5229 tweet 10920\n"
     ]
    },
    {
     "name": "stdout",
     "output_type": "stream",
     "text": [
      "Subject: 5229 tweet 7374\nSubject: 5231 tweet 4576\nSubject: 5231 tweet 10482\nSubject: 5231 tweet 2410\nSubject: 5231 tweet 10467\n"
     ]
    },
    {
     "name": "stdout",
     "output_type": "stream",
     "text": [
      "Subject: 5231 tweet 9005\nSubject: 5231 tweet 1610\nSubject: 5231 tweet 1500\nSubject: 5231 tweet 773\nSubject: 5231 tweet 1058\n"
     ]
    },
    {
     "name": "stdout",
     "output_type": "stream",
     "text": [
      "Subject: 5231 tweet 9085\nSubject: 5233 tweet 2669\nSubject: 5233 tweet 1912\nSubject: 5233 tweet 8642\n"
     ]
    },
    {
     "name": "stdout",
     "output_type": "stream",
     "text": [
      "Subject: 5233 tweet 324\nSubject: 5233 tweet 4919\nSubject: 5233 tweet 9180\nSubject: 5233 tweet 12227\nSubject: 5233 tweet 4522\nSubject: 5233 tweet 2434\n"
     ]
    },
    {
     "name": "stdout",
     "output_type": "stream",
     "text": [
      "Subject: 5233 tweet 12458\nSubject: 5234 tweet 3382\nSubject: 5234 tweet 8917\nSubject: 5234 tweet 1244\nSubject: 5234 tweet 4546\n"
     ]
    },
    {
     "name": "stdout",
     "output_type": "stream",
     "text": [
      "Subject: 5234 tweet 4272\nSubject: 5234 tweet 6562\nSubject: 5234 tweet 10104\nSubject: 5234 tweet 6921\nSubject: 5234 tweet 10920\n"
     ]
    },
    {
     "name": "stdout",
     "output_type": "stream",
     "text": [
      "Subject: 5234 tweet 7374\nSubject: 5236 tweet 4576\nSubject: 5236 tweet 10482\nSubject: 5236 tweet 2410\n"
     ]
    },
    {
     "name": "stdout",
     "output_type": "stream",
     "text": [
      "Subject: 5236 tweet 10467\nSubject: 5236 tweet 9005\nSubject: 5236 tweet 1610\nSubject: 5236 tweet 1500\nSubject: 5236 tweet 773\n"
     ]
    },
    {
     "name": "stdout",
     "output_type": "stream",
     "text": [
      "Subject: 5236 tweet 1058\nSubject: 5236 tweet 9085\nSubject: 5238 tweet 2669\nSubject: 5238 tweet 1912\n"
     ]
    },
    {
     "name": "stdout",
     "output_type": "stream",
     "text": [
      "Subject: 5238 tweet 8642\nSubject: 5238 tweet 324\nSubject: 5238 tweet 4919\nSubject: 5238 tweet 9180\nSubject: 5238 tweet 12227\nSubject: 5238 tweet 4522\n"
     ]
    },
    {
     "name": "stdout",
     "output_type": "stream",
     "text": [
      "Subject: 5238 tweet 2434\nSubject: 5238 tweet 12458\nSubject: 5239 tweet 3382\nSubject: 5239 tweet 8917\nSubject: 5239 tweet 1244\n"
     ]
    },
    {
     "name": "stdout",
     "output_type": "stream",
     "text": [
      "Subject: 5239 tweet 4546\nSubject: 5239 tweet 4272\nSubject: 5239 tweet 6562\nSubject: 5239 tweet 10104\nSubject: 5239 tweet 6921\nSubject: 5239 tweet 10920\n"
     ]
    },
    {
     "name": "stdout",
     "output_type": "stream",
     "text": [
      "Subject: 5239 tweet 7374\nSubject: 5241 tweet 4576\nSubject: 5241 tweet 10482\nSubject: 5241 tweet 2410\n"
     ]
    },
    {
     "name": "stdout",
     "output_type": "stream",
     "text": [
      "Subject: 5241 tweet 10467\nSubject: 5241 tweet 9005\nSubject: 5241 tweet 1610\nSubject: 5241 tweet 1500\nSubject: 5241 tweet 773\n"
     ]
    },
    {
     "name": "stdout",
     "output_type": "stream",
     "text": [
      "Subject: 5241 tweet 1058\nSubject: 5241 tweet 9085\nSubject: 5243 tweet 2669\nSubject: 5243 tweet 1912\nSubject: 5243 tweet 8642\n"
     ]
    },
    {
     "name": "stdout",
     "output_type": "stream",
     "text": [
      "Subject: 5243 tweet 324\nSubject: 5243 tweet 4919\nSubject: 5243 tweet 9180\nSubject: 5243 tweet 12227\nSubject: 5243 tweet 4522\n"
     ]
    },
    {
     "name": "stdout",
     "output_type": "stream",
     "text": [
      "Subject: 5243 tweet 2434\nSubject: 5243 tweet 12458\nSubject: 5244 tweet 3382\nSubject: 5244 tweet 8917\nSubject: 5244 tweet 1244\n"
     ]
    },
    {
     "name": "stdout",
     "output_type": "stream",
     "text": [
      "Subject: 5244 tweet 4546\nSubject: 5244 tweet 4272\nSubject: 5244 tweet 6562\nSubject: 5244 tweet 10104\nSubject: 5244 tweet 6921\n"
     ]
    },
    {
     "name": "stdout",
     "output_type": "stream",
     "text": [
      "Subject: 5244 tweet 10920\nSubject: 5244 tweet 7374\nSubject: 5246 tweet 4576\nSubject: 5246 tweet 10482\nSubject: 5246 tweet 2410\n"
     ]
    },
    {
     "name": "stdout",
     "output_type": "stream",
     "text": [
      "Subject: 5246 tweet 10467\nSubject: 5246 tweet 9005\nSubject: 5246 tweet 1610\nSubject: 5246 tweet 1500\nSubject: 5246 tweet 773\n"
     ]
    },
    {
     "name": "stdout",
     "output_type": "stream",
     "text": [
      "Subject: 5246 tweet 1058\nSubject: 5246 tweet 9085\nSubject: 5248 tweet 2669\nSubject: 5248 tweet 1912\nSubject: 5248 tweet 8642\n"
     ]
    },
    {
     "name": "stdout",
     "output_type": "stream",
     "text": [
      "Subject: 5248 tweet 324\nSubject: 5248 tweet 4919\nSubject: 5248 tweet 9180\nSubject: 5248 tweet 12227\nSubject: 5248 tweet 4522\n"
     ]
    },
    {
     "name": "stdout",
     "output_type": "stream",
     "text": [
      "Subject: 5248 tweet 2434\nSubject: 5248 tweet 12458\nSubject: 5249 tweet 3382\nSubject: 5249 tweet 8917\nSubject: 5249 tweet 1244\n"
     ]
    },
    {
     "name": "stdout",
     "output_type": "stream",
     "text": [
      "Subject: 5249 tweet 4546\nSubject: 5249 tweet 4272\nSubject: 5249 tweet 6562\nSubject: 5249 tweet 10104\n"
     ]
    },
    {
     "name": "stdout",
     "output_type": "stream",
     "text": [
      "Subject: 5249 tweet 6921\nSubject: 5249 tweet 10920\nSubject: 5249 tweet 7374\nSubject: 5251 tweet 4576\n"
     ]
    },
    {
     "name": "stdout",
     "output_type": "stream",
     "text": [
      "Subject: 5251 tweet 10482\nSubject: 5251 tweet 2410\nSubject: 5251 tweet 10467\nSubject: 5251 tweet 9005\nSubject: 5251 tweet 1610\n"
     ]
    },
    {
     "name": "stdout",
     "output_type": "stream",
     "text": [
      "Subject: 5251 tweet 1500\nSubject: 5251 tweet 773\nSubject: 5251 tweet 1058\nSubject: 5251 tweet 9085\n"
     ]
    },
    {
     "name": "stdout",
     "output_type": "stream",
     "text": [
      "Subject: 5253 tweet 2669\nSubject: 5253 tweet 1912\nSubject: 5253 tweet 8642\nSubject: 5253 tweet 324\nSubject: 5253 tweet 4919\nSubject: 5253 tweet 9180\n"
     ]
    },
    {
     "name": "stdout",
     "output_type": "stream",
     "text": [
      "Subject: 5253 tweet 12227\nSubject: 5253 tweet 4522\nSubject: 5253 tweet 2434\nSubject: 5253 tweet 12458\nSubject: 5254 tweet 3382\n"
     ]
    },
    {
     "name": "stdout",
     "output_type": "stream",
     "text": [
      "Subject: 5254 tweet 8917\nSubject: 5254 tweet 1244\nSubject: 5254 tweet 4546\nSubject: 5254 tweet 4272\nSubject: 5254 tweet 6562\nSubject: 5254 tweet 10104\n"
     ]
    },
    {
     "name": "stdout",
     "output_type": "stream",
     "text": [
      "Subject: 5254 tweet 6921\nSubject: 5254 tweet 10920\nSubject: 5254 tweet 7374\nSubject: 5256 tweet 4576\nSubject: 5256 tweet 10482\n"
     ]
    },
    {
     "name": "stdout",
     "output_type": "stream",
     "text": [
      "Subject: 5256 tweet 2410\nSubject: 5256 tweet 10467\nSubject: 5256 tweet 9005\nSubject: 5256 tweet 1610\nSubject: 5256 tweet 1500\n"
     ]
    },
    {
     "name": "stdout",
     "output_type": "stream",
     "text": [
      "Subject: 5256 tweet 773\nSubject: 5256 tweet 1058\nSubject: 5256 tweet 9085\nSubject: 5258 tweet 2669\nSubject: 5258 tweet 1912\n"
     ]
    },
    {
     "name": "stdout",
     "output_type": "stream",
     "text": [
      "Subject: 5258 tweet 8642\nSubject: 5258 tweet 324\nSubject: 5258 tweet 4919\nSubject: 5258 tweet 9180\nSubject: 5258 tweet 12227\n"
     ]
    },
    {
     "name": "stdout",
     "output_type": "stream",
     "text": [
      "Subject: 5258 tweet 4522\nSubject: 5258 tweet 2434\nSubject: 5258 tweet 12458\nSubject: 5259 tweet 3382\nSubject: 5259 tweet 8917\n"
     ]
    },
    {
     "name": "stdout",
     "output_type": "stream",
     "text": [
      "Subject: 5259 tweet 1244\nSubject: 5259 tweet 4546\nSubject: 5259 tweet 4272\nSubject: 5259 tweet 6562\nSubject: 5259 tweet 10104\nSubject: 5259 tweet 6921\n"
     ]
    },
    {
     "name": "stdout",
     "output_type": "stream",
     "text": [
      "Subject: 5259 tweet 10920\nSubject: 5259 tweet 7374\nSubject: 5261 tweet 4576\nSubject: 5261 tweet 10482\n"
     ]
    },
    {
     "name": "stdout",
     "output_type": "stream",
     "text": [
      "Subject: 5261 tweet 2410\nSubject: 5261 tweet 10467\nSubject: 5261 tweet 9005\nSubject: 5261 tweet 1610\n"
     ]
    },
    {
     "name": "stdout",
     "output_type": "stream",
     "text": [
      "Subject: 5261 tweet 1500\nSubject: 5261 tweet 773\nSubject: 5261 tweet 1058\nSubject: 5261 tweet 9085\nSubject: 5263 tweet 2669\n"
     ]
    },
    {
     "name": "stdout",
     "output_type": "stream",
     "text": [
      "Subject: 5263 tweet 1912\nSubject: 5263 tweet 8642\nSubject: 5263 tweet 324\nSubject: 5263 tweet 4919\nSubject: 5263 tweet 9180\nSubject: 5263 tweet 12227\n"
     ]
    },
    {
     "name": "stdout",
     "output_type": "stream",
     "text": [
      "Subject: 5263 tweet 4522\nSubject: 5263 tweet 2434\nSubject: 5263 tweet 12458\nSubject: 5264 tweet 3382\nSubject: 5264 tweet 8917\n"
     ]
    },
    {
     "name": "stdout",
     "output_type": "stream",
     "text": [
      "Subject: 5264 tweet 1244\nSubject: 5264 tweet 4546\nSubject: 5264 tweet 4272\nSubject: 5264 tweet 6562\nSubject: 5264 tweet 10104\nSubject: 5264 tweet 6921\n"
     ]
    },
    {
     "name": "stdout",
     "output_type": "stream",
     "text": [
      "Subject: 5264 tweet 10920\nSubject: 5264 tweet 7374\nSubject: 5266 tweet 4576\nSubject: 5266 tweet 10482\nSubject: 5266 tweet 2410\n"
     ]
    },
    {
     "name": "stdout",
     "output_type": "stream",
     "text": [
      "Subject: 5266 tweet 10467\nSubject: 5266 tweet 9005\nSubject: 5266 tweet 1610\nSubject: 5266 tweet 1500\nSubject: 5266 tweet 773\n"
     ]
    },
    {
     "name": "stdout",
     "output_type": "stream",
     "text": [
      "Subject: 5266 tweet 1058\nSubject: 5266 tweet 9085\nSubject: 5268 tweet 2669\nSubject: 5268 tweet 1912\n"
     ]
    },
    {
     "name": "stdout",
     "output_type": "stream",
     "text": [
      "Subject: 5268 tweet 8642\nSubject: 5268 tweet 324\nSubject: 5268 tweet 4919\nSubject: 5268 tweet 9180\nSubject: 5268 tweet 12227\nSubject: 5268 tweet 4522\n"
     ]
    },
    {
     "name": "stdout",
     "output_type": "stream",
     "text": [
      "Subject: 5268 tweet 2434\nSubject: 5268 tweet 12458\nSubject: 5269 tweet 3382\nSubject: 5269 tweet 8917\nSubject: 5269 tweet 1244\n"
     ]
    },
    {
     "name": "stdout",
     "output_type": "stream",
     "text": [
      "Subject: 5269 tweet 4546\nSubject: 5269 tweet 4272\nSubject: 5269 tweet 6562\nSubject: 5269 tweet 10104\nSubject: 5269 tweet 6921\n"
     ]
    },
    {
     "name": "stdout",
     "output_type": "stream",
     "text": [
      "Subject: 5269 tweet 10920\nSubject: 5269 tweet 7374\nSubject: 5271 tweet 4576\nSubject: 5271 tweet 10482\nSubject: 5271 tweet 2410\n"
     ]
    },
    {
     "name": "stdout",
     "output_type": "stream",
     "text": [
      "Subject: 5271 tweet 10467\nSubject: 5271 tweet 9005\nSubject: 5271 tweet 1610\nSubject: 5271 tweet 1500\nSubject: 5271 tweet 773\nSubject: 5271 tweet 1058\n"
     ]
    },
    {
     "name": "stdout",
     "output_type": "stream",
     "text": [
      "Subject: 5271 tweet 9085\nSubject: 5273 tweet 2669\nSubject: 5273 tweet 1912\nSubject: 5273 tweet 8642\nSubject: 5273 tweet 324\n"
     ]
    },
    {
     "name": "stdout",
     "output_type": "stream",
     "text": [
      "Subject: 5273 tweet 4919\nSubject: 5273 tweet 9180\nSubject: 5273 tweet 12227\nSubject: 5273 tweet 4522\nSubject: 5273 tweet 2434\nSubject: 5273 tweet 12458\n"
     ]
    },
    {
     "name": "stdout",
     "output_type": "stream",
     "text": [
      "Subject: 5274 tweet 3382\nSubject: 5274 tweet 8917\nSubject: 5274 tweet 1244\nSubject: 5274 tweet 4546\nSubject: 5274 tweet 4272\n"
     ]
    },
    {
     "name": "stdout",
     "output_type": "stream",
     "text": [
      "Subject: 5274 tweet 6562\nSubject: 5274 tweet 10104\nSubject: 5274 tweet 6921\nSubject: 5274 tweet 10920\nSubject: 5274 tweet 7374\n"
     ]
    },
    {
     "name": "stdout",
     "output_type": "stream",
     "text": [
      "Subject: 5276 tweet 4576\nSubject: 5276 tweet 10482\nSubject: 5276 tweet 2410\nSubject: 5276 tweet 10467\nSubject: 5276 tweet 9005\nSubject: 5276 tweet 1610\n"
     ]
    },
    {
     "name": "stdout",
     "output_type": "stream",
     "text": [
      "Subject: 5276 tweet 1500\nSubject: 5276 tweet 773\nSubject: 5276 tweet 1058\nSubject: 5276 tweet 9085\nSubject: 5278 tweet 2669\n"
     ]
    },
    {
     "name": "stdout",
     "output_type": "stream",
     "text": [
      "Subject: 5278 tweet 1912\nSubject: 5278 tweet 8642\nSubject: 5278 tweet 324\nSubject: 5278 tweet 4919\nSubject: 5278 tweet 9180\nSubject: 5278 tweet 12227\n"
     ]
    },
    {
     "name": "stdout",
     "output_type": "stream",
     "text": [
      "Subject: 5278 tweet 4522\nSubject: 5278 tweet 2434\nSubject: 5278 tweet 12458\nSubject: 5279 tweet 3382\nSubject: 5279 tweet 8917\n"
     ]
    },
    {
     "name": "stdout",
     "output_type": "stream",
     "text": [
      "Subject: 5279 tweet 1244\nSubject: 5279 tweet 4546\nSubject: 5279 tweet 4272\nSubject: 5279 tweet 6562\nSubject: 5279 tweet 10104\nSubject: 5279 tweet 6921\n"
     ]
    },
    {
     "name": "stdout",
     "output_type": "stream",
     "text": [
      "Subject: 5279 tweet 10920\nSubject: 5279 tweet 7374\nSubject: 5281 tweet 4576\nSubject: 5281 tweet 10482\nSubject: 5281 tweet 2410\n"
     ]
    },
    {
     "name": "stdout",
     "output_type": "stream",
     "text": [
      "Subject: 5281 tweet 10467\nSubject: 5281 tweet 9005\nSubject: 5281 tweet 1610\nSubject: 5281 tweet 1500\nSubject: 5281 tweet 773\nSubject: 5281 tweet 1058\n"
     ]
    },
    {
     "name": "stdout",
     "output_type": "stream",
     "text": [
      "Subject: 5281 tweet 9085\nSubject: 5283 tweet 2669\nSubject: 5283 tweet 1912\n"
     ]
    },
    {
     "name": "stdout",
     "output_type": "stream",
     "text": [
      "Subject: 5283 tweet 8642\nSubject: 5283 tweet 324\nSubject: 5283 tweet 4919\nSubject: 5283 tweet 9180\nSubject: 5283 tweet 12227\n"
     ]
    },
    {
     "name": "stdout",
     "output_type": "stream",
     "text": [
      "Subject: 5283 tweet 4522\nSubject: 5283 tweet 2434\nSubject: 5283 tweet 12458\nSubject: 5284 tweet 3382\nSubject: 5284 tweet 8917\n"
     ]
    },
    {
     "name": "stdout",
     "output_type": "stream",
     "text": [
      "Subject: 5284 tweet 1244\nSubject: 5284 tweet 4546\nSubject: 5284 tweet 4272\nSubject: 5284 tweet 6562\nSubject: 5284 tweet 10104\n"
     ]
    },
    {
     "name": "stdout",
     "output_type": "stream",
     "text": [
      "Subject: 5284 tweet 6921\nSubject: 5284 tweet 10920\nSubject: 5284 tweet 7374\nSubject: 5286 tweet 4576\n"
     ]
    },
    {
     "name": "stdout",
     "output_type": "stream",
     "text": [
      "Subject: 5286 tweet 10482\nSubject: 5286 tweet 2410\nSubject: 5286 tweet 10467\nSubject: 5286 tweet 9005\nSubject: 5286 tweet 1610\nSubject: 5286 tweet 1500\n"
     ]
    },
    {
     "name": "stdout",
     "output_type": "stream",
     "text": [
      "Subject: 5286 tweet 773\nSubject: 5286 tweet 1058\nSubject: 5286 tweet 9085\nSubject: 5288 tweet 2669\nSubject: 5288 tweet 1912\n"
     ]
    },
    {
     "name": "stdout",
     "output_type": "stream",
     "text": [
      "Subject: 5288 tweet 8642\nSubject: 5288 tweet 324\nSubject: 5288 tweet 4919\nSubject: 5288 tweet 9180\nSubject: 5288 tweet 12227\nSubject: 5288 tweet 4522\n"
     ]
    },
    {
     "name": "stdout",
     "output_type": "stream",
     "text": [
      "Subject: 5288 tweet 2434\nSubject: 5288 tweet 12458\nSubject: 5289 tweet 3382\nSubject: 5289 tweet 8917\nSubject: 5289 tweet 1244\n"
     ]
    },
    {
     "name": "stdout",
     "output_type": "stream",
     "text": [
      "Subject: 5289 tweet 4546\nSubject: 5289 tweet 4272\nSubject: 5289 tweet 6562\nSubject: 5289 tweet 10104\nSubject: 5289 tweet 6921\n"
     ]
    },
    {
     "name": "stdout",
     "output_type": "stream",
     "text": [
      "Subject: 5289 tweet 10920\nSubject: 5289 tweet 7374\nSubject: 5293 tweet 2669\nSubject: 5293 tweet 1912\n"
     ]
    },
    {
     "name": "stdout",
     "output_type": "stream",
     "text": [
      "Subject: 5293 tweet 8642\nSubject: 5293 tweet 324\nSubject: 5293 tweet 4919\nSubject: 5293 tweet 9180\nSubject: 5293 tweet 12227\nSubject: 5293 tweet 4522\n"
     ]
    },
    {
     "name": "stdout",
     "output_type": "stream",
     "text": [
      "Subject: 5293 tweet 2434\nSubject: 5293 tweet 12458\nSubject: 5294 tweet 3382\nSubject: 5294 tweet 8917\nSubject: 5294 tweet 1244\n"
     ]
    },
    {
     "name": "stdout",
     "output_type": "stream",
     "text": [
      "Subject: 5294 tweet 4546\nSubject: 5294 tweet 4272\nSubject: 5294 tweet 6562\nSubject: 5294 tweet 10104\nSubject: 5294 tweet 6921\nSubject: 5294 tweet 10920\n"
     ]
    },
    {
     "name": "stdout",
     "output_type": "stream",
     "text": [
      "Subject: 5294 tweet 7374\nSubject: 5296 tweet 4576\nSubject: 5296 tweet 10482\nSubject: 5296 tweet 2410\nSubject: 5296 tweet 10467\n"
     ]
    },
    {
     "name": "stdout",
     "output_type": "stream",
     "text": [
      "Subject: 5296 tweet 9005\nSubject: 5296 tweet 1610\nSubject: 5296 tweet 1500\nSubject: 5296 tweet 773\nSubject: 5296 tweet 1058\nSubject: 5296 tweet 9085\n"
     ]
    },
    {
     "name": "stdout",
     "output_type": "stream",
     "text": [
      "Subject: 5298 tweet 2669\nSubject: 5298 tweet 1912\nSubject: 5298 tweet 8642\nSubject: 5298 tweet 324\nSubject: 5298 tweet 4919\nSubject: 5298 tweet 9180\n"
     ]
    },
    {
     "name": "stdout",
     "output_type": "stream",
     "text": [
      "Subject: 5298 tweet 12227\nSubject: 5298 tweet 4522\nSubject: 5298 tweet 2434\nSubject: 5298 tweet 12458\nSubject: 5299 tweet 3382\n"
     ]
    },
    {
     "name": "stdout",
     "output_type": "stream",
     "text": [
      "Subject: 5299 tweet 8917\nSubject: 5299 tweet 1244\nSubject: 5299 tweet 4546\nSubject: 5299 tweet 4272\nSubject: 5299 tweet 6562\n"
     ]
    },
    {
     "name": "stdout",
     "output_type": "stream",
     "text": [
      "Subject: 5299 tweet 10104\nSubject: 5299 tweet 6921\nSubject: 5299 tweet 10920\nSubject: 5299 tweet 7374\n"
     ]
    },
    {
     "name": "stdout",
     "output_type": "stream",
     "text": [
      "Subject: 5301 tweet 4576\nSubject: 5301 tweet 10482\nSubject: 5301 tweet 2410\nSubject: 5301 tweet 10467\n"
     ]
    },
    {
     "name": "stdout",
     "output_type": "stream",
     "text": [
      "Subject: 5301 tweet 9005\nSubject: 5301 tweet 1610\nSubject: 5301 tweet 1500\nSubject: 5301 tweet 773\nSubject: 5301 tweet 1058\n"
     ]
    },
    {
     "name": "stdout",
     "output_type": "stream",
     "text": [
      "Subject: 5301 tweet 9085\nSubject: 5303 tweet 2669\nSubject: 5303 tweet 1912\n"
     ]
    },
    {
     "name": "stdout",
     "output_type": "stream",
     "text": [
      "Subject: 5303 tweet 8642\nSubject: 5303 tweet 324\nSubject: 5303 tweet 4919\nSubject: 5303 tweet 9180\nSubject: 5303 tweet 12227\nSubject: 5303 tweet 4522\n"
     ]
    },
    {
     "name": "stdout",
     "output_type": "stream",
     "text": [
      "Subject: 5303 tweet 2434\nSubject: 5303 tweet 12458\nSubject: 5304 tweet 3382\nSubject: 5304 tweet 8917\n"
     ]
    },
    {
     "name": "stdout",
     "output_type": "stream",
     "text": [
      "Subject: 5304 tweet 1244\nSubject: 5304 tweet 4546\nSubject: 5304 tweet 4272\n"
     ]
    },
    {
     "name": "stdout",
     "output_type": "stream",
     "text": [
      "Subject: 5304 tweet 6562\nSubject: 5304 tweet 10104\nSubject: 5304 tweet 6921\nSubject: 5304 tweet 10920\nSubject: 5304 tweet 7374\n"
     ]
    },
    {
     "name": "stdout",
     "output_type": "stream",
     "text": [
      "Subject: 5306 tweet 4576\nSubject: 5306 tweet 10482\nSubject: 5306 tweet 2410\nSubject: 5306 tweet 10467\nSubject: 5306 tweet 9005\n"
     ]
    },
    {
     "name": "stdout",
     "output_type": "stream",
     "text": [
      "Subject: 5306 tweet 1610\nSubject: 5306 tweet 1500\nSubject: 5306 tweet 773\nSubject: 5306 tweet 1058\nSubject: 5306 tweet 9085\n"
     ]
    },
    {
     "name": "stdout",
     "output_type": "stream",
     "text": [
      "Subject: 5308 tweet 2669\nSubject: 5308 tweet 1912\nSubject: 5308 tweet 8642\nSubject: 5308 tweet 324\nSubject: 5308 tweet 4919\n"
     ]
    },
    {
     "name": "stdout",
     "output_type": "stream",
     "text": [
      "Subject: 5308 tweet 9180\nSubject: 5308 tweet 12227\nSubject: 5308 tweet 4522\nSubject: 5308 tweet 2434\nSubject: 5308 tweet 12458\n"
     ]
    },
    {
     "name": "stdout",
     "output_type": "stream",
     "text": [
      "Subject: 5309 tweet 3382\nSubject: 5309 tweet 8917\nSubject: 5309 tweet 1244\nSubject: 5309 tweet 4546\nSubject: 5309 tweet 4272\nSubject: 5309 tweet 6562\n"
     ]
    },
    {
     "name": "stdout",
     "output_type": "stream",
     "text": [
      "Subject: 5309 tweet 10104\nSubject: 5309 tweet 6921\nSubject: 5309 tweet 10920\nSubject: 5309 tweet 7374\n"
     ]
    },
    {
     "name": "stdout",
     "output_type": "stream",
     "text": [
      "Subject: 5311 tweet 4576\nSubject: 5311 tweet 10482\nSubject: 5311 tweet 2410\nSubject: 5311 tweet 10467\nSubject: 5311 tweet 9005\nSubject: 5311 tweet 1610\n"
     ]
    },
    {
     "name": "stdout",
     "output_type": "stream",
     "text": [
      "Subject: 5311 tweet 1500\nSubject: 5311 tweet 773\nSubject: 5311 tweet 1058\nSubject: 5311 tweet 9085\nSubject: 5313 tweet 2669\n"
     ]
    },
    {
     "name": "stdout",
     "output_type": "stream",
     "text": [
      "Subject: 5313 tweet 1912\nSubject: 5313 tweet 8642\nSubject: 5313 tweet 324\nSubject: 5313 tweet 4919\nSubject: 5313 tweet 9180\n"
     ]
    },
    {
     "name": "stdout",
     "output_type": "stream",
     "text": [
      "Subject: 5313 tweet 12227\nSubject: 5313 tweet 4522\nSubject: 5313 tweet 2434\nSubject: 5313 tweet 12458\nSubject: 5314 tweet 3382\n"
     ]
    },
    {
     "name": "stdout",
     "output_type": "stream",
     "text": [
      "Subject: 5314 tweet 8917\nSubject: 5314 tweet 1244\nSubject: 5314 tweet 4546\nSubject: 5314 tweet 4272\n"
     ]
    },
    {
     "name": "stdout",
     "output_type": "stream",
     "text": [
      "Subject: 5314 tweet 6562\nSubject: 5314 tweet 10104\nSubject: 5314 tweet 6921\nSubject: 5314 tweet 10920\nSubject: 5314 tweet 7374\n"
     ]
    },
    {
     "name": "stdout",
     "output_type": "stream",
     "text": [
      "Subject: 5316 tweet 4576\nSubject: 5316 tweet 10482\nSubject: 5316 tweet 2410\nSubject: 5316 tweet 10467\nSubject: 5316 tweet 9005\n"
     ]
    },
    {
     "name": "stdout",
     "output_type": "stream",
     "text": [
      "Subject: 5316 tweet 1610\nSubject: 5316 tweet 1500\nSubject: 5316 tweet 773\nSubject: 5316 tweet 1058\nSubject: 5316 tweet 9085\n"
     ]
    },
    {
     "name": "stdout",
     "output_type": "stream",
     "text": [
      "Subject: 5318 tweet 2669\nSubject: 5318 tweet 1912\nSubject: 5318 tweet 8642\nSubject: 5318 tweet 324\nSubject: 5318 tweet 4919\n"
     ]
    },
    {
     "name": "stdout",
     "output_type": "stream",
     "text": [
      "Subject: 5318 tweet 9180\nSubject: 5318 tweet 12227\nSubject: 5318 tweet 4522\nSubject: 5318 tweet 2434\nSubject: 5318 tweet 12458\n"
     ]
    },
    {
     "name": "stdout",
     "output_type": "stream",
     "text": [
      "Subject: 5319 tweet 3382\nSubject: 5319 tweet 8917\nSubject: 5319 tweet 1244\nSubject: 5319 tweet 4546\nSubject: 5319 tweet 4272\nSubject: 5319 tweet 6562\n"
     ]
    },
    {
     "name": "stdout",
     "output_type": "stream",
     "text": [
      "Subject: 5319 tweet 10104\nSubject: 5319 tweet 6921\nSubject: 5319 tweet 10920\nSubject: 5319 tweet 7374\n"
     ]
    },
    {
     "name": "stdout",
     "output_type": "stream",
     "text": [
      "Subject: 5321 tweet 4576\nSubject: 5321 tweet 10482\nSubject: 5321 tweet 2410\nSubject: 5321 tweet 10467\nSubject: 5321 tweet 9005\n"
     ]
    },
    {
     "name": "stdout",
     "output_type": "stream",
     "text": [
      "Subject: 5321 tweet 1610\nSubject: 5321 tweet 1500\nSubject: 5321 tweet 773\nSubject: 5321 tweet 1058\nSubject: 5321 tweet 9085\n"
     ]
    },
    {
     "name": "stdout",
     "output_type": "stream",
     "text": [
      "Subject: 5323 tweet 2669\nSubject: 5323 tweet 1912\nSubject: 5323 tweet 8642\nSubject: 5323 tweet 324\nSubject: 5323 tweet 4919\nSubject: 5323 tweet 9180\n"
     ]
    },
    {
     "name": "stdout",
     "output_type": "stream",
     "text": [
      "Subject: 5323 tweet 12227\nSubject: 5323 tweet 4522\nSubject: 5323 tweet 2434\nSubject: 5323 tweet 12458\nSubject: 5324 tweet 3382\n"
     ]
    },
    {
     "name": "stdout",
     "output_type": "stream",
     "text": [
      "Subject: 5324 tweet 8917\nSubject: 5324 tweet 1244\nSubject: 5324 tweet 4546\nSubject: 5324 tweet 4272\n"
     ]
    },
    {
     "name": "stdout",
     "output_type": "stream",
     "text": [
      "Subject: 5324 tweet 6562\nSubject: 5324 tweet 10104\nSubject: 5324 tweet 6921\nSubject: 5324 tweet 10920\nSubject: 5324 tweet 7374\n"
     ]
    },
    {
     "name": "stdout",
     "output_type": "stream",
     "text": [
      "Subject: 5326 tweet 4576\nSubject: 5326 tweet 10482\nSubject: 5326 tweet 2410\nSubject: 5326 tweet 10467\nSubject: 5326 tweet 9005\nSubject: 5326 tweet 1610\n"
     ]
    },
    {
     "name": "stdout",
     "output_type": "stream",
     "text": [
      "Subject: 5326 tweet 1500\nSubject: 5326 tweet 773\nSubject: 5326 tweet 1058\nSubject: 5326 tweet 9085\n"
     ]
    },
    {
     "name": "stdout",
     "output_type": "stream",
     "text": [
      "Subject: 5328 tweet 2669\nSubject: 5328 tweet 1912\nSubject: 5328 tweet 8642\nSubject: 5328 tweet 324\nSubject: 5328 tweet 4919\nSubject: 5328 tweet 9180\n"
     ]
    },
    {
     "name": "stdout",
     "output_type": "stream",
     "text": [
      "Subject: 5328 tweet 12227\nSubject: 5328 tweet 4522\nSubject: 5328 tweet 2434\n"
     ]
    },
    {
     "name": "stdout",
     "output_type": "stream",
     "text": [
      "Subject: 5328 tweet 12458\nSubject: 5329 tweet 3382\nSubject: 5329 tweet 8917\n"
     ]
    },
    {
     "name": "stdout",
     "output_type": "stream",
     "text": [
      "Subject: 5329 tweet 1244\nSubject: 5329 tweet 4546\nSubject: 5329 tweet 4272\nSubject: 5329 tweet 6562\nSubject: 5329 tweet 10104\nSubject: 5329 tweet 6921\n"
     ]
    },
    {
     "name": "stdout",
     "output_type": "stream",
     "text": [
      "Subject: 5329 tweet 10920\nSubject: 5329 tweet 7374\nSubject: 5331 tweet 4576\nSubject: 5331 tweet 10482\nSubject: 5331 tweet 2410\n"
     ]
    },
    {
     "name": "stdout",
     "output_type": "stream",
     "text": [
      "Subject: 5331 tweet 10467\nSubject: 5331 tweet 9005\nSubject: 5331 tweet 1610\nSubject: 5331 tweet 1500\nSubject: 5331 tweet 773\nSubject: 5331 tweet 1058\n"
     ]
    },
    {
     "name": "stdout",
     "output_type": "stream",
     "text": [
      "Subject: 5331 tweet 9085\nSubject: 5333 tweet 2669\nSubject: 5333 tweet 1912\nSubject: 5333 tweet 8642\nSubject: 5333 tweet 324\n"
     ]
    },
    {
     "name": "stdout",
     "output_type": "stream",
     "text": [
      "Subject: 5333 tweet 4919\nSubject: 5333 tweet 9180\nSubject: 5333 tweet 12227\nSubject: 5333 tweet 4522\nSubject: 5333 tweet 2434\n"
     ]
    },
    {
     "name": "stdout",
     "output_type": "stream",
     "text": [
      "Subject: 5333 tweet 12458\nSubject: 5334 tweet 3382\nSubject: 5334 tweet 8917\nSubject: 5334 tweet 1244\nSubject: 5334 tweet 4546\n"
     ]
    },
    {
     "name": "stdout",
     "output_type": "stream",
     "text": [
      "Subject: 5334 tweet 4272\nSubject: 5334 tweet 6562\nSubject: 5334 tweet 10104\nSubject: 5334 tweet 6921\nSubject: 5334 tweet 10920\n"
     ]
    },
    {
     "name": "stdout",
     "output_type": "stream",
     "text": [
      "Subject: 5334 tweet 7374\nSubject: 5336 tweet 4576\nSubject: 5336 tweet 10482\n"
     ]
    },
    {
     "name": "stdout",
     "output_type": "stream",
     "text": [
      "Subject: 5336 tweet 2410\nSubject: 5336 tweet 10467\nSubject: 5336 tweet 9005\nSubject: 5336 tweet 1610\nSubject: 5336 tweet 1500\n"
     ]
    },
    {
     "name": "stdout",
     "output_type": "stream",
     "text": [
      "Subject: 5336 tweet 773\nSubject: 5336 tweet 1058\nSubject: 5336 tweet 9085\nSubject: 5338 tweet 2669\nSubject: 5338 tweet 1912\n"
     ]
    },
    {
     "name": "stdout",
     "output_type": "stream",
     "text": [
      "Subject: 5338 tweet 8642\nSubject: 5338 tweet 324\nSubject: 5338 tweet 4919\nSubject: 5338 tweet 9180\nSubject: 5338 tweet 12227\n"
     ]
    },
    {
     "name": "stdout",
     "output_type": "stream",
     "text": [
      "Subject: 5338 tweet 4522\nSubject: 5338 tweet 2434\nSubject: 5338 tweet 12458\nSubject: 5339 tweet 3382\nSubject: 5339 tweet 8917\n"
     ]
    },
    {
     "name": "stdout",
     "output_type": "stream",
     "text": [
      "Subject: 5339 tweet 1244\nSubject: 5339 tweet 4546\nSubject: 5339 tweet 4272\nSubject: 5339 tweet 6562\nSubject: 5339 tweet 10104\n"
     ]
    },
    {
     "name": "stdout",
     "output_type": "stream",
     "text": [
      "Subject: 5339 tweet 6921\nSubject: 5339 tweet 10920\nSubject: 5339 tweet 7374\nSubject: 5341 tweet 4576\nSubject: 5341 tweet 10482\n"
     ]
    },
    {
     "name": "stdout",
     "output_type": "stream",
     "text": [
      "Subject: 5341 tweet 2410\nSubject: 5341 tweet 10467\nSubject: 5341 tweet 9005\nSubject: 5341 tweet 1610\nSubject: 5341 tweet 1500\n"
     ]
    },
    {
     "name": "stdout",
     "output_type": "stream",
     "text": [
      "Subject: 5341 tweet 773\nSubject: 5341 tweet 1058\nSubject: 5341 tweet 9085\nSubject: 5343 tweet 2669\n"
     ]
    },
    {
     "name": "stdout",
     "output_type": "stream",
     "text": [
      "Subject: 5343 tweet 1912\nSubject: 5343 tweet 8642\nSubject: 5343 tweet 324\nSubject: 5343 tweet 4919\nSubject: 5343 tweet 9180\nSubject: 5343 tweet 12227\n"
     ]
    },
    {
     "name": "stdout",
     "output_type": "stream",
     "text": [
      "Subject: 5343 tweet 4522\nSubject: 5343 tweet 2434\nSubject: 5343 tweet 12458\nSubject: 5344 tweet 3382\nSubject: 5344 tweet 8917\n"
     ]
    },
    {
     "name": "stdout",
     "output_type": "stream",
     "text": [
      "Subject: 5344 tweet 1244\nSubject: 5344 tweet 4546\nSubject: 5344 tweet 4272\nSubject: 5344 tweet 6562\nSubject: 5344 tweet 10104\nSubject: 5344 tweet 6921\n"
     ]
    },
    {
     "name": "stdout",
     "output_type": "stream",
     "text": [
      "Subject: 5344 tweet 10920\nSubject: 5344 tweet 7374\nSubject: 5346 tweet 4576\nSubject: 5346 tweet 10482\nSubject: 5346 tweet 2410\n"
     ]
    },
    {
     "name": "stdout",
     "output_type": "stream",
     "text": [
      "Subject: 5346 tweet 10467\nSubject: 5346 tweet 9005\nSubject: 5346 tweet 1610\nSubject: 5346 tweet 1500\nSubject: 5346 tweet 773\n"
     ]
    },
    {
     "name": "stdout",
     "output_type": "stream",
     "text": [
      "Subject: 5346 tweet 1058\nSubject: 5346 tweet 9085\nSubject: 5348 tweet 2669\nSubject: 5348 tweet 1912\nSubject: 5348 tweet 8642\n"
     ]
    },
    {
     "name": "stdout",
     "output_type": "stream",
     "text": [
      "Subject: 5348 tweet 324\nSubject: 5348 tweet 4919\nSubject: 5348 tweet 9180\nSubject: 5348 tweet 12227\nSubject: 5348 tweet 4522\nSubject: 5348 tweet 2434\n"
     ]
    },
    {
     "name": "stdout",
     "output_type": "stream",
     "text": [
      "Subject: 5348 tweet 12458\nSubject: 5349 tweet 3382\nSubject: 5349 tweet 8917\nSubject: 5349 tweet 1244\nSubject: 5349 tweet 4546\n"
     ]
    },
    {
     "name": "stdout",
     "output_type": "stream",
     "text": [
      "Subject: 5349 tweet 4272\nSubject: 5349 tweet 6562\nSubject: 5349 tweet 10104\nSubject: 5349 tweet 6921\nSubject: 5349 tweet 10920\nSubject: 5349 tweet 7374\n"
     ]
    },
    {
     "name": "stdout",
     "output_type": "stream",
     "text": [
      "Subject: 5351 tweet 4576\nSubject: 5351 tweet 10482\nSubject: 5351 tweet 2410\nSubject: 5351 tweet 10467\nSubject: 5351 tweet 9005\nSubject: 5351 tweet 1610\n"
     ]
    },
    {
     "name": "stdout",
     "output_type": "stream",
     "text": [
      "Subject: 5351 tweet 1500\nSubject: 5351 tweet 773\nSubject: 5351 tweet 1058\nSubject: 5351 tweet 9085\nSubject: 5353 tweet 2669\n"
     ]
    },
    {
     "name": "stdout",
     "output_type": "stream",
     "text": [
      "Subject: 5353 tweet 1912\nSubject: 5353 tweet 8642\nSubject: 5353 tweet 324\nSubject: 5353 tweet 4919\nSubject: 5353 tweet 9180\nSubject: 5353 tweet 12227\n"
     ]
    },
    {
     "name": "stdout",
     "output_type": "stream",
     "text": [
      "Subject: 5353 tweet 4522\nSubject: 5353 tweet 2434\nSubject: 5353 tweet 12458\nSubject: 5354 tweet 3382\nSubject: 5354 tweet 8917\n"
     ]
    },
    {
     "name": "stdout",
     "output_type": "stream",
     "text": [
      "Subject: 5354 tweet 1244\nSubject: 5354 tweet 4546\nSubject: 5354 tweet 4272\nSubject: 5354 tweet 6562\nSubject: 5354 tweet 10104\nSubject: 5354 tweet 6921\n"
     ]
    },
    {
     "name": "stdout",
     "output_type": "stream",
     "text": [
      "Subject: 5354 tweet 10920\nSubject: 5354 tweet 7374\nSubject: 5356 tweet 4576\nSubject: 5356 tweet 10482\nSubject: 5356 tweet 2410\n"
     ]
    },
    {
     "name": "stdout",
     "output_type": "stream",
     "text": [
      "Subject: 5356 tweet 10467\nSubject: 5356 tweet 9005\nSubject: 5356 tweet 1610\nSubject: 5356 tweet 1500\nSubject: 5356 tweet 773\nSubject: 5356 tweet 1058\n"
     ]
    },
    {
     "name": "stdout",
     "output_type": "stream",
     "text": [
      "Subject: 5356 tweet 9085\nSubject: 5358 tweet 2669\nSubject: 5358 tweet 1912\nSubject: 5358 tweet 8642\n"
     ]
    },
    {
     "name": "stdout",
     "output_type": "stream",
     "text": [
      "Subject: 5358 tweet 324\nSubject: 5358 tweet 4919\nSubject: 5358 tweet 9180\nSubject: 5358 tweet 12227\nSubject: 5358 tweet 4522\n"
     ]
    },
    {
     "name": "stdout",
     "output_type": "stream",
     "text": [
      "Subject: 5358 tweet 2434\nSubject: 5358 tweet 12458\nSubject: 5359 tweet 3382\nSubject: 5359 tweet 8917\n"
     ]
    },
    {
     "name": "stdout",
     "output_type": "stream",
     "text": [
      "Subject: 5359 tweet 1244\nSubject: 5359 tweet 4546\nSubject: 5359 tweet 4272\nSubject: 5359 tweet 6562\nSubject: 5359 tweet 10104\n"
     ]
    },
    {
     "name": "stdout",
     "output_type": "stream",
     "text": [
      "Subject: 5359 tweet 6921\nSubject: 5359 tweet 10920\nSubject: 5359 tweet 7374\n"
     ]
    },
    {
     "name": "stdout",
     "output_type": "stream",
     "text": [
      "Subject: 5361 tweet 4576\nSubject: 5361 tweet 10482\nSubject: 5361 tweet 2410\nSubject: 5361 tweet 10467\nSubject: 5361 tweet 9005\nSubject: 5361 tweet 1610\n"
     ]
    },
    {
     "name": "stdout",
     "output_type": "stream",
     "text": [
      "Subject: 5361 tweet 1500\nSubject: 5361 tweet 773\nSubject: 5361 tweet 1058\nSubject: 5361 tweet 9085\n"
     ]
    },
    {
     "name": "stdout",
     "output_type": "stream",
     "text": [
      "Subject: 5363 tweet 2669\nSubject: 5363 tweet 1912\nSubject: 5363 tweet 8642\nSubject: 5363 tweet 324\nSubject: 5363 tweet 4919\nSubject: 5363 tweet 9180\n"
     ]
    },
    {
     "name": "stdout",
     "output_type": "stream",
     "text": [
      "Subject: 5363 tweet 12227\nSubject: 5363 tweet 4522\nSubject: 5363 tweet 2434\nSubject: 5363 tweet 12458\nSubject: 5364 tweet 3382\n"
     ]
    },
    {
     "name": "stdout",
     "output_type": "stream",
     "text": [
      "Subject: 5364 tweet 8917\nSubject: 5364 tweet 1244\nSubject: 5364 tweet 4546\nSubject: 5364 tweet 4272\nSubject: 5364 tweet 6562\nSubject: 5364 tweet 10104\n"
     ]
    },
    {
     "name": "stdout",
     "output_type": "stream",
     "text": [
      "Subject: 5364 tweet 6921\nSubject: 5364 tweet 10920\nSubject: 5364 tweet 7374\nSubject: 5366 tweet 4576\nSubject: 5366 tweet 10482\n"
     ]
    },
    {
     "name": "stdout",
     "output_type": "stream",
     "text": [
      "Subject: 5366 tweet 2410\nSubject: 5366 tweet 10467\nSubject: 5366 tweet 9005\nSubject: 5366 tweet 1610\nSubject: 5366 tweet 1500\n"
     ]
    },
    {
     "name": "stdout",
     "output_type": "stream",
     "text": [
      "Subject: 5366 tweet 773\nSubject: 5366 tweet 1058\nSubject: 5366 tweet 9085\n"
     ]
    },
    {
     "name": "stdout",
     "output_type": "stream",
     "text": [
      "Subject: 5368 tweet 2669\nSubject: 5368 tweet 1912\nSubject: 5368 tweet 8642\nSubject: 5368 tweet 324\nSubject: 5368 tweet 4919\n"
     ]
    },
    {
     "name": "stdout",
     "output_type": "stream",
     "text": [
      "Subject: 5368 tweet 9180\nSubject: 5368 tweet 12227\nSubject: 5368 tweet 4522\n"
     ]
    },
    {
     "name": "stdout",
     "output_type": "stream",
     "text": [
      "Subject: 5368 tweet 2434\nSubject: 5368 tweet 12458\nSubject: 5369 tweet 3382\nSubject: 5369 tweet 8917\nSubject: 5369 tweet 1244\n"
     ]
    },
    {
     "name": "stdout",
     "output_type": "stream",
     "text": [
      "Subject: 5369 tweet 4546\nSubject: 5369 tweet 4272\nSubject: 5369 tweet 6562\nSubject: 5369 tweet 10104\nSubject: 5369 tweet 6921\nSubject: 5369 tweet 10920\n"
     ]
    },
    {
     "name": "stdout",
     "output_type": "stream",
     "text": [
      "Subject: 5369 tweet 7374\nSubject: 5371 tweet 4576\nSubject: 5371 tweet 10482\nSubject: 5371 tweet 2410\nSubject: 5371 tweet 10467\n"
     ]
    },
    {
     "name": "stdout",
     "output_type": "stream",
     "text": [
      "Subject: 5371 tweet 9005\nSubject: 5371 tweet 1610\nSubject: 5371 tweet 1500\nSubject: 5371 tweet 773\nSubject: 5371 tweet 1058\nSubject: 5371 tweet 9085\n"
     ]
    },
    {
     "name": "stdout",
     "output_type": "stream",
     "text": [
      "Subject: 5373 tweet 2669\nSubject: 5373 tweet 1912\nSubject: 5373 tweet 8642\nSubject: 5373 tweet 324\nSubject: 5373 tweet 4919\nSubject: 5373 tweet 9180\n"
     ]
    },
    {
     "name": "stdout",
     "output_type": "stream",
     "text": [
      "Subject: 5373 tweet 12227\nSubject: 5373 tweet 4522\nSubject: 5373 tweet 2434\nSubject: 5373 tweet 12458\nSubject: 5374 tweet 3382\n"
     ]
    },
    {
     "name": "stdout",
     "output_type": "stream",
     "text": [
      "Subject: 5374 tweet 8917\nSubject: 5374 tweet 1244\nSubject: 5374 tweet 4546\nSubject: 5374 tweet 4272\nSubject: 5374 tweet 6562\nSubject: 5374 tweet 10104\n"
     ]
    },
    {
     "name": "stdout",
     "output_type": "stream",
     "text": [
      "Subject: 5374 tweet 6921\nSubject: 5374 tweet 10920\nSubject: 5374 tweet 7374\nSubject: 5376 tweet 4576\n"
     ]
    },
    {
     "name": "stdout",
     "output_type": "stream",
     "text": [
      "Subject: 5376 tweet 10482\nSubject: 5376 tweet 2410\nSubject: 5376 tweet 10467\nSubject: 5376 tweet 9005\nSubject: 5376 tweet 1610\nSubject: 5376 tweet 1500\n"
     ]
    },
    {
     "name": "stdout",
     "output_type": "stream",
     "text": [
      "Subject: 5376 tweet 773\nSubject: 5376 tweet 1058\nSubject: 5376 tweet 9085\nSubject: 5378 tweet 2669\nSubject: 5378 tweet 1912\n"
     ]
    },
    {
     "name": "stdout",
     "output_type": "stream",
     "text": [
      "Subject: 5378 tweet 8642\nSubject: 5378 tweet 324\nSubject: 5378 tweet 4919\nSubject: 5378 tweet 9180\nSubject: 5378 tweet 12227\nSubject: 5378 tweet 4522\n"
     ]
    },
    {
     "name": "stdout",
     "output_type": "stream",
     "text": [
      "Subject: 5378 tweet 2434\nSubject: 5378 tweet 12458\nSubject: 5379 tweet 3382\nSubject: 5379 tweet 8917\nSubject: 5379 tweet 1244\n"
     ]
    },
    {
     "name": "stdout",
     "output_type": "stream",
     "text": [
      "Subject: 5379 tweet 4546\nSubject: 5379 tweet 4272\nSubject: 5379 tweet 6562\nSubject: 5379 tweet 10104\nSubject: 5379 tweet 6921\nSubject: 5379 tweet 10920\n"
     ]
    },
    {
     "name": "stdout",
     "output_type": "stream",
     "text": [
      "Subject: 5379 tweet 7374\nSubject: 5381 tweet 4576\nSubject: 5381 tweet 10482\nSubject: 5381 tweet 2410\nSubject: 5381 tweet 10467\n"
     ]
    },
    {
     "name": "stdout",
     "output_type": "stream",
     "text": [
      "Subject: 5381 tweet 9005\nSubject: 5381 tweet 1610\nSubject: 5381 tweet 1500\nSubject: 5381 tweet 773\nSubject: 5381 tweet 1058\n"
     ]
    },
    {
     "name": "stdout",
     "output_type": "stream",
     "text": [
      "Subject: 5381 tweet 9085\nSubject: 5383 tweet 2669\nSubject: 5383 tweet 1912\nSubject: 5383 tweet 8642\nSubject: 5383 tweet 324\n"
     ]
    },
    {
     "name": "stdout",
     "output_type": "stream",
     "text": [
      "Subject: 5383 tweet 4919\nSubject: 5383 tweet 9180\nSubject: 5383 tweet 12227\nSubject: 5383 tweet 4522\nSubject: 5383 tweet 2434\n"
     ]
    },
    {
     "name": "stdout",
     "output_type": "stream",
     "text": [
      "Subject: 5383 tweet 12458\nSubject: 5384 tweet 3382\nSubject: 5384 tweet 8917\nSubject: 5384 tweet 1244\nSubject: 5384 tweet 4546\n"
     ]
    },
    {
     "name": "stdout",
     "output_type": "stream",
     "text": [
      "Subject: 5384 tweet 4272\nSubject: 5384 tweet 6562\nSubject: 5384 tweet 10104\nSubject: 5384 tweet 6921\nSubject: 5384 tweet 10920\nSubject: 5384 tweet 7374\n"
     ]
    },
    {
     "name": "stdout",
     "output_type": "stream",
     "text": [
      "Subject: 5386 tweet 4576\nSubject: 5386 tweet 10482\nSubject: 5386 tweet 2410\nSubject: 5386 tweet 10467\nSubject: 5386 tweet 9005\n"
     ]
    },
    {
     "name": "stdout",
     "output_type": "stream",
     "text": [
      "Subject: 5386 tweet 1610\nSubject: 5386 tweet 1500\nSubject: 5386 tweet 773\nSubject: 5386 tweet 1058\nSubject: 5386 tweet 9085\n"
     ]
    },
    {
     "name": "stdout",
     "output_type": "stream",
     "text": [
      "Subject: 5388 tweet 2669\nSubject: 5388 tweet 1912\nSubject: 5388 tweet 8642\nSubject: 5388 tweet 324\nSubject: 5388 tweet 4919\n"
     ]
    },
    {
     "name": "stdout",
     "output_type": "stream",
     "text": [
      "Subject: 5388 tweet 9180\nSubject: 5388 tweet 12227\nSubject: 5388 tweet 4522\nSubject: 5388 tweet 2434\nSubject: 5388 tweet 12458\n"
     ]
    },
    {
     "name": "stdout",
     "output_type": "stream",
     "text": [
      "Subject: 5389 tweet 3382\nSubject: 5389 tweet 8917\nSubject: 5389 tweet 1244\nSubject: 5389 tweet 4546\nSubject: 5389 tweet 4272\n"
     ]
    },
    {
     "name": "stdout",
     "output_type": "stream",
     "text": [
      "Subject: 5389 tweet 6562\nSubject: 5389 tweet 10104\nSubject: 5389 tweet 6921\nSubject: 5389 tweet 10920\n"
     ]
    },
    {
     "name": "stdout",
     "output_type": "stream",
     "text": [
      "Subject: 5389 tweet 7374\nSubject: 5391 tweet 4576\nSubject: 5391 tweet 10482\n"
     ]
    },
    {
     "name": "stdout",
     "output_type": "stream",
     "text": [
      "Subject: 5391 tweet 2410\nSubject: 5391 tweet 10467\nSubject: 5391 tweet 9005\nSubject: 5391 tweet 1610\nSubject: 5391 tweet 1500\nSubject: 5391 tweet 773\n"
     ]
    },
    {
     "name": "stdout",
     "output_type": "stream",
     "text": [
      "Subject: 5391 tweet 1058\nSubject: 5391 tweet 9085\nSubject: 5393 tweet 2669\nSubject: 5393 tweet 1912\nSubject: 5393 tweet 8642\n"
     ]
    },
    {
     "name": "stdout",
     "output_type": "stream",
     "text": [
      "Subject: 5393 tweet 324\nSubject: 5393 tweet 4919\nSubject: 5393 tweet 9180\nSubject: 5393 tweet 12227\nSubject: 5393 tweet 4522\nSubject: 5393 tweet 2434\n"
     ]
    },
    {
     "name": "stdout",
     "output_type": "stream",
     "text": [
      "Subject: 5393 tweet 12458\nSubject: 5394 tweet 3382\nSubject: 5394 tweet 8917\nSubject: 5394 tweet 1244\nSubject: 5394 tweet 4546\n"
     ]
    },
    {
     "name": "stdout",
     "output_type": "stream",
     "text": [
      "Subject: 5394 tweet 4272\nSubject: 5394 tweet 6562\nSubject: 5394 tweet 10104\nSubject: 5394 tweet 6921\nSubject: 5394 tweet 10920\nSubject: 5394 tweet 7374\n"
     ]
    },
    {
     "name": "stdout",
     "output_type": "stream",
     "text": [
      "Subject: 5396 tweet 4576\nSubject: 5396 tweet 10482\nSubject: 5396 tweet 2410\nSubject: 5396 tweet 10467\nSubject: 5396 tweet 9005\n"
     ]
    },
    {
     "name": "stdout",
     "output_type": "stream",
     "text": [
      "Subject: 5396 tweet 1610\nSubject: 5396 tweet 1500\nSubject: 5396 tweet 773\nSubject: 5396 tweet 1058\nSubject: 5396 tweet 9085\n"
     ]
    },
    {
     "name": "stdout",
     "output_type": "stream",
     "text": [
      "Subject: 5398 tweet 2669\nSubject: 5398 tweet 1912\nSubject: 5398 tweet 8642\nSubject: 5398 tweet 324\nSubject: 5398 tweet 4919\n"
     ]
    },
    {
     "name": "stdout",
     "output_type": "stream",
     "text": [
      "Subject: 5398 tweet 9180\nSubject: 5398 tweet 12227\nSubject: 5398 tweet 4522\nSubject: 5398 tweet 2434\nSubject: 5398 tweet 12458\n"
     ]
    },
    {
     "name": "stdout",
     "output_type": "stream",
     "text": [
      "Subject: 5399 tweet 3382\nSubject: 5399 tweet 8917\nSubject: 5399 tweet 1244\nSubject: 5399 tweet 4546\nSubject: 5399 tweet 4272\n"
     ]
    },
    {
     "name": "stdout",
     "output_type": "stream",
     "text": [
      "Subject: 5399 tweet 6562\nSubject: 5399 tweet 10104\nSubject: 5399 tweet 6921\nSubject: 5399 tweet 10920\nSubject: 5399 tweet 7374\n"
     ]
    },
    {
     "name": "stdout",
     "output_type": "stream",
     "text": [
      "Subject: 5405 tweet 8478\nSubject: 5405 tweet 6044\nSubject: 5405 tweet 9083\nSubject: 5405 tweet 1678\nSubject: 5405 tweet 6471\n"
     ]
    },
    {
     "name": "stdout",
     "output_type": "stream",
     "text": [
      "Subject: 5405 tweet 885\nSubject: 5405 tweet 6394\nSubject: 5405 tweet 9084\nSubject: 5405 tweet 11987\nSubject: 5405 tweet 6571\n"
     ]
    },
    {
     "name": "stdout",
     "output_type": "stream",
     "text": [
      "Subject: 5407 tweet 12443\nSubject: 5407 tweet 8620\nSubject: 5407 tweet 3794\nSubject: 5407 tweet 2233\nSubject: 5407 tweet 2588\n"
     ]
    },
    {
     "name": "stdout",
     "output_type": "stream",
     "text": [
      "Subject: 5407 tweet 9993\nSubject: 5407 tweet 807\nSubject: 5407 tweet 7249\nSubject: 5407 tweet 1199\nSubject: 5407 tweet 239\n"
     ]
    },
    {
     "name": "stdout",
     "output_type": "stream",
     "text": [
      "Subject: 5408 tweet 7162\nSubject: 5408 tweet 1743\n"
     ]
    },
    {
     "name": "stdout",
     "output_type": "stream",
     "text": [
      "Subject: 5408 tweet 3\n"
     ]
    },
    {
     "name": "stdout",
     "output_type": "stream",
     "text": [
      "Subject: 5408 tweet 1384\nSubject: 5408 tweet 156\nSubject: 5408 tweet 198\n"
     ]
    },
    {
     "name": "stdout",
     "output_type": "stream",
     "text": [
      "Subject: 5408 tweet 8977\nSubject: 5408 tweet 2243\nSubject: 5408 tweet 9452\nSubject: 5408 tweet 8891\n"
     ]
    },
    {
     "name": "stdout",
     "output_type": "stream",
     "text": [
      "Subject: 5409 tweet 8618\nSubject: 5409 tweet 3202\nSubject: 5409 tweet 9926\nSubject: 5409 tweet 9034\nSubject: 5409 tweet 1534\nSubject: 5409 tweet 9721\n"
     ]
    },
    {
     "name": "stdout",
     "output_type": "stream",
     "text": [
      "Subject: 5409 tweet 9814\nSubject: 5409 tweet 10532\nSubject: 5409 tweet 4429\nSubject: 5409 tweet 10131\nSubject: 5410 tweet 7431\n"
     ]
    },
    {
     "name": "stdout",
     "output_type": "stream",
     "text": [
      "Subject: 5410 tweet 4195\nSubject: 5410 tweet 12320\nSubject: 5410 tweet 7295\nSubject: 5410 tweet 4196\nSubject: 5410 tweet 10284\nSubject: 5410 tweet 7296\n"
     ]
    },
    {
     "name": "stdout",
     "output_type": "stream",
     "text": [
      "Subject: 5410 tweet 8236\nSubject: 5410 tweet 1812\nSubject: 5410 tweet 9727\nSubject: 5411 tweet 7\n"
     ]
    },
    {
     "name": "stdout",
     "output_type": "stream",
     "text": [
      "Subject: 5411 tweet 10203\nSubject: 5411 tweet 9897\nSubject: 5411 tweet 10122\nSubject: 5411 tweet 10710\nSubject: 5411 tweet 1949\nSubject: 5411 tweet 10242\n"
     ]
    },
    {
     "name": "stdout",
     "output_type": "stream",
     "text": [
      "Subject: 5411 tweet 1403\nSubject: 5411 tweet 10267\nSubject: 5411 tweet 9789\nSubject: 5412 tweet 9828\nSubject: 5412 tweet 454\n"
     ]
    },
    {
     "name": "stdout",
     "output_type": "stream",
     "text": [
      "Subject: 5412 tweet 4344\nSubject: 5412 tweet 4411\nSubject: 5412 tweet 1857\nSubject: 5412 tweet 7087\nSubject: 5412 tweet 5448\nSubject: 5412 tweet 8829\n"
     ]
    },
    {
     "name": "stdout",
     "output_type": "stream",
     "text": [
      "Subject: 5412 tweet 8856\nSubject: 5412 tweet 9082\nSubject: 5413 tweet 10255\nSubject: 5413 tweet 10277\nSubject: 5413 tweet 4337\n"
     ]
    },
    {
     "name": "stdout",
     "output_type": "stream",
     "text": [
      "Subject: 5413 tweet 3666\nSubject: 5413 tweet 10300\nSubject: 5413 tweet 8949\nSubject: 5413 tweet 9920\nSubject: 5413 tweet 9975\n"
     ]
    },
    {
     "name": "stdout",
     "output_type": "stream",
     "text": [
      "Subject: 5413 tweet 8989\nSubject: 5413 tweet 8986\nSubject: 5417 tweet 10105\nSubject: 5417 tweet 7379\nSubject: 5417 tweet 8082\n"
     ]
    },
    {
     "name": "stdout",
     "output_type": "stream",
     "text": [
      "Subject: 5417 tweet 1734\nSubject: 5417 tweet 5854\nSubject: 5418 tweet 6458\nSubject: 5418 tweet 6456\nSubject: 5418 tweet 2284\n"
     ]
    },
    {
     "name": "stdout",
     "output_type": "stream",
     "text": [
      "Subject: 5418 tweet 7125\nSubject: 5418 tweet 6748\nSubject: 5418 tweet 6277\nSubject: 5418 tweet 6281\nSubject: 5418 tweet 6436\n"
     ]
    },
    {
     "name": "stdout",
     "output_type": "stream",
     "text": [
      "Subject: 5418 tweet 7678\nSubject: 5418 tweet 7243\nSubject: 5422 tweet 7616\nSubject: 5422 tweet 7048\nSubject: 5422 tweet 7275\n"
     ]
    },
    {
     "name": "stdout",
     "output_type": "stream",
     "text": [
      "Subject: 5422 tweet 7242\nSubject: 5422 tweet 3908\nSubject: 5422 tweet 11922\nSubject: 5422 tweet 1527\nSubject: 5422 tweet 1436\n"
     ]
    },
    {
     "name": "stdout",
     "output_type": "stream",
     "text": [
      "Subject: 5422 tweet 4318\nSubject: 5422 tweet 361\nSubject: 5423 tweet 6701\nSubject: 5423 tweet 11144\nSubject: 5423 tweet 1525\n"
     ]
    },
    {
     "name": "stdout",
     "output_type": "stream",
     "text": [
      "Subject: 5423 tweet 8633\nSubject: 5423 tweet 4912\nSubject: 5423 tweet 8328\nSubject: 5423 tweet 3288\nSubject: 5423 tweet 7025\nSubject: 5423 tweet 9093\n"
     ]
    },
    {
     "name": "stdout",
     "output_type": "stream",
     "text": [
      "Subject: 5423 tweet 6118\nSubject: 5426 tweet 12602\n"
     ]
    },
    {
     "name": "stdout",
     "output_type": "stream",
     "text": [
      "Subject: 5426 tweet 3223\nSubject: 5426 tweet 3791\nSubject: 5426 tweet 2642\nSubject: 5426 tweet 12222\nSubject: 5426 tweet 11854\nSubject: 5426 tweet 3424\n"
     ]
    },
    {
     "name": "stdout",
     "output_type": "stream",
     "text": [
      "Subject: 5426 tweet 3941\nSubject: 5426 tweet 1216\nSubject: 5426 tweet 9242\nSubject: 5427 tweet 1025\nSubject: 5427 tweet 12430\n"
     ]
    },
    {
     "name": "stdout",
     "output_type": "stream",
     "text": [
      "Subject: 5427 tweet 12557\nSubject: 5427 tweet 8597\nSubject: 5427 tweet 5833\nSubject: 5427 tweet 11818\nSubject: 5427 tweet 408\nSubject: 5427 tweet 12556\n"
     ]
    },
    {
     "name": "stdout",
     "output_type": "stream",
     "text": [
      "Subject: 5427 tweet 3628\nSubject: 5427 tweet 3577\nSubject: 5429 tweet 4657\nSubject: 5429 tweet 9894\nSubject: 5429 tweet 7622\n"
     ]
    },
    {
     "name": "stdout",
     "output_type": "stream",
     "text": [
      "Subject: 5429 tweet 7623\nSubject: 5429 tweet 7444\nSubject: 5429 tweet 10477\nSubject: 5429 tweet 12249\n"
     ]
    },
    {
     "name": "stdout",
     "output_type": "stream",
     "text": [
      "Subject: 5429 tweet 7624\nSubject: 5429 tweet 1464\nSubject: 5429 tweet 8607\nSubject: 5431 tweet 7582\n"
     ]
    },
    {
     "name": "stdout",
     "output_type": "stream",
     "text": [
      "Subject: 5431 tweet 7192\nSubject: 5431 tweet 7049\nSubject: 5431 tweet 25\nSubject: 5431 tweet 3401\nSubject: 5431 tweet 7477\n"
     ]
    },
    {
     "name": "stdout",
     "output_type": "stream",
     "text": [
      "Subject: 5431 tweet 2112\nSubject: 5431 tweet 6722\nSubject: 5431 tweet 11742\nSubject: 5431 tweet 7045\nSubject: 5433 tweet 9892\n"
     ]
    },
    {
     "name": "stdout",
     "output_type": "stream",
     "text": [
      "Subject: 5433 tweet 12434\nSubject: 5433 tweet 99\nSubject: 5433 tweet 95\nSubject: 5433 tweet 4739\nSubject: 5433 tweet 8593\nSubject: 5433 tweet 7499\n"
     ]
    },
    {
     "name": "stdout",
     "output_type": "stream",
     "text": [
      "Subject: 5433 tweet 8915\nSubject: 5433 tweet 9880\nSubject: 5433 tweet 10398\nSubject: 5434 tweet 4278\nSubject: 5434 tweet 9802\n"
     ]
    },
    {
     "name": "stdout",
     "output_type": "stream",
     "text": [
      "Subject: 5434 tweet 2245\nSubject: 5434 tweet 11435\nSubject: 5434 tweet 7643\nSubject: 5434 tweet 4930\nSubject: 5434 tweet 3234\nSubject: 5434 tweet 3466\n"
     ]
    },
    {
     "name": "stdout",
     "output_type": "stream",
     "text": [
      "Subject: 5434 tweet 4662\nSubject: 5434 tweet 9859\nSubject: 5435 tweet 10704\nSubject: 5435 tweet 1349\nSubject: 5435 tweet 1446\n"
     ]
    },
    {
     "name": "stdout",
     "output_type": "stream",
     "text": [
      "Subject: 5435 tweet 1406\nSubject: 5435 tweet 3534\nSubject: 5436 tweet 7476\nSubject: 5436 tweet 115\nSubject: 5436 tweet 7289\n"
     ]
    },
    {
     "name": "stdout",
     "output_type": "stream",
     "text": [
      "Subject: 5436 tweet 6739\nSubject: 5436 tweet 946\nSubject: 5436 tweet 109\nSubject: 5436 tweet 4272\nSubject: 5436 tweet 8917\n"
     ]
    },
    {
     "name": "stdout",
     "output_type": "stream",
     "text": [
      "Subject: 5436 tweet 1244\nSubject: 5436 tweet 83\nSubject: 5437 tweet 10454\nSubject: 5437 tweet 765\nSubject: 5437 tweet 984\n"
     ]
    },
    {
     "name": "stdout",
     "output_type": "stream",
     "text": [
      "Subject: 5437 tweet 1114\nSubject: 5437 tweet 827\nSubject: 5437 tweet 7138\nSubject: 5437 tweet 1046\nSubject: 5437 tweet 3108\nSubject: 5437 tweet 6524\n"
     ]
    },
    {
     "name": "stdout",
     "output_type": "stream",
     "text": [
      "Subject: 5437 tweet 5618\nSubject: 5441 tweet 5283\nSubject: 5441 tweet 8207\nSubject: 5441 tweet 12595\nSubject: 5441 tweet 8249\n"
     ]
    },
    {
     "name": "stdout",
     "output_type": "stream",
     "text": [
      "Subject: 5441 tweet 8410\nSubject: 5441 tweet 7957\nSubject: 5441 tweet 3226\nSubject: 5441 tweet 1813\nSubject: 5441 tweet 10976\n"
     ]
    },
    {
     "name": "stdout",
     "output_type": "stream",
     "text": [
      "Subject: 5441 tweet 10979\nSubject: 5443 tweet 2789\nSubject: 5443 tweet 9298\nSubject: 5443 tweet 446\n"
     ]
    },
    {
     "name": "stdout",
     "output_type": "stream",
     "text": [
      "Subject: 5443 tweet 2470\nSubject: 5443 tweet 2683\nSubject: 5443 tweet 1907\nSubject: 5443 tweet 1924\nSubject: 5443 tweet 2518\n"
     ]
    },
    {
     "name": "stdout",
     "output_type": "stream",
     "text": [
      "Subject: 5443 tweet 2099\nSubject: 5443 tweet 2404\nSubject: 5446 tweet 10315\nSubject: 5446 tweet 10286\nSubject: 5446 tweet 10278\n"
     ]
    },
    {
     "name": "stdout",
     "output_type": "stream",
     "text": [
      "Subject: 5446 tweet 9356\nSubject: 5446 tweet 4675\nSubject: 5446 tweet 3509\nSubject: 5446 tweet 1102\nSubject: 5446 tweet 11977\n"
     ]
    },
    {
     "name": "stdout",
     "output_type": "stream",
     "text": [
      "Subject: 5446 tweet 12351\nSubject: 5446 tweet 2544\nSubject: 5460 tweet 361\nSubject: 5460 tweet 4592\nSubject: 5460 tweet 6063\n"
     ]
    },
    {
     "name": "stdout",
     "output_type": "stream",
     "text": [
      "Subject: 5460 tweet 1205\nSubject: 5460 tweet 6378\nSubject: 5460 tweet 11896\nSubject: 5460 tweet 7119\nSubject: 5460 tweet 6083\n"
     ]
    },
    {
     "name": "stdout",
     "output_type": "stream",
     "text": [
      "Subject: 5460 tweet 9278\nSubject: 5460 tweet 1230\nSubject: 5461 tweet 1722\nSubject: 5461 tweet 1721\nSubject: 5461 tweet 9157\n"
     ]
    },
    {
     "name": "stdout",
     "output_type": "stream",
     "text": [
      "Subject: 5461 tweet 8453\nSubject: 5461 tweet 9163\nSubject: 5461 tweet 850\nSubject: 5461 tweet 9334\nSubject: 5461 tweet 10951\n"
     ]
    },
    {
     "name": "stdout",
     "output_type": "stream",
     "text": [
      "Subject: 5461 tweet 9103\nSubject: 5461 tweet 8248\nSubject: 5468 tweet 4900\nSubject: 5468 tweet 4697\nSubject: 5468 tweet 4881\n"
     ]
    },
    {
     "name": "stdout",
     "output_type": "stream",
     "text": [
      "Subject: 5468 tweet 3271\nSubject: 5468 tweet 1774\nSubject: 5468 tweet 2962\nSubject: 5468 tweet 2769\nSubject: 5469 tweet 3265\n"
     ]
    },
    {
     "name": "stdout",
     "output_type": "stream",
     "text": [
      "Subject: 5469 tweet 9355\nSubject: 5469 tweet 5940\nSubject: 5469 tweet 10543\nSubject: 5469 tweet 8730\nSubject: 5469 tweet 9267\nSubject: 5469 tweet 4420\n"
     ]
    },
    {
     "name": "stdout",
     "output_type": "stream",
     "text": [
      "Subject: 5469 tweet 7581\nSubject: 5469 tweet 9735\nSubject: 5469 tweet 104\nSubject: 5475 tweet 1943\nSubject: 5475 tweet 708\n"
     ]
    },
    {
     "name": "stdout",
     "output_type": "stream",
     "text": [
      "Subject: 5477 tweet 2490\nSubject: 5477 tweet 243\nSubject: 5477 tweet 11480\nSubject: 5477 tweet 2077\nSubject: 5477 tweet 4085\n"
     ]
    },
    {
     "name": "stdout",
     "output_type": "stream",
     "text": [
      "Subject: 5477 tweet 9286\nSubject: 5477 tweet 11338\nSubject: 5477 tweet 8814\nSubject: 5477 tweet 3175\nSubject: 5477 tweet 2624\n"
     ]
    },
    {
     "name": "stdout",
     "output_type": "stream",
     "text": [
      "Subject: 5479 tweet 6519\nSubject: 5479 tweet 8514\nSubject: 5479 tweet 5475\nSubject: 5479 tweet 8824\nSubject: 5479 tweet 7564\nSubject: 5479 tweet 10652\n"
     ]
    },
    {
     "name": "stdout",
     "output_type": "stream",
     "text": [
      "Subject: 5479 tweet 3086\nSubject: 5479 tweet 4649\nSubject: 5479 tweet 6956\nSubject: 5479 tweet 263\n"
     ]
    },
    {
     "name": "stdout",
     "output_type": "stream",
     "text": [
      "Subject: 5481 tweet 919\nSubject: 5481 tweet 1938\nSubject: 5481 tweet 3214\nSubject: 5481 tweet 1935\nSubject: 5481 tweet 8455\n"
     ]
    },
    {
     "name": "stdout",
     "output_type": "stream",
     "text": [
      "Subject: 5481 tweet 7100\nSubject: 5481 tweet 8313\nSubject: 5481 tweet 2743\nSubject: 5481 tweet 3978\n"
     ]
    },
    {
     "name": "stdout",
     "output_type": "stream",
     "text": [
      "Subject: 5481 tweet 233\nSubject: 5902 tweet 8478\nSubject: 5902 tweet 6044\nSubject: 5902 tweet 9083\nSubject: 5902 tweet 1678\n"
     ]
    },
    {
     "name": "stdout",
     "output_type": "stream",
     "text": [
      "Subject: 5902 tweet 6471\nSubject: 5902 tweet 885\nSubject: 5902 tweet 6394\nSubject: 5902 tweet 9084\nSubject: 5902 tweet 11987\nSubject: 5902 tweet 6571\n"
     ]
    },
    {
     "name": "stdout",
     "output_type": "stream",
     "text": [
      "Subject: 5483 tweet 3129\nSubject: 5483 tweet 1445\nSubject: 5483 tweet 8725\nSubject: 5483 tweet 3096\nSubject: 5483 tweet 3859\n"
     ]
    },
    {
     "name": "stdout",
     "output_type": "stream",
     "text": [
      "Subject: 5483 tweet 11047\nSubject: 5483 tweet 1211\nSubject: 5483 tweet 8142\nSubject: 5483 tweet 4154\nSubject: 5483 tweet 10941\n"
     ]
    },
    {
     "name": "stdout",
     "output_type": "stream",
     "text": [
      "Subject: 5493 tweet 1411\nSubject: 5493 tweet 2195\nSubject: 5493 tweet 6140\nSubject: 5493 tweet 2481\nSubject: 5493 tweet 8581\nSubject: 5493 tweet 6363\n"
     ]
    },
    {
     "name": "stdout",
     "output_type": "stream",
     "text": [
      "Subject: 5493 tweet 6581\nSubject: 5493 tweet 9041\nSubject: 5493 tweet 1944\nSubject: 5493 tweet 9720\n"
     ]
    },
    {
     "name": "stdout",
     "output_type": "stream",
     "text": [
      "Subject: 5495 tweet 1888\nSubject: 5495 tweet 12432\nSubject: 5495 tweet 5227\nSubject: 5495 tweet 12464\nSubject: 5495 tweet 4227\n"
     ]
    },
    {
     "name": "stdout",
     "output_type": "stream",
     "text": [
      "Subject: 5495 tweet 4387\nSubject: 5495 tweet 6353\nSubject: 5495 tweet 891\nSubject: 5495 tweet 5263\nSubject: 5495 tweet 2129\n"
     ]
    },
    {
     "name": "stdout",
     "output_type": "stream",
     "text": [
      "Subject: 5497 tweet 12509\nSubject: 5497 tweet 1434\nSubject: 5497 tweet 5312\nSubject: 5497 tweet 5263\nSubject: 5497 tweet 9385\nSubject: 5497 tweet 5227\n"
     ]
    },
    {
     "name": "stdout",
     "output_type": "stream",
     "text": [
      "Subject: 5497 tweet 8343\nSubject: 5497 tweet 8189\nSubject: 5497 tweet 8771\nSubject: 5497 tweet 8966\n"
     ]
    },
    {
     "name": "stdout",
     "output_type": "stream",
     "text": [
      "Subject: 5500 tweet 5285\nSubject: 5500 tweet 6155\nSubject: 5500 tweet 6182\nSubject: 5500 tweet 6008\nSubject: 5500 tweet 6115\n"
     ]
    },
    {
     "name": "stdout",
     "output_type": "stream",
     "text": [
      "Subject: 5500 tweet 5317\nSubject: 5500 tweet 4294\nSubject: 5500 tweet 7741\nSubject: 5500 tweet 6257\nSubject: 5500 tweet 4887\n"
     ]
    },
    {
     "name": "stdout",
     "output_type": "stream",
     "text": [
      "Subject: 5501 tweet 1867\nSubject: 5501 tweet 4713\nSubject: 5501 tweet 5665\nSubject: 5501 tweet 2722\nSubject: 5501 tweet 2785\n"
     ]
    },
    {
     "name": "stdout",
     "output_type": "stream",
     "text": [
      "Subject: 5501 tweet 2498\nSubject: 5501 tweet 7532\nSubject: 5501 tweet 7500\nSubject: 5501 tweet 2852\nSubject: 5501 tweet 4706\n"
     ]
    },
    {
     "name": "stdout",
     "output_type": "stream",
     "text": [
      "Subject: 5502 tweet 349\nSubject: 5502 tweet 3531\nSubject: 5502 tweet 3545\nSubject: 5502 tweet 3634\nSubject: 5502 tweet 3629\n"
     ]
    },
    {
     "name": "stdout",
     "output_type": "stream",
     "text": [
      "Subject: 5502 tweet 1091\nSubject: 5502 tweet 1149\nSubject: 5502 tweet 1085\nSubject: 5502 tweet 12164\nSubject: 5502 tweet 3567\n"
     ]
    },
    {
     "name": "stdout",
     "output_type": "stream",
     "text": [
      "Subject: 5503 tweet 3543\nSubject: 5503 tweet 3567\nSubject: 5503 tweet 9905\nSubject: 5503 tweet 3398\nSubject: 5503 tweet 3508\n"
     ]
    },
    {
     "name": "stdout",
     "output_type": "stream",
     "text": [
      "Subject: 5503 tweet 9484\nSubject: 5503 tweet 2474\nSubject: 5503 tweet 12564\nSubject: 5503 tweet 3559\nSubject: 5503 tweet 472\n"
     ]
    },
    {
     "name": "stdout",
     "output_type": "stream",
     "text": [
      "Subject: 5509 tweet 11263\nSubject: 5509 tweet 3032\nSubject: 5509 tweet 11678\nSubject: 5509 tweet 9302\nSubject: 5509 tweet 2490\nSubject: 5509 tweet 243\n"
     ]
    },
    {
     "name": "stdout",
     "output_type": "stream",
     "text": [
      "Subject: 5509 tweet 10363\nSubject: 5509 tweet 1845\nSubject: 5509 tweet 9286\nSubject: 5509 tweet 10861\nSubject: 5510 tweet 4984\n"
     ]
    },
    {
     "name": "stdout",
     "output_type": "stream",
     "text": [
      "Subject: 5510 tweet 11982\nSubject: 5510 tweet 4285\nSubject: 5510 tweet 3087\nSubject: 5510 tweet 1388\nSubject: 5510 tweet 1858\nSubject: 5510 tweet 7124\n"
     ]
    },
    {
     "name": "stdout",
     "output_type": "stream",
     "text": [
      "Subject: 5510 tweet 7392\nSubject: 5510 tweet 7463\nSubject: 5510 tweet 3264\nSubject: 5512 tweet 6036\nSubject: 5512 tweet 2714\n"
     ]
    },
    {
     "name": "stdout",
     "output_type": "stream",
     "text": [
      "Subject: 5512 tweet 5157\nSubject: 5512 tweet 1795\nSubject: 5512 tweet 5749\nSubject: 5512 tweet 6484\nSubject: 5512 tweet 8817\n"
     ]
    },
    {
     "name": "stdout",
     "output_type": "stream",
     "text": [
      "Subject: 5512 tweet 2734\nSubject: 5512 tweet 4588\nSubject: 5512 tweet 8016\n"
     ]
    },
    {
     "name": "stdout",
     "output_type": "stream",
     "text": [
      "Subject: 5518 tweet 7474\nSubject: 5518 tweet 2286\nSubject: 5518 tweet 8505\nSubject: 5518 tweet 8507\nSubject: 5518 tweet 7509\n"
     ]
    },
    {
     "name": "stdout",
     "output_type": "stream",
     "text": [
      "Subject: 5518 tweet 12542\nSubject: 5518 tweet 346\nSubject: 5518 tweet 2802\nSubject: 5518 tweet 2346\nSubject: 5518 tweet 2667\n"
     ]
    },
    {
     "name": "stdout",
     "output_type": "stream",
     "text": [
      "Subject: 5519 tweet 6287\nSubject: 5519 tweet 6920\nSubject: 5519 tweet 10392\nSubject: 5519 tweet 2614\nSubject: 5519 tweet 11005\nSubject: 5519 tweet 3533\n"
     ]
    },
    {
     "name": "stdout",
     "output_type": "stream",
     "text": [
      "Subject: 5519 tweet 11011\nSubject: 5519 tweet 8566\nSubject: 5519 tweet 1811\nSubject: 5519 tweet 5188\nSubject: 5521 tweet 6967\n"
     ]
    },
    {
     "name": "stdout",
     "output_type": "stream",
     "text": [
      "Subject: 5521 tweet 6917\nSubject: 5521 tweet 11382\nSubject: 5521 tweet 5263\nSubject: 5521 tweet 5227\nSubject: 5521 tweet 5312\nSubject: 5521 tweet 1026\n"
     ]
    },
    {
     "name": "stdout",
     "output_type": "stream",
     "text": [
      "Subject: 5521 tweet 372\nSubject: 5521 tweet 2890\nSubject: 5521 tweet 8176\nSubject: 5523 tweet 4962\nSubject: 5523 tweet 4954\n"
     ]
    },
    {
     "name": "stdout",
     "output_type": "stream",
     "text": [
      "Subject: 5523 tweet 9595\nSubject: 5523 tweet 8523\nSubject: 5523 tweet 4708\nSubject: 5523 tweet 4748\nSubject: 5523 tweet 11570\nSubject: 5523 tweet 1853\n"
     ]
    },
    {
     "name": "stdout",
     "output_type": "stream",
     "text": [
      "Subject: 5523 tweet 1723\nSubject: 5523 tweet 10559\nSubject: 5524 tweet 11300\nSubject: 5524 tweet 11683\nSubject: 5524 tweet 11249\n"
     ]
    },
    {
     "name": "stdout",
     "output_type": "stream",
     "text": [
      "Subject: 5524 tweet 11682\nSubject: 5524 tweet 3299\n"
     ]
    },
    {
     "name": "stdout",
     "output_type": "stream",
     "text": [
      "Subject: 5524 tweet 11680\nSubject: 5524 tweet 11304\nSubject: 5524 tweet 450\nSubject: 5524 tweet 3364\nSubject: 5524 tweet 11569\n"
     ]
    },
    {
     "name": "stdout",
     "output_type": "stream",
     "text": [
      "Subject: 5525 tweet 8529\nSubject: 5525 tweet 4309\nSubject: 5525 tweet 10988\nSubject: 5525 tweet 9719\nSubject: 5525 tweet 992\n"
     ]
    },
    {
     "name": "stdout",
     "output_type": "stream",
     "text": [
      "Subject: 5525 tweet 4070\nSubject: 5525 tweet 4732\nSubject: 5525 tweet 5080\nSubject: 5525 tweet 8871\nSubject: 5527 tweet 4576\n"
     ]
    },
    {
     "name": "stdout",
     "output_type": "stream",
     "text": [
      "Subject: 5527 tweet 10482\nSubject: 5527 tweet 2410\nSubject: 5527 tweet 10467\nSubject: 5527 tweet 9005\nSubject: 5527 tweet 1610\nSubject: 5527 tweet 1500\n"
     ]
    },
    {
     "name": "stdout",
     "output_type": "stream",
     "text": [
      "Subject: 5527 tweet 773\nSubject: 5527 tweet 1058\nSubject: 5527 tweet 9085\nSubject: 5528 tweet 8529\nSubject: 5528 tweet 5136\n"
     ]
    },
    {
     "name": "stdout",
     "output_type": "stream",
     "text": [
      "Subject: 5528 tweet 7689\nSubject: 5528 tweet 11564\nSubject: 5528 tweet 4309\nSubject: 5528 tweet 4070\nSubject: 5528 tweet 12145\n"
     ]
    },
    {
     "name": "stdout",
     "output_type": "stream",
     "text": [
      "Subject: 5528 tweet 1580\nSubject: 5528 tweet 335\nSubject: 5530 tweet 2669\nSubject: 5530 tweet 1912\nSubject: 5530 tweet 8642\n"
     ]
    },
    {
     "name": "stdout",
     "output_type": "stream",
     "text": [
      "Subject: 5530 tweet 324\nSubject: 5530 tweet 4919\nSubject: 5530 tweet 9180\nSubject: 5530 tweet 12227\nSubject: 5530 tweet 4522\nSubject: 5530 tweet 2434\n"
     ]
    },
    {
     "name": "stdout",
     "output_type": "stream",
     "text": [
      "Subject: 5530 tweet 12458\nSubject: 5532 tweet 2176\nSubject: 5532 tweet 2242\nSubject: 5532 tweet 5687\nSubject: 5532 tweet 11697\n"
     ]
    },
    {
     "name": "stdout",
     "output_type": "stream",
     "text": [
      "Subject: 5532 tweet 7259\nSubject: 5532 tweet 10801\nSubject: 5533 tweet 3382\nSubject: 5533 tweet 8917\nSubject: 5533 tweet 1244\n"
     ]
    },
    {
     "name": "stdout",
     "output_type": "stream",
     "text": [
      "Subject: 5533 tweet 4546\nSubject: 5533 tweet 4272\nSubject: 5533 tweet 6562\nSubject: 5533 tweet 10104\nSubject: 5533 tweet 6921\nSubject: 5533 tweet 10920\n"
     ]
    },
    {
     "name": "stdout",
     "output_type": "stream",
     "text": [
      "Subject: 5533 tweet 7374\nSubject: 5534 tweet 5950\nSubject: 5534 tweet 6596\nSubject: 5534 tweet 6593\nSubject: 5534 tweet 6598\n"
     ]
    },
    {
     "name": "stdout",
     "output_type": "stream",
     "text": [
      "Subject: 5534 tweet 5909\nSubject: 5534 tweet 6443\nSubject: 5534 tweet 6570\nSubject: 5534 tweet 6019\nSubject: 5534 tweet 6532\nSubject: 5534 tweet 5560\n"
     ]
    },
    {
     "name": "stdout",
     "output_type": "stream",
     "text": [
      "Subject: 5536 tweet 8271\nSubject: 5536 tweet 9662\nSubject: 5536 tweet 947\nSubject: 5536 tweet 5514\nSubject: 5536 tweet 11723\n"
     ]
    },
    {
     "name": "stdout",
     "output_type": "stream",
     "text": [
      "Subject: 5536 tweet 7317\nSubject: 5536 tweet 9017\nSubject: 5536 tweet 6430\nSubject: 5536 tweet 5571\nSubject: 5536 tweet 1764\n"
     ]
    },
    {
     "name": "stdout",
     "output_type": "stream",
     "text": [
      "Subject: 5537 tweet 4460\nSubject: 5537 tweet 9265\nSubject: 5537 tweet 6371\nSubject: 5537 tweet 10497\nSubject: 5537 tweet 9301\nSubject: 5537 tweet 12169\n"
     ]
    },
    {
     "name": "stdout",
     "output_type": "stream",
     "text": [
      "Subject: 5537 tweet 6073\nSubject: 5537 tweet 10389\nSubject: 5537 tweet 6419\nSubject: 5537 tweet 8484\nSubject: 5543 tweet 4576\n"
     ]
    },
    {
     "name": "stdout",
     "output_type": "stream",
     "text": [
      "Subject: 5543 tweet 10482\nSubject: 5543 tweet 2410\nSubject: 5543 tweet 10467\nSubject: 5543 tweet 9005\nSubject: 5543 tweet 1610\nSubject: 5543 tweet 1500\n"
     ]
    },
    {
     "name": "stdout",
     "output_type": "stream",
     "text": [
      "Subject: 5543 tweet 773\nSubject: 5543 tweet 1058\nSubject: 5543 tweet 9085\nSubject: 5546 tweet 4576\nSubject: 5546 tweet 10482\n"
     ]
    },
    {
     "name": "stdout",
     "output_type": "stream",
     "text": [
      "Subject: 5546 tweet 2410\nSubject: 5546 tweet 10467\nSubject: 5546 tweet 9005\nSubject: 5546 tweet 1610\nSubject: 5546 tweet 1500\n"
     ]
    },
    {
     "name": "stdout",
     "output_type": "stream",
     "text": [
      "Subject: 5546 tweet 773\nSubject: 5546 tweet 1058\nSubject: 5546 tweet 9085\nSubject: 5548 tweet 2669\nSubject: 5548 tweet 1912\n"
     ]
    },
    {
     "name": "stdout",
     "output_type": "stream",
     "text": [
      "Subject: 5548 tweet 8642\nSubject: 5548 tweet 324\nSubject: 5548 tweet 4919\nSubject: 5548 tweet 9180\nSubject: 5548 tweet 12227\n"
     ]
    },
    {
     "name": "stdout",
     "output_type": "stream",
     "text": [
      "Subject: 5548 tweet 4522\nSubject: 5548 tweet 2434\nSubject: 5548 tweet 12458\nSubject: 5549 tweet 2669\nSubject: 5549 tweet 1912\n"
     ]
    },
    {
     "name": "stdout",
     "output_type": "stream",
     "text": [
      "Subject: 5549 tweet 8642\nSubject: 5549 tweet 324\nSubject: 5549 tweet 4919\nSubject: 5549 tweet 9180\nSubject: 5549 tweet 12227\n"
     ]
    },
    {
     "name": "stdout",
     "output_type": "stream",
     "text": [
      "Subject: 5549 tweet 4522\nSubject: 5549 tweet 2434\nSubject: 5549 tweet 12458\nSubject: 5550 tweet 8478\nSubject: 5550 tweet 6044\n"
     ]
    },
    {
     "name": "stdout",
     "output_type": "stream",
     "text": [
      "Subject: 5550 tweet 9083\nSubject: 5550 tweet 1678\nSubject: 5550 tweet 6471\nSubject: 5550 tweet 885\nSubject: 5550 tweet 6394\n"
     ]
    },
    {
     "name": "stdout",
     "output_type": "stream",
     "text": [
      "Subject: 5550 tweet 9084\nSubject: 5550 tweet 11987\nSubject: 5550 tweet 6571\nSubject: 5551 tweet 3382\nSubject: 5551 tweet 8917\n"
     ]
    },
    {
     "name": "stdout",
     "output_type": "stream",
     "text": [
      "Subject: 5551 tweet 1244\nSubject: 5551 tweet 4546\nSubject: 5551 tweet 4272\nSubject: 5551 tweet 6562\nSubject: 5551 tweet 10104\nSubject: 5551 tweet 6921\n"
     ]
    },
    {
     "name": "stdout",
     "output_type": "stream",
     "text": [
      "Subject: 5551 tweet 10920\nSubject: 5551 tweet 7374\nSubject: 5553 tweet 3382\nSubject: 5553 tweet 8917\nSubject: 5553 tweet 1244\n"
     ]
    },
    {
     "name": "stdout",
     "output_type": "stream",
     "text": [
      "Subject: 5553 tweet 4546\nSubject: 5553 tweet 4272\nSubject: 5553 tweet 6562\nSubject: 5553 tweet 10104\nSubject: 5553 tweet 6921\n"
     ]
    },
    {
     "name": "stdout",
     "output_type": "stream",
     "text": [
      "Subject: 5553 tweet 10920\nSubject: 5553 tweet 7374\nSubject: 5556 tweet 12443\nSubject: 5556 tweet 8620\nSubject: 5556 tweet 3794\n"
     ]
    },
    {
     "name": "stdout",
     "output_type": "stream",
     "text": [
      "Subject: 5556 tweet 2233\nSubject: 5556 tweet 2588\nSubject: 5556 tweet 9993\nSubject: 5556 tweet 807\nSubject: 5556 tweet 7249\nSubject: 5556 tweet 1199\n"
     ]
    },
    {
     "name": "stdout",
     "output_type": "stream",
     "text": [
      "Subject: 5556 tweet 239\nSubject: 5557 tweet 7162\nSubject: 5557 tweet 1743\nSubject: 5557 tweet 3\nSubject: 5557 tweet 1384\n"
     ]
    },
    {
     "name": "stdout",
     "output_type": "stream",
     "text": [
      "Subject: 5557 tweet 156\nSubject: 5557 tweet 198\nSubject: 5557 tweet 8977\nSubject: 5557 tweet 2243\nSubject: 5557 tweet 9452\n"
     ]
    },
    {
     "name": "stdout",
     "output_type": "stream",
     "text": [
      "Subject: 5557 tweet 8891\nSubject: 5558 tweet 8618\nSubject: 5558 tweet 3202\nSubject: 5558 tweet 9926\nSubject: 5558 tweet 9034\n"
     ]
    },
    {
     "name": "stdout",
     "output_type": "stream",
     "text": [
      "Subject: 5558 tweet 1534\nSubject: 5558 tweet 9721\nSubject: 5558 tweet 9814\nSubject: 5558 tweet 10532\nSubject: 5558 tweet 4429\n"
     ]
    },
    {
     "name": "stdout",
     "output_type": "stream",
     "text": [
      "Subject: 5558 tweet 10131\nSubject: 5559 tweet 7431\nSubject: 5559 tweet 4195\nSubject: 5559 tweet 12320\nSubject: 5559 tweet 7295\n"
     ]
    },
    {
     "name": "stdout",
     "output_type": "stream",
     "text": [
      "Subject: 5559 tweet 4196\nSubject: 5559 tweet 10284\nSubject: 5559 tweet 7296\nSubject: 5559 tweet 8236\nSubject: 5559 tweet 1812\nSubject: 5559 tweet 9727\n"
     ]
    },
    {
     "name": "stdout",
     "output_type": "stream",
     "text": [
      "Subject: 5560 tweet 7\nSubject: 5560 tweet 10203\nSubject: 5560 tweet 9897\nSubject: 5560 tweet 10122\nSubject: 5560 tweet 10710\nSubject: 5560 tweet 1949\n"
     ]
    },
    {
     "name": "stdout",
     "output_type": "stream",
     "text": [
      "Subject: 5560 tweet 10242\nSubject: 5560 tweet 1403\nSubject: 5560 tweet 10267\nSubject: 5560 tweet 9789\nSubject: 5561 tweet 4576\n"
     ]
    },
    {
     "name": "stdout",
     "output_type": "stream",
     "text": [
      "Subject: 5561 tweet 10482\nSubject: 5561 tweet 2410\n"
     ]
    },
    {
     "name": "stdout",
     "output_type": "stream",
     "text": [
      "Subject: 5561 tweet 10467\nSubject: 5561 tweet 9005\nSubject: 5561 tweet 1610\nSubject: 5561 tweet 1500\n"
     ]
    },
    {
     "name": "stdout",
     "output_type": "stream",
     "text": [
      "Subject: 5561 tweet 773\nSubject: 5561 tweet 1058\nSubject: 5561 tweet 9085\nSubject: 5563 tweet 2669\nSubject: 5563 tweet 1912\n"
     ]
    },
    {
     "name": "stdout",
     "output_type": "stream",
     "text": [
      "Subject: 5563 tweet 8642\nSubject: 5563 tweet 324\nSubject: 5563 tweet 4919\nSubject: 5563 tweet 9180\nSubject: 5563 tweet 12227\nSubject: 5563 tweet 4522\n"
     ]
    },
    {
     "name": "stdout",
     "output_type": "stream",
     "text": [
      "Subject: 5563 tweet 2434\nSubject: 5563 tweet 12458\nSubject: 5564 tweet 3382\nSubject: 5564 tweet 8917\nSubject: 5564 tweet 1244\n"
     ]
    },
    {
     "name": "stdout",
     "output_type": "stream",
     "text": [
      "Subject: 5564 tweet 4546\nSubject: 5564 tweet 4272\nSubject: 5564 tweet 6562\nSubject: 5564 tweet 10104\nSubject: 5564 tweet 6921\n"
     ]
    },
    {
     "name": "stdout",
     "output_type": "stream",
     "text": [
      "Subject: 5564 tweet 10920\nSubject: 5564 tweet 7374\nSubject: 5570 tweet 8478\nSubject: 5570 tweet 6044\nSubject: 5570 tweet 9083\n"
     ]
    },
    {
     "name": "stdout",
     "output_type": "stream",
     "text": [
      "Subject: 5570 tweet 1678\nSubject: 5570 tweet 6471\nSubject: 5570 tweet 885\nSubject: 5570 tweet 6394\nSubject: 5570 tweet 9084\n"
     ]
    },
    {
     "name": "stdout",
     "output_type": "stream",
     "text": [
      "Subject: 5570 tweet 11987\nSubject: 5570 tweet 6571\nSubject: 5572 tweet 12443\nSubject: 5572 tweet 8620\nSubject: 5572 tweet 3794\n"
     ]
    },
    {
     "name": "stdout",
     "output_type": "stream",
     "text": [
      "Subject: 5572 tweet 2233\nSubject: 5572 tweet 2588\nSubject: 5572 tweet 9993\nSubject: 5572 tweet 807\nSubject: 5572 tweet 7249\n"
     ]
    },
    {
     "name": "stdout",
     "output_type": "stream",
     "text": [
      "Subject: 5572 tweet 1199\nSubject: 5572 tweet 239\nSubject: 5573 tweet 7162\nSubject: 5573 tweet 1743\nSubject: 5573 tweet 3\n"
     ]
    },
    {
     "name": "stdout",
     "output_type": "stream",
     "text": [
      "Subject: 5573 tweet 1384\nSubject: 5573 tweet 156\nSubject: 5573 tweet 198\nSubject: 5573 tweet 8977\nSubject: 5573 tweet 2243\nSubject: 5573 tweet 9452\n"
     ]
    },
    {
     "name": "stdout",
     "output_type": "stream",
     "text": [
      "Subject: 5573 tweet 8891\nSubject: 5574 tweet 8618\nSubject: 5574 tweet 3202\nSubject: 5574 tweet 9926\nSubject: 5574 tweet 9034\n"
     ]
    },
    {
     "name": "stdout",
     "output_type": "stream",
     "text": [
      "Subject: 5574 tweet 1534\nSubject: 5574 tweet 9721\nSubject: 5574 tweet 9814\nSubject: 5574 tweet 10532\nSubject: 5574 tweet 4429\nSubject: 5574 tweet 10131\n"
     ]
    },
    {
     "name": "stdout",
     "output_type": "stream",
     "text": [
      "Subject: 5575 tweet 7431\nSubject: 5575 tweet 4195\nSubject: 5575 tweet 12320\n"
     ]
    },
    {
     "name": "stdout",
     "output_type": "stream",
     "text": [
      "Subject: 5575 tweet 7295\nSubject: 5575 tweet 4196\nSubject: 5575 tweet 10284\nSubject: 5575 tweet 7296\nSubject: 5575 tweet 8236\nSubject: 5575 tweet 1812\n"
     ]
    },
    {
     "name": "stdout",
     "output_type": "stream",
     "text": [
      "Subject: 5575 tweet 9727\nSubject: 5576 tweet 7\nSubject: 5576 tweet 10203\n"
     ]
    },
    {
     "name": "stdout",
     "output_type": "stream",
     "text": [
      "Subject: 5576 tweet 9897\nSubject: 5576 tweet 10122\nSubject: 5576 tweet 10710\nSubject: 5576 tweet 1949\nSubject: 5576 tweet 10242\n"
     ]
    },
    {
     "name": "stdout",
     "output_type": "stream",
     "text": [
      "Subject: 5576 tweet 1403\nSubject: 5576 tweet 10267\nSubject: 5576 tweet 9789\nSubject: 5577 tweet 9828\nSubject: 5577 tweet 454\n"
     ]
    },
    {
     "name": "stdout",
     "output_type": "stream",
     "text": [
      "Subject: 5577 tweet 4344\nSubject: 5577 tweet 4411\nSubject: 5577 tweet 1857\nSubject: 5577 tweet 7087\nSubject: 5577 tweet 5448\nSubject: 5577 tweet 8829\n"
     ]
    },
    {
     "name": "stdout",
     "output_type": "stream",
     "text": [
      "Subject: 5577 tweet 8856\nSubject: 5577 tweet 9082\nSubject: 5578 tweet 10255\nSubject: 5578 tweet 10277\nSubject: 5578 tweet 4337\n"
     ]
    },
    {
     "name": "stdout",
     "output_type": "stream",
     "text": [
      "Subject: 5578 tweet 3666\nSubject: 5578 tweet 10300\nSubject: 5578 tweet 8949\nSubject: 5578 tweet 9920\nSubject: 5578 tweet 9975\nSubject: 5578 tweet 8989\n"
     ]
    },
    {
     "name": "stdout",
     "output_type": "stream",
     "text": [
      "Subject: 5578 tweet 8986\nSubject: 5581 tweet 4576\nSubject: 5581 tweet 10482\nSubject: 5581 tweet 2410\nSubject: 5581 tweet 10467\n"
     ]
    },
    {
     "name": "stdout",
     "output_type": "stream",
     "text": [
      "Subject: 5581 tweet 9005\n"
     ]
    },
    {
     "name": "stdout",
     "output_type": "stream",
     "text": [
      "Subject: 5581 tweet 1610\n"
     ]
    },
    {
     "name": "stdout",
     "output_type": "stream",
     "text": [
      "Subject: 5581 tweet 1500\nSubject: 5581 tweet 773\nSubject: 5581 tweet 1058\nSubject: 5581 tweet 9085\n"
     ]
    },
    {
     "name": "stdout",
     "output_type": "stream",
     "text": [
      "Subject: 5583 tweet 2669\nSubject: 5583 tweet 1912\nSubject: 5583 tweet 8642\nSubject: 5583 tweet 324\nSubject: 5583 tweet 4919\n"
     ]
    },
    {
     "name": "stdout",
     "output_type": "stream",
     "text": [
      "Subject: 5583 tweet 9180\nSubject: 5583 tweet 12227\nSubject: 5583 tweet 4522\nSubject: 5583 tweet 2434\nSubject: 5583 tweet 12458\n"
     ]
    },
    {
     "name": "stdout",
     "output_type": "stream",
     "text": [
      "Subject: 5584 tweet 3382\nSubject: 5584 tweet 8917\nSubject: 5584 tweet 1244\nSubject: 5584 tweet 4546\nSubject: 5584 tweet 4272\nSubject: 5584 tweet 6562\n"
     ]
    },
    {
     "name": "stdout",
     "output_type": "stream",
     "text": [
      "Subject: 5584 tweet 10104\nSubject: 5584 tweet 6921\nSubject: 5584 tweet 10920\nSubject: 5584 tweet 7374\nSubject: 5590 tweet 8478\n"
     ]
    },
    {
     "name": "stdout",
     "output_type": "stream",
     "text": [
      "Subject: 5590 tweet 6044\nSubject: 5590 tweet 9083\nSubject: 5590 tweet 1678\nSubject: 5590 tweet 6471\nSubject: 5590 tweet 885\nSubject: 5590 tweet 6394\n"
     ]
    },
    {
     "name": "stdout",
     "output_type": "stream",
     "text": [
      "Subject: 5590 tweet 9084\nSubject: 5590 tweet 11987\nSubject: 5590 tweet 6571\nSubject: 5592 tweet 12443\n"
     ]
    },
    {
     "name": "stdout",
     "output_type": "stream",
     "text": [
      "Subject: 5592 tweet 8620\nSubject: 5592 tweet 3794\nSubject: 5592 tweet 2233\nSubject: 5592 tweet 2588\nSubject: 5592 tweet 9993\n"
     ]
    },
    {
     "name": "stdout",
     "output_type": "stream",
     "text": [
      "Subject: 5592 tweet 807\nSubject: 5592 tweet 7249\nSubject: 5592 tweet 1199\nSubject: 5592 tweet 239\nSubject: 5593 tweet 7162\n"
     ]
    },
    {
     "name": "stdout",
     "output_type": "stream",
     "text": [
      "Subject: 5593 tweet 1743\nSubject: 5593 tweet 3\nSubject: 5593 tweet 1384\nSubject: 5593 tweet 156\nSubject: 5593 tweet 198\nSubject: 5593 tweet 8977\n"
     ]
    },
    {
     "name": "stdout",
     "output_type": "stream",
     "text": [
      "Subject: 5593 tweet 2243\nSubject: 5593 tweet 9452\nSubject: 5593 tweet 8891\nSubject: 5594 tweet 8618\nSubject: 5594 tweet 3202\n"
     ]
    },
    {
     "name": "stdout",
     "output_type": "stream",
     "text": [
      "Subject: 5594 tweet 9926\nSubject: 5594 tweet 9034\nSubject: 5594 tweet 1534\nSubject: 5594 tweet 9721\nSubject: 5594 tweet 9814\nSubject: 5594 tweet 10532\n"
     ]
    },
    {
     "name": "stdout",
     "output_type": "stream",
     "text": [
      "Subject: 5594 tweet 4429\nSubject: 5594 tweet 10131\nSubject: 5595 tweet 7431\nSubject: 5595 tweet 4195\nSubject: 5595 tweet 12320\n"
     ]
    },
    {
     "name": "stdout",
     "output_type": "stream",
     "text": [
      "Subject: 5595 tweet 7295\nSubject: 5595 tweet 4196\nSubject: 5595 tweet 10284\nSubject: 5595 tweet 7296\nSubject: 5595 tweet 8236\nSubject: 5595 tweet 1812\n"
     ]
    },
    {
     "name": "stdout",
     "output_type": "stream",
     "text": [
      "Subject: 5595 tweet 9727\nSubject: 5596 tweet 7\nSubject: 5596 tweet 10203\nSubject: 5596 tweet 9897\nSubject: 5596 tweet 10122\n"
     ]
    },
    {
     "name": "stdout",
     "output_type": "stream",
     "text": [
      "Subject: 5596 tweet 10710\nSubject: 5596 tweet 1949\nSubject: 5596 tweet 10242\nSubject: 5596 tweet 1403\nSubject: 5596 tweet 10267\nSubject: 5596 tweet 9789\n"
     ]
    },
    {
     "name": "stdout",
     "output_type": "stream",
     "text": [
      "Subject: 5597 tweet 9828\nSubject: 5597 tweet 454\nSubject: 5597 tweet 4344\nSubject: 5597 tweet 4411\nSubject: 5597 tweet 1857\n"
     ]
    },
    {
     "name": "stdout",
     "output_type": "stream",
     "text": [
      "Subject: 5597 tweet 7087\nSubject: 5597 tweet 5448\nSubject: 5597 tweet 8829\nSubject: 5597 tweet 8856\nSubject: 5597 tweet 9082\n"
     ]
    },
    {
     "name": "stdout",
     "output_type": "stream",
     "text": [
      "Subject: 5598 tweet 10255\nSubject: 5598 tweet 10277\nSubject: 5598 tweet 4337\nSubject: 5598 tweet 3666\nSubject: 5598 tweet 10300\nSubject: 5598 tweet 8949\n"
     ]
    },
    {
     "name": "stdout",
     "output_type": "stream",
     "text": [
      "Subject: 5598 tweet 9920\nSubject: 5598 tweet 9975\nSubject: 5598 tweet 8989\nSubject: 5598 tweet 8986\n"
     ]
    },
    {
     "name": "stdout",
     "output_type": "stream",
     "text": [
      "Subject: 5601 tweet 4576\nSubject: 5601 tweet 10482\nSubject: 5601 tweet 2410\nSubject: 5601 tweet 10467\nSubject: 5601 tweet 9005\nSubject: 5601 tweet 1610\n"
     ]
    },
    {
     "name": "stdout",
     "output_type": "stream",
     "text": [
      "Subject: 5601 tweet 1500\nSubject: 5601 tweet 773\nSubject: 5601 tweet 1058\nSubject: 5601 tweet 9085\n"
     ]
    },
    {
     "name": "stdout",
     "output_type": "stream",
     "text": [
      "Subject: 5603 tweet 4576\nSubject: 5603 tweet 10482\nSubject: 5603 tweet 2410\nSubject: 5603 tweet 10467\nSubject: 5603 tweet 9005\nSubject: 5603 tweet 1610\n"
     ]
    },
    {
     "name": "stdout",
     "output_type": "stream",
     "text": [
      "Subject: 5603 tweet 1500\nSubject: 5603 tweet 773\nSubject: 5603 tweet 1058\nSubject: 5603 tweet 9085\n"
     ]
    },
    {
     "name": "stdout",
     "output_type": "stream",
     "text": [
      "Subject: 5604 tweet 4576\nSubject: 5604 tweet 10482\nSubject: 5604 tweet 2410\nSubject: 5604 tweet 10467\nSubject: 5604 tweet 9005\nSubject: 5604 tweet 1610\n"
     ]
    },
    {
     "name": "stdout",
     "output_type": "stream",
     "text": [
      "Subject: 5604 tweet 1500\nSubject: 5604 tweet 773\nSubject: 5604 tweet 1058\nSubject: 5604 tweet 9085\n"
     ]
    },
    {
     "name": "stdout",
     "output_type": "stream",
     "text": [
      "Subject: 5605 tweet 2669\nSubject: 5605 tweet 1912\nSubject: 5605 tweet 8642\nSubject: 5605 tweet 324\nSubject: 5605 tweet 4919\nSubject: 5605 tweet 9180\n"
     ]
    },
    {
     "name": "stdout",
     "output_type": "stream",
     "text": [
      "Subject: 5605 tweet 12227\nSubject: 5605 tweet 4522\nSubject: 5605 tweet 2434\nSubject: 5605 tweet 12458\n"
     ]
    },
    {
     "name": "stdout",
     "output_type": "stream",
     "text": [
      "Subject: 5608 tweet 2669\nSubject: 5608 tweet 1912\nSubject: 5608 tweet 8642\nSubject: 5608 tweet 324\nSubject: 5608 tweet 4919\nSubject: 5608 tweet 9180\n"
     ]
    },
    {
     "name": "stdout",
     "output_type": "stream",
     "text": [
      "Subject: 5608 tweet 12227\nSubject: 5608 tweet 4522\nSubject: 5608 tweet 2434\nSubject: 5608 tweet 12458\nSubject: 5609 tweet 2669\n"
     ]
    },
    {
     "name": "stdout",
     "output_type": "stream",
     "text": [
      "Subject: 5609 tweet 1912\nSubject: 5609 tweet 8642\nSubject: 5609 tweet 324\nSubject: 5609 tweet 4919\nSubject: 5609 tweet 9180\n"
     ]
    },
    {
     "name": "stdout",
     "output_type": "stream",
     "text": [
      "Subject: 5609 tweet 12227\nSubject: 5609 tweet 4522\nSubject: 5609 tweet 2434\nSubject: 5609 tweet 12458\nSubject: 5610 tweet 3382\n"
     ]
    },
    {
     "name": "stdout",
     "output_type": "stream",
     "text": [
      "Subject: 5610 tweet 8917\nSubject: 5610 tweet 1244\nSubject: 5610 tweet 4546\nSubject: 5610 tweet 4272\nSubject: 5610 tweet 6562\nSubject: 5610 tweet 10104\n"
     ]
    },
    {
     "name": "stdout",
     "output_type": "stream",
     "text": [
      "Subject: 5610 tweet 6921\nSubject: 5610 tweet 10920\nSubject: 5610 tweet 7374\nSubject: 5611 tweet 3382\n"
     ]
    },
    {
     "name": "stdout",
     "output_type": "stream",
     "text": [
      "Subject: 5611 tweet 8917\nSubject: 5611 tweet 1244\nSubject: 5611 tweet 4546\nSubject: 5611 tweet 4272\nSubject: 5611 tweet 6562\n"
     ]
    },
    {
     "name": "stdout",
     "output_type": "stream",
     "text": [
      "Subject: 5611 tweet 10104\nSubject: 5611 tweet 6921\nSubject: 5611 tweet 10920\nSubject: 5611 tweet 7374\nSubject: 5613 tweet 3382\n"
     ]
    },
    {
     "name": "stdout",
     "output_type": "stream",
     "text": [
      "Subject: 5613 tweet 8917\nSubject: 5613 tweet 1244\nSubject: 5613 tweet 4546\nSubject: 5613 tweet 4272\nSubject: 5613 tweet 6562\nSubject: 5613 tweet 10104\n"
     ]
    },
    {
     "name": "stdout",
     "output_type": "stream",
     "text": [
      "Subject: 5613 tweet 6921\nSubject: 5613 tweet 10920\nSubject: 5613 tweet 7374\nSubject: 5620 tweet 8478\nSubject: 5620 tweet 6044\n"
     ]
    },
    {
     "name": "stdout",
     "output_type": "stream",
     "text": [
      "Subject: 5620 tweet 9083\nSubject: 5620 tweet 1678\nSubject: 5620 tweet 6471\nSubject: 5620 tweet 885\nSubject: 5620 tweet 6394\nSubject: 5620 tweet 9084\n"
     ]
    },
    {
     "name": "stdout",
     "output_type": "stream",
     "text": [
      "Subject: 5620 tweet 11987\nSubject: 5620 tweet 6571\nSubject: 5622 tweet 12443\nSubject: 5622 tweet 8620\nSubject: 5622 tweet 3794\n"
     ]
    },
    {
     "name": "stdout",
     "output_type": "stream",
     "text": [
      "Subject: 5622 tweet 2233\nSubject: 5622 tweet 2588\nSubject: 5622 tweet 9993\nSubject: 5622 tweet 807\nSubject: 5622 tweet 7249\nSubject: 5622 tweet 1199\n"
     ]
    },
    {
     "name": "stdout",
     "output_type": "stream",
     "text": [
      "Subject: 5622 tweet 239\nSubject: 5623 tweet 7162\nSubject: 5623 tweet 1743\nSubject: 5623 tweet 3\nSubject: 5623 tweet 1384\n"
     ]
    },
    {
     "name": "stdout",
     "output_type": "stream",
     "text": [
      "Subject: 5623 tweet 156\nSubject: 5623 tweet 198\nSubject: 5623 tweet 8977\nSubject: 5623 tweet 2243\nSubject: 5623 tweet 9452\nSubject: 5623 tweet 8891\n"
     ]
    },
    {
     "name": "stdout",
     "output_type": "stream",
     "text": [
      "Subject: 5624 tweet 8618\nSubject: 5624 tweet 3202\nSubject: 5624 tweet 9926\nSubject: 5624 tweet 9034\nSubject: 5624 tweet 1534\n"
     ]
    },
    {
     "name": "stdout",
     "output_type": "stream",
     "text": [
      "Subject: 5624 tweet 9721\nSubject: 5624 tweet 9814\nSubject: 5624 tweet 10532\nSubject: 5624 tweet 4429\nSubject: 5624 tweet 10131\n"
     ]
    },
    {
     "name": "stdout",
     "output_type": "stream",
     "text": [
      "Subject: 5625 tweet 7431\nSubject: 5625 tweet 4195\nSubject: 5625 tweet 12320\nSubject: 5625 tweet 7295\nSubject: 5625 tweet 4196\nSubject: 5625 tweet 10284\n"
     ]
    },
    {
     "name": "stdout",
     "output_type": "stream",
     "text": [
      "Subject: 5625 tweet 7296\nSubject: 5625 tweet 8236\nSubject: 5625 tweet 1812\nSubject: 5625 tweet 9727\nSubject: 5626 tweet 7\n"
     ]
    },
    {
     "name": "stdout",
     "output_type": "stream",
     "text": [
      "Subject: 5626 tweet 10203\nSubject: 5626 tweet 9897\nSubject: 5626 tweet 10122\nSubject: 5626 tweet 10710\nSubject: 5626 tweet 1949\nSubject: 5626 tweet 10242\n"
     ]
    },
    {
     "name": "stdout",
     "output_type": "stream",
     "text": [
      "Subject: 5626 tweet 1403\nSubject: 5626 tweet 10267\nSubject: 5626 tweet 9789\nSubject: 5627 tweet 9828\nSubject: 5627 tweet 454\n"
     ]
    },
    {
     "name": "stdout",
     "output_type": "stream",
     "text": [
      "Subject: 5627 tweet 4344\nSubject: 5627 tweet 4411\nSubject: 5627 tweet 1857\nSubject: 5627 tweet 7087\nSubject: 5627 tweet 5448\nSubject: 5627 tweet 8829\n"
     ]
    },
    {
     "name": "stdout",
     "output_type": "stream",
     "text": [
      "Subject: 5627 tweet 8856\nSubject: 5627 tweet 9082\nSubject: 5628 tweet 10255\nSubject: 5628 tweet 10277\n"
     ]
    },
    {
     "name": "stdout",
     "output_type": "stream",
     "text": [
      "Subject: 5628 tweet 4337\nSubject: 5628 tweet 3666\nSubject: 5628 tweet 10300\nSubject: 5628 tweet 8949\nSubject: 5628 tweet 9920\n"
     ]
    },
    {
     "name": "stdout",
     "output_type": "stream",
     "text": [
      "Subject: 5628 tweet 9975\nSubject: 5628 tweet 8989\nSubject: 5628 tweet 8986\nSubject: 5631 tweet 4576\n"
     ]
    },
    {
     "name": "stdout",
     "output_type": "stream",
     "text": [
      "Subject: 5631 tweet 10482\nSubject: 5631 tweet 2410\nSubject: 5631 tweet 10467\nSubject: 5631 tweet 9005\nSubject: 5631 tweet 1610\nSubject: 5631 tweet 1500\n"
     ]
    },
    {
     "name": "stdout",
     "output_type": "stream",
     "text": [
      "Subject: 5631 tweet 773\nSubject: 5631 tweet 1058\nSubject: 5631 tweet 9085\nSubject: 5633 tweet 2669\n"
     ]
    },
    {
     "name": "stdout",
     "output_type": "stream",
     "text": [
      "Subject: 5633 tweet 1912\nSubject: 5633 tweet 8642\nSubject: 5633 tweet 324\nSubject: 5633 tweet 4919\nSubject: 5633 tweet 9180\nSubject: 5633 tweet 12227\n"
     ]
    },
    {
     "name": "stdout",
     "output_type": "stream",
     "text": [
      "Subject: 5633 tweet 4522\nSubject: 5633 tweet 2434\nSubject: 5633 tweet 12458\nSubject: 5634 tweet 3382\nSubject: 5634 tweet 8917\n"
     ]
    },
    {
     "name": "stdout",
     "output_type": "stream",
     "text": [
      "Subject: 5634 tweet 1244\nSubject: 5634 tweet 4546\nSubject: 5634 tweet 4272\nSubject: 5634 tweet 6562\nSubject: 5634 tweet 10104\nSubject: 5634 tweet 6921\n"
     ]
    },
    {
     "name": "stdout",
     "output_type": "stream",
     "text": [
      "Subject: 5634 tweet 10920\nSubject: 5634 tweet 7374\nSubject: 5640 tweet 8478\nSubject: 5640 tweet 6044\n"
     ]
    },
    {
     "name": "stdout",
     "output_type": "stream",
     "text": [
      "Subject: 5640 tweet 9083\nSubject: 5640 tweet 1678\nSubject: 5640 tweet 6471\nSubject: 5640 tweet 885\nSubject: 5640 tweet 6394\nSubject: 5640 tweet 9084\n"
     ]
    },
    {
     "name": "stdout",
     "output_type": "stream",
     "text": [
      "Subject: 5640 tweet 11987\nSubject: 5640 tweet 6571\nSubject: 5642 tweet 12443\nSubject: 5642 tweet 8620\nSubject: 5642 tweet 3794\n"
     ]
    },
    {
     "name": "stdout",
     "output_type": "stream",
     "text": [
      "Subject: 5642 tweet 2233\nSubject: 5642 tweet 2588\nSubject: 5642 tweet 9993\nSubject: 5642 tweet 807\nSubject: 5642 tweet 7249\n"
     ]
    },
    {
     "name": "stdout",
     "output_type": "stream",
     "text": [
      "Subject: 5642 tweet 1199\nSubject: 5642 tweet 239\nSubject: 5643 tweet 7162\nSubject: 5643 tweet 1743\nSubject: 5643 tweet 3\n"
     ]
    },
    {
     "name": "stdout",
     "output_type": "stream",
     "text": [
      "Subject: 5643 tweet 1384\nSubject: 5643 tweet 156\nSubject: 5643 tweet 198\n"
     ]
    },
    {
     "name": "stdout",
     "output_type": "stream",
     "text": [
      "Subject: 5643 tweet 8977\nSubject: 5643 tweet 2243\nSubject: 5643 tweet 9452\nSubject: 5643 tweet 8891\n"
     ]
    },
    {
     "name": "stdout",
     "output_type": "stream",
     "text": [
      "Subject: 5644 tweet 8618\nSubject: 5644 tweet 3202\nSubject: 5644 tweet 9926\nSubject: 5644 tweet 9034\nSubject: 5644 tweet 1534\n"
     ]
    },
    {
     "name": "stdout",
     "output_type": "stream",
     "text": [
      "Subject: 5644 tweet 9721\nSubject: 5644 tweet 9814\nSubject: 5644 tweet 10532\nSubject: 5644 tweet 4429\nSubject: 5644 tweet 10131\n"
     ]
    },
    {
     "name": "stdout",
     "output_type": "stream",
     "text": [
      "Subject: 5645 tweet 7431\nSubject: 5645 tweet 4195\nSubject: 5645 tweet 12320\nSubject: 5645 tweet 7295\nSubject: 5645 tweet 4196\n"
     ]
    },
    {
     "name": "stdout",
     "output_type": "stream",
     "text": [
      "Subject: 5645 tweet 10284\nSubject: 5645 tweet 7296\nSubject: 5645 tweet 8236\nSubject: 5645 tweet 1812\nSubject: 5645 tweet 9727\n"
     ]
    },
    {
     "name": "stdout",
     "output_type": "stream",
     "text": [
      "Subject: 5646 tweet 7\nSubject: 5646 tweet 10203\nSubject: 5646 tweet 9897\nSubject: 5646 tweet 10122\n"
     ]
    },
    {
     "name": "stdout",
     "output_type": "stream",
     "text": [
      "Subject: 5646 tweet 10710\nSubject: 5646 tweet 1949\nSubject: 5646 tweet 10242\nSubject: 5646 tweet 1403\nSubject: 5646 tweet 10267\n"
     ]
    },
    {
     "name": "stdout",
     "output_type": "stream",
     "text": [
      "Subject: 5646 tweet 9789\nSubject: 5647 tweet 9828\nSubject: 5647 tweet 454\n"
     ]
    },
    {
     "name": "stdout",
     "output_type": "stream",
     "text": [
      "Subject: 5647 tweet 4344\nSubject: 5647 tweet 4411\nSubject: 5647 tweet 1857\nSubject: 5647 tweet 7087\nSubject: 5647 tweet 5448\nSubject: 5647 tweet 8829\n"
     ]
    },
    {
     "name": "stdout",
     "output_type": "stream",
     "text": [
      "Subject: 5647 tweet 8856\nSubject: 5647 tweet 9082\nSubject: 5648 tweet 10255\nSubject: 5648 tweet 10277\nSubject: 5648 tweet 4337\n"
     ]
    },
    {
     "name": "stdout",
     "output_type": "stream",
     "text": [
      "Subject: 5648 tweet 3666\nSubject: 5648 tweet 10300\nSubject: 5648 tweet 8949\nSubject: 5648 tweet 9920\nSubject: 5648 tweet 9975\n"
     ]
    },
    {
     "name": "stdout",
     "output_type": "stream",
     "text": [
      "Subject: 5648 tweet 8989\nSubject: 5648 tweet 8986\nSubject: 5651 tweet 4576\nSubject: 5651 tweet 10482\nSubject: 5651 tweet 2410\n"
     ]
    },
    {
     "name": "stdout",
     "output_type": "stream",
     "text": [
      "Subject: 5651 tweet 10467\nSubject: 5651 tweet 9005\nSubject: 5651 tweet 1610\nSubject: 5651 tweet 1500\nSubject: 5651 tweet 773\nSubject: 5651 tweet 1058\n"
     ]
    },
    {
     "name": "stdout",
     "output_type": "stream",
     "text": [
      "Subject: 5651 tweet 9085\nSubject: 5653 tweet 2669\nSubject: 5653 tweet 1912\nSubject: 5653 tweet 8642\nSubject: 5653 tweet 324\n"
     ]
    },
    {
     "name": "stdout",
     "output_type": "stream",
     "text": [
      "Subject: 5653 tweet 4919\nSubject: 5653 tweet 9180\nSubject: 5653 tweet 12227\nSubject: 5653 tweet 4522\nSubject: 5653 tweet 2434\n"
     ]
    },
    {
     "name": "stdout",
     "output_type": "stream",
     "text": [
      "Subject: 5653 tweet 12458\nSubject: 5654 tweet 3382\nSubject: 5654 tweet 8917\nSubject: 5654 tweet 1244\n"
     ]
    },
    {
     "name": "stdout",
     "output_type": "stream",
     "text": [
      "Subject: 5654 tweet 4546\nSubject: 5654 tweet 4272\nSubject: 5654 tweet 6562\nSubject: 5654 tweet 10104\nSubject: 5654 tweet 6921\nSubject: 5654 tweet 10920\n"
     ]
    },
    {
     "name": "stdout",
     "output_type": "stream",
     "text": [
      "Subject: 5654 tweet 7374\nSubject: 5660 tweet 8478\nSubject: 5660 tweet 6044\n"
     ]
    },
    {
     "name": "stdout",
     "output_type": "stream",
     "text": [
      "Subject: 5660 tweet 9083\nSubject: 5660 tweet 1678\nSubject: 5660 tweet 6471\nSubject: 5660 tweet 885\nSubject: 5660 tweet 6394\nSubject: 5660 tweet 9084\n"
     ]
    },
    {
     "name": "stdout",
     "output_type": "stream",
     "text": [
      "Subject: 5660 tweet 11987\nSubject: 5660 tweet 6571\nSubject: 5662 tweet 12443\nSubject: 5662 tweet 8620\nSubject: 5662 tweet 3794\n"
     ]
    },
    {
     "name": "stdout",
     "output_type": "stream",
     "text": [
      "Subject: 5662 tweet 2233\nSubject: 5662 tweet 2588\nSubject: 5662 tweet 9993\nSubject: 5662 tweet 807\nSubject: 5662 tweet 7249\n"
     ]
    },
    {
     "name": "stdout",
     "output_type": "stream",
     "text": [
      "Subject: 5662 tweet 1199\nSubject: 5662 tweet 239\nSubject: 5663 tweet 7162\nSubject: 5663 tweet 1743\nSubject: 5663 tweet 3\n"
     ]
    },
    {
     "name": "stdout",
     "output_type": "stream",
     "text": [
      "Subject: 5663 tweet 1384\nSubject: 5663 tweet 156\nSubject: 5663 tweet 198\nSubject: 5663 tweet 8977\nSubject: 5663 tweet 2243\n"
     ]
    },
    {
     "name": "stdout",
     "output_type": "stream",
     "text": [
      "Subject: 5663 tweet 9452\nSubject: 5663 tweet 8891\nSubject: 5664 tweet 8618\nSubject: 5664 tweet 3202\nSubject: 5664 tweet 9926\n"
     ]
    },
    {
     "name": "stdout",
     "output_type": "stream",
     "text": [
      "Subject: 5664 tweet 9034\nSubject: 5664 tweet 1534\nSubject: 5664 tweet 9721\nSubject: 5664 tweet 9814\nSubject: 5664 tweet 10532\n"
     ]
    },
    {
     "name": "stdout",
     "output_type": "stream",
     "text": [
      "Subject: 5664 tweet 4429\nSubject: 5664 tweet 10131\nSubject: 5665 tweet 7431\nSubject: 5665 tweet 4195\nSubject: 5665 tweet 12320\n"
     ]
    },
    {
     "name": "stdout",
     "output_type": "stream",
     "text": [
      "Subject: 5665 tweet 7295\nSubject: 5665 tweet 4196\nSubject: 5665 tweet 10284\nSubject: 5665 tweet 7296\nSubject: 5665 tweet 8236\nSubject: 5665 tweet 1812\n"
     ]
    },
    {
     "name": "stdout",
     "output_type": "stream",
     "text": [
      "Subject: 5665 tweet 9727\nSubject: 5666 tweet 7\nSubject: 5666 tweet 10203\nSubject: 5666 tweet 9897\n"
     ]
    },
    {
     "name": "stdout",
     "output_type": "stream",
     "text": [
      "Subject: 5666 tweet 10122\nSubject: 5666 tweet 10710\nSubject: 5666 tweet 1949\nSubject: 5666 tweet 10242\nSubject: 5666 tweet 1403\n"
     ]
    },
    {
     "name": "stdout",
     "output_type": "stream",
     "text": [
      "Subject: 5666 tweet 10267\nSubject: 5666 tweet 9789\nSubject: 5667 tweet 9828\nSubject: 5667 tweet 454\n"
     ]
    },
    {
     "name": "stdout",
     "output_type": "stream",
     "text": [
      "Subject: 5667 tweet 4344\nSubject: 5667 tweet 4411\nSubject: 5667 tweet 1857\nSubject: 5667 tweet 7087\nSubject: 5667 tweet 5448\nSubject: 5667 tweet 8829\n"
     ]
    },
    {
     "name": "stdout",
     "output_type": "stream",
     "text": [
      "Subject: 5667 tweet 8856\nSubject: 5667 tweet 9082\nSubject: 5668 tweet 10255\nSubject: 5668 tweet 10277\nSubject: 5668 tweet 4337\n"
     ]
    },
    {
     "name": "stdout",
     "output_type": "stream",
     "text": [
      "Subject: 5668 tweet 3666\nSubject: 5668 tweet 10300\nSubject: 5668 tweet 8949\nSubject: 5668 tweet 9920\nSubject: 5668 tweet 9975\nSubject: 5668 tweet 8989\n"
     ]
    },
    {
     "name": "stdout",
     "output_type": "stream",
     "text": [
      "Subject: 5668 tweet 8986\nSubject: 5671 tweet 4576\nSubject: 5671 tweet 10482\nSubject: 5671 tweet 2410\nSubject: 5671 tweet 10467\n"
     ]
    },
    {
     "name": "stdout",
     "output_type": "stream",
     "text": [
      "Subject: 5671 tweet 9005\nSubject: 5671 tweet 1610\nSubject: 5671 tweet 1500\nSubject: 5671 tweet 773\n"
     ]
    },
    {
     "name": "stdout",
     "output_type": "stream",
     "text": [
      "Subject: 5671 tweet 1058\nSubject: 5671 tweet 9085\nSubject: 5673 tweet 4576\nSubject: 5673 tweet 10482\nSubject: 5673 tweet 2410\n"
     ]
    },
    {
     "name": "stdout",
     "output_type": "stream",
     "text": [
      "Subject: 5673 tweet 10467\nSubject: 5673 tweet 9005\nSubject: 5673 tweet 1610\nSubject: 5673 tweet 1500\nSubject: 5673 tweet 773\n"
     ]
    },
    {
     "name": "stdout",
     "output_type": "stream",
     "text": [
      "Subject: 5673 tweet 1058\nSubject: 5673 tweet 9085\nSubject: 5674 tweet 2669\nSubject: 5674 tweet 1912\nSubject: 5674 tweet 8642\n"
     ]
    },
    {
     "name": "stdout",
     "output_type": "stream",
     "text": [
      "Subject: 5674 tweet 324\nSubject: 5674 tweet 4919\nSubject: 5674 tweet 9180\nSubject: 5674 tweet 12227\nSubject: 5674 tweet 4522\nSubject: 5674 tweet 2434\n"
     ]
    },
    {
     "name": "stdout",
     "output_type": "stream",
     "text": [
      "Subject: 5674 tweet 12458\nSubject: 5676 tweet 2669\nSubject: 5676 tweet 1912\nSubject: 5676 tweet 8642\nSubject: 5676 tweet 324\n"
     ]
    },
    {
     "name": "stdout",
     "output_type": "stream",
     "text": [
      "Subject: 5676 tweet 4919\nSubject: 5676 tweet 9180\nSubject: 5676 tweet 12227\nSubject: 5676 tweet 4522\nSubject: 5676 tweet 2434\nSubject: 5676 tweet 12458\n"
     ]
    },
    {
     "name": "stdout",
     "output_type": "stream",
     "text": [
      "Subject: 5677 tweet 3382\nSubject: 5677 tweet 8917\nSubject: 5677 tweet 1244\nSubject: 5677 tweet 4546\nSubject: 5677 tweet 4272\n"
     ]
    },
    {
     "name": "stdout",
     "output_type": "stream",
     "text": [
      "Subject: 5677 tweet 6562\nSubject: 5677 tweet 10104\nSubject: 5677 tweet 6921\nSubject: 5677 tweet 10920\nSubject: 5677 tweet 7374\n"
     ]
    },
    {
     "name": "stdout",
     "output_type": "stream",
     "text": [
      "Subject: 5679 tweet 3382\nSubject: 5679 tweet 8917\nSubject: 5679 tweet 1244\nSubject: 5679 tweet 4546\nSubject: 5679 tweet 4272\n"
     ]
    },
    {
     "name": "stdout",
     "output_type": "stream",
     "text": [
      "Subject: 5679 tweet 6562\nSubject: 5679 tweet 10104\nSubject: 5679 tweet 6921\nSubject: 5679 tweet 10920\nSubject: 5679 tweet 7374\n"
     ]
    },
    {
     "name": "stdout",
     "output_type": "stream",
     "text": [
      "Subject: 5685 tweet 8478\nSubject: 5685 tweet 6044\nSubject: 5685 tweet 9083\nSubject: 5685 tweet 1678\nSubject: 5685 tweet 6471\nSubject: 5685 tweet 885\n"
     ]
    },
    {
     "name": "stdout",
     "output_type": "stream",
     "text": [
      "Subject: 5685 tweet 6394\nSubject: 5685 tweet 9084\nSubject: 5685 tweet 11987\nSubject: 5685 tweet 6571\nSubject: 5687 tweet 12443\n"
     ]
    },
    {
     "name": "stdout",
     "output_type": "stream",
     "text": [
      "Subject: 5687 tweet 8620\nSubject: 5687 tweet 3794\nSubject: 5687 tweet 2233\nSubject: 5687 tweet 2588\nSubject: 5687 tweet 9993\n"
     ]
    },
    {
     "name": "stdout",
     "output_type": "stream",
     "text": [
      "Subject: 5687 tweet 807\nSubject: 5687 tweet 7249\nSubject: 5687 tweet 1199\nSubject: 5687 tweet 239\nSubject: 5688 tweet 7162\n"
     ]
    },
    {
     "name": "stdout",
     "output_type": "stream",
     "text": [
      "Subject: 5688 tweet 1743\nSubject: 5688 tweet 3\nSubject: 5688 tweet 1384\nSubject: 5688 tweet 156\nSubject: 5688 tweet 198\nSubject: 5688 tweet 8977\n"
     ]
    },
    {
     "name": "stdout",
     "output_type": "stream",
     "text": [
      "Subject: 5688 tweet 2243\nSubject: 5688 tweet 9452\nSubject: 5688 tweet 8891\nSubject: 5689 tweet 8618\nSubject: 5689 tweet 3202\n"
     ]
    },
    {
     "name": "stdout",
     "output_type": "stream",
     "text": [
      "Subject: 5689 tweet 9926\nSubject: 5689 tweet 9034\nSubject: 5689 tweet 1534\nSubject: 5689 tweet 9721\nSubject: 5689 tweet 9814\n"
     ]
    },
    {
     "name": "stdout",
     "output_type": "stream",
     "text": [
      "Subject: 5689 tweet 10532\nSubject: 5689 tweet 4429\nSubject: 5689 tweet 10131\nSubject: 5690 tweet 7431\n"
     ]
    },
    {
     "name": "stdout",
     "output_type": "stream",
     "text": [
      "Subject: 5690 tweet 4195\nSubject: 5690 tweet 12320\nSubject: 5690 tweet 7295\nSubject: 5690 tweet 4196\nSubject: 5690 tweet 10284\nSubject: 5690 tweet 7296\n"
     ]
    },
    {
     "name": "stdout",
     "output_type": "stream",
     "text": [
      "Subject: 5690 tweet 8236\nSubject: 5690 tweet 1812\nSubject: 5690 tweet 9727\nSubject: 5691 tweet 7\nSubject: 5691 tweet 10203\n"
     ]
    },
    {
     "name": "stdout",
     "output_type": "stream",
     "text": [
      "Subject: 5691 tweet 9897\nSubject: 5691 tweet 10122\nSubject: 5691 tweet 10710\nSubject: 5691 tweet 1949\nSubject: 5691 tweet 10242\n"
     ]
    },
    {
     "name": "stdout",
     "output_type": "stream",
     "text": [
      "Subject: 5691 tweet 1403\nSubject: 5691 tweet 10267\nSubject: 5691 tweet 9789\nSubject: 5692 tweet 9828\nSubject: 5692 tweet 454\n"
     ]
    },
    {
     "name": "stdout",
     "output_type": "stream",
     "text": [
      "Subject: 5692 tweet 4344\nSubject: 5692 tweet 4411\nSubject: 5692 tweet 1857\nSubject: 5692 tweet 7087\nSubject: 5692 tweet 5448\nSubject: 5692 tweet 8829\n"
     ]
    },
    {
     "name": "stdout",
     "output_type": "stream",
     "text": [
      "Subject: 5692 tweet 8856\nSubject: 5692 tweet 9082\nSubject: 5693 tweet 10255\nSubject: 5693 tweet 10277\nSubject: 5693 tweet 4337\n"
     ]
    },
    {
     "name": "stdout",
     "output_type": "stream",
     "text": [
      "Subject: 5693 tweet 3666\nSubject: 5693 tweet 10300\nSubject: 5693 tweet 8949\nSubject: 5693 tweet 9920\nSubject: 5693 tweet 9975\n"
     ]
    },
    {
     "name": "stdout",
     "output_type": "stream",
     "text": [
      "Subject: 5693 tweet 8989\nSubject: 5693 tweet 8986\nSubject: 5697 tweet 10105\nSubject: 5697 tweet 7379\n"
     ]
    },
    {
     "name": "stdout",
     "output_type": "stream",
     "text": [
      "Subject: 5697 tweet 8082\nSubject: 5697 tweet 1734\nSubject: 5697 tweet 5854\nSubject: 5698 tweet 6458\n"
     ]
    },
    {
     "name": "stdout",
     "output_type": "stream",
     "text": [
      "Subject: 5698 tweet 6456\nSubject: 5698 tweet 2284\nSubject: 5698 tweet 7125\nSubject: 5698 tweet 6748\nSubject: 5698 tweet 6277\nSubject: 5698 tweet 6281\n"
     ]
    },
    {
     "name": "stdout",
     "output_type": "stream",
     "text": [
      "Subject: 5698 tweet 6436\nSubject: 5698 tweet 7678\nSubject: 5698 tweet 7243\nSubject: 5702 tweet 7616\nSubject: 5702 tweet 7048\n"
     ]
    },
    {
     "name": "stdout",
     "output_type": "stream",
     "text": [
      "Subject: 5702 tweet 7275\nSubject: 5702 tweet 7242\nSubject: 5702 tweet 3908\nSubject: 5702 tweet 11922\nSubject: 5702 tweet 1527\nSubject: 5702 tweet 1436\n"
     ]
    },
    {
     "name": "stdout",
     "output_type": "stream",
     "text": [
      "Subject: 5702 tweet 4318\nSubject: 5702 tweet 361\nSubject: 5703 tweet 6701\nSubject: 5703 tweet 11144\nSubject: 5703 tweet 1525\n"
     ]
    },
    {
     "name": "stdout",
     "output_type": "stream",
     "text": [
      "Subject: 5703 tweet 8633\nSubject: 5703 tweet 4912\nSubject: 5703 tweet 8328\nSubject: 5703 tweet 3288\nSubject: 5703 tweet 7025\nSubject: 5703 tweet 9093\n"
     ]
    },
    {
     "name": "stdout",
     "output_type": "stream",
     "text": [
      "Subject: 5703 tweet 6118\nSubject: 5706 tweet 12602\nSubject: 5706 tweet 3223\nSubject: 5706 tweet 3791\nSubject: 5706 tweet 2642\n"
     ]
    },
    {
     "name": "stdout",
     "output_type": "stream",
     "text": [
      "Subject: 5706 tweet 12222\nSubject: 5706 tweet 11854\nSubject: 5706 tweet 3424\nSubject: 5706 tweet 3941\nSubject: 5706 tweet 1216\nSubject: 5706 tweet 9242\n"
     ]
    },
    {
     "name": "stdout",
     "output_type": "stream",
     "text": [
      "Subject: 5707 tweet 1025\nSubject: 5707 tweet 12430\nSubject: 5707 tweet 12557\nSubject: 5707 tweet 8597\nSubject: 5707 tweet 5833\nSubject: 5707 tweet 11818\n"
     ]
    },
    {
     "name": "stdout",
     "output_type": "stream",
     "text": [
      "Subject: 5707 tweet 408\nSubject: 5707 tweet 12556\nSubject: 5707 tweet 3628\nSubject: 5707 tweet 3577\n"
     ]
    },
    {
     "name": "stdout",
     "output_type": "stream",
     "text": [
      "Subject: 5709 tweet 4657\nSubject: 5709 tweet 9894\nSubject: 5709 tweet 7622\nSubject: 5709 tweet 7623\nSubject: 5709 tweet 7444\nSubject: 5709 tweet 10477\n"
     ]
    },
    {
     "name": "stdout",
     "output_type": "stream",
     "text": [
      "Subject: 5709 tweet 12249\nSubject: 5709 tweet 7624\nSubject: 5709 tweet 1464\nSubject: 5709 tweet 8607\nSubject: 5711 tweet 7582\n"
     ]
    },
    {
     "name": "stdout",
     "output_type": "stream",
     "text": [
      "Subject: 5711 tweet 7192\nSubject: 5711 tweet 7049\nSubject: 5711 tweet 25\nSubject: 5711 tweet 3401\nSubject: 5711 tweet 7477\nSubject: 5711 tweet 2112\n"
     ]
    },
    {
     "name": "stdout",
     "output_type": "stream",
     "text": [
      "Subject: 5711 tweet 6722\nSubject: 5711 tweet 11742\nSubject: 5711 tweet 7045\nSubject: 5714 tweet 5283\nSubject: 5714 tweet 8207\n"
     ]
    },
    {
     "name": "stdout",
     "output_type": "stream",
     "text": [
      "Subject: 5714 tweet 12595\nSubject: 5714 tweet 8249\nSubject: 5714 tweet 8410\nSubject: 5714 tweet 7957\nSubject: 5714 tweet 3226\nSubject: 5714 tweet 1813\n"
     ]
    },
    {
     "name": "stdout",
     "output_type": "stream",
     "text": [
      "Subject: 5714 tweet 10976\nSubject: 5714 tweet 10979\nSubject: 5716 tweet 2789\nSubject: 5716 tweet 9298\nSubject: 5716 tweet 446\n"
     ]
    },
    {
     "name": "stdout",
     "output_type": "stream",
     "text": [
      "Subject: 5716 tweet 2470\nSubject: 5716 tweet 2683\nSubject: 5716 tweet 1907\nSubject: 5716 tweet 1924\nSubject: 5716 tweet 2518\nSubject: 5716 tweet 2099\n"
     ]
    },
    {
     "name": "stdout",
     "output_type": "stream",
     "text": [
      "Subject: 5716 tweet 2404\nSubject: 5719 tweet 10315\nSubject: 5719 tweet 10286\nSubject: 5719 tweet 10278\nSubject: 5719 tweet 9356\n"
     ]
    },
    {
     "name": "stdout",
     "output_type": "stream",
     "text": [
      "Subject: 5719 tweet 4675\nSubject: 5719 tweet 3509\nSubject: 5719 tweet 1102\nSubject: 5719 tweet 11977\nSubject: 5719 tweet 12351\n"
     ]
    },
    {
     "name": "stdout",
     "output_type": "stream",
     "text": [
      "Subject: 5719 tweet 2544\nSubject: 5733 tweet 361\nSubject: 5733 tweet 4592\nSubject: 5733 tweet 6063\nSubject: 5733 tweet 1205\n"
     ]
    },
    {
     "name": "stdout",
     "output_type": "stream",
     "text": [
      "Subject: 5733 tweet 6378\nSubject: 5733 tweet 11896\nSubject: 5733 tweet 7119\nSubject: 5733 tweet 6083\nSubject: 5733 tweet 9278\n"
     ]
    },
    {
     "name": "stdout",
     "output_type": "stream",
     "text": [
      "Subject: 5733 tweet 1230\nSubject: 5734 tweet 1722\nSubject: 5734 tweet 1721\nSubject: 5734 tweet 9157\nSubject: 5734 tweet 8453\n"
     ]
    },
    {
     "name": "stdout",
     "output_type": "stream",
     "text": [
      "Subject: 5734 tweet 9163\nSubject: 5734 tweet 850\nSubject: 5734 tweet 9334\nSubject: 5734 tweet 10951\nSubject: 5734 tweet 9103\nSubject: 5734 tweet 8248\n"
     ]
    },
    {
     "name": "stdout",
     "output_type": "stream",
     "text": [
      "Subject: 5738 tweet 4576\nSubject: 5738 tweet 10482\nSubject: 5738 tweet 2410\nSubject: 5738 tweet 10467\nSubject: 5738 tweet 9005\nSubject: 5738 tweet 1610\n"
     ]
    },
    {
     "name": "stdout",
     "output_type": "stream",
     "text": [
      "Subject: 5738 tweet 1500\nSubject: 5738 tweet 773\nSubject: 5738 tweet 1058\nSubject: 5738 tweet 9085\n"
     ]
    },
    {
     "name": "stdout",
     "output_type": "stream",
     "text": [
      "Subject: 5740 tweet 2669\nSubject: 5740 tweet 1912\nSubject: 5740 tweet 8642\nSubject: 5740 tweet 324\nSubject: 5740 tweet 4919\nSubject: 5740 tweet 9180\n"
     ]
    },
    {
     "name": "stdout",
     "output_type": "stream",
     "text": [
      "Subject: 5740 tweet 12227\nSubject: 5740 tweet 4522\nSubject: 5740 tweet 2434\nSubject: 5740 tweet 12458\nSubject: 5741 tweet 3382\n"
     ]
    },
    {
     "name": "stdout",
     "output_type": "stream",
     "text": [
      "Subject: 5741 tweet 8917\nSubject: 5741 tweet 1244\nSubject: 5741 tweet 4546\nSubject: 5741 tweet 4272\nSubject: 5741 tweet 6562\nSubject: 5741 tweet 10104\n"
     ]
    },
    {
     "name": "stdout",
     "output_type": "stream",
     "text": [
      "Subject: 5741 tweet 6921\nSubject: 5741 tweet 10920\nSubject: 5741 tweet 7374\nSubject: 5743 tweet 4576\nSubject: 5743 tweet 10482\n"
     ]
    },
    {
     "name": "stdout",
     "output_type": "stream",
     "text": [
      "Subject: 5743 tweet 2410\nSubject: 5743 tweet 10467\nSubject: 5743 tweet 9005\nSubject: 5743 tweet 1610\nSubject: 5743 tweet 1500\nSubject: 5743 tweet 773\n"
     ]
    },
    {
     "name": "stdout",
     "output_type": "stream",
     "text": [
      "Subject: 5743 tweet 1058\nSubject: 5743 tweet 9085\nSubject: 5745 tweet 2669\nSubject: 5745 tweet 1912\nSubject: 5745 tweet 8642\n"
     ]
    },
    {
     "name": "stdout",
     "output_type": "stream",
     "text": [
      "Subject: 5745 tweet 324\nSubject: 5745 tweet 4919\nSubject: 5745 tweet 9180\nSubject: 5745 tweet 12227\nSubject: 5745 tweet 4522\nSubject: 5745 tweet 2434\n"
     ]
    },
    {
     "name": "stdout",
     "output_type": "stream",
     "text": [
      "Subject: 5745 tweet 12458\nSubject: 5746 tweet 4576\nSubject: 5746 tweet 10482\nSubject: 5746 tweet 2410\nSubject: 5746 tweet 10467\n"
     ]
    },
    {
     "name": "stdout",
     "output_type": "stream",
     "text": [
      "Subject: 5746 tweet 9005\nSubject: 5746 tweet 1610\nSubject: 5746 tweet 1500\nSubject: 5746 tweet 773\nSubject: 5746 tweet 1058\nSubject: 5746 tweet 9085\n"
     ]
    },
    {
     "name": "stdout",
     "output_type": "stream",
     "text": [
      "Subject: 5747 tweet 3382\nSubject: 5747 tweet 8917\nSubject: 5747 tweet 1244\nSubject: 5747 tweet 4546\nSubject: 5747 tweet 4272\nSubject: 5747 tweet 6562\n"
     ]
    },
    {
     "name": "stdout",
     "output_type": "stream",
     "text": [
      "Subject: 5747 tweet 10104\nSubject: 5747 tweet 6921\nSubject: 5747 tweet 10920\nSubject: 5747 tweet 7374\n"
     ]
    },
    {
     "name": "stdout",
     "output_type": "stream",
     "text": [
      "Subject: 5750 tweet 4576\nSubject: 5750 tweet 10482\nSubject: 5750 tweet 2410\nSubject: 5750 tweet 10467\nSubject: 5750 tweet 9005\n"
     ]
    },
    {
     "name": "stdout",
     "output_type": "stream",
     "text": [
      "Subject: 5750 tweet 1610\nSubject: 5750 tweet 1500\nSubject: 5750 tweet 773\nSubject: 5750 tweet 1058\nSubject: 5750 tweet 9085\n"
     ]
    },
    {
     "name": "stdout",
     "output_type": "stream",
     "text": [
      "Subject: 5751 tweet 2669\nSubject: 5751 tweet 1912\nSubject: 5751 tweet 8642\nSubject: 5751 tweet 324\nSubject: 5751 tweet 4919\nSubject: 5751 tweet 9180\n"
     ]
    },
    {
     "name": "stdout",
     "output_type": "stream",
     "text": [
      "Subject: 5751 tweet 12227\nSubject: 5751 tweet 4522\nSubject: 5751 tweet 2434\nSubject: 5751 tweet 12458\nSubject: 5753 tweet 2669\n"
     ]
    },
    {
     "name": "stdout",
     "output_type": "stream",
     "text": [
      "Subject: 5753 tweet 1912\nSubject: 5753 tweet 8642\nSubject: 5753 tweet 324\nSubject: 5753 tweet 4919\nSubject: 5753 tweet 9180\n"
     ]
    },
    {
     "name": "stdout",
     "output_type": "stream",
     "text": [
      "Subject: 5753 tweet 12227\nSubject: 5753 tweet 4522\nSubject: 5753 tweet 2434\nSubject: 5753 tweet 12458\nSubject: 5754 tweet 3382\n"
     ]
    },
    {
     "name": "stdout",
     "output_type": "stream",
     "text": [
      "Subject: 5754 tweet 8917\nSubject: 5754 tweet 1244\nSubject: 5754 tweet 4546\nSubject: 5754 tweet 4272\nSubject: 5754 tweet 6562\nSubject: 5754 tweet 10104\n"
     ]
    },
    {
     "name": "stdout",
     "output_type": "stream",
     "text": [
      "Subject: 5754 tweet 6921\nSubject: 5754 tweet 10920\nSubject: 5754 tweet 7374\nSubject: 5756 tweet 3382\nSubject: 5756 tweet 8917\n"
     ]
    },
    {
     "name": "stdout",
     "output_type": "stream",
     "text": [
      "Subject: 5756 tweet 1244\nSubject: 5756 tweet 4546\nSubject: 5756 tweet 4272\nSubject: 5756 tweet 6562\nSubject: 5756 tweet 10104\nSubject: 5756 tweet 6921\n"
     ]
    },
    {
     "name": "stdout",
     "output_type": "stream",
     "text": [
      "Subject: 5756 tweet 10920\nSubject: 5756 tweet 7374\nSubject: 5758 tweet 4576\nSubject: 5758 tweet 10482\nSubject: 5758 tweet 2410\n"
     ]
    },
    {
     "name": "stdout",
     "output_type": "stream",
     "text": [
      "Subject: 5758 tweet 10467\nSubject: 5758 tweet 9005\nSubject: 5758 tweet 1610\nSubject: 5758 tweet 1500\nSubject: 5758 tweet 773\nSubject: 5758 tweet 1058\n"
     ]
    },
    {
     "name": "stdout",
     "output_type": "stream",
     "text": [
      "Subject: 5758 tweet 9085\nSubject: 5760 tweet 2669\nSubject: 5760 tweet 1912\nSubject: 5760 tweet 8642\nSubject: 5760 tweet 324\n"
     ]
    },
    {
     "name": "stdout",
     "output_type": "stream",
     "text": [
      "Subject: 5760 tweet 4919\nSubject: 5760 tweet 9180\nSubject: 5760 tweet 12227\nSubject: 5760 tweet 4522\n"
     ]
    },
    {
     "name": "stdout",
     "output_type": "stream",
     "text": [
      "Subject: 5760 tweet 2434\nSubject: 5760 tweet 12458\nSubject: 5762 tweet 3382\nSubject: 5762 tweet 8917\nSubject: 5762 tweet 1244\n"
     ]
    },
    {
     "name": "stdout",
     "output_type": "stream",
     "text": [
      "Subject: 5762 tweet 4546\nSubject: 5762 tweet 4272\nSubject: 5762 tweet 6562\nSubject: 5762 tweet 10104\nSubject: 5762 tweet 6921\nSubject: 5762 tweet 10920\n"
     ]
    },
    {
     "name": "stdout",
     "output_type": "stream",
     "text": [
      "Subject: 5762 tweet 7374\nSubject: 5767 tweet 8478\nSubject: 5767 tweet 6044\nSubject: 5767 tweet 9083\nSubject: 5767 tweet 1678\n"
     ]
    },
    {
     "name": "stdout",
     "output_type": "stream",
     "text": [
      "Subject: 5767 tweet 6471\nSubject: 5767 tweet 885\nSubject: 5767 tweet 6394\nSubject: 5767 tweet 9084\nSubject: 5767 tweet 11987\nSubject: 5767 tweet 6571\n"
     ]
    },
    {
     "name": "stdout",
     "output_type": "stream",
     "text": [
      "Subject: 5772 tweet 12443\nSubject: 5772 tweet 8620\nSubject: 5772 tweet 3794\nSubject: 5772 tweet 2233\nSubject: 5772 tweet 2588\n"
     ]
    },
    {
     "name": "stdout",
     "output_type": "stream",
     "text": [
      "Subject: 5772 tweet 9993\nSubject: 5772 tweet 807\nSubject: 5772 tweet 7249\nSubject: 5772 tweet 1199\nSubject: 5772 tweet 239\n"
     ]
    },
    {
     "name": "stdout",
     "output_type": "stream",
     "text": [
      "Subject: 5773 tweet 7162\nSubject: 5773 tweet 1743\nSubject: 5773 tweet 3\nSubject: 5773 tweet 1384\nSubject: 5773 tweet 156\nSubject: 5773 tweet 198\n"
     ]
    },
    {
     "name": "stdout",
     "output_type": "stream",
     "text": [
      "Subject: 5773 tweet 8977\nSubject: 5773 tweet 2243\nSubject: 5773 tweet 9452\nSubject: 5773 tweet 8891\nSubject: 5775 tweet 8618\n"
     ]
    },
    {
     "name": "stdout",
     "output_type": "stream",
     "text": [
      "Subject: 5775 tweet 3202\nSubject: 5775 tweet 9926\nSubject: 5775 tweet 9034\nSubject: 5775 tweet 1534\nSubject: 5775 tweet 9721\nSubject: 5775 tweet 9814\n"
     ]
    },
    {
     "name": "stdout",
     "output_type": "stream",
     "text": [
      "Subject: 5775 tweet 10532\nSubject: 5775 tweet 4429\nSubject: 5775 tweet 10131\nSubject: 5776 tweet 7431\nSubject: 5776 tweet 4195\n"
     ]
    },
    {
     "name": "stdout",
     "output_type": "stream",
     "text": [
      "Subject: 5776 tweet 12320\nSubject: 5776 tweet 7295\nSubject: 5776 tweet 4196\nSubject: 5776 tweet 10284\nSubject: 5776 tweet 7296\n"
     ]
    },
    {
     "name": "stdout",
     "output_type": "stream",
     "text": [
      "Subject: 5776 tweet 8236\nSubject: 5776 tweet 1812\nSubject: 5776 tweet 9727\nSubject: 5777 tweet 7\n"
     ]
    },
    {
     "name": "stdout",
     "output_type": "stream",
     "text": [
      "Subject: 5777 tweet 10203\nSubject: 5777 tweet 9897\nSubject: 5777 tweet 10122\nSubject: 5777 tweet 10710\nSubject: 5777 tweet 1949\n"
     ]
    },
    {
     "name": "stdout",
     "output_type": "stream",
     "text": [
      "Subject: 5777 tweet 10242\nSubject: 5777 tweet 1403\nSubject: 5777 tweet 10267\nSubject: 5777 tweet 9789\nSubject: 5778 tweet 8478\n"
     ]
    },
    {
     "name": "stdout",
     "output_type": "stream",
     "text": [
      "Subject: 5778 tweet 6044\nSubject: 5778 tweet 9083\nSubject: 5778 tweet 1678\nSubject: 5778 tweet 6471\nSubject: 5778 tweet 885\nSubject: 5778 tweet 6394\n"
     ]
    },
    {
     "name": "stdout",
     "output_type": "stream",
     "text": [
      "Subject: 5778 tweet 9084\nSubject: 5778 tweet 11987\nSubject: 5778 tweet 6571\nSubject: 5779 tweet 9828\nSubject: 5779 tweet 454\n"
     ]
    },
    {
     "name": "stdout",
     "output_type": "stream",
     "text": [
      "Subject: 5779 tweet 4344\nSubject: 5779 tweet 4411\nSubject: 5779 tweet 1857\nSubject: 5779 tweet 7087\nSubject: 5779 tweet 5448\n"
     ]
    },
    {
     "name": "stdout",
     "output_type": "stream",
     "text": [
      "Subject: 5779 tweet 8829\nSubject: 5779 tweet 8856\nSubject: 5779 tweet 9082\nSubject: 5781 tweet 12443\nSubject: 5781 tweet 8620\n"
     ]
    },
    {
     "name": "stdout",
     "output_type": "stream",
     "text": [
      "Subject: 5781 tweet 3794\nSubject: 5781 tweet 2233\nSubject: 5781 tweet 2588\nSubject: 5781 tweet 9993\nSubject: 5781 tweet 807\nSubject: 5781 tweet 7249\n"
     ]
    },
    {
     "name": "stdout",
     "output_type": "stream",
     "text": [
      "Subject: 5781 tweet 1199\nSubject: 5781 tweet 239\nSubject: 5782 tweet 7162\nSubject: 5782 tweet 1743\nSubject: 5782 tweet 3\n"
     ]
    },
    {
     "name": "stdout",
     "output_type": "stream",
     "text": [
      "Subject: 5782 tweet 1384\nSubject: 5782 tweet 156\nSubject: 5782 tweet 198\nSubject: 5782 tweet 8977\nSubject: 5782 tweet 2243\nSubject: 5782 tweet 9452\n"
     ]
    },
    {
     "name": "stdout",
     "output_type": "stream",
     "text": [
      "Subject: 5782 tweet 8891\nSubject: 5783 tweet 8618\nSubject: 5783 tweet 3202\nSubject: 5783 tweet 9926\n"
     ]
    },
    {
     "name": "stdout",
     "output_type": "stream",
     "text": [
      "Subject: 5783 tweet 9034\nSubject: 5783 tweet 1534\nSubject: 5783 tweet 9721\nSubject: 5783 tweet 9814\nSubject: 5783 tweet 10532\nSubject: 5783 tweet 4429\n"
     ]
    },
    {
     "name": "stdout",
     "output_type": "stream",
     "text": [
      "Subject: 5783 tweet 10131\nSubject: 5784 tweet 10255\nSubject: 5784 tweet 10277\nSubject: 5784 tweet 4337\nSubject: 5784 tweet 3666\n"
     ]
    },
    {
     "name": "stdout",
     "output_type": "stream",
     "text": [
      "Subject: 5784 tweet 10300\nSubject: 5784 tweet 8949\nSubject: 5784 tweet 9920\nSubject: 5784 tweet 9975\nSubject: 5784 tweet 8989\n"
     ]
    },
    {
     "name": "stdout",
     "output_type": "stream",
     "text": [
      "Subject: 5784 tweet 8986\nSubject: 5785 tweet 7431\nSubject: 5785 tweet 4195\nSubject: 5785 tweet 12320\nSubject: 5785 tweet 7295\n"
     ]
    },
    {
     "name": "stdout",
     "output_type": "stream",
     "text": [
      "Subject: 5785 tweet 4196\nSubject: 5785 tweet 10284\nSubject: 5785 tweet 7296\nSubject: 5785 tweet 8236\nSubject: 5785 tweet 1812\n"
     ]
    },
    {
     "name": "stdout",
     "output_type": "stream",
     "text": [
      "Subject: 5785 tweet 9727\nSubject: 5787 tweet 7\nSubject: 5787 tweet 10203\nSubject: 5787 tweet 9897\nSubject: 5787 tweet 10122\n"
     ]
    },
    {
     "name": "stdout",
     "output_type": "stream",
     "text": [
      "Subject: 5787 tweet 10710\nSubject: 5787 tweet 1949\nSubject: 5787 tweet 10242\nSubject: 5787 tweet 1403\nSubject: 5787 tweet 10267\n"
     ]
    },
    {
     "name": "stdout",
     "output_type": "stream",
     "text": [
      "Subject: 5787 tweet 9789\nSubject: 5788 tweet 9828\nSubject: 5788 tweet 454\nSubject: 5788 tweet 4344\nSubject: 5788 tweet 4411\n"
     ]
    },
    {
     "name": "stdout",
     "output_type": "stream",
     "text": [
      "Subject: 5788 tweet 1857\nSubject: 5788 tweet 7087\nSubject: 5788 tweet 5448\nSubject: 5788 tweet 8829\nSubject: 5788 tweet 8856\nSubject: 5788 tweet 9082\n"
     ]
    },
    {
     "name": "stdout",
     "output_type": "stream",
     "text": [
      "Subject: 5790 tweet 10255\nSubject: 5790 tweet 10277\nSubject: 5790 tweet 4337\nSubject: 5790 tweet 3666\nSubject: 5790 tweet 10300\nSubject: 5790 tweet 8949\n"
     ]
    },
    {
     "name": "stdout",
     "output_type": "stream",
     "text": [
      "Subject: 5790 tweet 9920\nSubject: 5790 tweet 9975\nSubject: 5790 tweet 8989\nSubject: 5790 tweet 8986\nSubject: 5793 tweet 10105\n"
     ]
    },
    {
     "name": "stdout",
     "output_type": "stream",
     "text": [
      "Subject: 5793 tweet 7379\nSubject: 5793 tweet 8082\nSubject: 5793 tweet 1734\nSubject: 5793 tweet 5854\n"
     ]
    },
    {
     "name": "stdout",
     "output_type": "stream",
     "text": [
      "Subject: 5795 tweet 6458\nSubject: 5795 tweet 6456\nSubject: 5795 tweet 2284\nSubject: 5795 tweet 7125\nSubject: 5795 tweet 6748\nSubject: 5795 tweet 6277\n"
     ]
    },
    {
     "name": "stdout",
     "output_type": "stream",
     "text": [
      "Subject: 5795 tweet 6281\nSubject: 5795 tweet 6436\nSubject: 5795 tweet 7678\nSubject: 5795 tweet 7243\nSubject: 5798 tweet 10105\n"
     ]
    },
    {
     "name": "stdout",
     "output_type": "stream",
     "text": [
      "Subject: 5798 tweet 7379\nSubject: 5798 tweet 8082\nSubject: 5798 tweet 1734\nSubject: 5798 tweet 5854\nSubject: 5799 tweet 6458\n"
     ]
    },
    {
     "name": "stdout",
     "output_type": "stream",
     "text": [
      "Subject: 5799 tweet 6456\nSubject: 5799 tweet 2284\nSubject: 5799 tweet 7125\nSubject: 5799 tweet 6748\nSubject: 5799 tweet 6277\n"
     ]
    },
    {
     "name": "stdout",
     "output_type": "stream",
     "text": [
      "Subject: 5799 tweet 6281\nSubject: 5799 tweet 6436\nSubject: 5799 tweet 7678\nSubject: 5799 tweet 7243\nSubject: 5801 tweet 4576"
     ]
    },
    {
     "name": "stdout",
     "output_type": "stream",
     "text": [
      "\nSubject: 5801 tweet 10482\nSubject: 5801 tweet 2410\nSubject: 5801 tweet 10467\nSubject: 5801 tweet 9005\nSubject: 5801 tweet 1610\n"
     ]
    },
    {
     "name": "stdout",
     "output_type": "stream",
     "text": [
      "Subject: 5801 tweet 1500\nSubject: 5801 tweet 773\nSubject: 5801 tweet 1058\nSubject: 5801 tweet 9085\n"
     ]
    },
    {
     "name": "stdout",
     "output_type": "stream",
     "text": [
      "Subject: 5802 tweet 2669\nSubject: 5802 tweet 1912\nSubject: 5802 tweet 8642\nSubject: 5802 tweet 324\nSubject: 5802 tweet 4919\nSubject: 5802 tweet 9180\n"
     ]
    },
    {
     "name": "stdout",
     "output_type": "stream",
     "text": [
      "Subject: 5802 tweet 12227\nSubject: 5802 tweet 4522\nSubject: 5802 tweet 2434\nSubject: 5802 tweet 12458\nSubject: 5803 tweet 3382\n"
     ]
    },
    {
     "name": "stdout",
     "output_type": "stream",
     "text": [
      "Subject: 5803 tweet 8917\nSubject: 5803 tweet 1244\nSubject: 5803 tweet 4546\nSubject: 5803 tweet 4272\nSubject: 5803 tweet 6562\nSubject: 5803 tweet 10104\n"
     ]
    },
    {
     "name": "stdout",
     "output_type": "stream",
     "text": [
      "Subject: 5803 tweet 6921\nSubject: 5803 tweet 10920\nSubject: 5803 tweet 7374\nSubject: 5809 tweet 8478\n"
     ]
    },
    {
     "name": "stdout",
     "output_type": "stream",
     "text": [
      "Subject: 5809 tweet 6044\nSubject: 5809 tweet 9083\nSubject: 5809 tweet 1678\nSubject: 5809 tweet 6471\nSubject: 5809 tweet 885\n"
     ]
    },
    {
     "name": "stdout",
     "output_type": "stream",
     "text": [
      "Subject: 5809 tweet 6394\nSubject: 5809 tweet 9084\nSubject: 5809 tweet 11987\nSubject: 5809 tweet 6571\n"
     ]
    },
    {
     "name": "stdout",
     "output_type": "stream",
     "text": [
      "Subject: 5811 tweet 12443\nSubject: 5811 tweet 8620\nSubject: 5811 tweet 3794\nSubject: 5811 tweet 2233\nSubject: 5811 tweet 2588\nSubject: 5811 tweet 9993\n"
     ]
    },
    {
     "name": "stdout",
     "output_type": "stream",
     "text": [
      "Subject: 5811 tweet 807\nSubject: 5811 tweet 7249\nSubject: 5811 tweet 1199\nSubject: 5811 tweet 239\nSubject: 5812 tweet 7162\n"
     ]
    },
    {
     "name": "stdout",
     "output_type": "stream",
     "text": [
      "Subject: 5812 tweet 1743\nSubject: 5812 tweet 3\nSubject: 5812 tweet 1384\nSubject: 5812 tweet 156\nSubject: 5812 tweet 198\nSubject: 5812 tweet 8977\n"
     ]
    },
    {
     "name": "stdout",
     "output_type": "stream",
     "text": [
      "Subject: 5812 tweet 2243\nSubject: 5812 tweet 9452\nSubject: 5812 tweet 8891\nSubject: 5813 tweet 8618\n"
     ]
    },
    {
     "name": "stdout",
     "output_type": "stream",
     "text": [
      "Subject: 5813 tweet 3202\nSubject: 5813 tweet 9926\nSubject: 5813 tweet 9034\nSubject: 5813 tweet 1534\nSubject: 5813 tweet 9721\nSubject: 5813 tweet 9814\n"
     ]
    },
    {
     "name": "stdout",
     "output_type": "stream",
     "text": [
      "Subject: 5813 tweet 10532\nSubject: 5813 tweet 4429\nSubject: 5813 tweet 10131\nSubject: 5814 tweet 7431\nSubject: 5814 tweet 4195\n"
     ]
    },
    {
     "name": "stdout",
     "output_type": "stream",
     "text": [
      "Subject: 5814 tweet 12320\nSubject: 5814 tweet 7295\nSubject: 5814 tweet 4196\nSubject: 5814 tweet 10284\nSubject: 5814 tweet 7296\nSubject: 5814 tweet 8236\n"
     ]
    },
    {
     "name": "stdout",
     "output_type": "stream",
     "text": [
      "Subject: 5814 tweet 1812\nSubject: 5814 tweet 9727\nSubject: 5815 tweet 7\nSubject: 5815 tweet 10203\n"
     ]
    },
    {
     "name": "stdout",
     "output_type": "stream",
     "text": [
      "Subject: 5815 tweet 9897\nSubject: 5815 tweet 10122\nSubject: 5815 tweet 10710\nSubject: 5815 tweet 1949\nSubject: 5815 tweet 10242\n"
     ]
    },
    {
     "name": "stdout",
     "output_type": "stream",
     "text": [
      "Subject: 5815 tweet 1403\nSubject: 5815 tweet 10267\nSubject: 5815 tweet 9789\nSubject: 5816 tweet 9828\nSubject: 5816 tweet 454\n"
     ]
    },
    {
     "name": "stdout",
     "output_type": "stream",
     "text": [
      "Subject: 5816 tweet 4344\nSubject: 5816 tweet 4411\nSubject: 5816 tweet 1857\nSubject: 5816 tweet 7087\nSubject: 5816 tweet 5448\nSubject: 5816 tweet 8829\n"
     ]
    },
    {
     "name": "stdout",
     "output_type": "stream",
     "text": [
      "Subject: 5816 tweet 8856\nSubject: 5816 tweet 9082\nSubject: 5817 tweet 10255\nSubject: 5817 tweet 10277\nSubject: 5817 tweet 4337\n"
     ]
    },
    {
     "name": "stdout",
     "output_type": "stream",
     "text": [
      "Subject: 5817 tweet 3666\nSubject: 5817 tweet 10300\nSubject: 5817 tweet 8949\nSubject: 5817 tweet 9920\nSubject: 5817 tweet 9975\n"
     ]
    },
    {
     "name": "stdout",
     "output_type": "stream",
     "text": [
      "Subject: 5817 tweet 8989\nSubject: 5817 tweet 8986\nSubject: 5821 tweet 10105\nSubject: 5821 tweet 7379\n"
     ]
    },
    {
     "name": "stdout",
     "output_type": "stream",
     "text": [
      "Subject: 5821 tweet 8082\nSubject: 5821 tweet 1734\nSubject: 5821 tweet 5854\nSubject: 5822 tweet 6458\nSubject: 5822 tweet 6456\n"
     ]
    },
    {
     "name": "stdout",
     "output_type": "stream",
     "text": [
      "Subject: 5822 tweet 2284\nSubject: 5822 tweet 7125\nSubject: 5822 tweet 6748\nSubject: 5822 tweet 6277\nSubject: 5822 tweet 6281\n"
     ]
    },
    {
     "name": "stdout",
     "output_type": "stream",
     "text": [
      "Subject: 5822 tweet 6436\nSubject: 5822 tweet 7678\nSubject: 5822 tweet 7243\nSubject: 5826 tweet 7616\nSubject: 5826 tweet 7048\n"
     ]
    },
    {
     "name": "stdout",
     "output_type": "stream",
     "text": [
      "Subject: 5826 tweet 7275\nSubject: 5826 tweet 7242\nSubject: 5826 tweet 3908\nSubject: 5826 tweet 11922\nSubject: 5826 tweet 1527\nSubject: 5826 tweet 1436\n"
     ]
    },
    {
     "name": "stdout",
     "output_type": "stream",
     "text": [
      "Subject: 5826 tweet 4318\nSubject: 5826 tweet 361\nSubject: 5827 tweet 6701\nSubject: 5827 tweet 11144\nSubject: 5827 tweet 1525\n"
     ]
    },
    {
     "name": "stdout",
     "output_type": "stream",
     "text": [
      "Subject: 5827 tweet 8633\nSubject: 5827 tweet 4912\nSubject: 5827 tweet 8328\nSubject: 5827 tweet 3288\nSubject: 5827 tweet 7025\nSubject: 5827 tweet 9093\n"
     ]
    },
    {
     "name": "stdout",
     "output_type": "stream",
     "text": [
      "Subject: 5827 tweet 6118\nSubject: 5830 tweet 12602\n"
     ]
    },
    {
     "name": "stdout",
     "output_type": "stream",
     "text": [
      "Subject: 5830 tweet 3223\nSubject: 5830 tweet 3791\nSubject: 5830 tweet 2642\nSubject: 5830 tweet 12222\nSubject: 5830 tweet 11854\nSubject: 5830 tweet 3424\n"
     ]
    },
    {
     "name": "stdout",
     "output_type": "stream",
     "text": [
      "Subject: 5830 tweet 3941\nSubject: 5830 tweet 1216\nSubject: 5830 tweet 9242\nSubject: 5831 tweet 1025\nSubject: 5831 tweet 12430\n"
     ]
    },
    {
     "name": "stdout",
     "output_type": "stream",
     "text": [
      "Subject: 5831 tweet 12557\nSubject: 5831 tweet 8597\nSubject: 5831 tweet 5833\nSubject: 5831 tweet 11818\nSubject: 5831 tweet 408\n"
     ]
    },
    {
     "name": "stdout",
     "output_type": "stream",
     "text": [
      "Subject: 5831 tweet 12556\nSubject: 5831 tweet 3628\nSubject: 5831 tweet 3577\nSubject: 5833 tweet 4657\nSubject: 5833 tweet 9894\n"
     ]
    },
    {
     "name": "stdout",
     "output_type": "stream",
     "text": [
      "Subject: 5833 tweet 7622\nSubject: 5833 tweet 7623\nSubject: 5833 tweet 7444\nSubject: 5833 tweet 10477\n"
     ]
    },
    {
     "name": "stdout",
     "output_type": "stream",
     "text": [
      "Subject: 5833 tweet 12249\nSubject: 5833 tweet 7624\nSubject: 5833 tweet 1464\nSubject: 5833 tweet 8607\nSubject: 5835 tweet 7582\n"
     ]
    },
    {
     "name": "stdout",
     "output_type": "stream",
     "text": [
      "Subject: 5835 tweet 7192\nSubject: 5835 tweet 7049\nSubject: 5835 tweet 25\nSubject: 5835 tweet 3401\nSubject: 5835 tweet 7477\nSubject: 5835 tweet 2112\n"
     ]
    },
    {
     "name": "stdout",
     "output_type": "stream",
     "text": [
      "Subject: 5835 tweet 6722\nSubject: 5835 tweet 11742\nSubject: 5835 tweet 7045\nSubject: 5837 tweet 4576\nSubject: 5837 tweet 10482\n"
     ]
    },
    {
     "name": "stdout",
     "output_type": "stream",
     "text": [
      "Subject: 5837 tweet 2410\nSubject: 5837 tweet 10467\nSubject: 5837 tweet 9005\nSubject: 5837 tweet 1610\nSubject: 5837 tweet 1500\n"
     ]
    },
    {
     "name": "stdout",
     "output_type": "stream",
     "text": [
      "Subject: 5837 tweet 773\nSubject: 5837 tweet 1058\nSubject: 5837 tweet 9085\n"
     ]
    },
    {
     "name": "stdout",
     "output_type": "stream",
     "text": [
      "Subject: 5839 tweet 2669\nSubject: 5839 tweet 1912\nSubject: 5839 tweet 8642\nSubject: 5839 tweet 324\nSubject: 5839 tweet 4919\nSubject: 5839 tweet 9180\n"
     ]
    },
    {
     "name": "stdout",
     "output_type": "stream",
     "text": [
      "Subject: 5839 tweet 12227\nSubject: 5839 tweet 4522\nSubject: 5839 tweet 2434\nSubject: 5839 tweet 12458\nSubject: 5840 tweet 3382\n"
     ]
    },
    {
     "name": "stdout",
     "output_type": "stream",
     "text": [
      "Subject: 5840 tweet 8917\nSubject: 5840 tweet 1244\nSubject: 5840 tweet 4546\nSubject: 5840 tweet 4272\nSubject: 5840 tweet 6562\nSubject: 5840 tweet 10104\n"
     ]
    },
    {
     "name": "stdout",
     "output_type": "stream",
     "text": [
      "Subject: 5840 tweet 6921\nSubject: 5840 tweet 10920\nSubject: 5840 tweet 7374\n"
     ]
    },
    {
     "name": "stdout",
     "output_type": "stream",
     "text": [
      "Subject: 5842 tweet 4576\nSubject: 5842 tweet 10482\nSubject: 5842 tweet 2410\nSubject: 5842 tweet 10467\nSubject: 5842 tweet 9005\nSubject: 5842 tweet 1610\n"
     ]
    },
    {
     "name": "stdout",
     "output_type": "stream",
     "text": [
      "Subject: 5842 tweet 1500\nSubject: 5842 tweet 773\nSubject: 5842 tweet 1058\nSubject: 5842 tweet 9085\nSubject: 5844 tweet 2669\n"
     ]
    },
    {
     "name": "stdout",
     "output_type": "stream",
     "text": [
      "Subject: 5844 tweet 1912\nSubject: 5844 tweet 8642\nSubject: 5844 tweet 324\nSubject: 5844 tweet 4919\nSubject: 5844 tweet 9180\nSubject: 5844 tweet 12227\n"
     ]
    },
    {
     "name": "stdout",
     "output_type": "stream",
     "text": [
      "Subject: 5844 tweet 4522\nSubject: 5844 tweet 2434\nSubject: 5844 tweet 12458\nSubject: 5845 tweet 3382\nSubject: 5845 tweet 8917\n"
     ]
    },
    {
     "name": "stdout",
     "output_type": "stream",
     "text": [
      "Subject: 5845 tweet 1244\nSubject: 5845 tweet 4546\nSubject: 5845 tweet 4272\nSubject: 5845 tweet 6562\nSubject: 5845 tweet 10104\nSubject: 5845 tweet 6921\n"
     ]
    },
    {
     "name": "stdout",
     "output_type": "stream",
     "text": [
      "Subject: 5845 tweet 10920\nSubject: 5845 tweet 7374\nSubject: 5847 tweet 4576\nSubject: 5847 tweet 10482\nSubject: 5847 tweet 2410\n"
     ]
    },
    {
     "name": "stdout",
     "output_type": "stream",
     "text": [
      "Subject: 5847 tweet 10467\nSubject: 5847 tweet 9005\nSubject: 5847 tweet 1610\nSubject: 5847 tweet 1500\nSubject: 5847 tweet 773\nSubject: 5847 tweet 1058\n"
     ]
    },
    {
     "name": "stdout",
     "output_type": "stream",
     "text": [
      "Subject: 5847 tweet 9085\nSubject: 5849 tweet 2669\nSubject: 5849 tweet 1912\nSubject: 5849 tweet 8642\nSubject: 5849 tweet 324\n"
     ]
    },
    {
     "name": "stdout",
     "output_type": "stream",
     "text": [
      "Subject: 5849 tweet 4919\nSubject: 5849 tweet 9180\nSubject: 5849 tweet 12227\nSubject: 5849 tweet 4522\nSubject: 5849 tweet 2434\n"
     ]
    },
    {
     "name": "stdout",
     "output_type": "stream",
     "text": [
      "Subject: 5849 tweet 12458\nSubject: 5850 tweet 3382\nSubject: 5850 tweet 8917\nSubject: 5850 tweet 1244\nSubject: 5850 tweet 4546\n"
     ]
    },
    {
     "name": "stdout",
     "output_type": "stream",
     "text": [
      "Subject: 5850 tweet 4272\nSubject: 5850 tweet 6562\nSubject: 5850 tweet 10104\nSubject: 5850 tweet 6921\nSubject: 5850 tweet 10920\nSubject: 5850 tweet 7374\n"
     ]
    },
    {
     "name": "stdout",
     "output_type": "stream",
     "text": [
      "Subject: 5856 tweet 8478\nSubject: 5856 tweet 6044\nSubject: 5856 tweet 9083\nSubject: 5856 tweet 1678\nSubject: 5856 tweet 6471\nSubject: 5856 tweet 885\n"
     ]
    },
    {
     "name": "stdout",
     "output_type": "stream",
     "text": [
      "Subject: 5856 tweet 6394\nSubject: 5856 tweet 9084\nSubject: 5856 tweet 11987\nSubject: 5856 tweet 6571\nSubject: 5858 tweet 12443\n"
     ]
    },
    {
     "name": "stdout",
     "output_type": "stream",
     "text": [
      "Subject: 5858 tweet 8620\nSubject: 5858 tweet 3794\nSubject: 5858 tweet 2233\nSubject: 5858 tweet 2588\nSubject: 5858 tweet 9993\nSubject: 5858 tweet 807\n"
     ]
    },
    {
     "name": "stdout",
     "output_type": "stream",
     "text": [
      "Subject: 5858 tweet 7249\nSubject: 5858 tweet 1199\nSubject: 5858 tweet 239\nSubject: 5859 tweet 7162\nSubject: 5859 tweet 1743\n"
     ]
    },
    {
     "name": "stdout",
     "output_type": "stream",
     "text": [
      "Subject: 5859 tweet 3\nSubject: 5859 tweet 1384\nSubject: 5859 tweet 156\nSubject: 5859 tweet 198\nSubject: 5859 tweet 8977\n"
     ]
    },
    {
     "name": "stdout",
     "output_type": "stream",
     "text": [
      "Subject: 5859 tweet 2243\nSubject: 5859 tweet 9452\nSubject: 5859 tweet 8891\nSubject: 5860 tweet 8618\n"
     ]
    },
    {
     "name": "stdout",
     "output_type": "stream",
     "text": [
      "Subject: 5860 tweet 3202\nSubject: 5860 tweet 9926\nSubject: 5860 tweet 9034\nSubject: 5860 tweet 1534\nSubject: 5860 tweet 9721\nSubject: 5860 tweet 9814\n"
     ]
    },
    {
     "name": "stdout",
     "output_type": "stream",
     "text": [
      "Subject: 5860 tweet 10532\nSubject: 5860 tweet 4429\nSubject: 5860 tweet 10131\nSubject: 5861 tweet 7431\nSubject: 5861 tweet 4195\n"
     ]
    },
    {
     "name": "stdout",
     "output_type": "stream",
     "text": [
      "Subject: 5861 tweet 12320\nSubject: 5861 tweet 7295\nSubject: 5861 tweet 4196\nSubject: 5861 tweet 10284\nSubject: 5861 tweet 7296\nSubject: 5861 tweet 8236\n"
     ]
    },
    {
     "name": "stdout",
     "output_type": "stream",
     "text": [
      "Subject: 5861 tweet 1812\nSubject: 5861 tweet 9727\nSubject: 5862 tweet 7\nSubject: 5862 tweet 10203\n"
     ]
    },
    {
     "name": "stdout",
     "output_type": "stream",
     "text": [
      "Subject: 5862 tweet 9897\nSubject: 5862 tweet 10122\nSubject: 5862 tweet 10710\nSubject: 5862 tweet 1949\nSubject: 5862 tweet 10242\nSubject: 5862 tweet 1403\n"
     ]
    },
    {
     "name": "stdout",
     "output_type": "stream",
     "text": [
      "Subject: 5862 tweet 10267\nSubject: 5862 tweet 9789\nSubject: 5863 tweet 9828\nSubject: 5863 tweet 454\nSubject: 5863 tweet 4344\n"
     ]
    },
    {
     "name": "stdout",
     "output_type": "stream",
     "text": [
      "Subject: 5863 tweet 4411\nSubject: 5863 tweet 1857\nSubject: 5863 tweet 7087\nSubject: 5863 tweet 5448\nSubject: 5863 tweet 8829\nSubject: 5863 tweet 8856\n"
     ]
    },
    {
     "name": "stdout",
     "output_type": "stream",
     "text": [
      "Subject: 5863 tweet 9082\nSubject: 5864 tweet 10255\nSubject: 5864 tweet 10277\nSubject: 5864 tweet 4337\nSubject: 5864 tweet 3666\n"
     ]
    },
    {
     "name": "stdout",
     "output_type": "stream",
     "text": [
      "Subject: 5864 tweet 10300\nSubject: 5864 tweet 8949\nSubject: 5864 tweet 9920\nSubject: 5864 tweet 9975\nSubject: 5864 tweet 8989\n"
     ]
    },
    {
     "name": "stdout",
     "output_type": "stream",
     "text": [
      "Subject: 5864 tweet 8986\nSubject: 5866 tweet 4576\nSubject: 5866 tweet 10482\nSubject: 5866 tweet 2410\n"
     ]
    },
    {
     "name": "stdout",
     "output_type": "stream",
     "text": [
      "Subject: 5866 tweet 10467\nSubject: 5866 tweet 9005\nSubject: 5866 tweet 1610\nSubject: 5866 tweet 1500\nSubject: 5866 tweet 773\nSubject: 5866 tweet 1058\n"
     ]
    },
    {
     "name": "stdout",
     "output_type": "stream",
     "text": [
      "Subject: 5866 tweet 9085\nSubject: 5869 tweet 2669\nSubject: 5869 tweet 1912\nSubject: 5869 tweet 8642\nSubject: 5869 tweet 324\n"
     ]
    },
    {
     "name": "stdout",
     "output_type": "stream",
     "text": [
      "Subject: 5869 tweet 4919\nSubject: 5869 tweet 9180\nSubject: 5869 tweet 12227\nSubject: 5869 tweet 4522\nSubject: 5869 tweet 2434\n"
     ]
    },
    {
     "name": "stdout",
     "output_type": "stream",
     "text": [
      "Subject: 5869 tweet 12458\nSubject: 5870 tweet 3382\nSubject: 5870 tweet 8917\nSubject: 5870 tweet 1244\nSubject: 5870 tweet 4546\n"
     ]
    },
    {
     "name": "stdout",
     "output_type": "stream",
     "text": [
      "Subject: 5870 tweet 4272\nSubject: 5870 tweet 6562\nSubject: 5870 tweet 10104\nSubject: 5870 tweet 6921\nSubject: 5870 tweet 10920\n"
     ]
    },
    {
     "name": "stdout",
     "output_type": "stream",
     "text": [
      "Subject: 5870 tweet 7374\nSubject: 5873 tweet 10105\nSubject: 5873 tweet 7379\nSubject: 5873 tweet 8082\nSubject: 5873 tweet 1734\n"
     ]
    },
    {
     "name": "stdout",
     "output_type": "stream",
     "text": [
      "Subject: 5873 tweet 5854\nSubject: 5874 tweet 6458\nSubject: 5874 tweet 6456\nSubject: 5874 tweet 2284\nSubject: 5874 tweet 7125\n"
     ]
    },
    {
     "name": "stdout",
     "output_type": "stream",
     "text": [
      "Subject: 5874 tweet 6748\nSubject: 5874 tweet 6277\nSubject: 5874 tweet 6281\n"
     ]
    },
    {
     "name": "stdout",
     "output_type": "stream",
     "text": [
      "Subject: 5874 tweet 6436\nSubject: 5874 tweet 7678\nSubject: 5874 tweet 7243\nSubject: 5881 tweet 8478\nSubject: 5881 tweet 6044\n"
     ]
    },
    {
     "name": "stdout",
     "output_type": "stream",
     "text": [
      "Subject: 5881 tweet 9083\nSubject: 5881 tweet 1678\nSubject: 5881 tweet 6471\nSubject: 5881 tweet 885\nSubject: 5881 tweet 6394\n"
     ]
    },
    {
     "name": "stdout",
     "output_type": "stream",
     "text": [
      "Subject: 5881 tweet 9084\nSubject: 5881 tweet 11987\nSubject: 5881 tweet 6571\nSubject: 5883 tweet 4576\nSubject: 5883 tweet 10482\n"
     ]
    },
    {
     "name": "stdout",
     "output_type": "stream",
     "text": [
      "Subject: 5883 tweet 2410\nSubject: 5883 tweet 10467\nSubject: 5883 tweet 9005\nSubject: 5883 tweet 1610\nSubject: 5883 tweet 1500\n"
     ]
    },
    {
     "name": "stdout",
     "output_type": "stream",
     "text": [
      "Subject: 5883 tweet 773\nSubject: 5883 tweet 1058\nSubject: 5883 tweet 9085\nSubject: 5885 tweet 2669\n"
     ]
    },
    {
     "name": "stdout",
     "output_type": "stream",
     "text": [
      "Subject: 5885 tweet 1912\nSubject: 5885 tweet 8642\nSubject: 5885 tweet 324\nSubject: 5885 tweet 4919\nSubject: 5885 tweet 9180\nSubject: 5885 tweet 12227\n"
     ]
    },
    {
     "name": "stdout",
     "output_type": "stream",
     "text": [
      "Subject: 5885 tweet 4522\nSubject: 5885 tweet 2434\nSubject: 5885 tweet 12458\nSubject: 5886 tweet 4576\n"
     ]
    },
    {
     "name": "stdout",
     "output_type": "stream",
     "text": [
      "Subject: 5886 tweet 10482\nSubject: 5886 tweet 2410\nSubject: 5886 tweet 10467\nSubject: 5886 tweet 9005\nSubject: 5886 tweet 1610\n"
     ]
    },
    {
     "name": "stdout",
     "output_type": "stream",
     "text": [
      "Subject: 5886 tweet 1500\nSubject: 5886 tweet 773\nSubject: 5886 tweet 1058\nSubject: 5886 tweet 9085\nSubject: 5888 tweet 2669\n"
     ]
    },
    {
     "name": "stdout",
     "output_type": "stream",
     "text": [
      "Subject: 5888 tweet 1912\nSubject: 5888 tweet 8642\nSubject: 5888 tweet 324\nSubject: 5888 tweet 4919\nSubject: 5888 tweet 9180\nSubject: 5888 tweet 12227\n"
     ]
    },
    {
     "name": "stdout",
     "output_type": "stream",
     "text": [
      "Subject: 5888 tweet 4522\nSubject: 5888 tweet 2434\nSubject: 5888 tweet 12458\nSubject: 5889 tweet 3382\nSubject: 5889 tweet 8917\n"
     ]
    },
    {
     "name": "stdout",
     "output_type": "stream",
     "text": [
      "Subject: 5889 tweet 1244\nSubject: 5889 tweet 4546\nSubject: 5889 tweet 4272\nSubject: 5889 tweet 6562\nSubject: 5889 tweet 10104\n"
     ]
    },
    {
     "name": "stdout",
     "output_type": "stream",
     "text": [
      "Subject: 5889 tweet 6921\nSubject: 5889 tweet 10920\nSubject: 5889 tweet 7374\nSubject: 5890 tweet 4576\nSubject: 5890 tweet 10482\n"
     ]
    },
    {
     "name": "stdout",
     "output_type": "stream",
     "text": [
      "Subject: 5890 tweet 2410\nSubject: 5890 tweet 10467\nSubject: 5890 tweet 9005\nSubject: 5890 tweet 1610\nSubject: 5890 tweet 1500\nSubject: 5890 tweet 773\n"
     ]
    },
    {
     "name": "stdout",
     "output_type": "stream",
     "text": [
      "Subject: 5890 tweet 1058\nSubject: 5890 tweet 9085\nSubject: 5893 tweet 3382\nSubject: 5893 tweet 8917\nSubject: 5893 tweet 1244\n"
     ]
    },
    {
     "name": "stdout",
     "output_type": "stream",
     "text": [
      "Subject: 5893 tweet 4546\nSubject: 5893 tweet 4272\nSubject: 5893 tweet 6562\nSubject: 5893 tweet 10104\nSubject: 5893 tweet 6921\nSubject: 5893 tweet 10920\n"
     ]
    },
    {
     "name": "stdout",
     "output_type": "stream",
     "text": [
      "Subject: 5893 tweet 7374\nSubject: 5894 tweet 2669\nSubject: 5894 tweet 1912\nSubject: 5894 tweet 8642\n"
     ]
    },
    {
     "name": "stdout",
     "output_type": "stream",
     "text": [
      "Subject: 5894 tweet 324\nSubject: 5894 tweet 4919\nSubject: 5894 tweet 9180\nSubject: 5894 tweet 12227\nSubject: 5894 tweet 4522\nSubject: 5894 tweet 2434\n"
     ]
    },
    {
     "name": "stdout",
     "output_type": "stream",
     "text": [
      "Subject: 5894 tweet 12458\nSubject: 5896 tweet 3382\nSubject: 5896 tweet 8917\nSubject: 5896 tweet 1244\nSubject: 5896 tweet 4546\n"
     ]
    },
    {
     "name": "stdout",
     "output_type": "stream",
     "text": [
      "Subject: 5896 tweet 4272\nSubject: 5896 tweet 6562\nSubject: 5896 tweet 10104\nSubject: 5896 tweet 6921\nSubject: 5896 tweet 10920\nSubject: 5896 tweet 7374\n"
     ]
    },
    {
     "name": "stdout",
     "output_type": "stream",
     "text": [
      "Subject: 5904 tweet 12443\nSubject: 5904 tweet 8620\nSubject: 5904 tweet 3794\nSubject: 5904 tweet 2233\nSubject: 5904 tweet 2588\nSubject: 5904 tweet 9993\n"
     ]
    },
    {
     "name": "stdout",
     "output_type": "stream",
     "text": [
      "Subject: 5904 tweet 807\nSubject: 5904 tweet 7249\nSubject: 5904 tweet 1199\nSubject: 5904 tweet 239\n"
     ]
    },
    {
     "name": "stdout",
     "output_type": "stream",
     "text": [
      "Subject: 5905 tweet 7162\nSubject: 5905 tweet 1743\nSubject: 5905 tweet 3\nSubject: 5905 tweet 1384\nSubject: 5905 tweet 156\nSubject: 5905 tweet 198\n"
     ]
    },
    {
     "name": "stdout",
     "output_type": "stream",
     "text": [
      "Subject: 5905 tweet 8977\nSubject: 5905 tweet 2243\nSubject: 5905 tweet 9452\nSubject: 5905 tweet 8891\nSubject: 5906 tweet 8618\n"
     ]
    },
    {
     "name": "stdout",
     "output_type": "stream",
     "text": [
      "Subject: 5906 tweet 3202\nSubject: 5906 tweet 9926\nSubject: 5906 tweet 9034\nSubject: 5906 tweet 1534\nSubject: 5906 tweet 9721\nSubject: 5906 tweet 9814\n"
     ]
    },
    {
     "name": "stdout",
     "output_type": "stream",
     "text": [
      "Subject: 5906 tweet 10532\nSubject: 5906 tweet 4429\nSubject: 5906 tweet 10131\nSubject: 5907 tweet 7431\nSubject: 5907 tweet 4195\n"
     ]
    },
    {
     "name": "stdout",
     "output_type": "stream",
     "text": [
      "Subject: 5907 tweet 12320\nSubject: 5907 tweet 7295\nSubject: 5907 tweet 4196\nSubject: 5907 tweet 10284\nSubject: 5907 tweet 7296\nSubject: 5907 tweet 8236\n"
     ]
    },
    {
     "name": "stdout",
     "output_type": "stream",
     "text": [
      "Subject: 5907 tweet 1812\nSubject: 5907 tweet 9727\nSubject: 5908 tweet 7\nSubject: 5908 tweet 10203\nSubject: 5908 tweet 9897\n"
     ]
    },
    {
     "name": "stdout",
     "output_type": "stream",
     "text": [
      "Subject: 5908 tweet 10122\nSubject: 5908 tweet 10710\nSubject: 5908 tweet 1949\nSubject: 5908 tweet 10242\nSubject: 5908 tweet 1403\n"
     ]
    },
    {
     "name": "stdout",
     "output_type": "stream",
     "text": [
      "Subject: 5908 tweet 10267\nSubject: 5908 tweet 9789\nSubject: 5909 tweet 9828\nSubject: 5909 tweet 454\n"
     ]
    },
    {
     "name": "stdout",
     "output_type": "stream",
     "text": [
      "Subject: 5909 tweet 4344\nSubject: 5909 tweet 4411\nSubject: 5909 tweet 1857\nSubject: 5909 tweet 7087\nSubject: 5909 tweet 5448\n"
     ]
    },
    {
     "name": "stdout",
     "output_type": "stream",
     "text": [
      "Subject: 5909 tweet 8829\nSubject: 5909 tweet 8856\nSubject: 5909 tweet 9082\nSubject: 5910 tweet 10255\n"
     ]
    },
    {
     "name": "stdout",
     "output_type": "stream",
     "text": [
      "Subject: 5910 tweet 10277\nSubject: 5910 tweet 4337\nSubject: 5910 tweet 3666\nSubject: 5910 tweet 10300\nSubject: 5910 tweet 8949\nSubject: 5910 tweet 9920\n"
     ]
    },
    {
     "name": "stdout",
     "output_type": "stream",
     "text": [
      "Subject: 5910 tweet 9975\nSubject: 5910 tweet 8989\nSubject: 5910 tweet 8986\nSubject: 5914 tweet 10105\nSubject: 5914 tweet 7379\n"
     ]
    },
    {
     "name": "stdout",
     "output_type": "stream",
     "text": [
      "Subject: 5914 tweet 8082\nSubject: 5914 tweet 1734\nSubject: 5914 tweet 5854\nSubject: 5915 tweet 6458\nSubject: 5915 tweet 6456\n"
     ]
    },
    {
     "name": "stdout",
     "output_type": "stream",
     "text": [
      "Subject: 5915 tweet 2284\nSubject: 5915 tweet 7125\nSubject: 5915 tweet 6748\nSubject: 5915 tweet 6277\nSubject: 5915 tweet 6281\nSubject: 5915 tweet 6436\n"
     ]
    },
    {
     "name": "stdout",
     "output_type": "stream",
     "text": [
      "Subject: 5915 tweet 7678\nSubject: 5915 tweet 7243\nSubject: 5919 tweet 7616\nSubject: 5919 tweet 7048\nSubject: 5919 tweet 7275\n"
     ]
    },
    {
     "name": "stdout",
     "output_type": "stream",
     "text": [
      "Subject: 5919 tweet 7242\nSubject: 5919 tweet 3908\nSubject: 5919 tweet 11922\nSubject: 5919 tweet 1527\nSubject: 5919 tweet 1436\nSubject: 5919 tweet 4318\n"
     ]
    },
    {
     "name": "stdout",
     "output_type": "stream",
     "text": [
      "Subject: 5919 tweet 361\nSubject: 5920 tweet 6701\nSubject: 5920 tweet 11144\nSubject: 5920 tweet 1525\nSubject: 5920 tweet 8633\n"
     ]
    },
    {
     "name": "stdout",
     "output_type": "stream",
     "text": [
      "Subject: 5920 tweet 4912\nSubject: 5920 tweet 8328\nSubject: 5920 tweet 3288\nSubject: 5920 tweet 7025\nSubject: 5920 tweet 9093\nSubject: 5920 tweet 6118\n"
     ]
    },
    {
     "name": "stdout",
     "output_type": "stream",
     "text": [
      "Subject: 5923 tweet 12602\nSubject: 5923 tweet 3223\nSubject: 5923 tweet 3791\nSubject: 5923 tweet 2642\nSubject: 5923 tweet 12222\nSubject: 5923 tweet 11854\n"
     ]
    },
    {
     "name": "stdout",
     "output_type": "stream",
     "text": [
      "Subject: 5923 tweet 3424\nSubject: 5923 tweet 3941\nSubject: 5923 tweet 1216\nSubject: 5923 tweet 9242\n"
     ]
    },
    {
     "name": "stdout",
     "output_type": "stream",
     "text": [
      "Subject: 5924 tweet 1025\nSubject: 5924 tweet 12430\nSubject: 5924 tweet 12557\nSubject: 5924 tweet 8597\nSubject: 5924 tweet 5833\nSubject: 5924 tweet 11818\n"
     ]
    },
    {
     "name": "stdout",
     "output_type": "stream",
     "text": [
      "Subject: 5924 tweet 408\nSubject: 5924 tweet 12556\nSubject: 5924 tweet 3628\nSubject: 5924 tweet 3577\n"
     ]
    },
    {
     "name": "stdout",
     "output_type": "stream",
     "text": [
      "Subject: 5926 tweet 4657\nSubject: 5926 tweet 9894\nSubject: 5926 tweet 7622\nSubject: 5926 tweet 7623\nSubject: 5926 tweet 7444\nSubject: 5926 tweet 10477\n"
     ]
    },
    {
     "name": "stdout",
     "output_type": "stream",
     "text": [
      "Subject: 5926 tweet 12249\nSubject: 5926 tweet 7624\nSubject: 5926 tweet 1464\nSubject: 5926 tweet 8607\nSubject: 5928 tweet 4576\n"
     ]
    },
    {
     "name": "stdout",
     "output_type": "stream",
     "text": [
      "Subject: 5928 tweet 10482\nSubject: 5928 tweet 2410\nSubject: 5928 tweet 10467\nSubject: 5928 tweet 9005\nSubject: 5928 tweet 1610\n"
     ]
    },
    {
     "name": "stdout",
     "output_type": "stream",
     "text": [
      "Subject: 5928 tweet 1500\nSubject: 5928 tweet 773\nSubject: 5928 tweet 1058\nSubject: 5928 tweet 9085\n"
     ]
    },
    {
     "name": "stdout",
     "output_type": "stream",
     "text": [
      "Subject: 5930 tweet 7582\nSubject: 5930 tweet 7192\nSubject: 5930 tweet 7049\nSubject: 5930 tweet 25\nSubject: 5930 tweet 3401\nSubject: 5930 tweet 7477\n"
     ]
    },
    {
     "name": "stdout",
     "output_type": "stream",
     "text": [
      "Subject: 5930 tweet 2112\nSubject: 5930 tweet 6722\nSubject: 5930 tweet 11742\nSubject: 5930 tweet 7045\n"
     ]
    },
    {
     "name": "stdout",
     "output_type": "stream",
     "text": [
      "Subject: 5931 tweet 2669\nSubject: 5931 tweet 1912\nSubject: 5931 tweet 8642\nSubject: 5931 tweet 324\nSubject: 5931 tweet 4919\n"
     ]
    },
    {
     "name": "stdout",
     "output_type": "stream",
     "text": [
      "Subject: 5931 tweet 9180\nSubject: 5931 tweet 12227\nSubject: 5931 tweet 4522\nSubject: 5931 tweet 2434\nSubject: 5931 tweet 12458\n"
     ]
    },
    {
     "name": "stdout",
     "output_type": "stream",
     "text": [
      "Subject: 5932 tweet 3382\nSubject: 5932 tweet 8917\nSubject: 5932 tweet 1244\nSubject: 5932 tweet 4546\nSubject: 5932 tweet 4272\nSubject: 5932 tweet 6562\n"
     ]
    },
    {
     "name": "stdout",
     "output_type": "stream",
     "text": [
      "Subject: 5932 tweet 10104\nSubject: 5932 tweet 6921\nSubject: 5932 tweet 10920\nSubject: 5932 tweet 7374\nSubject: 5935 tweet 4576\n"
     ]
    },
    {
     "name": "stdout",
     "output_type": "stream",
     "text": [
      "Subject: 5935 tweet 10482\nSubject: 5935 tweet 2410\nSubject: 5935 tweet 10467\nSubject: 5935 tweet 9005\nSubject: 5935 tweet 1610\nSubject: 5935 tweet 1500\n"
     ]
    },
    {
     "name": "stdout",
     "output_type": "stream",
     "text": [
      "Subject: 5935 tweet 773\nSubject: 5935 tweet 1058\nSubject: 5935 tweet 9085\nSubject: 5937 tweet 2669\n"
     ]
    },
    {
     "name": "stdout",
     "output_type": "stream",
     "text": [
      "Subject: 5937 tweet 1912\nSubject: 5937 tweet 8642\nSubject: 5937 tweet 324\nSubject: 5937 tweet 4919\nSubject: 5937 tweet 9180\n"
     ]
    },
    {
     "name": "stdout",
     "output_type": "stream",
     "text": [
      "Subject: 5937 tweet 12227\nSubject: 5937 tweet 4522\nSubject: 5937 tweet 2434\nSubject: 5937 tweet 12458\n"
     ]
    },
    {
     "name": "stdout",
     "output_type": "stream",
     "text": [
      "Subject: 5938 tweet 3382\nSubject: 5938 tweet 8917\nSubject: 5938 tweet 1244\nSubject: 5938 tweet 4546\nSubject: 5938 tweet 4272\nSubject: 5938 tweet 6562\n"
     ]
    },
    {
     "name": "stdout",
     "output_type": "stream",
     "text": [
      "Subject: 5938 tweet 10104\nSubject: 5938 tweet 6921\nSubject: 5938 tweet 10920\nSubject: 5938 tweet 7374\n"
     ]
    },
    {
     "name": "stdout",
     "output_type": "stream",
     "text": [
      "Subject: 5940 tweet 4576\nSubject: 5940 tweet 10482\nSubject: 5940 tweet 2410\nSubject: 5940 tweet 10467\nSubject: 5940 tweet 9005\n"
     ]
    },
    {
     "name": "stdout",
     "output_type": "stream",
     "text": [
      "Subject: 5940 tweet 1610\nSubject: 5940 tweet 1500\nSubject: 5940 tweet 773\nSubject: 5940 tweet 1058\nSubject: 5940 tweet 9085\n"
     ]
    },
    {
     "name": "stdout",
     "output_type": "stream",
     "text": [
      "Subject: 5942 tweet 2669\nSubject: 5942 tweet 1912\nSubject: 5942 tweet 8642\nSubject: 5942 tweet 324\nSubject: 5942 tweet 4919\n"
     ]
    },
    {
     "name": "stdout",
     "output_type": "stream",
     "text": [
      "Subject: 5942 tweet 9180\nSubject: 5942 tweet 12227\nSubject: 5942 tweet 4522\nSubject: 5942 tweet 2434\nSubject: 5942 tweet 12458\n"
     ]
    },
    {
     "name": "stdout",
     "output_type": "stream",
     "text": [
      "Subject: 5943 tweet 3382\nSubject: 5943 tweet 8917\nSubject: 5943 tweet 1244\nSubject: 5943 tweet 4546\nSubject: 5943 tweet 4272\nSubject: 5943 tweet 6562\n"
     ]
    },
    {
     "name": "stdout",
     "output_type": "stream",
     "text": [
      "Subject: 5943 tweet 10104\nSubject: 5943 tweet 6921\nSubject: 5943 tweet 10920\nSubject: 5943 tweet 7374\nSubject: 5945 tweet 4576\n"
     ]
    },
    {
     "name": "stdout",
     "output_type": "stream",
     "text": [
      "Subject: 5945 tweet 10482\nSubject: 5945 tweet 2410\nSubject: 5945 tweet 10467\nSubject: 5945 tweet 9005\nSubject: 5945 tweet 1610\n"
     ]
    },
    {
     "name": "stdout",
     "output_type": "stream",
     "text": [
      "Subject: 5945 tweet 1500\nSubject: 5945 tweet 773\nSubject: 5945 tweet 1058\nSubject: 5945 tweet 9085\nSubject: 5947 tweet 2669\n"
     ]
    },
    {
     "name": "stdout",
     "output_type": "stream",
     "text": [
      "Subject: 5947 tweet 1912\nSubject: 5947 tweet 8642\nSubject: 5947 tweet 324\nSubject: 5947 tweet 4919\nSubject: 5947 tweet 9180\nSubject: 5947 tweet 12227\n"
     ]
    },
    {
     "name": "stdout",
     "output_type": "stream",
     "text": [
      "Subject: 5947 tweet 4522\nSubject: 5947 tweet 2434\nSubject: 5947 tweet 12458\nSubject: 5948 tweet 3382\nSubject: 5948 tweet 8917\n"
     ]
    },
    {
     "name": "stdout",
     "output_type": "stream",
     "text": [
      "Subject: 5948 tweet 1244\nSubject: 5948 tweet 4546\nSubject: 5948 tweet 4272\nSubject: 5948 tweet 6562\nSubject: 5948 tweet 10104\nSubject: 5948 tweet 6921\n"
     ]
    },
    {
     "name": "stdout",
     "output_type": "stream",
     "text": [
      "Subject: 5948 tweet 10920\nSubject: 5948 tweet 7374\nSubject: 5950 tweet 4576\nSubject: 5950 tweet 10482\nSubject: 5950 tweet 2410\n"
     ]
    },
    {
     "name": "stdout",
     "output_type": "stream",
     "text": [
      "Subject: 5950 tweet 10467\nSubject: 5950 tweet 9005\nSubject: 5950 tweet 1610\nSubject: 5950 tweet 1500\nSubject: 5950 tweet 773\nSubject: 5950 tweet 1058\n"
     ]
    },
    {
     "name": "stdout",
     "output_type": "stream",
     "text": [
      "Subject: 5950 tweet 9085\nSubject: 5952 tweet 2669\nSubject: 5952 tweet 1912\nSubject: 5952 tweet 8642\nSubject: 5952 tweet 324\n"
     ]
    },
    {
     "name": "stdout",
     "output_type": "stream",
     "text": [
      "Subject: 5952 tweet 4919\nSubject: 5952 tweet 9180\nSubject: 5952 tweet 12227\nSubject: 5952 tweet 4522\nSubject: 5952 tweet 2434\nSubject: 5952 tweet 12458\n"
     ]
    },
    {
     "name": "stdout",
     "output_type": "stream",
     "text": [
      "Subject: 5953 tweet 3382\nSubject: 5953 tweet 8917\nSubject: 5953 tweet 1244\nSubject: 5953 tweet 4546\nSubject: 5953 tweet 4272\nSubject: 5953 tweet 6562\n"
     ]
    },
    {
     "name": "stdout",
     "output_type": "stream",
     "text": [
      "Subject: 5953 tweet 10104\nSubject: 5953 tweet 6921\nSubject: 5953 tweet 10920\nSubject: 5953 tweet 7374\n"
     ]
    },
    {
     "name": "stdout",
     "output_type": "stream",
     "text": [
      "Subject: 5955 tweet 4576\nSubject: 5955 tweet 10482\nSubject: 5955 tweet 2410\nSubject: 5955 tweet 10467\nSubject: 5955 tweet 9005\nSubject: 5955 tweet 1610\n"
     ]
    },
    {
     "name": "stdout",
     "output_type": "stream",
     "text": [
      "Subject: 5955 tweet 1500\nSubject: 5955 tweet 773\nSubject: 5955 tweet 1058\nSubject: 5955 tweet 9085\n"
     ]
    },
    {
     "name": "stdout",
     "output_type": "stream",
     "text": [
      "Subject: 5957 tweet 4576\nSubject: 5957 tweet 10482\nSubject: 5957 tweet 2410\nSubject: 5957 tweet 10467\nSubject: 5957 tweet 9005\nSubject: 5957 tweet 1610\n"
     ]
    },
    {
     "name": "stdout",
     "output_type": "stream",
     "text": [
      "Subject: 5957 tweet 1500\nSubject: 5957 tweet 773\nSubject: 5957 tweet 1058\nSubject: 5957 tweet 9085\n"
     ]
    },
    {
     "name": "stdout",
     "output_type": "stream",
     "text": [
      "Subject: 5959 tweet 2669\nSubject: 5959 tweet 1912\nSubject: 5959 tweet 8642\nSubject: 5959 tweet 324\nSubject: 5959 tweet 4919\nSubject: 5959 tweet 9180\n"
     ]
    },
    {
     "name": "stdout",
     "output_type": "stream",
     "text": [
      "Subject: 5959 tweet 12227\nSubject: 5959 tweet 4522\nSubject: 5959 tweet 2434\nSubject: 5959 tweet 12458\nSubject: 5960 tweet 2669\n"
     ]
    },
    {
     "name": "stdout",
     "output_type": "stream",
     "text": [
      "Subject: 5960 tweet 1912\nSubject: 5960 tweet 8642\nSubject: 5960 tweet 324\nSubject: 5960 tweet 4919\nSubject: 5960 tweet 9180\nSubject: 5960 tweet 12227\n"
     ]
    },
    {
     "name": "stdout",
     "output_type": "stream",
     "text": [
      "Subject: 5960 tweet 4522\nSubject: 5960 tweet 2434\nSubject: 5960 tweet 12458\nSubject: 5961 tweet 3382\nSubject: 5961 tweet 8917\n"
     ]
    },
    {
     "name": "stdout",
     "output_type": "stream",
     "text": [
      "Subject: 5961 tweet 1244\nSubject: 5961 tweet 4546\nSubject: 5961 tweet 4272\nSubject: 5961 tweet 6562\nSubject: 5961 tweet 10104\nSubject: 5961 tweet 6921\n"
     ]
    },
    {
     "name": "stdout",
     "output_type": "stream",
     "text": [
      "Subject: 5961 tweet 10920\nSubject: 5961 tweet 7374\nSubject: 5963 tweet 3382\nSubject: 5963 tweet 8917\n"
     ]
    },
    {
     "name": "stdout",
     "output_type": "stream",
     "text": [
      "Subject: 5963 tweet 1244\nSubject: 5963 tweet 4546\nSubject: 5963 tweet 4272\nSubject: 5963 tweet 6562\nSubject: 5963 tweet 10104\nSubject: 5963 tweet 6921\n"
     ]
    },
    {
     "name": "stdout",
     "output_type": "stream",
     "text": [
      "Subject: 5963 tweet 10920\nSubject: 5963 tweet 7374\nSubject: 5965 tweet 4576\nSubject: 5965 tweet 10482\nSubject: 5965 tweet 2410\n"
     ]
    },
    {
     "name": "stdout",
     "output_type": "stream",
     "text": [
      "Subject: 5965 tweet 10467\nSubject: 5965 tweet 9005\nSubject: 5965 tweet 1610\nSubject: 5965 tweet 1500\nSubject: 5965 tweet 773\nSubject: 5965 tweet 1058\n"
     ]
    },
    {
     "name": "stdout",
     "output_type": "stream",
     "text": [
      "Subject: 5965 tweet 9085\nSubject: 5967 tweet 2669\nSubject: 5967 tweet 1912\nSubject: 5967 tweet 8642\nSubject: 5967 tweet 324\n"
     ]
    },
    {
     "name": "stdout",
     "output_type": "stream",
     "text": [
      "Subject: 5967 tweet 4919\nSubject: 5967 tweet 9180\nSubject: 5967 tweet 12227\nSubject: 5967 tweet 4522\nSubject: 5967 tweet 2434\nSubject: 5967 tweet 12458\n"
     ]
    },
    {
     "name": "stdout",
     "output_type": "stream",
     "text": [
      "Subject: 5968 tweet 3382\nSubject: 5968 tweet 8917\nSubject: 5968 tweet 1244\nSubject: 5968 tweet 4546\nSubject: 5968 tweet 4272\nSubject: 5968 tweet 6562\n"
     ]
    },
    {
     "name": "stdout",
     "output_type": "stream",
     "text": [
      "Subject: 5968 tweet 10104\nSubject: 5968 tweet 6921\nSubject: 5968 tweet 10920\nSubject: 5968 tweet 7374\nSubject: 5974 tweet 8478\n"
     ]
    },
    {
     "name": "stdout",
     "output_type": "stream",
     "text": [
      "Subject: 5974 tweet 6044\nSubject: 5974 tweet 9083\nSubject: 5974 tweet 1678\nSubject: 5974 tweet 6471\nSubject: 5974 tweet 885\n"
     ]
    },
    {
     "name": "stdout",
     "output_type": "stream",
     "text": [
      "Subject: 5974 tweet 6394\nSubject: 5974 tweet 9084\nSubject: 5974 tweet 11987\nSubject: 5974 tweet 6571\nSubject: 5976 tweet 12443\n"
     ]
    },
    {
     "name": "stdout",
     "output_type": "stream",
     "text": [
      "Subject: 5976 tweet 8620\nSubject: 5976 tweet 3794\nSubject: 5976 tweet 2233\nSubject: 5976 tweet 2588\nSubject: 5976 tweet 9993\n"
     ]
    },
    {
     "name": "stdout",
     "output_type": "stream",
     "text": [
      "Subject: 5976 tweet 807\nSubject: 5976 tweet 7249\nSubject: 5976 tweet 1199\nSubject: 5976 tweet 239\n"
     ]
    },
    {
     "name": "stdout",
     "output_type": "stream",
     "text": [
      "Subject: 5977 tweet 7162\nSubject: 5977 tweet 1743\nSubject: 5977 tweet 3\nSubject: 5977 tweet 1384\nSubject: 5977 tweet 156\n"
     ]
    },
    {
     "name": "stdout",
     "output_type": "stream",
     "text": [
      "Subject: 5977 tweet 198\nSubject: 5977 tweet 8977\nSubject: 5977 tweet 2243\nSubject: 5977 tweet 9452\nSubject: 5977 tweet 8891\n"
     ]
    },
    {
     "name": "stdout",
     "output_type": "stream",
     "text": [
      "Subject: 5978 tweet 8618\nSubject: 5978 tweet 3202\nSubject: 5978 tweet 9926\nSubject: 5978 tweet 9034\nSubject: 5978 tweet 1534\nSubject: 5978 tweet 9721\n"
     ]
    },
    {
     "name": "stdout",
     "output_type": "stream",
     "text": [
      "Subject: 5978 tweet 9814\nSubject: 5978 tweet 10532\nSubject: 5978 tweet 4429\nSubject: 5978 tweet 10131\nSubject: 5979 tweet 7431\n"
     ]
    },
    {
     "name": "stdout",
     "output_type": "stream",
     "text": [
      "Subject: 5979 tweet 4195\nSubject: 5979 tweet 12320\nSubject: 5979 tweet 7295\nSubject: 5979 tweet 4196\nSubject: 5979 tweet 10284\nSubject: 5979 tweet 7296\n"
     ]
    },
    {
     "name": "stdout",
     "output_type": "stream",
     "text": [
      "Subject: 5979 tweet 8236\nSubject: 5979 tweet 1812\nSubject: 5979 tweet 9727\nSubject: 5980 tweet 7\nSubject: 5980 tweet 10203\n"
     ]
    },
    {
     "name": "stdout",
     "output_type": "stream",
     "text": [
      "Subject: 5980 tweet 9897\nSubject: 5980 tweet 10122\nSubject: 5980 tweet 10710\nSubject: 5980 tweet 1949\nSubject: 5980 tweet 10242\n"
     ]
    },
    {
     "name": "stdout",
     "output_type": "stream",
     "text": [
      "Subject: 5980 tweet 1403\nSubject: 5980 tweet 10267\nSubject: 5980 tweet 9789\nSubject: 5981 tweet 9828\nSubject: 5981 tweet 454\n"
     ]
    },
    {
     "name": "stdout",
     "output_type": "stream",
     "text": [
      "Subject: 5981 tweet 4344\nSubject: 5981 tweet 4411\nSubject: 5981 tweet 1857\nSubject: 5981 tweet 7087\nSubject: 5981 tweet 5448\nSubject: 5981 tweet 8829\n"
     ]
    },
    {
     "name": "stdout",
     "output_type": "stream",
     "text": [
      "Subject: 5981 tweet 8856\nSubject: 5981 tweet 9082\nSubject: 5982 tweet 10255\nSubject: 5982 tweet 10277\nSubject: 5982 tweet 4337\n"
     ]
    },
    {
     "name": "stdout",
     "output_type": "stream",
     "text": [
      "Subject: 5982 tweet 3666\nSubject: 5982 tweet 10300\nSubject: 5982 tweet 8949\nSubject: 5982 tweet 9920\nSubject: 5982 tweet 9975\n"
     ]
    },
    {
     "name": "stdout",
     "output_type": "stream",
     "text": [
      "Subject: 5982 tweet 8989\nSubject: 5982 tweet 8986\nSubject: 5986 tweet 10105\nSubject: 5986 tweet 7379\nSubject: 5986 tweet 8082\n"
     ]
    },
    {
     "name": "stdout",
     "output_type": "stream",
     "text": [
      "Subject: 5986 tweet 1734\nSubject: 5986 tweet 5854\nSubject: 5987 tweet 6458\nSubject: 5987 tweet 6456\n"
     ]
    },
    {
     "name": "stdout",
     "output_type": "stream",
     "text": [
      "Subject: 5987 tweet 2284\nSubject: 5987 tweet 7125\nSubject: 5987 tweet 6748\nSubject: 5987 tweet 6277\nSubject: 5987 tweet 6281\nSubject: 5987 tweet 6436\n"
     ]
    },
    {
     "name": "stdout",
     "output_type": "stream",
     "text": [
      "Subject: 5987 tweet 7678\nSubject: 5987 tweet 7243\nSubject: 5988 tweet 4576\nSubject: 5988 tweet 10482\nSubject: 5988 tweet 2410\n"
     ]
    },
    {
     "name": "stdout",
     "output_type": "stream",
     "text": [
      "Subject: 5988 tweet 10467\nSubject: 5988 tweet 9005\nSubject: 5988 tweet 1610\nSubject: 5988 tweet 1500\nSubject: 5988 tweet 773\n"
     ]
    },
    {
     "name": "stdout",
     "output_type": "stream",
     "text": [
      "Subject: 5988 tweet 1058\nSubject: 5988 tweet 9085\nSubject: 5991 tweet 2669\nSubject: 5991 tweet 1912\nSubject: 5991 tweet 8642\n"
     ]
    },
    {
     "name": "stdout",
     "output_type": "stream",
     "text": [
      "Subject: 5991 tweet 324\nSubject: 5991 tweet 4919\nSubject: 5991 tweet 9180\nSubject: 5991 tweet 12227\nSubject: 5991 tweet 4522\nSubject: 5991 tweet 2434\n"
     ]
    },
    {
     "name": "stdout",
     "output_type": "stream",
     "text": [
      "Subject: 5991 tweet 12458\nSubject: 5992 tweet 3382\nSubject: 5992 tweet 8917\nSubject: 5992 tweet 1244\nSubject: 5992 tweet 4546\n"
     ]
    },
    {
     "name": "stdout",
     "output_type": "stream",
     "text": [
      "Subject: 5992 tweet 4272\nSubject: 5992 tweet 6562\nSubject: 5992 tweet 10104\nSubject: 5992 tweet 6921\nSubject: 5992 tweet 10920\nSubject: 5992 tweet 7374\n"
     ]
    },
    {
     "name": "stdout",
     "output_type": "stream",
     "text": [
      "Subject: 5994 tweet 4576\nSubject: 5994 tweet 10482\nSubject: 5994 tweet 2410\nSubject: 5994 tweet 10467\nSubject: 5994 tweet 9005\nSubject: 5994 tweet 1610\n"
     ]
    },
    {
     "name": "stdout",
     "output_type": "stream",
     "text": [
      "Subject: 5994 tweet 1500\nSubject: 5994 tweet 773\nSubject: 5994 tweet 1058\nSubject: 5994 tweet 9085\nSubject: 5996 tweet 2669\n"
     ]
    },
    {
     "name": "stdout",
     "output_type": "stream",
     "text": [
      "Subject: 5996 tweet 1912\nSubject: 5996 tweet 8642\nSubject: 5996 tweet 324\nSubject: 5996 tweet 4919\nSubject: 5996 tweet 9180\nSubject: 5996 tweet 12227\n"
     ]
    },
    {
     "name": "stdout",
     "output_type": "stream",
     "text": [
      "Subject: 5996 tweet 4522\nSubject: 5996 tweet 2434\nSubject: 5996 tweet 12458\nSubject: 5997 tweet 3382\nSubject: 5997 tweet 8917\n"
     ]
    },
    {
     "name": "stdout",
     "output_type": "stream",
     "text": [
      "Subject: 5997 tweet 1244\nSubject: 5997 tweet 4546\nSubject: 5997 tweet 4272\nSubject: 5997 tweet 6562\nSubject: 5997 tweet 10104\nSubject: 5997 tweet 6921\n"
     ]
    },
    {
     "name": "stdout",
     "output_type": "stream",
     "text": [
      "Subject: 5997 tweet 10920\nSubject: 5997 tweet 7374\nSubject: 6003 tweet 8478\nSubject: 6003 tweet 6044\nSubject: 6003 tweet 9083\n"
     ]
    },
    {
     "name": "stdout",
     "output_type": "stream",
     "text": [
      "Subject: 6003 tweet 1678\nSubject: 6003 tweet 6471\nSubject: 6003 tweet 885\nSubject: 6003 tweet 6394\nSubject: 6003 tweet 9084\nSubject: 6003 tweet 11987\n"
     ]
    },
    {
     "name": "stdout",
     "output_type": "stream",
     "text": [
      "Subject: 6003 tweet 6571\nSubject: 6005 tweet 12443\nSubject: 6005 tweet 8620\nSubject: 6005 tweet 3794\nSubject: 6005 tweet 2233\n"
     ]
    },
    {
     "name": "stdout",
     "output_type": "stream",
     "text": [
      "Subject: 6005 tweet 2588\nSubject: 6005 tweet 9993\nSubject: 6005 tweet 807\nSubject: 6005 tweet 7249\n"
     ]
    },
    {
     "name": "stdout",
     "output_type": "stream",
     "text": [
      "Subject: 6005 tweet 1199\nSubject: 6005 tweet 239\nSubject: 6006 tweet 7162\nSubject: 6006 tweet 1743\nSubject: 6006 tweet 3\n"
     ]
    },
    {
     "name": "stdout",
     "output_type": "stream",
     "text": [
      "Subject: 6006 tweet 1384\nSubject: 6006 tweet 156\nSubject: 6006 tweet 198\nSubject: 6006 tweet 8977\nSubject: 6006 tweet 2243\nSubject: 6006 tweet 9452\n"
     ]
    },
    {
     "name": "stdout",
     "output_type": "stream",
     "text": [
      "Subject: 6006 tweet 8891\nSubject: 6007 tweet 8618\nSubject: 6007 tweet 3202\nSubject: 6007 tweet 9926\nSubject: 6007 tweet 9034\n"
     ]
    },
    {
     "name": "stdout",
     "output_type": "stream",
     "text": [
      "Subject: 6007 tweet 1534\nSubject: 6007 tweet 9721\nSubject: 6007 tweet 9814\nSubject: 6007 tweet 10532\nSubject: 6007 tweet 4429\n"
     ]
    },
    {
     "name": "stdout",
     "output_type": "stream",
     "text": [
      "Subject: 6007 tweet 10131\nSubject: 6008 tweet 7431\nSubject: 6008 tweet 4195\nSubject: 6008 tweet 12320\nSubject: 6008 tweet 7295\n"
     ]
    },
    {
     "name": "stdout",
     "output_type": "stream",
     "text": [
      "Subject: 6008 tweet 4196\nSubject: 6008 tweet 10284\nSubject: 6008 tweet 7296\nSubject: 6008 tweet 8236\nSubject: 6008 tweet 1812\nSubject: 6008 tweet 9727\n"
     ]
    },
    {
     "name": "stdout",
     "output_type": "stream",
     "text": [
      "Subject: 6009 tweet 7\nSubject: 6009 tweet 10203\nSubject: 6009 tweet 9897\nSubject: 6009 tweet 10122\nSubject: 6009 tweet 10710\nSubject: 6009 tweet 1949\n"
     ]
    },
    {
     "name": "stdout",
     "output_type": "stream",
     "text": [
      "Subject: 6009 tweet 10242\nSubject: 6009 tweet 1403\nSubject: 6009 tweet 10267\nSubject: 6009 tweet 9789\nSubject: 6010 tweet 9828\n"
     ]
    },
    {
     "name": "stdout",
     "output_type": "stream",
     "text": [
      "Subject: 6010 tweet 454\nSubject: 6010 tweet 4344\nSubject: 6010 tweet 4411\nSubject: 6010 tweet 1857\nSubject: 6010 tweet 7087\nSubject: 6010 tweet 5448\n"
     ]
    },
    {
     "name": "stdout",
     "output_type": "stream",
     "text": [
      "Subject: 6010 tweet 8829\nSubject: 6010 tweet 8856\nSubject: 6010 tweet 9082\nSubject: 6011 tweet 10255\nSubject: 6011 tweet 10277\n"
     ]
    },
    {
     "name": "stdout",
     "output_type": "stream",
     "text": [
      "Subject: 6011 tweet 4337\nSubject: 6011 tweet 3666\nSubject: 6011 tweet 10300\nSubject: 6011 tweet 8949\nSubject: 6011 tweet 9920\nSubject: 6011 tweet 9975\n"
     ]
    },
    {
     "name": "stdout",
     "output_type": "stream",
     "text": [
      "Subject: 6011 tweet 8989\nSubject: 6011 tweet 8986\nSubject: 6015 tweet 10105\nSubject: 6015 tweet 7379\n"
     ]
    },
    {
     "name": "stdout",
     "output_type": "stream",
     "text": [
      "Subject: 6015 tweet 8082\nSubject: 6015 tweet 1734\nSubject: 6015 tweet 5854\nSubject: 6016 tweet 6458\nSubject: 6016 tweet 6456\n"
     ]
    },
    {
     "name": "stdout",
     "output_type": "stream",
     "text": [
      "Subject: 6016 tweet 2284\nSubject: 6016 tweet 7125\nSubject: 6016 tweet 6748\nSubject: 6016 tweet 6277\nSubject: 6016 tweet 6281\nSubject: 6016 tweet 6436\n"
     ]
    },
    {
     "name": "stdout",
     "output_type": "stream",
     "text": [
      "Subject: 6016 tweet 7678\nSubject: 6016 tweet 7243\nSubject: 6019 tweet 4576\nSubject: 6019 tweet 10482\nSubject: 6019 tweet 2410\n"
     ]
    },
    {
     "name": "stdout",
     "output_type": "stream",
     "text": [
      "Subject: 6019 tweet 10467\nSubject: 6019 tweet 9005\nSubject: 6019 tweet 1610\nSubject: 6019 tweet 1500\nSubject: 6019 tweet 773\n"
     ]
    },
    {
     "name": "stdout",
     "output_type": "stream",
     "text": [
      "Subject: 6019 tweet 1058\nSubject: 6019 tweet 9085\nSubject: 6021 tweet 2669\nSubject: 6021 tweet 1912\nSubject: 6021 tweet 8642\n"
     ]
    },
    {
     "name": "stdout",
     "output_type": "stream",
     "text": [
      "Subject: 6021 tweet 324\nSubject: 6021 tweet 4919\nSubject: 6021 tweet 9180\nSubject: 6021 tweet 12227\nSubject: 6021 tweet 4522\nSubject: 6021 tweet 2434\n"
     ]
    },
    {
     "name": "stdout",
     "output_type": "stream",
     "text": [
      "Subject: 6021 tweet 12458\nSubject: 6022 tweet 3382\nSubject: 6022 tweet 8917\nSubject: 6022 tweet 1244\n"
     ]
    },
    {
     "name": "stdout",
     "output_type": "stream",
     "text": [
      "Subject: 6022 tweet 4546\nSubject: 6022 tweet 4272\nSubject: 6022 tweet 6562\nSubject: 6022 tweet 10104\nSubject: 6022 tweet 6921\nSubject: 6022 tweet 10920\n"
     ]
    },
    {
     "name": "stdout",
     "output_type": "stream",
     "text": [
      "Subject: 6022 tweet 7374\nSubject: 6028 tweet 8478\nSubject: 6028 tweet 6044\nSubject: 6028 tweet 9083\nSubject: 6028 tweet 1678\n"
     ]
    },
    {
     "name": "stdout",
     "output_type": "stream",
     "text": [
      "Subject: 6028 tweet 6471\nSubject: 6028 tweet 885\nSubject: 6028 tweet 6394\nSubject: 6028 tweet 9084\nSubject: 6028 tweet 11987\n"
     ]
    },
    {
     "name": "stdout",
     "output_type": "stream",
     "text": [
      "Subject: 6028 tweet 6571\nSubject: 6030 tweet 12443\nSubject: 6030 tweet 8620\nSubject: 6030 tweet 3794\nSubject: 6030 tweet 2233\n"
     ]
    },
    {
     "name": "stdout",
     "output_type": "stream",
     "text": [
      "Subject: 6030 tweet 2588\nSubject: 6030 tweet 9993\nSubject: 6030 tweet 807\nSubject: 6030 tweet 7249\nSubject: 6030 tweet 1199\n"
     ]
    },
    {
     "name": "stdout",
     "output_type": "stream",
     "text": [
      "Subject: 6030 tweet 239\nSubject: 6031 tweet 7162\nSubject: 6031 tweet 1743\nSubject: 6031 tweet 3\nSubject: 6031 tweet 1384\n"
     ]
    },
    {
     "name": "stdout",
     "output_type": "stream",
     "text": [
      "Subject: 6031 tweet 156\nSubject: 6031 tweet 198\nSubject: 6031 tweet 8977\nSubject: 6031 tweet 2243\nSubject: 6031 tweet 9452\nSubject: 6031 tweet 8891\n"
     ]
    },
    {
     "name": "stdout",
     "output_type": "stream",
     "text": [
      "Subject: 6032 tweet 8618\nSubject: 6032 tweet 3202\nSubject: 6032 tweet 9926\nSubject: 6032 tweet 9034\nSubject: 6032 tweet 1534\n"
     ]
    },
    {
     "name": "stdout",
     "output_type": "stream",
     "text": [
      "Subject: 6032 tweet 9721\nSubject: 6032 tweet 9814\nSubject: 6032 tweet 10532\nSubject: 6032 tweet 4429\nSubject: 6032 tweet 10131\n"
     ]
    },
    {
     "name": "stdout",
     "output_type": "stream",
     "text": [
      "Subject: 6033 tweet 7431\nSubject: 6033 tweet 4195\nSubject: 6033 tweet 12320\nSubject: 6033 tweet 7295\nSubject: 6033 tweet 4196\n"
     ]
    },
    {
     "name": "stdout",
     "output_type": "stream",
     "text": [
      "Subject: 6033 tweet 10284\nSubject: 6033 tweet 7296\nSubject: 6033 tweet 8236\nSubject: 6033 tweet 1812\nSubject: 6033 tweet 9727\n"
     ]
    },
    {
     "name": "stdout",
     "output_type": "stream",
     "text": [
      "Subject: 6034 tweet 7\nSubject: 6034 tweet 10203\nSubject: 6034 tweet 9897\nSubject: 6034 tweet 10122\nSubject: 6034 tweet 10710\n"
     ]
    },
    {
     "name": "stdout",
     "output_type": "stream",
     "text": [
      "Subject: 6034 tweet 1949\nSubject: 6034 tweet 10242\nSubject: 6034 tweet 1403\nSubject: 6034 tweet 10267\nSubject: 6034 tweet 9789\n"
     ]
    },
    {
     "name": "stdout",
     "output_type": "stream",
     "text": [
      "Subject: 6035 tweet 9828\nSubject: 6035 tweet 454\nSubject: 6035 tweet 4344\nSubject: 6035 tweet 4411\nSubject: 6035 tweet 1857\n"
     ]
    },
    {
     "name": "stdout",
     "output_type": "stream",
     "text": [
      "Subject: 6035 tweet 7087\nSubject: 6035 tweet 5448\nSubject: 6035 tweet 8829\nSubject: 6035 tweet 8856\nSubject: 6035 tweet 9082\n"
     ]
    },
    {
     "name": "stdout",
     "output_type": "stream",
     "text": [
      "Subject: 6036 tweet 10255\nSubject: 6036 tweet 10277\nSubject: 6036 tweet 4337\nSubject: 6036 tweet 3666\nSubject: 6036 tweet 10300\nSubject: 6036 tweet 8949\n"
     ]
    },
    {
     "name": "stdout",
     "output_type": "stream",
     "text": [
      "Subject: 6036 tweet 9920\nSubject: 6036 tweet 9975\nSubject: 6036 tweet 8989\nSubject: 6036 tweet 8986\nSubject: 6040 tweet 10105\n"
     ]
    },
    {
     "name": "stdout",
     "output_type": "stream",
     "text": [
      "Subject: 6040 tweet 7379\nSubject: 6040 tweet 8082\nSubject: 6040 tweet 1734\nSubject: 6040 tweet 5854\nSubject: 6041 tweet 6458\n"
     ]
    },
    {
     "name": "stdout",
     "output_type": "stream",
     "text": [
      "Subject: 6041 tweet 6456\nSubject: 6041 tweet 2284\nSubject: 6041 tweet 7125\nSubject: 6041 tweet 6748\nSubject: 6041 tweet 6277\nSubject: 6041 tweet 6281\n"
     ]
    },
    {
     "name": "stdout",
     "output_type": "stream",
     "text": [
      "Subject: 6041 tweet 6436\nSubject: 6041 tweet 7678\nSubject: 6041 tweet 7243\nSubject: 6045 tweet 7616\nSubject: 6045 tweet 7048\n"
     ]
    },
    {
     "name": "stdout",
     "output_type": "stream",
     "text": [
      "Subject: 6045 tweet 7275\nSubject: 6045 tweet 7242\nSubject: 6045 tweet 3908\nSubject: 6045 tweet 11922\nSubject: 6045 tweet 1527\nSubject: 6045 tweet 1436\n"
     ]
    },
    {
     "name": "stdout",
     "output_type": "stream",
     "text": [
      "Subject: 6045 tweet 4318\nSubject: 6045 tweet 361\nSubject: 6046 tweet 6701\nSubject: 6046 tweet 11144\n"
     ]
    },
    {
     "name": "stdout",
     "output_type": "stream",
     "text": [
      "Subject: 6046 tweet 1525\nSubject: 6046 tweet 8633\nSubject: 6046 tweet 4912\nSubject: 6046 tweet 8328\nSubject: 6046 tweet 3288\nSubject: 6046 tweet 7025\n"
     ]
    },
    {
     "name": "stdout",
     "output_type": "stream",
     "text": [
      "Subject: 6046 tweet 9093\nSubject: 6046 tweet 6118\nSubject: 6049 tweet 12602\nSubject: 6049 tweet 3223\nSubject: 6049 tweet 3791\n"
     ]
    },
    {
     "name": "stdout",
     "output_type": "stream",
     "text": [
      "Subject: 6049 tweet 2642\nSubject: 6049 tweet 12222\nSubject: 6049 tweet 11854\nSubject: 6049 tweet 3424\nSubject: 6049 tweet 3941\n"
     ]
    },
    {
     "name": "stdout",
     "output_type": "stream",
     "text": [
      "Subject: 6049 tweet 1216\nSubject: 6049 tweet 9242\nSubject: 6050 tweet 1025\nSubject: 6050 tweet 12430\n"
     ]
    },
    {
     "name": "stdout",
     "output_type": "stream",
     "text": [
      "Subject: 6050 tweet 12557\nSubject: 6050 tweet 8597\nSubject: 6050 tweet 5833\nSubject: 6050 tweet 11818\nSubject: 6050 tweet 408\n"
     ]
    },
    {
     "name": "stdout",
     "output_type": "stream",
     "text": [
      "Subject: 6050 tweet 12556\nSubject: 6050 tweet 3628\nSubject: 6050 tweet 3577\n"
     ]
    },
    {
     "name": "stdout",
     "output_type": "stream",
     "text": [
      "Subject: 6052 tweet 4657\nSubject: 6052 tweet 9894\nSubject: 6052 tweet 7622\nSubject: 6052 tweet 7623\nSubject: 6052 tweet 7444\n"
     ]
    },
    {
     "name": "stdout",
     "output_type": "stream",
     "text": [
      "Subject: 6052 tweet 10477\nSubject: 6052 tweet 12249\nSubject: 6052 tweet 7624\nSubject: 6052 tweet 1464\nSubject: 6052 tweet 8607\n"
     ]
    },
    {
     "name": "stdout",
     "output_type": "stream",
     "text": [
      "Subject: 6054 tweet 7582\nSubject: 6054 tweet 7192\nSubject: 6054 tweet 7049\nSubject: 6054 tweet 25\nSubject: 6054 tweet 3401\nSubject: 6054 tweet 7477\n"
     ]
    },
    {
     "name": "stdout",
     "output_type": "stream",
     "text": [
      "Subject: 6054 tweet 2112\nSubject: 6054 tweet 6722\nSubject: 6054 tweet 11742\nSubject: 6054 tweet 7045\nSubject: 6056 tweet 9892\n"
     ]
    },
    {
     "name": "stdout",
     "output_type": "stream",
     "text": [
      "Subject: 6056 tweet 12434\nSubject: 6056 tweet 99\nSubject: 6056 tweet 95\nSubject: 6056 tweet 4739\nSubject: 6056 tweet 8593\nSubject: 6056 tweet 7499\n"
     ]
    },
    {
     "name": "stdout",
     "output_type": "stream",
     "text": [
      "Subject: 6056 tweet 8915\nSubject: 6056 tweet 9880\nSubject: 6056 tweet 10398\nSubject: 6057 tweet 4278\nSubject: 6057 tweet 9802\n"
     ]
    },
    {
     "name": "stdout",
     "output_type": "stream",
     "text": [
      "Subject: 6057 tweet 2245\nSubject: 6057 tweet 11435\nSubject: 6057 tweet 7643\nSubject: 6057 tweet 4930\nSubject: 6057 tweet 3234\nSubject: 6057 tweet 3466\n"
     ]
    },
    {
     "name": "stdout",
     "output_type": "stream",
     "text": [
      "Subject: 6057 tweet 4662\nSubject: 6057 tweet 9859\nSubject: 6058 tweet 10704\nSubject: 6058 tweet 1349\nSubject: 6058 tweet 1446\n"
     ]
    },
    {
     "name": "stdout",
     "output_type": "stream",
     "text": [
      "Subject: 6058 tweet 1406\nSubject: 6058 tweet 3534\nSubject: 6059 tweet 7476\nSubject: 6059 tweet 115\nSubject: 6059 tweet 7289\n"
     ]
    },
    {
     "name": "stdout",
     "output_type": "stream",
     "text": [
      "Subject: 6059 tweet 6739\nSubject: 6059 tweet 946\nSubject: 6059 tweet 109\nSubject: 6059 tweet 4272\nSubject: 6059 tweet 8917\n"
     ]
    },
    {
     "name": "stdout",
     "output_type": "stream",
     "text": [
      "Subject: 6059 tweet 1244\nSubject: 6059 tweet 83\nSubject: 6060 tweet 10454\nSubject: 6060 tweet 765\nSubject: 6060 tweet 984\n"
     ]
    },
    {
     "name": "stdout",
     "output_type": "stream",
     "text": [
      "Subject: 6060 tweet 1114\nSubject: 6060 tweet 827\nSubject: 6060 tweet 7138\nSubject: 6060 tweet 1046\nSubject: 6060 tweet 3108\n"
     ]
    },
    {
     "name": "stdout",
     "output_type": "stream",
     "text": [
      "Subject: 6060 tweet 6524\nSubject: 6060 tweet 5618\nSubject: 6064 tweet 5283\nSubject: 6064 tweet 8207\nSubject: 6064 tweet 12595\n"
     ]
    },
    {
     "name": "stdout",
     "output_type": "stream",
     "text": [
      "Subject: 6064 tweet 8249\nSubject: 6064 tweet 8410\nSubject: 6064 tweet 7957\nSubject: 6064 tweet 3226\nSubject: 6064 tweet 1813\nSubject: 6064 tweet 10976\n"
     ]
    },
    {
     "name": "stdout",
     "output_type": "stream",
     "text": [
      "Subject: 6064 tweet 10979\nSubject: 6066 tweet 2789\nSubject: 6066 tweet 9298\nSubject: 6066 tweet 446\nSubject: 6066 tweet 2470\n"
     ]
    },
    {
     "name": "stdout",
     "output_type": "stream",
     "text": [
      "Subject: 6066 tweet 2683\nSubject: 6066 tweet 1907\nSubject: 6066 tweet 1924\nSubject: 6066 tweet 2518\nSubject: 6066 tweet 2099\nSubject: 6066 tweet 2404\n"
     ]
    },
    {
     "name": "stdout",
     "output_type": "stream",
     "text": [
      "Subject: 6069 tweet 10315\nSubject: 6069 tweet 10286\nSubject: 6069 tweet 10278\nSubject: 6069 tweet 9356\nSubject: 6069 tweet 4675\nSubject: 6069 tweet 3509\n"
     ]
    },
    {
     "name": "stdout",
     "output_type": "stream",
     "text": [
      "Subject: 6069 tweet 1102\nSubject: 6069 tweet 11977\nSubject: 6069 tweet 12351\nSubject: 6069 tweet 2544\nSubject: 6083 tweet 361\n"
     ]
    },
    {
     "name": "stdout",
     "output_type": "stream",
     "text": [
      "Subject: 6083 tweet 4592\nSubject: 6083 tweet 6063\nSubject: 6083 tweet 1205\nSubject: 6083 tweet 6378\nSubject: 6083 tweet 11896\nSubject: 6083 tweet 7119\n"
     ]
    },
    {
     "name": "stdout",
     "output_type": "stream",
     "text": [
      "Subject: 6083 tweet 6083\nSubject: 6083 tweet 9278\nSubject: 6083 tweet 1230\nSubject: 6084 tweet 1722\nSubject: 6084 tweet 1721\n"
     ]
    },
    {
     "name": "stdout",
     "output_type": "stream",
     "text": [
      "Subject: 6084 tweet 9157\nSubject: 6084 tweet 8453\nSubject: 6084 tweet 9163\nSubject: 6084 tweet 850\nSubject: 6084 tweet 9334\nSubject: 6084 tweet 10951\n"
     ]
    },
    {
     "name": "stdout",
     "output_type": "stream",
     "text": [
      "Subject: 6084 tweet 9103\nSubject: 6084 tweet 8248\nSubject: 6091 tweet 4900\nSubject: 6091 tweet 4697\nSubject: 6091 tweet 4881\n"
     ]
    },
    {
     "name": "stdout",
     "output_type": "stream",
     "text": [
      "Subject: 6091 tweet 3271\nSubject: 6091 tweet 1774\nSubject: 6091 tweet 2962\nSubject: 6091 tweet 2769\nSubject: 6092 tweet 3265\n"
     ]
    },
    {
     "name": "stdout",
     "output_type": "stream",
     "text": [
      "Subject: 6092 tweet 9355\nSubject: 6092 tweet 5940\nSubject: 6092 tweet 10543\nSubject: 6092 tweet 8730\nSubject: 6092 tweet 9267\nSubject: 6092 tweet 4420\n"
     ]
    },
    {
     "name": "stdout",
     "output_type": "stream",
     "text": [
      "Subject: 6092 tweet 7581\nSubject: 6092 tweet 9735\nSubject: 6092 tweet 104\nSubject: 6098 tweet 4576\nSubject: 6098 tweet 10482\n"
     ]
    },
    {
     "name": "stdout",
     "output_type": "stream",
     "text": [
      "Subject: 6098 tweet 2410\nSubject: 6098 tweet 10467\nSubject: 6098 tweet 9005\nSubject: 6098 tweet 1610\nSubject: 6098 tweet 1500\nSubject: 6098 tweet 773\n"
     ]
    },
    {
     "name": "stdout",
     "output_type": "stream",
     "text": [
      "Subject: 6098 tweet 1058\nSubject: 6098 tweet 9085\nSubject: 6100 tweet 2669\nSubject: 6100 tweet 1912\nSubject: 6100 tweet 8642\n"
     ]
    },
    {
     "name": "stdout",
     "output_type": "stream",
     "text": [
      "Subject: 6100 tweet 324\nSubject: 6100 tweet 4919\nSubject: 6100 tweet 9180\nSubject: 6100 tweet 12227\nSubject: 6100 tweet 4522\n"
     ]
    },
    {
     "name": "stdout",
     "output_type": "stream",
     "text": [
      "Subject: 6100 tweet 2434\nSubject: 6100 tweet 12458\nSubject: 6101 tweet 3382\nSubject: 6101 tweet 8917\nSubject: 6101 tweet 1244\n"
     ]
    },
    {
     "name": "stdout",
     "output_type": "stream",
     "text": [
      "Subject: 6101 tweet 4546\nSubject: 6101 tweet 4272\nSubject: 6101 tweet 6562\nSubject: 6101 tweet 10104\nSubject: 6101 tweet 6921\nSubject: 6101 tweet 10920\n"
     ]
    },
    {
     "name": "stdout",
     "output_type": "stream",
     "text": [
      "Subject: 6101 tweet 7374\nSubject: 6107 tweet 8478\nSubject: 6107 tweet 6044\nSubject: 6107 tweet 9083\n"
     ]
    },
    {
     "name": "stdout",
     "output_type": "stream",
     "text": [
      "Subject: 6107 tweet 1678\nSubject: 6107 tweet 6471\nSubject: 6107 tweet 885\nSubject: 6107 tweet 6394\nSubject: 6107 tweet 9084\nSubject: 6107 tweet 11987\n"
     ]
    },
    {
     "name": "stdout",
     "output_type": "stream",
     "text": [
      "Subject: 6107 tweet 6571\nSubject: 6109 tweet 12443\nSubject: 6109 tweet 8620\nSubject: 6109 tweet 3794\nSubject: 6109 tweet 2233\n"
     ]
    },
    {
     "name": "stdout",
     "output_type": "stream",
     "text": [
      "Subject: 6109 tweet 2588\nSubject: 6109 tweet 9993\nSubject: 6109 tweet 807\nSubject: 6109 tweet 7249\nSubject: 6109 tweet 1199\nSubject: 6109 tweet 239\n"
     ]
    },
    {
     "name": "stdout",
     "output_type": "stream",
     "text": [
      "Subject: 6110 tweet 7162\nSubject: 6110 tweet 1743\nSubject: 6110 tweet 3\nSubject: 6110 tweet 1384\nSubject: 6110 tweet 156\n"
     ]
    },
    {
     "name": "stdout",
     "output_type": "stream",
     "text": [
      "Subject: 6110 tweet 198\nSubject: 6110 tweet 8977\nSubject: 6110 tweet 2243\nSubject: 6110 tweet 9452\nSubject: 6110 tweet 8891\n"
     ]
    },
    {
     "name": "stdout",
     "output_type": "stream",
     "text": [
      "Subject: 6111 tweet 8618\nSubject: 6111 tweet 3202\nSubject: 6111 tweet 9926\nSubject: 6111 tweet 9034\nSubject: 6111 tweet 1534\nSubject: 6111 tweet 9721\n"
     ]
    },
    {
     "name": "stdout",
     "output_type": "stream",
     "text": [
      "Subject: 6111 tweet 9814\nSubject: 6111 tweet 10532\nSubject: 6111 tweet 4429\nSubject: 6111 tweet 10131\n"
     ]
    },
    {
     "name": "stdout",
     "output_type": "stream",
     "text": [
      "Subject: 6112 tweet 7431\nSubject: 6112 tweet 4195\nSubject: 6112 tweet 12320\nSubject: 6112 tweet 7295\nSubject: 6112 tweet 4196\nSubject: 6112 tweet 10284\n"
     ]
    },
    {
     "name": "stdout",
     "output_type": "stream",
     "text": [
      "Subject: 6112 tweet 7296\nSubject: 6112 tweet 8236\nSubject: 6112 tweet 1812\nSubject: 6112 tweet 9727\nSubject: 6113 tweet 7\n"
     ]
    },
    {
     "name": "stdout",
     "output_type": "stream",
     "text": [
      "Subject: 6113 tweet 10203\nSubject: 6113 tweet 9897\nSubject: 6113 tweet 10122\nSubject: 6113 tweet 10710\nSubject: 6113 tweet 1949\nSubject: 6113 tweet 10242\n"
     ]
    },
    {
     "name": "stdout",
     "output_type": "stream",
     "text": [
      "Subject: 6113 tweet 1403\nSubject: 6113 tweet 10267\nSubject: 6113 tweet 9789\nSubject: 6114 tweet 9828\n"
     ]
    },
    {
     "name": "stdout",
     "output_type": "stream",
     "text": [
      "Subject: 6114 tweet 454\nSubject: 6114 tweet 4344\nSubject: 6114 tweet 4411\nSubject: 6114 tweet 1857\nSubject: 6114 tweet 7087\nSubject: 6114 tweet 5448\n"
     ]
    },
    {
     "name": "stdout",
     "output_type": "stream",
     "text": [
      "Subject: 6114 tweet 8829\nSubject: 6114 tweet 8856\nSubject: 6114 tweet 9082\nSubject: 6115 tweet 10255\n"
     ]
    },
    {
     "name": "stdout",
     "output_type": "stream",
     "text": [
      "Subject: 6115 tweet 10277\nSubject: 6115 tweet 4337\nSubject: 6115 tweet 3666\nSubject: 6115 tweet 10300\nSubject: 6115 tweet 8949\nSubject: 6115 tweet 9920\n"
     ]
    },
    {
     "name": "stdout",
     "output_type": "stream",
     "text": [
      "Subject: 6115 tweet 9975\nSubject: 6115 tweet 8989\nSubject: 6115 tweet 8986\nSubject: 6119 tweet 10105\nSubject: 6119 tweet 7379\n"
     ]
    },
    {
     "name": "stdout",
     "output_type": "stream",
     "text": [
      "Subject: 6119 tweet 8082\nSubject: 6119 tweet 1734\nSubject: 6119 tweet 5854\nSubject: 6120 tweet 6458\nSubject: 6120 tweet 6456\n"
     ]
    },
    {
     "name": "stdout",
     "output_type": "stream",
     "text": [
      "Subject: 6120 tweet 2284\nSubject: 6120 tweet 7125\nSubject: 6120 tweet 6748\nSubject: 6120 tweet 6277\nSubject: 6120 tweet 6281\n"
     ]
    },
    {
     "name": "stdout",
     "output_type": "stream",
     "text": [
      "Subject: 6120 tweet 6436\nSubject: 6120 tweet 7678\nSubject: 6120 tweet 7243\nSubject: 6124 tweet 7616\n"
     ]
    },
    {
     "name": "stdout",
     "output_type": "stream",
     "text": [
      "Subject: 6124 tweet 7048\nSubject: 6124 tweet 7275\nSubject: 6124 tweet 7242\nSubject: 6124 tweet 3908\n"
     ]
    },
    {
     "name": "stdout",
     "output_type": "stream",
     "text": [
      "Subject: 6124 tweet 11922\nSubject: 6124 tweet 1527\nSubject: 6124 tweet 1436\nSubject: 6124 tweet 4318\nSubject: 6124 tweet 361\n"
     ]
    },
    {
     "name": "stdout",
     "output_type": "stream",
     "text": [
      "Subject: 6125 tweet 6701\nSubject: 6125 tweet 11144\nSubject: 6125 tweet 1525\nSubject: 6125 tweet 8633\nSubject: 6125 tweet 4912\nSubject: 6125 tweet 8328\n"
     ]
    },
    {
     "name": "stdout",
     "output_type": "stream",
     "text": [
      "Subject: 6125 tweet 3288\nSubject: 6125 tweet 7025\nSubject: 6125 tweet 9093\nSubject: 6125 tweet 6118\nSubject: 6128 tweet 12602\n"
     ]
    },
    {
     "name": "stdout",
     "output_type": "stream",
     "text": [
      "Subject: 6128 tweet 3223\nSubject: 6128 tweet 3791\nSubject: 6128 tweet 2642\nSubject: 6128 tweet 12222\nSubject: 6128 tweet 11854\n"
     ]
    },
    {
     "name": "stdout",
     "output_type": "stream",
     "text": [
      "Subject: 6128 tweet 3424\nSubject: 6128 tweet 3941\nSubject: 6128 tweet 1216\nSubject: 6128 tweet 9242\n"
     ]
    },
    {
     "name": "stdout",
     "output_type": "stream",
     "text": [
      "Subject: 6129 tweet 1025\nSubject: 6129 tweet 12430\nSubject: 6129 tweet 12557\nSubject: 6129 tweet 8597\nSubject: 6129 tweet 5833\nSubject: 6129 tweet 11818\n"
     ]
    },
    {
     "name": "stdout",
     "output_type": "stream",
     "text": [
      "Subject: 6129 tweet 408\nSubject: 6129 tweet 12556\nSubject: 6129 tweet 3628\nSubject: 6129 tweet 3577\n"
     ]
    },
    {
     "name": "stdout",
     "output_type": "stream",
     "text": [
      "Subject: 6131 tweet 4657\nSubject: 6131 tweet 9894\nSubject: 6131 tweet 7622\nSubject: 6131 tweet 7623\nSubject: 6131 tweet 7444\nSubject: 6131 tweet 10477\n"
     ]
    },
    {
     "name": "stdout",
     "output_type": "stream",
     "text": [
      "Subject: 6131 tweet 12249\nSubject: 6131 tweet 7624\nSubject: 6131 tweet 1464\nSubject: 6131 tweet 8607\nSubject: 6134 tweet 9892\n"
     ]
    },
    {
     "name": "stdout",
     "output_type": "stream",
     "text": [
      "Subject: 6134 tweet 12434\nSubject: 6134 tweet 99\nSubject: 6134 tweet 95\nSubject: 6134 tweet 4739\nSubject: 6134 tweet 8593\nSubject: 6134 tweet 7499\n"
     ]
    },
    {
     "name": "stdout",
     "output_type": "stream",
     "text": [
      "Subject: 6134 tweet 8915\nSubject: 6134 tweet 9880\nSubject: 6134 tweet 10398\nSubject: 6135 tweet 4278\nSubject: 6135 tweet 9802\n"
     ]
    },
    {
     "name": "stdout",
     "output_type": "stream",
     "text": [
      "Subject: 6135 tweet 2245\nSubject: 6135 tweet 11435\nSubject: 6135 tweet 7643\nSubject: 6135 tweet 4930\nSubject: 6135 tweet 3234\nSubject: 6135 tweet 3466\n"
     ]
    },
    {
     "name": "stdout",
     "output_type": "stream",
     "text": [
      "Subject: 6135 tweet 4662\nSubject: 6135 tweet 9859\nSubject: 6136 tweet 10704\nSubject: 6136 tweet 1349\nSubject: 6136 tweet 1446\n"
     ]
    },
    {
     "name": "stdout",
     "output_type": "stream",
     "text": [
      "Subject: 6136 tweet 1406\nSubject: 6136 tweet 3534\nSubject: 6137 tweet 7476\nSubject: 6137 tweet 115\nSubject: 6137 tweet 7289\n"
     ]
    },
    {
     "name": "stdout",
     "output_type": "stream",
     "text": [
      "Subject: 6137 tweet 6739\nSubject: 6137 tweet 946\nSubject: 6137 tweet 109\nSubject: 6137 tweet 4272\nSubject: 6137 tweet 8917\nSubject: 6137 tweet 1244\n"
     ]
    },
    {
     "name": "stdout",
     "output_type": "stream",
     "text": [
      "Subject: 6137 tweet 83\nSubject: 6138 tweet 10454\nSubject: 6138 tweet 765\nSubject: 6138 tweet 984\nSubject: 6138 tweet 1114\n"
     ]
    },
    {
     "name": "stdout",
     "output_type": "stream",
     "text": [
      "Subject: 6138 tweet 827\nSubject: 6138 tweet 7138\nSubject: 6138 tweet 1046\nSubject: 6138 tweet 3108\nSubject: 6138 tweet 6524\nSubject: 6138 tweet 5618\n"
     ]
    },
    {
     "name": "stdout",
     "output_type": "stream",
     "text": [
      "Subject: 6142 tweet 5283\nSubject: 6142 tweet 8207\nSubject: 6142 tweet 12595\nSubject: 6142 tweet 8249\nSubject: 6142 tweet 8410\nSubject: 6142 tweet 7957\n"
     ]
    },
    {
     "name": "stdout",
     "output_type": "stream",
     "text": [
      "Subject: 6142 tweet 3226\nSubject: 6142 tweet 1813\nSubject: 6142 tweet 10976\nSubject: 6142 tweet 10979\nSubject: 6144 tweet 2789\n"
     ]
    },
    {
     "name": "stdout",
     "output_type": "stream",
     "text": [
      "Subject: 6144 tweet 9298\nSubject: 6144 tweet 446\nSubject: 6144 tweet 2470\nSubject: 6144 tweet 2683\nSubject: 6144 tweet 1907\nSubject: 6144 tweet 1924\n"
     ]
    },
    {
     "name": "stdout",
     "output_type": "stream",
     "text": [
      "Subject: 6144 tweet 2518\nSubject: 6144 tweet 2099\nSubject: 6144 tweet 2404\nSubject: 6147 tweet 10315\nSubject: 6147 tweet 10286\n"
     ]
    },
    {
     "name": "stdout",
     "output_type": "stream",
     "text": [
      "Subject: 6147 tweet 10278\nSubject: 6147 tweet 9356\nSubject: 6147 tweet 4675\nSubject: 6147 tweet 3509\nSubject: 6147 tweet 1102\nSubject: 6147 tweet 11977\n"
     ]
    },
    {
     "name": "stdout",
     "output_type": "stream",
     "text": [
      "Subject: 6147 tweet 12351\nSubject: 6147 tweet 2544\nSubject: 6157 tweet 4576\nSubject: 6157 tweet 10482\n"
     ]
    },
    {
     "name": "stdout",
     "output_type": "stream",
     "text": [
      "Subject: 6157 tweet 2410\nSubject: 6157 tweet 10467\nSubject: 6157 tweet 9005\nSubject: 6157 tweet 1610\nSubject: 6157 tweet 1500\nSubject: 6157 tweet 773\n"
     ]
    },
    {
     "name": "stdout",
     "output_type": "stream",
     "text": [
      "Subject: 6157 tweet 1058\nSubject: 6157 tweet 9085\nSubject: 6159 tweet 2669\nSubject: 6159 tweet 1912\nSubject: 6159 tweet 8642\n"
     ]
    },
    {
     "name": "stdout",
     "output_type": "stream",
     "text": [
      "Subject: 6159 tweet 324\nSubject: 6159 tweet 4919\nSubject: 6159 tweet 9180\nSubject: 6159 tweet 12227\nSubject: 6159 tweet 4522\nSubject: 6159 tweet 2434\n"
     ]
    },
    {
     "name": "stdout",
     "output_type": "stream",
     "text": [
      "Subject: 6159 tweet 12458\nSubject: 6160 tweet 3382\nSubject: 6160 tweet 8917\nSubject: 6160 tweet 1244\nSubject: 6160 tweet 4546\n"
     ]
    },
    {
     "name": "stdout",
     "output_type": "stream",
     "text": [
      "Subject: 6160 tweet 4272\nSubject: 6160 tweet 6562\nSubject: 6160 tweet 10104\nSubject: 6160 tweet 6921\nSubject: 6160 tweet 10920\nSubject: 6160 tweet 7374\n"
     ]
    }
   ],
   "source": [
    "postgresManager.commit_changes()\n",
    "for i in range(0, len(subjects)):\n",
    "    similar = similarDocumentsHelper.get_similar_tweets(subjects[i][0], 0.5)[0:10]\n",
    "    for simTweet in similar:\n",
    "        print(\"Subject: {0} tweet {1}\".format(subjects[i][0],[*simTweet.keys()][0]))\n",
    "        postgresManager.insert_with_args(\n",
    "            \"insert into politicalai_ict.related_tweets(id,tweet_id,subject_id)\"\n",
    "            \" values(DEFAULT ,%s,%s)\",\n",
    "            ([*simTweet.keys()][0], subjects[i][0]))\n",
    "        postgresManager.commit_changes()\n",
    "postgresManager.commit_changes()"
   ]
  },
  {
   "cell_type": "code",
   "execution_count": null,
   "metadata": {},
   "outputs": [],
   "source": []
  }
 ],
 "metadata": {
  "kernelspec": {
   "display_name": "Python 2",
   "language": "python",
   "name": "python2"
  },
  "language_info": {
   "codemirror_mode": {
    "name": "ipython",
    "version": 2
   },
   "file_extension": ".py",
   "mimetype": "text/x-python",
   "name": "python",
   "nbconvert_exporter": "python",
   "pygments_lexer": "ipython2",
   "version": "2.7.6"
  }
 },
 "nbformat": 4,
 "nbformat_minor": 0
}
