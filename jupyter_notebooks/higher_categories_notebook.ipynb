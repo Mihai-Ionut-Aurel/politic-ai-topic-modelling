{
 "cells": [
  {
   "cell_type": "code",
   "execution_count": 15,
   "metadata": {},
   "outputs": [],
   "source": [
    "from utility.postgres_manager import *\n",
    "from utility.document_streaming import *\n",
    "postgresManager = PostgresManager()\n",
    "documentStreaming = PostgresStreaming()\n"
   ]
  },
  {
   "cell_type": "code",
   "execution_count": 16,
   "metadata": {
    "collapsed": true
   },
   "outputs": [],
   "source": [
    "import csv\n",
    "\n",
    "categories_meta = []\n",
    "categories_keywords = {}\n",
    "with open('./utility/files/categories_keywords.csv') as csvfile:\n",
    "    readCSV = csv.reader(csvfile, delimiter=',')\n",
    "    next(readCSV, None)\n",
    "    for row in readCSV:\n",
    "        categories_keywords[row[0]] = []\n",
    "with open('./utility/files/categories_keywords.csv') as csvfile:\n",
    "    readCSV = csv.reader(csvfile, delimiter=',')\n",
    "    next(readCSV, None)       \n",
    "    for row in readCSV:\n",
    "        categories_keywords[row[0]].append(row[2])\n"
   ]
  },
  {
   "cell_type": "code",
   "execution_count": 17,
   "metadata": {},
   "outputs": [],
   "source": [
    "for key, value in categories_keywords.items():\n",
    "    meta = {'id':key, 'text':documentStreaming.tokenize(documentStreaming.process_document(value))}\n",
    "    categories_meta.append(meta)\n"
   ]
  },
  {
   "cell_type": "code",
   "execution_count": 18,
   "metadata": {},
   "outputs": [],
   "source": [
    "from flask_app.utility.documents_gensim import *\n",
    "import numpy as np\n",
    "corpus_path = \"./gensim_data/updated_subjects/politic-ai-corpus.mm\"\n",
    "dictionary_path = corpus_path + \".dict\"\n",
    "dictionary = gensim.corpora.Dictionary.load(dictionary_path)\n",
    "corpus = gensim.corpora.MmCorpus(\"./gensim_data/dossier_corpus.mm\")"
   ]
  },
  {
   "cell_type": "code",
   "execution_count": 19,
   "metadata": {},
   "outputs": [],
   "source": [
    "categories_corpus = []\n",
    "for key, value in categories_keywords.items():\n",
    "    categories_meta[len(categories_corpus)] = key\n",
    "    categories_corpus.append(dictionary.doc2bow(value))\n"
   ]
  },
  {
   "cell_type": "code",
   "execution_count": 20,
   "metadata": {},
   "outputs": [],
   "source": [
    "gensim.corpora.MmCorpus.serialize(\"./gensim_data/categories_corpus.mm\", categories_corpus)\n",
    "categories_corpus = gensim.corpora.MmCorpus(\"./gensim_data/categories_corpus.mm\")"
   ]
  },
  {
   "cell_type": "code",
   "execution_count": 21,
   "metadata": {},
   "outputs": [],
   "source": [
    "tfidf = TfidfModel(categories_corpus, id2word=dictionary)\n",
    "corpus_tfidf = tfidf[categories_corpus]\n",
    "index = gensim.similarities.MatrixSimilarity(tfidf[categories_corpus])"
   ]
  },
  {
   "cell_type": "code",
   "execution_count": 22,
   "metadata": {},
   "outputs": [],
   "source": [
    "td = tfidf[corpus[0]]\n",
    "similar = index[td]"
   ]
  },
  {
   "cell_type": "code",
   "execution_count": 27,
   "metadata": {},
   "outputs": [],
   "source": [
    "r = np.argsort(similar)[::-1]"
   ]
  },
  {
   "cell_type": "code",
   "execution_count": 28,
   "metadata": {},
   "outputs": [
    {
     "data": {
      "text/plain": [
       "array([11,  2,  7,  5, 18, 12, 17,  4,  1, 10,  6,  8,  3,  0, 15, 13,  9,\n       16, 14], dtype=int64)"
      ]
     },
     "execution_count": 28,
     "metadata": {},
     "output_type": "execute_result"
    }
   ],
   "source": [
    "r"
   ]
  },
  {
   "cell_type": "code",
   "execution_count": 35,
   "metadata": {},
   "outputs": [
    {
     "data": {
      "text/plain": [
       "0.17693743"
      ]
     },
     "execution_count": 35,
     "metadata": {},
     "output_type": "execute_result"
    }
   ],
   "source": [
    "similar[7]"
   ]
  },
  {
   "cell_type": "code",
   "execution_count": null,
   "metadata": {},
   "outputs": [],
   "source": []
  }
 ],
 "metadata": {
  "kernelspec": {
   "display_name": "Python 2",
   "language": "python",
   "name": "python2"
  },
  "language_info": {
   "codemirror_mode": {
    "name": "ipython",
    "version": 2
   },
   "file_extension": ".py",
   "mimetype": "text/x-python",
   "name": "python",
   "nbconvert_exporter": "python",
   "pygments_lexer": "ipython2",
   "version": "2.7.6"
  }
 },
 "nbformat": 4,
 "nbformat_minor": 0
}
