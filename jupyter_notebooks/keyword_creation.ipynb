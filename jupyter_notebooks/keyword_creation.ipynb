{
 "cells": [
  {
   "cell_type": "code",
   "execution_count": 1,
   "metadata": {
    "collapsed": true
   },
   "outputs": [
    {
     "name": "stderr",
     "output_type": "stream",
     "text": [
      "D:\\Programe\\Anaconda3\\envs\\MachineLearning\\lib\\site-packages\\gensim\\utils.py:1197: UserWarning: detected Windows; aliasing chunkize to chunkize_serial\n  warnings.warn(\"detected Windows; aliasing chunkize to chunkize_serial\")\n"
     ]
    },
    {
     "name": "stdout",
     "output_type": "stream",
     "text": [
      "connecting to PostgreSQL database...\nconnection established\nPostgreSQL 10.3 on x86_64-pc-linux-gnu, compiled by gcc (GCC) 4.8.3 20140911 (Red Hat 4.8.3-9), 64-bit\n"
     ]
    }
   ],
   "source": [
    "import numpy as np\n",
    "from gensim.models import LsiModel\n",
    "from gensim.models import TfidfModel\n",
    "from gensim.similarities import MatrixSimilarity\n",
    "from sklearn.metrics.pairwise import cosine_similarity\n",
    "from utility.postgres_manager import *\n",
    "import gensim\n",
    "from ml_classes.mm_with_meta import *\n",
    "corpus_path = \"./gensim_data/updated_subjects/politic-ai-corpus.mm\"\n",
    "trained_path = \"./gensim_data/updated_subjects/trained/politic-ai-trained.tr\"\n",
    "n_topics = 500\n",
    "n_clusters = 100\n",
    "\n",
    "postgresManager = PostgresManager()"
   ]
  },
  {
   "cell_type": "code",
   "execution_count": 2,
   "metadata": {},
   "outputs": [
    {
     "name": "stdout",
     "output_type": "stream",
     "text": [
      "MmCorpus(1054 documents, 23876 features, 526706 non-zero entries)\n"
     ]
    }
   ],
   "source": [
    "dictionary = gensim.corpora.Dictionary.load(corpus_path+\".dict\")\n",
    "corpus = MmCorpusMeta(corpus_path, id2word=dictionary, metadata=True)\n",
    "print(corpus)\n"
   ]
  },
  {
   "cell_type": "code",
   "execution_count": 3,
   "metadata": {},
   "outputs": [],
   "source": [
    "tfidf = TfidfModel(corpus, id2word=dictionary)"
   ]
  },
  {
   "cell_type": "code",
   "execution_count": 4,
   "metadata": {},
   "outputs": [],
   "source": [
    "corpus_tfidf = tfidf[corpus]"
   ]
  },
  {
   "cell_type": "code",
   "execution_count": 20,
   "metadata": {},
   "outputs": [],
   "source": [
    "from operator import itemgetter\n",
    "\n",
    "def getTopKeywordsId(tfidf, doc, topn):\n",
    "    keywords = tfidf[doc]              \n",
    "    keywords.sort(key=itemgetter(1), reverse=True)\n",
    "    return keywords[:topn]\n"
   ]
  },
  {
   "cell_type": "code",
   "execution_count": 28,
   "metadata": {},
   "outputs": [],
   "source": [
    "def insertKeywordsIntoDatabase(postgresManager,subject_id,keywordsIds,dictionary):\n",
    "    for keywordId in keywordsIds:\n",
    "        word = dictionary[keywordId[0]]\n",
    "        postgresManager.insert_with_args(\n",
    "            \"insert into politicalai_ict.keyword(id,subject_id,keyword)\"\n",
    "            \" values(DEFAULT ,%s,%s)\",\n",
    "            (subject_id, word))"
   ]
  },
  {
   "cell_type": "code",
   "execution_count": 33,
   "metadata": {
    "collapsed": true
   },
   "outputs": [],
   "source": [
    "postgresManager.commit_changes()\n",
    "for id,doc in corpus.iter_doc():\n",
    "    keywords = getTopKeywordsId(tfidf,corpus[id],10)\n",
    "    insertKeywordsIntoDatabase(postgresManager,corpus.doc_id_to_postgres_id[id],keywords,dictionary)\n",
    "postgresManager.commit_changes()"
   ]
  },
  {
   "cell_type": "code",
   "execution_count": 17,
   "metadata": {},
   "outputs": [
    {
     "data": {
      "text/plain": [
       "'verkiezingen'"
      ]
     },
     "execution_count": 17,
     "metadata": {},
     "output_type": "execute_result"
    }
   ],
   "source": [
    "getTopKeywordsId(tfidf,corpus[0],10)\n",
    "dictionary[638]"
   ]
  },
  {
   "cell_type": "code",
   "execution_count": 30,
   "metadata": {
    "collapsed": true
   },
   "outputs": [],
   "source": [
    "postgresManager.commit_changes()"
   ]
  },
  {
   "cell_type": "code",
   "execution_count": 31,
   "metadata": {},
   "outputs": [],
   "source": [
    "keywords = getTopKeywordsId(tfidf,corpus[0],10)\n",
    "insertKeywordsIntoDatabase(postgresManager,corpus.doc_id_to_postgres_id[0],keywords,dictionary)"
   ]
  },
  {
   "cell_type": "code",
   "execution_count": 32,
   "metadata": {},
   "outputs": [],
   "source": [
    "postgresManager.commit_changes()"
   ]
  },
  {
   "cell_type": "code",
   "execution_count": null,
   "metadata": {},
   "outputs": [],
   "source": []
  }
 ],
 "metadata": {
  "kernelspec": {
   "display_name": "Python 2",
   "language": "python",
   "name": "python2"
  },
  "language_info": {
   "codemirror_mode": {
    "name": "ipython",
    "version": 2
   },
   "file_extension": ".py",
   "mimetype": "text/x-python",
   "name": "python",
   "nbconvert_exporter": "python",
   "pygments_lexer": "ipython2",
   "version": "2.7.6"
  }
 },
 "nbformat": 4,
 "nbformat_minor": 0
}
