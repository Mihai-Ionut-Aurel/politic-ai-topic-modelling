{
 "cells": [
  {
   "cell_type": "code",
   "execution_count": 31,
   "metadata": {
    "collapsed": true
   },
   "outputs": [],
   "source": [
    "from utility.postgres_manager import *\n",
    "postgresManager = PostgresManager()"
   ]
  },
  {
   "cell_type": "code",
   "execution_count": 32,
   "metadata": {},
   "outputs": [],
   "source": [
    "from flask_app.utility.documents_gensim import *\n",
    "import numpy as np\n",
    "corpus_path = \"./gensim_data/updated_subjects/politic-ai-corpus.mm\"\n",
    "dictionary_path = corpus_path + \".dict\"\n",
    "dictionary = gensim.corpora.Dictionary.load(dictionary_path)\n",
    "corpus = MmCorpusMeta(corpus_path, id2word=dictionary, metadata=True)"
   ]
  },
  {
   "cell_type": "code",
   "execution_count": 33,
   "metadata": {},
   "outputs": [],
   "source": [
    "dossiers_subjects = postgresManager.select(\n",
    "    \"SELECT dossier_id,subject_id FROM politicalai_ict.subject_to_dossier\")\n"
   ]
  },
  {
   "cell_type": "code",
   "execution_count": 34,
   "metadata": {},
   "outputs": [],
   "source": [
    "dossier_map = {value[0]: [] for value in dossiers_subjects}\n",
    "for value in dossiers_subjects:\n",
    "    dossier_map[value[0]].append(value[1])"
   ]
  },
  {
   "cell_type": "code",
   "execution_count": 35,
   "metadata": {
    "collapsed": true
   },
   "outputs": [],
   "source": [
    "def expand_doc2bow(vec1, vec2):\n",
    "    index1 = 0\n",
    "    index2 = 0\n",
    "    if len(vec1) == 0:\n",
    "        vec1 = vec2\n",
    "        return vec1\n",
    "    while index1 < len(vec1) and index2 < len(vec2):\n",
    "        if vec1[index1][0] == vec2[index2][0]:\n",
    "            vec1[index1] = (vec1[index1][0], vec1[index1][1] + vec2[index2][1])\n",
    "            index1 += 1\n",
    "            index2 += 1\n",
    "        else:\n",
    "            vec1.append(vec2[index2])\n",
    "            index2 += 1\n",
    "    return vec1\n",
    "\n",
    "dossier_corpus = []\n",
    "dossier_meta = {}\n",
    "for key, value in dossier_map.items():\n",
    "    composed_doc = []\n",
    "    dossier_meta[len(dossier_corpus)] = key\n",
    "    for doc in value:\n",
    "        if doc in corpus.postgres_id_to_doc_id.keys():\n",
    "            composed_doc = expand_doc2bow(composed_doc, corpus[corpus.postgres_id_to_doc_id[doc]])\n",
    "    dossier_corpus.append(composed_doc)\n"
   ]
  },
  {
   "cell_type": "code",
   "execution_count": 36,
   "metadata": {
    "collapsed": true
   },
   "outputs": [],
   "source": [
    "gensim.corpora.MmCorpus.serialize(\"./gensim_data/dossier_corpus.mm\", dossier_corpus)"
   ]
  },
  {
   "cell_type": "code",
   "execution_count": 37,
   "metadata": {},
   "outputs": [],
   "source": [
    "corpus = gensim.corpora.MmCorpus(\"./gensim_data/dossier_corpus.mm\")"
   ]
  },
  {
   "cell_type": "code",
   "execution_count": 38,
   "metadata": {
    "collapsed": true
   },
   "outputs": [
    {
     "name": "stderr",
     "output_type": "stream",
     "text": [
      "WARNING:gensim.similarities.docsim:scanning corpus to determine the number of features (consider setting `num_features` explicitly)\n"
     ]
    },
    {
     "name": "stderr",
     "output_type": "stream",
     "text": [
      "WARNING:gensim.similarities.docsim:scanning corpus to determine the number of features (consider setting `num_features` explicitly)\n"
     ]
    }
   ],
   "source": [
    "import gensim\n",
    "from sklearn.metrics.pairwise import cosine_similarity\n",
    "tfidf = TfidfModel(corpus, id2word=dictionary)\n",
    "corpus_tfidf = tfidf[corpus]\n",
    "index = gensim.similarities.MatrixSimilarity(tfidf[corpus])\n",
    "sims = index[corpus_tfidf]\n",
    "sims = {'politicai': {}}\n",
    "n_topics = 100\n",
    "lsi = LsiModel(corpus_tfidf, id2word=dictionary, num_topics=n_topics)\n",
    "lsi_index = gensim.similarities.MatrixSimilarity(lsi[corpus_tfidf])\n",
    "sims['politicai']['LSI'] = np.array([lsi_index[lsi[corpus_tfidf[i]]]\n",
    "                                     for i in range(len(corpus))])\n"
   ]
  },
  {
   "cell_type": "code",
   "execution_count": 39,
   "metadata": {},
   "outputs": [
    {
     "name": "stdout",
     "output_type": "stream",
     "text": [
      "[  0 114  31 231 140 118 170   1 181 191 128 235  45  23 111 105 204 173\n 136 206]\n"
     ]
    }
   ],
   "source": [
    "def most_similar(i, X_sims, topn=None):\n",
    "    \"\"\"return the indices of the topn most similar documents with document i\n",
    "    given the similarity matrix X_sims\"\"\"\n",
    "\n",
    "    r = np.argsort(X_sims[i])[::-1]\n",
    "    if r is None:\n",
    "        return r\n",
    "    else:\n",
    "        return r[:topn]\n",
    "\n",
    "#LSI\n",
    "print(most_similar(0, sims['politicai']['LSI'], 20))\n",
    "\n"
   ]
  },
  {
   "cell_type": "code",
   "execution_count": 40,
   "metadata": {
    "collapsed": true
   },
   "outputs": [],
   "source": [
    "postgresManager.commit_changes()\n",
    "for i in range(0, len(corpus)):\n",
    "    similar = most_similar(i, sims['politicai']['LSI'], 20)\n",
    "    left_dossier_id = dossier_meta[i]\n",
    "    for similar_id in similar:\n",
    "        right_dossier_id = dossier_meta[similar_id]\n",
    "        if right_dossier_id != left_dossier_id:\n",
    "            postgresManager.insert_with_args(\n",
    "                \"insert into politicalai_ict.related_dossiers(id,left_dossier_id,right_dossier_id)\"\n",
    "                \" values(DEFAULT ,%s,%s)\",\n",
    "                (left_dossier_id, right_dossier_id))\n",
    "postgresManager.commit_changes()"
   ]
  },
  {
   "cell_type": "code",
   "execution_count": 11,
   "metadata": {},
   "outputs": [],
   "source": [
    "import csv\n",
    "\n",
    "from utility.document_streaming import *\n",
    "documentStreaming = PostgresStreaming()\n",
    "\n",
    "categories_meta = []\n",
    "categories_keywords = {}\n",
    "with open('./utility/files/categories_keywords.csv') as csvfile:\n",
    "    readCSV = csv.reader(csvfile, delimiter=',')\n",
    "    next(readCSV, None)\n",
    "    for row in readCSV:\n",
    "        categories_keywords[row[0]] = []\n",
    "with open('./utility/files/categories_keywords.csv') as csvfile:\n",
    "    readCSV = csv.reader(csvfile, delimiter=',')\n",
    "    next(readCSV, None)\n",
    "    for row in readCSV:\n",
    "        categories_keywords[row[0]].append(row[2])\n"
   ]
  },
  {
   "cell_type": "code",
   "execution_count": 12,
   "metadata": {},
   "outputs": [],
   "source": [
    "for key, value in categories_keywords.items():\n",
    "    meta = {'id':key, 'text':documentStreaming.tokenize(documentStreaming.process_document(value))}\n",
    "    categories_meta.append(meta)"
   ]
  },
  {
   "cell_type": "code",
   "execution_count": 13,
   "metadata": {},
   "outputs": [],
   "source": [
    "categories_corpus = []\n",
    "for key, value in categories_keywords.items():\n",
    "    categories_meta[len(categories_corpus)] = key\n",
    "    categories_corpus.append(dictionary.doc2bow(value))\n"
   ]
  },
  {
   "cell_type": "code",
   "execution_count": 14,
   "metadata": {},
   "outputs": [],
   "source": [
    "gensim.corpora.MmCorpus.serialize(\"./gensim_data/categories_corpus.mm\", categories_corpus)\n",
    "categories_corpus = gensim.corpora.MmCorpus(\"./gensim_data/categories_corpus.mm\")"
   ]
  },
  {
   "cell_type": "code",
   "execution_count": 15,
   "metadata": {},
   "outputs": [],
   "source": [
    "tfidf_cat = TfidfModel(categories_corpus, id2word=dictionary)\n",
    "corpus_tfidf_cat = tfidf[categories_corpus]\n",
    "index_cat = gensim.similarities.MatrixSimilarity(tfidf_cat[categories_corpus])"
   ]
  },
  {
   "cell_type": "code",
   "execution_count": 20,
   "metadata": {},
   "outputs": [],
   "source": [
    "def getCategoriesForDoc(tfidf,index,doc):\n",
    "    td = tfidf[doc]\n",
    "    similar = index[td]\n",
    "    r = np.argsort(similar)[::-1]\n",
    "    catIds = [value for value in r if value>0.15][:3]\n",
    "    if(len(catIds)==0):\n",
    "        catIds = r[:1]\n",
    "    return catIds"
   ]
  },
  {
   "cell_type": "code",
   "execution_count": 31,
   "metadata": {
    "collapsed": true
   },
   "outputs": [],
   "source": [
    "postgresManager.commit_changes()\n",
    "for i in range(0,len(corpus)):\n",
    "    ids = getCategoriesForDoc(tfidf_cat,index_cat,corpus[i])\n",
    "    for id in ids:\n",
    "        postgresManager.insert_with_args(\n",
    "            \"insert into politicalai_ict.dossier_category(id,dossier_id,category_id)\"\n",
    "            \" values(DEFAULT ,%s,%s)\",\n",
    "            (dossier_meta[i], categories_meta[int(id)]))\n",
    "postgresManager.commit_changes()"
   ]
  },
  {
   "cell_type": "code",
   "execution_count": 17,
   "metadata": {},
   "outputs": [],
   "source": [
    "td = tfidf_cat[corpus[0]]\n",
    "similar = index_cat[td]\n",
    "r = np.argsort(similar)[::-1]"
   ]
  },
  {
   "cell_type": "code",
   "execution_count": 26,
   "metadata": {},
   "outputs": [],
   "source": [
    "postgresManager.commit_changes()\n",
    "votes_postgres = postgresManager.select(\n",
    "    \"SELECT name,subject_id FROM politicalai_ict.vote\")\n",
    "postgresManager.commit_changes()"
   ]
  },
  {
   "cell_type": "code",
   "execution_count": 27,
   "metadata": {},
   "outputs": [],
   "source": [
    "import csv\n",
    "from utility.document_streaming import *\n",
    "documentStreaming = PostgresStreaming()\n",
    "votes_corpus = []\n",
    "votes_meta = {}\n",
    "for row in votes_postgres:\n",
    "    votes_meta[len(votes_corpus)] = row[1]\n",
    "    votes_corpus.append(dictionary.doc2bow(documentStreaming.tokenize(row[0])))\n",
    "gensim.corpora.MmCorpus.serialize(\"./gensim_data/votes_corpus.mm\", votes_corpus)\n",
    "categories_corpus = gensim.corpora.MmCorpus(\"./gensim_data/votes_corpus.mm\")\n",
    "\n"
   ]
  },
  {
   "cell_type": "code",
   "execution_count": 28,
   "metadata": {
    "collapsed": true
   },
   "outputs": [
    {
     "data": {
      "text/plain": [
       "{0: 5400,\n 1: 5406,\n 2: 5415,\n 3: 5419,\n 4: 5420,\n 5: 5464,\n 6: 5432,\n 7: 5450,\n 8: 5453,\n 9: 5455,\n 10: 5462,\n 11: 5463,\n 12: 5485,\n 13: 5465,\n 14: 5466,\n 15: 5467,\n 16: 5474,\n 17: 5476,\n 18: 5486,\n 19: 5487,\n 20: 5488,\n 21: 5489,\n 22: 5494,\n 23: 5507,\n 24: 5499,\n 25: 5506,\n 26: 5511,\n 27: 5515,\n 28: 5517,\n 29: 5522,\n 30: 5539,\n 31: 5565,\n 32: 5565,\n 33: 5565,\n 34: 5571,\n 35: 5571,\n 36: 5580}"
      ]
     },
     "execution_count": 28,
     "metadata": {},
     "output_type": "execute_result"
    }
   ],
   "source": [
    "votes_meta"
   ]
  },
  {
   "cell_type": "code",
   "execution_count": 29,
   "metadata": {},
   "outputs": [],
   "source": [
    "for i in range(0,len(votes_corpus)):\n",
    "    td = tfidf[votes_corpus[i]]\n",
    "    similar = lsi_index[lsi[td]]\n",
    "    r = np.argsort(similar)[::-1]\n",
    "    dossIds = [value for value in r if value>0.15][:10]\n",
    "    if(len( dossIds)==0):\n",
    "        dossIds = r[:1]\n",
    "    postgresManager.insert_with_args(\n",
    "        \"insert into politicalai_ict.subject_to_dossier(rel_id,subject_id,dossier_id,ml_algorithm,clustering_algorithm)\"\n",
    "        \" values(DEFAULT ,%s,%s,%s,NULL) RETURNING rel_id\",\n",
    "        (votes_meta[i], dossier_meta[i], 'lsi', ))\n",
    "postgresManager.commit_changes()"
   ]
  },
  {
   "cell_type": "code",
   "execution_count": 30,
   "metadata": {},
   "outputs": [],
   "source": [
    ""
   ]
  },
  {
   "cell_type": "code",
   "execution_count": null,
   "metadata": {},
   "outputs": [],
   "source": []
  }
 ],
 "metadata": {
  "kernelspec": {
   "display_name": "Python 2",
   "language": "python",
   "name": "python2"
  },
  "language_info": {
   "codemirror_mode": {
    "name": "ipython",
    "version": 2
   },
   "file_extension": ".py",
   "mimetype": "text/x-python",
   "name": "python",
   "nbconvert_exporter": "python",
   "pygments_lexer": "ipython2",
   "version": "2.7.6"
  }
 },
 "nbformat": 4,
 "nbformat_minor": 0
}
