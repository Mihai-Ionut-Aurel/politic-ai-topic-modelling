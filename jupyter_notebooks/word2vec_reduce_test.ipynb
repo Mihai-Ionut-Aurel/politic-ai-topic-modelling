{
 "cells": [
  {
   "cell_type": "code",
   "execution_count": 2,
   "metadata": {
    "collapsed": true
   },
   "outputs": [
    {
     "name": "stderr",
     "output_type": "stream",
     "text": [
      "D:\\Programe\\Anaconda3\\envs\\MachineLearning\\lib\\site-packages\\gensim\\utils.py:1197: UserWarning: detected Windows; aliasing chunkize to chunkize_serial\n  warnings.warn(\"detected Windows; aliasing chunkize to chunkize_serial\")\n"
     ]
    }
   ],
   "source": [
    "from gensim.models import KeyedVectors\n",
    "\n",
    "dutch_model = KeyedVectors.load('./word2vec-pretrained/gensim.dutch')"
   ]
  },
  {
   "cell_type": "code",
   "execution_count": 7,
   "metadata": {},
   "outputs": [],
   "source": [
    "\n",
    "import numpy as np\n",
    "from gensim import utils\n",
    "\n",
    "from numpy import zeros, dtype, float32 as REAL, ascontiguousarray, fromstring\n",
    "\n",
    "from six.moves import xrange\n",
    "from six import iteritems\n",
    "\n",
    "def save_word2vec_format_words(fname, vocab, vectors,words, fvocab=None, binary=False, total_vec=None):\n",
    "    if not (vocab or vectors):\n",
    "        raise RuntimeError(\"no input\")\n",
    "    if total_vec is None:\n",
    "        total_vec = len(vocab)\n",
    "    vector_size = vectors.shape[1]\n",
    "    if fvocab is not None:\n",
    "        with utils.smart_open(fvocab, 'wb') as vout:\n",
    "            for word, vocab_ in sorted(iteritems(vocab), key=lambda item: -item[1].count):\n",
    "                if word in words:\n",
    "                    vout.write(utils.to_utf8(\"%s %s\\n\" % (word, vocab_.count)))\n",
    "    \n",
    "    assert (len(vocab), vector_size) == vectors.shape\n",
    "    with utils.smart_open(fname, 'wb') as fout:\n",
    "        fout.write(utils.to_utf8(\"%s %s\\n\" % (total_vec, vector_size)))\n",
    "        # store in sorted order: most frequent words at the top\n",
    "        for word, vocab_ in sorted(iteritems(vocab), key=lambda item: -item[1].count):\n",
    "            if word in words:\n",
    "                row = vectors[vocab_.index]\n",
    "                if binary:\n",
    "                    row = row.astype(REAL)\n",
    "                    fout.write(utils.to_utf8(word) + b\" \" + row.tostring())\n",
    "                else:\n",
    "                    fout.write(utils.to_utf8(\"%s %s\\n\" % (word, ' '.join(repr(val) for val in row))))"
   ]
  },
  {
   "cell_type": "code",
   "execution_count": 5,
   "metadata": {},
   "outputs": [],
   "source": [
    "import gensim\n",
    "dictionary = gensim.corpora.Dictionary.load(\"./gensim_data/politicai_dictionary.dict\")"
   ]
  },
  {
   "cell_type": "code",
   "execution_count": null,
   "metadata": {
    "collapsed": false
   },
   "outputs": [],
   "source": [
    "words = [dictionary[id] for id in dictionary]\n",
    "print(len(words))\n",
    "similar_words = []\n",
    "words_no_found = []\n",
    "count = 0\n",
    "for word in words:\n",
    "    similar = []\n",
    "    count += 1\n",
    "    # Finding out similar words [default= top 10]\n",
    "    if word in dutch_model.vocab:\n",
    "        for similar_word in dutch_model.similar_by_word(word, topn=10):\n",
    "            similar.append(similar_word[0])\n",
    "        similar_words.append(similar)\n",
    "    else:\n",
    "        words_no_found.append(words_no_found)\n",
    "    if count % 500 == 0:\n",
    "        print(count)\n"
   ]
  },
  {
   "cell_type": "code",
   "execution_count": 1,
   "metadata": {
    "collapsed": true
   },
   "outputs": [
    {
     "name": "stderr",
     "output_type": "stream",
     "text": [
      "D:\\Programe\\Anaconda3\\envs\\MachineLearning\\lib\\site-packages\\gensim\\utils.py:1197: UserWarning: detected Windows; aliasing chunkize to chunkize_serial\n  warnings.warn(\"detected Windows; aliasing chunkize to chunkize_serial\")\n"
     ]
    },
    {
     "ename": "NameError",
     "evalue": "name 'words' is not defined",
     "traceback": [
      "\u001b[0;31m---------------------------------------------------------------------------\u001b[0m",
      "\u001b[0;31mNameError\u001b[0m                                 Traceback (most recent call last)",
      "\u001b[0;32m<ipython-input-1-e00427fedc79>\u001b[0m in \u001b[0;36m<module>\u001b[0;34m()\u001b[0m\n\u001b[1;32m      1\u001b[0m \u001b[0;32mimport\u001b[0m \u001b[0mgensim\u001b[0m\u001b[0;34m.\u001b[0m\u001b[0mutils\u001b[0m\u001b[0;34m\u001b[0m\u001b[0m\n\u001b[0;32m----> 2\u001b[0;31m \u001b[0mgensim\u001b[0m\u001b[0;34m.\u001b[0m\u001b[0mutils\u001b[0m\u001b[0;34m.\u001b[0m\u001b[0mpickle\u001b[0m\u001b[0;34m(\u001b[0m\u001b[0mwords\u001b[0m\u001b[0;34m,\u001b[0m \u001b[0;34m\"gensim_data/trained_topic/words.array\"\u001b[0m\u001b[0;34m)\u001b[0m\u001b[0;34m\u001b[0m\u001b[0m\n\u001b[0m\u001b[1;32m      3\u001b[0m \u001b[0mgensim\u001b[0m\u001b[0;34m.\u001b[0m\u001b[0mutils\u001b[0m\u001b[0;34m.\u001b[0m\u001b[0mpickle\u001b[0m\u001b[0;34m(\u001b[0m\u001b[0msimilar_words\u001b[0m\u001b[0;34m,\u001b[0m \u001b[0;34m\"gensim_data/trained_topic/similarwords.array\"\u001b[0m\u001b[0;34m)\u001b[0m\u001b[0;34m\u001b[0m\u001b[0m\n\u001b[1;32m      4\u001b[0m \u001b[0mgensim\u001b[0m\u001b[0;34m.\u001b[0m\u001b[0mutils\u001b[0m\u001b[0;34m.\u001b[0m\u001b[0mpickle\u001b[0m\u001b[0;34m(\u001b[0m\u001b[0mwords_no_found\u001b[0m\u001b[0;34m,\u001b[0m \u001b[0;34m\"gensim_data/trained_topic/words_not_found.array\"\u001b[0m\u001b[0;34m)\u001b[0m\u001b[0;34m\u001b[0m\u001b[0m\n",
      "\u001b[0;31mNameError\u001b[0m: name 'words' is not defined"
     ],
     "output_type": "error"
    }
   ],
   "source": [
    "import gensim.utils\n",
    "gensim.utils.pickle(words, \"gensim_data/trained_topic/words.array\")\n",
    "gensim.utils.pickle(similar_words, \"gensim_data/trained_topic/similarwords.array\")\n",
    "gensim.utils.pickle(words_no_found, \"gensim_data/trained_topic/words_not_found.array\")\n"
   ]
  },
  {
   "cell_type": "code",
   "execution_count": 8,
   "metadata": {},
   "outputs": [],
   "source": [
    "words = [dictionary[id] for id in dictionary]\n",
    "allwords = []\n",
    "allwords.append(words)\n",
    "save_word2vec_format_words(fname=\"word2vec-pretrained/selected_word2vec\", vocab=dutch_model.vocab,\n",
    "                           vectors=dutch_model.vectors, words=[2,3], fvocab=\"vocab_selected\", binary=True)\n"
   ]
  },
  {
   "cell_type": "code",
   "execution_count": 10,
   "metadata": {},
   "outputs": [
    {
     "data": {
      "text/plain": [
       "True"
      ]
     },
     "execution_count": 10,
     "metadata": {},
     "output_type": "execute_result"
    }
   ],
   "source": [
    "KeyedVectors.save_word2vec_format()"
   ]
  },
  {
   "cell_type": "code",
   "execution_count": 14,
   "metadata": {},
   "outputs": [],
   "source": [
    "import logging\n",
    "import numpy as np\n",
    "from gensim import utils\n",
    "\n",
    "from numpy import zeros, dtype, float32 as REAL, ascontiguousarray, fromstring\n",
    "\n",
    "from six.moves import xrange\n",
    "from six import iteritems\n",
    "\n",
    "logger = logging.getLogger(__name__)\n",
    "\n",
    "try:\n",
    "    from gensim.models._utils_any2vec import ft_hash as _ft_hash, compute_ngrams as _compute_ngrams\n",
    "except ImportError:\n",
    "    FAST_VERSION = -1"
   ]
  },
  {
   "cell_type": "code",
   "execution_count": null,
   "metadata": {},
   "outputs": [],
   "source": []
  }
 ],
 "metadata": {
  "kernelspec": {
   "display_name": "Python 2",
   "language": "python",
   "name": "python2"
  },
  "language_info": {
   "codemirror_mode": {
    "name": "ipython",
    "version": 2
   },
   "file_extension": ".py",
   "mimetype": "text/x-python",
   "name": "python",
   "nbconvert_exporter": "python",
   "pygments_lexer": "ipython2",
   "version": "2.7.6"
  }
 },
 "nbformat": 4,
 "nbformat_minor": 0
}
