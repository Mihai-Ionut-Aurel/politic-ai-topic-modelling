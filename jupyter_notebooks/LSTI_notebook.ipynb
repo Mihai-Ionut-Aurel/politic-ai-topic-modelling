{
 "cells": [
  {
   "cell_type": "code",
   "execution_count": 1,
   "metadata": {
    "collapsed": true
   },
   "outputs": [
    {
     "name": "stderr",
     "output_type": "stream",
     "text": [
      "D:\\Programe\\Anaconda3\\envs\\MachineLearning\\lib\\site-packages\\gensim\\utils.py:1197: UserWarning: detected Windows; aliasing chunkize to chunkize_serial\n  warnings.warn(\"detected Windows; aliasing chunkize to chunkize_serial\")\n"
     ]
    },
    {
     "name": "stdout",
     "output_type": "stream",
     "text": [
      "connecting to PostgreSQL database...\n"
     ]
    },
    {
     "name": "stdout",
     "output_type": "stream",
     "text": [
      "connection established\nPostgreSQL 10.3 on x86_64-pc-linux-gnu, compiled by gcc (GCC) 4.8.3 20140911 (Red Hat 4.8.3-9), 64-bit\n"
     ]
    }
   ],
   "source": [
    "import numpy as np\n",
    "from gensim.models import LsiModel\n",
    "from gensim.models import TfidfModel\n",
    "from gensim.similarities import MatrixSimilarity\n",
    "from sklearn.metrics.pairwise import cosine_similarity\n",
    "from utility.postgres_manager import *\n",
    "import gensim\n",
    "from ml_classes.mm_with_meta import *\n",
    "corpus_path = \"./gensim_data/updated_subjects/politic-ai-corpus.mm\"\n",
    "trained_path = \"./gensim_data/updated_subjects/trained/politic-ai-trained.tr\"\n",
    "n_topics = 500\n",
    "n_clusters = 100\n",
    "\n",
    "postgresManager = PostgresManager()"
   ]
  },
  {
   "cell_type": "code",
   "execution_count": 2,
   "metadata": {},
   "outputs": [
    {
     "name": "stdout",
     "output_type": "stream",
     "text": [
      "MmCorpus(1054 documents, 23876 features, 526706 non-zero entries)\n"
     ]
    }
   ],
   "source": [
    "dictionary = gensim.corpora.Dictionary.load(corpus_path+\".dict\")\n",
    "corpus = MmCorpusMeta(corpus_path, id2word=dictionary, metadata=True)\n",
    "print(corpus)"
   ]
  },
  {
   "cell_type": "code",
   "execution_count": 3,
   "metadata": {},
   "outputs": [],
   "source": [
    "from gensim.models import KeyedVectors\n",
    "word2vec_model = KeyedVectors.load('./word2vec-pretrained/gensim.dutch')\n"
   ]
  },
  {
   "cell_type": "code",
   "execution_count": 4,
   "metadata": {},
   "outputs": [],
   "source": [
    "word2vec_model.init_sims(replace=True)"
   ]
  },
  {
   "cell_type": "code",
   "execution_count": 5,
   "metadata": {},
   "outputs": [],
   "source": [
    "def document_vector(word2vec_model, doc, dict):\n",
    "    # remove out-of-vocabulary words\n",
    "    doc = [dict[word[0]] for word in doc if dict[word[0]] in word2vec_model.vocab]\n",
    "    return np.mean(word2vec_model[doc], axis=0)\n"
   ]
  },
  {
   "cell_type": "code",
   "execution_count": 6,
   "metadata": {},
   "outputs": [],
   "source": [
    "tfidf = TfidfModel(corpus, id2word=dictionary)\n",
    "corpus_tfidf = tfidf[corpus]\n",
    "index = gensim.similarities.MatrixSimilarity(tfidf[corpus])\n",
    "sims = index[corpus_tfidf]\n"
   ]
  },
  {
   "cell_type": "code",
   "execution_count": 7,
   "metadata": {
    "collapsed": true
   },
   "outputs": [],
   "source": [
    "\n",
    "tfidf.save(trained_path + \".tfidf\")\n",
    "gensim.utils.pickle(corpus_tfidf,trained_path+\".tfidf.corpus\")\n",
    "index.save(trained_path+\"tfidf.corpus.index\")\n",
    "gensim.utils.pickle(sims,trained_path+\"tfidf.corpus.index.sims\")"
   ]
  },
  {
   "cell_type": "code",
   "execution_count": 8,
   "metadata": {
    "collapsed": true
   },
   "outputs": [],
   "source": [
    "sims = {'politicai': {}}\n",
    "lsi = LsiModel(corpus_tfidf, id2word=dictionary, num_topics=n_topics)\n",
    "lsi_index = MatrixSimilarity(lsi[corpus_tfidf])\n",
    "sims['politicai']['LSI'] = np.array([lsi_index[lsi[corpus_tfidf[i]]]\n",
    "                                     for i in range(len(corpus))])"
   ]
  },
  {
   "cell_type": "code",
   "execution_count": 9,
   "metadata": {
    "collapsed": true
   },
   "outputs": [],
   "source": [
    "lsi.save(trained_path+\".lsi\")\n",
    "lsi_index.save(trained_path+\".lsi.index\")"
   ]
  },
  {
   "cell_type": "code",
   "execution_count": 10,
   "metadata": {},
   "outputs": [],
   "source": [
    "sims['politicai']['centroid'] = cosine_similarity(np.array([document_vector(word2vec_model, doc, dictionary)\n",
    "                                                            for doc in corpus]))"
   ]
  },
  {
   "cell_type": "code",
   "execution_count": 11,
   "metadata": {},
   "outputs": [
    {
     "name": "stdout",
     "output_type": "stream",
     "text": [
      "[  0 804 424 778 777 776 765 754 477 479 480 743 742 486 487 734 492 495\n 498 501]\n[  0 477 877 682 424 854 631 649 849 847 845 842 479 664 480 628 625 486\n 487 492]\n"
     ]
    }
   ],
   "source": [
    "def most_similar(i, X_sims, topn=None):\n",
    "    \"\"\"return the indices of the topn most similar documents with document i\n",
    "    given the similarity matrix X_sims\"\"\"\n",
    "\n",
    "    r = np.argsort(X_sims[i])[::-1]\n",
    "    if r is None:\n",
    "        return r\n",
    "    else:\n",
    "        return r[:topn]\n",
    "\n",
    "#LSI\n",
    "print(most_similar(0, sims['politicai']['LSI'], 20))\n",
    "\n",
    "#Centroid\n",
    "print(most_similar(0, sims['politicai']['centroid'], 20))\n"
   ]
  },
  {
   "cell_type": "code",
   "execution_count": 12,
   "metadata": {},
   "outputs": [],
   "source": [
    "from sklearn.cluster import SpectralClustering\n",
    "def spectral_clustering(n_clusters, method):\n",
    "    n_clusters = n_clusters\n",
    "    sc = SpectralClustering(n_clusters=n_clusters,\n",
    "                            affinity='precomputed')\n",
    "    matrix = sims['politicai'][method]\n",
    "\n",
    "    sc.fit(matrix)\n",
    "    print(\"Method: {}\".format(method))\n",
    "    print(sc.labels_[1::10])\n",
    "    print(\"-\"*10)\n",
    "    return sc"
   ]
  },
  {
   "cell_type": "code",
   "execution_count": 13,
   "metadata": {},
   "outputs": [
    {
     "name": "stdout",
     "output_type": "stream",
     "text": [
      "Method: LSI\n[ 1 29 27 22 46 26 44 18 86 64 98 95 39 94 70 50 50 96 77 38 97 48 44 97 67\n 18 76  9  2  7 16 27  2 40  6 24 35  2  6 23 11 36 45  6 14 31 28  0  1  3\n  2  1  1  3  3  3  2  1  1  3  2  1  3  2  1  3  2  1  3  5 53 61 15 57 56\n 13  6 13  1  5 29  6  9 33 22  1  6  5 17 24  3  5  2 13  4  1  1 13  2 11\n  6 14 31 13  4  2]\n----------\n{0: 3, 1: 119, 2: 119, 3: 119, 4: 12, 5: 25, 6: 28, 7: 28, 8: 3, 9: 30, 10: 18, 11: 24, 12: 9, 13: 28, 14: 11, 15: 3, 16: 18, 17: 28, 18: 17, 19: 3, 20: 9, 21: 8, 22: 6, 23: 12, 24: 12, 25: 12, 26: 4, 27: 10, 28: 3, 29: 28, 30: 3, 31: 6, 32: 3, 33: 12, 34: 6, 35: 8, 36: 8, 37: 2, 38: 2, 39: 3, 40: 10, 41: 3, 42: 3, 43: 5, 44: 11, 45: 5, 46: 3, 47: 8, 48: 3, 49: 3, 50: 5, 51: 4, 52: 3, 53: 8, 54: 3, 55: 2, 56: 2, 57: 3, 58: 3, 59: 3, 60: 2, 61: 5, 62: 3, 63: 3, 64: 6, 65: 3, 66: 3, 67: 2, 68: 3, 69: 8, 70: 6, 71: 5, 72: 2, 73: 4, 74: 3, 75: 2, 76: 5, 77: 14, 78: 4, 79: 4, 80: 2, 81: 2, 82: 2, 83: 2, 84: 3, 85: 2, 86: 2, 87: 5, 88: 3, 89: 3, 90: 3, 91: 3, 92: 2, 93: 14, 94: 3, 95: 5, 96: 10, 97: 4, 98: 3, 99: 2}\n"
     ]
    }
   ],
   "source": [
    "sc_lsi = spectral_clustering(n_clusters=n_clusters, method=\"LSI\")\n",
    "count_dic = dict.fromkeys(sc_lsi.labels_, 0)\n",
    "for label in sc_lsi.labels_:\n",
    "    count_dic[label] += 1\n",
    "print(count_dic)"
   ]
  },
  {
   "cell_type": "code",
   "execution_count": 14,
   "metadata": {
    "collapsed": false
   },
   "outputs": [
    {
     "name": "stdout",
     "output_type": "stream",
     "text": [
      "Method: centroid\n[ 3 12 68 75 30 15  2  2  2  2  2  3  1 62  2 46  1  2  2 57  2  3  2  3 61\n  3  2 35  1 16 43 68  1 19 32  9 40  1 32 10 22  4  6 32 18 80 34 58  3  2\n  1  3  3  2  2  2  1  3  3  2  1  3  2  1  3  2  1  3  2  0 33 45 61 41  2\n 21 32 21  3  0 12 32 35 11 75  3 32  0  8  9  2  0  1 21 28  3  3 21  1 22\n 32 18 80 21 28  1]\n----------\n{0: 25, 1: 134, 2: 205, 3: 162, 4: 8, 5: 3, 6: 5, 7: 3, 8: 28, 9: 12, 10: 12, 11: 12, 12: 28, 13: 18, 14: 1, 15: 3, 16: 28, 17: 4, 18: 11, 19: 9, 20: 8, 21: 28, 22: 24, 23: 1, 24: 9, 25: 1, 26: 1, 27: 3, 28: 12, 29: 2, 30: 3, 31: 4, 32: 28, 33: 8, 34: 3, 35: 30, 36: 3, 37: 1, 38: 1, 39: 9, 40: 8, 41: 3, 42: 3, 43: 18, 44: 2, 45: 5, 46: 1, 47: 8, 48: 3, 49: 1, 50: 1, 51: 3, 52: 3, 53: 1, 54: 1, 55: 3, 56: 3, 57: 2, 58: 3, 59: 3, 60: 1, 61: 8, 62: 7, 63: 1, 64: 1, 65: 1, 66: 1, 67: 3, 68: 10, 69: 1, 70: 1, 71: 1, 72: 1, 73: 1, 74: 1, 75: 6, 76: 3, 77: 3, 78: 1, 79: 3, 80: 12, 81: 1, 82: 1, 83: 1, 84: 1, 85: 1, 86: 1, 87: 1, 88: 1, 89: 1, 90: 1, 91: 1, 92: 3, 93: 1, 94: 1, 95: 1, 96: 1, 97: 1, 98: 1, 99: 2}\n"
     ]
    }
   ],
   "source": [
    "sc_word2vec = spectral_clustering(n_clusters=n_clusters, method=\"centroid\")\n",
    "count_dic = dict.fromkeys(sc_lsi.labels_, 0)\n",
    "for label in sc_word2vec.labels_:\n",
    "    count_dic[label] += 1\n",
    "print(count_dic)"
   ]
  },
  {
   "cell_type": "code",
   "execution_count": 15,
   "metadata": {
    "collapsed": true
   },
   "outputs": [],
   "source": [
    "subject_dict = []\n",
    "doc_metadata = corpus.iter_meta()\n",
    "for _, meta in corpus.doc_metadata.items():\n",
    "    s_dict = {}\n",
    "    s_dict['sub_id'] = meta['metadata']['id']\n",
    "    s_dict['doc_id'] = meta['id']\n",
    "    s_dict['seq_id'] = meta['corpus_seq_id']\n",
    "    cluster = {}\n",
    "    cluster['lsi'] = sc_lsi.labels_[meta['corpus_seq_id']]\n",
    "    cluster['word2vec'] = sc_word2vec.labels_[meta['corpus_seq_id']]\n",
    "    s_dict['spec_clust'] = cluster\n",
    "    subject_dict.append(s_dict)\n",
    "\n"
   ]
  },
  {
   "cell_type": "code",
   "execution_count": 16,
   "metadata": {
    "collapsed": true
   },
   "outputs": [],
   "source": [
    "def create_clusters(algorithm_name,subject_dict):\n",
    "    cluster_docs = {\n",
    "        label: {'documents':[]} for label in sc_lsi.labels_\n",
    "    }\n",
    "    for meta in subject_dict:\n",
    "        label = meta['spec_clust'][algorithm_name]\n",
    "        doc_dic = {'doc_id': meta['doc_id'], 'sub_id': meta['sub_id'], 'doc_uniq_words': len(corpus[meta['seq_id']]),\n",
    "                   'seq_id': meta['seq_id']}\n",
    "        cluster_docs[label]['documents'].append(doc_dic)\n",
    "    return cluster_docs\n",
    "cluster_docs_word2vec = create_clusters('word2vec', subject_dict)\n",
    "cluster_docs_lsi = create_clusters('lsi',subject_dict)"
   ]
  },
  {
   "cell_type": "code",
   "execution_count": 17,
   "metadata": {
    "collapsed": true
   },
   "outputs": [],
   "source": [
    "\n",
    "def attach_title_to(cluster_docs, postgresManager):\n",
    "    for label, cluster in cluster_docs.items():\n",
    "        max_uniq_words_sub_id = max(cluster['documents'], key=lambda x: x['doc_uniq_words'])\n",
    "        subject = postgresManager.select(\n",
    "            \"Select * FROM politicalai_ict.subject where id = {0};\".format(max_uniq_words_sub_id['sub_id']))\n",
    "        postgresManager.commit_changes()\n",
    "        cluster_docs[label]['title'] = subject[0][1]\n",
    "    return cluster_docs\n",
    "#cluster_docs_word2vec = attach_title_to(cluster_docs_word2vec, postgresManager)\n",
    "cluster_docs_lsi = attach_title_to(cluster_docs_lsi, postgresManager)\n"
   ]
  },
  {
   "cell_type": "code",
   "execution_count": 18,
   "metadata": {
    "collapsed": true
   },
   "outputs": [],
   "source": [
    "def insert_cluster(cluster_docs, postgresManager, algorithm_name):\n",
    "    for label, cluster in cluster_docs.items():\n",
    "        postgresManager.insert_with_args(\n",
    "            \"insert into politicalai_ict.dossier(id,name,description,onlineid,ml_algorithm,clustering_algorithm)\"\n",
    "            \" values(DEFAULT ,%s,NULL,NULL,%s,%s) RETURNING id\",\n",
    "            (cluster['title'], algorithm_name, 'spectral-clustering'))\n",
    "        postgresManager.commit_changes()\n",
    "        cluster_id = postgresManager.cursor.fetchone()[0]\n",
    "        cluster['database_cluster_id'] = cluster_id\n",
    "        for doc in cluster['documents']:\n",
    "            postgresManager.insert_with_args(\n",
    "                \"insert into politicalai_ict.subject_to_dossier(rel_id,subject_id,dossier_id,ml_algorithm,clustering_algorithm)\"\n",
    "                \" values(DEFAULT ,%s,%s,%s,%s) RETURNING rel_id\",\n",
    "                (doc['sub_id'], cluster_id, algorithm_name, 'spectral-clustering'))\n",
    "            postgresManager.commit_changes()\n",
    "            try:\n",
    "                rel_id = postgresManager.cursor.fetchone()[0]\n",
    "                doc['database_rel_id'] = rel_id\n",
    "            except psycopg2.ProgrammingError:\n",
    "                # take some other action\n",
    "                print(\"Error inserting doc {0} from topic {1}\".format(doc['sub_id'], label))\n"
   ]
  },
  {
   "cell_type": "code",
   "execution_count": 25,
   "metadata": {
    "collapsed": true
   },
   "outputs": [
    {
     "name": "stdout",
     "output_type": "stream",
     "text": [
      "None\nNone\nNone\nNone\nNone\nNone\n"
     ]
    },
    {
     "name": "stdout",
     "output_type": "stream",
     "text": [
      "None\nNone\nNone\nNone\nNone\nNone\n"
     ]
    },
    {
     "name": "stdout",
     "output_type": "stream",
     "text": [
      "None\nNone\nNone\nNone\nNone\nNone\n"
     ]
    },
    {
     "name": "stdout",
     "output_type": "stream",
     "text": [
      "None\nNone\nNone\nNone\nNone\nNone\n"
     ]
    },
    {
     "name": "stdout",
     "output_type": "stream",
     "text": [
      "None\nNone\nNone\nNone\nNone\nNone\n"
     ]
    },
    {
     "name": "stdout",
     "output_type": "stream",
     "text": [
      "None\nNone\nNone\nNone\nNone\nNone\n"
     ]
    },
    {
     "name": "stdout",
     "output_type": "stream",
     "text": [
      "None\nNone\nNone\nNone\nNone\nNone\n"
     ]
    },
    {
     "name": "stdout",
     "output_type": "stream",
     "text": [
      "None\nNone\nNone\nNone\nNone\nNone\n"
     ]
    },
    {
     "name": "stdout",
     "output_type": "stream",
     "text": [
      "None\nNone\nNone\nNone\nNone\nNone\n"
     ]
    },
    {
     "name": "stdout",
     "output_type": "stream",
     "text": [
      "None\nNone\nNone\nNone\nNone\nNone\nNone\n"
     ]
    },
    {
     "name": "stdout",
     "output_type": "stream",
     "text": [
      "None\nNone\nNone\nNone\nNone\nNone\n"
     ]
    },
    {
     "name": "stdout",
     "output_type": "stream",
     "text": [
      "None\nNone\nNone\nNone\nNone\nNone\n"
     ]
    },
    {
     "name": "stdout",
     "output_type": "stream",
     "text": [
      "None\nNone\nNone\nNone\nNone\nNone\n"
     ]
    },
    {
     "name": "stdout",
     "output_type": "stream",
     "text": [
      "None\nNone\nNone\nNone\nNone\nNone\n"
     ]
    },
    {
     "name": "stdout",
     "output_type": "stream",
     "text": [
      "None\nNone\nNone\nNone\nNone\nNone\n"
     ]
    },
    {
     "name": "stdout",
     "output_type": "stream",
     "text": [
      "None\nNone\nNone\nNone\nNone\nNone\n"
     ]
    },
    {
     "name": "stdout",
     "output_type": "stream",
     "text": [
      "None\nNone\nNone\nNone\nNone\nNone\n"
     ]
    },
    {
     "name": "stdout",
     "output_type": "stream",
     "text": [
      "None\nNone\nNone\nNone\nNone\nNone\n"
     ]
    },
    {
     "name": "stdout",
     "output_type": "stream",
     "text": [
      "None\nNone\nNone\nNone\nNone\nNone\n"
     ]
    },
    {
     "name": "stdout",
     "output_type": "stream",
     "text": [
      "None\nNone\nNone\nNone\nNone\nNone\n"
     ]
    },
    {
     "name": "stdout",
     "output_type": "stream",
     "text": [
      "None\nNone\nNone\nNone\nNone\nNone\n"
     ]
    },
    {
     "name": "stdout",
     "output_type": "stream",
     "text": [
      "None\nNone\nNone\nNone\nNone\nNone\n"
     ]
    },
    {
     "name": "stdout",
     "output_type": "stream",
     "text": [
      "None\nNone\nNone\nNone\nNone\n"
     ]
    },
    {
     "name": "stdout",
     "output_type": "stream",
     "text": [
      "None\nNone\nNone\nNone\nNone\nNone\n"
     ]
    },
    {
     "name": "stdout",
     "output_type": "stream",
     "text": [
      "None\nNone\nNone\nNone\nNone\nNone\n"
     ]
    },
    {
     "name": "stdout",
     "output_type": "stream",
     "text": [
      "None\nNone\nNone\nNone\nNone\nNone\n"
     ]
    },
    {
     "name": "stdout",
     "output_type": "stream",
     "text": [
      "None\nNone\nNone\nNone\nNone\nNone\n"
     ]
    },
    {
     "name": "stdout",
     "output_type": "stream",
     "text": [
      "None\nNone\nNone\nNone\nNone\nNone\n"
     ]
    },
    {
     "name": "stdout",
     "output_type": "stream",
     "text": [
      "None\nNone\nNone\nNone\nNone\nNone\n"
     ]
    },
    {
     "name": "stdout",
     "output_type": "stream",
     "text": [
      "None\nNone\nNone\nNone\nNone\nNone\n"
     ]
    },
    {
     "name": "stdout",
     "output_type": "stream",
     "text": [
      "None\nNone\nNone\nNone\nNone\nNone\n"
     ]
    },
    {
     "name": "stdout",
     "output_type": "stream",
     "text": [
      "None\nNone\nNone\nNone\nNone\nNone\n"
     ]
    },
    {
     "name": "stdout",
     "output_type": "stream",
     "text": [
      "None\nNone\nNone\nNone\nNone\nNone\n"
     ]
    },
    {
     "name": "stdout",
     "output_type": "stream",
     "text": [
      "None\nNone\nNone\nNone\nNone\nNone\n"
     ]
    },
    {
     "name": "stdout",
     "output_type": "stream",
     "text": [
      "None\nNone\nNone\nNone\nNone\nNone\n"
     ]
    },
    {
     "name": "stdout",
     "output_type": "stream",
     "text": [
      "None\nNone\nNone\nNone\nNone\nNone\n"
     ]
    },
    {
     "name": "stdout",
     "output_type": "stream",
     "text": [
      "None\nNone\nNone\nNone\nNone\nNone\n"
     ]
    },
    {
     "name": "stdout",
     "output_type": "stream",
     "text": [
      "None\nNone\nNone\nNone\nNone\n"
     ]
    },
    {
     "name": "stdout",
     "output_type": "stream",
     "text": [
      "None\nNone\nNone\nNone\nNone\n"
     ]
    },
    {
     "name": "stdout",
     "output_type": "stream",
     "text": [
      "None\nNone\nNone\nNone\nNone\nNone\n"
     ]
    },
    {
     "name": "stdout",
     "output_type": "stream",
     "text": [
      "None\nNone\nNone\nNone\nNone\nNone\n"
     ]
    },
    {
     "name": "stdout",
     "output_type": "stream",
     "text": [
      "None\nNone\nNone\nNone\nNone\nNone\nNone\n"
     ]
    },
    {
     "name": "stdout",
     "output_type": "stream",
     "text": [
      "None\nNone\nNone\nNone\nNone\nNone\n"
     ]
    },
    {
     "name": "stdout",
     "output_type": "stream",
     "text": [
      "None\nNone\nNone\nNone\nNone\nNone\n"
     ]
    },
    {
     "name": "stdout",
     "output_type": "stream",
     "text": [
      "None\nNone\nNone\nNone\nNone\nNone\n"
     ]
    },
    {
     "name": "stdout",
     "output_type": "stream",
     "text": [
      "None\nNone\nNone\nNone\nNone\nNone\n"
     ]
    },
    {
     "name": "stdout",
     "output_type": "stream",
     "text": [
      "None\nNone\nNone\nNone\nNone\nNone\n"
     ]
    },
    {
     "name": "stdout",
     "output_type": "stream",
     "text": [
      "None\nNone\nNone\nNone\nNone\nNone\n"
     ]
    },
    {
     "name": "stdout",
     "output_type": "stream",
     "text": [
      "None\nNone\nNone\nNone\nNone\nNone\n"
     ]
    },
    {
     "name": "stdout",
     "output_type": "stream",
     "text": [
      "None\nNone\nNone\nNone\nNone\nNone\n"
     ]
    },
    {
     "name": "stdout",
     "output_type": "stream",
     "text": [
      "None\nNone\nNone\nNone\nNone\nNone\n"
     ]
    },
    {
     "name": "stdout",
     "output_type": "stream",
     "text": [
      "None\nNone\nNone\nNone\nNone\nNone\n"
     ]
    },
    {
     "name": "stdout",
     "output_type": "stream",
     "text": [
      "None\nNone\nNone\nNone\nNone\nNone\n"
     ]
    },
    {
     "name": "stdout",
     "output_type": "stream",
     "text": [
      "None\nNone\nNone\nNone\nNone\nNone\n"
     ]
    },
    {
     "name": "stdout",
     "output_type": "stream",
     "text": [
      "None\nNone\nNone\nNone\nNone\nNone\n"
     ]
    },
    {
     "name": "stdout",
     "output_type": "stream",
     "text": [
      "None\nNone\nNone\nNone\nNone\nNone\n"
     ]
    },
    {
     "name": "stdout",
     "output_type": "stream",
     "text": [
      "None\nNone\nNone\nNone\nNone\nNone\n"
     ]
    },
    {
     "name": "stdout",
     "output_type": "stream",
     "text": [
      "None\nNone\nNone\nNone\nNone\nNone\n"
     ]
    },
    {
     "name": "stdout",
     "output_type": "stream",
     "text": [
      "None\nNone\nNone\nNone\nNone\nNone\n"
     ]
    },
    {
     "name": "stdout",
     "output_type": "stream",
     "text": [
      "None\nNone\nNone\nNone\nNone\nNone\n"
     ]
    },
    {
     "name": "stdout",
     "output_type": "stream",
     "text": [
      "None\nNone\nNone\nNone\nNone\nNone\n"
     ]
    },
    {
     "name": "stdout",
     "output_type": "stream",
     "text": [
      "None\nNone\nNone\nNone\nNone\nNone\n"
     ]
    },
    {
     "name": "stdout",
     "output_type": "stream",
     "text": [
      "None\nNone\nNone\nNone\nNone\n"
     ]
    },
    {
     "name": "stdout",
     "output_type": "stream",
     "text": [
      "None\nNone\nNone\nNone\nNone\nNone\n"
     ]
    },
    {
     "name": "stdout",
     "output_type": "stream",
     "text": [
      "None\nNone\nNone\nNone\nNone\n"
     ]
    },
    {
     "name": "stdout",
     "output_type": "stream",
     "text": [
      "None\nNone\nNone\nNone\nNone\nNone\n"
     ]
    },
    {
     "name": "stdout",
     "output_type": "stream",
     "text": [
      "None\nNone\nNone\nNone\nNone\nNone\n"
     ]
    },
    {
     "name": "stdout",
     "output_type": "stream",
     "text": [
      "None\nNone\nNone\nNone\nNone\n"
     ]
    },
    {
     "name": "stdout",
     "output_type": "stream",
     "text": [
      "None\nNone\nNone\nNone\nNone\nNone\n"
     ]
    },
    {
     "name": "stdout",
     "output_type": "stream",
     "text": [
      "None\nNone\nNone\nNone\nNone\nNone\n"
     ]
    },
    {
     "name": "stdout",
     "output_type": "stream",
     "text": [
      "None\nNone\nNone\nNone\nNone\nNone\n"
     ]
    },
    {
     "name": "stdout",
     "output_type": "stream",
     "text": [
      "None\nNone\nNone\nNone\nNone\nNone\n"
     ]
    },
    {
     "name": "stdout",
     "output_type": "stream",
     "text": [
      "None\nNone\nNone\nNone\nNone\nNone\n"
     ]
    },
    {
     "name": "stdout",
     "output_type": "stream",
     "text": [
      "None\nNone\nNone\nNone\nNone\nNone\n"
     ]
    },
    {
     "name": "stdout",
     "output_type": "stream",
     "text": [
      "None\nNone\nNone\nNone\nNone\nNone\n"
     ]
    },
    {
     "name": "stdout",
     "output_type": "stream",
     "text": [
      "None\nNone\nNone\nNone\nNone\nNone\n"
     ]
    },
    {
     "name": "stdout",
     "output_type": "stream",
     "text": [
      "None\nNone\nNone\nNone\nNone\nNone\n"
     ]
    },
    {
     "name": "stdout",
     "output_type": "stream",
     "text": [
      "None\nNone\nNone\nNone\nNone\nNone\n"
     ]
    },
    {
     "name": "stdout",
     "output_type": "stream",
     "text": [
      "None\nNone\nNone\nNone\nNone\nNone\n"
     ]
    },
    {
     "name": "stdout",
     "output_type": "stream",
     "text": [
      "None\nNone\n"
     ]
    },
    {
     "name": "stdout",
     "output_type": "stream",
     "text": [
      "None\nNone\nNone\n"
     ]
    },
    {
     "name": "stdout",
     "output_type": "stream",
     "text": [
      "None\nNone\nNone\n"
     ]
    },
    {
     "name": "stdout",
     "output_type": "stream",
     "text": [
      "None\nNone\nNone\nNone\n"
     ]
    },
    {
     "name": "stdout",
     "output_type": "stream",
     "text": [
      "None\nNone\nNone\n"
     ]
    },
    {
     "name": "stdout",
     "output_type": "stream",
     "text": [
      "None\nNone\nNone\n"
     ]
    },
    {
     "name": "stdout",
     "output_type": "stream",
     "text": [
      "None\nNone\nNone\nNone\nNone\n"
     ]
    },
    {
     "name": "stdout",
     "output_type": "stream",
     "text": [
      "None\nNone\nNone\nNone\n"
     ]
    },
    {
     "name": "stdout",
     "output_type": "stream",
     "text": [
      "None\nNone\nNone\nNone\nNone\n"
     ]
    },
    {
     "name": "stdout",
     "output_type": "stream",
     "text": [
      "None\nNone\nNone\nNone\nNone\n"
     ]
    },
    {
     "name": "stdout",
     "output_type": "stream",
     "text": [
      "None\nNone\nNone\nNone\nNone\nNone\n"
     ]
    },
    {
     "name": "stdout",
     "output_type": "stream",
     "text": [
      "None\nNone\nNone\nNone\nNone\nNone\n"
     ]
    },
    {
     "name": "stdout",
     "output_type": "stream",
     "text": [
      "None\nNone\nNone\nNone\nNone\nNone\n"
     ]
    },
    {
     "name": "stdout",
     "output_type": "stream",
     "text": [
      "None\nNone\nNone\nNone\nNone\nNone\n"
     ]
    },
    {
     "name": "stdout",
     "output_type": "stream",
     "text": [
      "None\nNone\nNone\nNone\nNone\nNone\n"
     ]
    },
    {
     "name": "stdout",
     "output_type": "stream",
     "text": [
      "None\nNone\nNone\nNone\nNone\nNone\n"
     ]
    },
    {
     "name": "stdout",
     "output_type": "stream",
     "text": [
      "None\nNone\nNone\nNone\nNone\nNone\n"
     ]
    },
    {
     "name": "stdout",
     "output_type": "stream",
     "text": [
      "None\nNone\nNone\nNone\nNone\nNone\n"
     ]
    },
    {
     "name": "stdout",
     "output_type": "stream",
     "text": [
      "None\nNone\nNone\nNone\nNone\nNone\n"
     ]
    },
    {
     "name": "stdout",
     "output_type": "stream",
     "text": [
      "None\nNone\nNone\nNone\nNone\nNone\n"
     ]
    },
    {
     "name": "stdout",
     "output_type": "stream",
     "text": [
      "None\nNone\nNone\nNone\nNone\nNone\n"
     ]
    },
    {
     "name": "stdout",
     "output_type": "stream",
     "text": [
      "None\nNone\nNone\nNone\nNone\nNone\n"
     ]
    },
    {
     "name": "stdout",
     "output_type": "stream",
     "text": [
      "None\nNone\nNone\nNone\nNone\nNone\n"
     ]
    },
    {
     "name": "stdout",
     "output_type": "stream",
     "text": [
      "None\nNone\nNone\nNone\nNone\nNone\n"
     ]
    },
    {
     "name": "stdout",
     "output_type": "stream",
     "text": [
      "None\nNone\nNone\nNone\nNone\n"
     ]
    },
    {
     "name": "stdout",
     "output_type": "stream",
     "text": [
      "None\nNone\nNone\nNone\nNone\n"
     ]
    },
    {
     "name": "stdout",
     "output_type": "stream",
     "text": [
      "None\nNone\nNone\nNone\nNone\nNone\n"
     ]
    },
    {
     "name": "stdout",
     "output_type": "stream",
     "text": [
      "None\nNone\nNone\nNone\nNone\nNone\n"
     ]
    },
    {
     "name": "stdout",
     "output_type": "stream",
     "text": [
      "None\nNone\nNone\nNone\nNone\nNone\n"
     ]
    },
    {
     "name": "stdout",
     "output_type": "stream",
     "text": [
      "None\nNone\nNone\nNone\nNone\nNone\n"
     ]
    },
    {
     "name": "stdout",
     "output_type": "stream",
     "text": [
      "None\nNone\nNone\nNone\nNone\nNone\n"
     ]
    },
    {
     "name": "stdout",
     "output_type": "stream",
     "text": [
      "None\nNone\nNone\nNone\nNone\nNone\n"
     ]
    },
    {
     "name": "stdout",
     "output_type": "stream",
     "text": [
      "None\nNone\nNone\nNone\nNone\nNone\n"
     ]
    },
    {
     "name": "stdout",
     "output_type": "stream",
     "text": [
      "None\nNone\nNone\nNone\nNone\nNone\n"
     ]
    },
    {
     "name": "stdout",
     "output_type": "stream",
     "text": [
      "None\nNone\nNone\nNone\nNone\n"
     ]
    },
    {
     "name": "stdout",
     "output_type": "stream",
     "text": [
      "None\nNone\nNone\nNone\nNone\nNone\n"
     ]
    },
    {
     "name": "stdout",
     "output_type": "stream",
     "text": [
      "None\nNone\nNone\nNone\nNone\nNone\n"
     ]
    },
    {
     "name": "stdout",
     "output_type": "stream",
     "text": [
      "None\nNone\nNone\nNone\nNone\nNone\n"
     ]
    },
    {
     "name": "stdout",
     "output_type": "stream",
     "text": [
      "None\nNone\nNone\nNone\nNone\nNone\n"
     ]
    },
    {
     "name": "stdout",
     "output_type": "stream",
     "text": [
      "None\nNone\nNone\nNone\nNone\nNone\n"
     ]
    },
    {
     "name": "stdout",
     "output_type": "stream",
     "text": [
      "None\nNone\nNone\nNone\nNone\nNone\n"
     ]
    },
    {
     "name": "stdout",
     "output_type": "stream",
     "text": [
      "None\nNone\nNone\nNone\nNone\nNone\n"
     ]
    },
    {
     "name": "stdout",
     "output_type": "stream",
     "text": [
      "None\nNone\nNone\nNone\nNone\nNone\n"
     ]
    },
    {
     "name": "stdout",
     "output_type": "stream",
     "text": [
      "None\nNone\nNone\nNone\nNone\nNone\n"
     ]
    },
    {
     "name": "stdout",
     "output_type": "stream",
     "text": [
      "None\nNone\nNone\nNone\nNone\n"
     ]
    },
    {
     "name": "stdout",
     "output_type": "stream",
     "text": [
      "None\nNone\nNone\nNone\nNone\nNone\n"
     ]
    },
    {
     "name": "stdout",
     "output_type": "stream",
     "text": [
      "None\nNone\nNone\nNone\nNone\nNone\n"
     ]
    },
    {
     "name": "stdout",
     "output_type": "stream",
     "text": [
      "None\nNone\nNone\nNone\nNone\nNone\n"
     ]
    },
    {
     "name": "stdout",
     "output_type": "stream",
     "text": [
      "None\nNone\nNone\nNone\nNone\nNone\n"
     ]
    },
    {
     "name": "stdout",
     "output_type": "stream",
     "text": [
      "None\nNone\nNone\nNone\nNone\nNone\n"
     ]
    },
    {
     "name": "stdout",
     "output_type": "stream",
     "text": [
      "None\nNone\nNone\nNone\nNone\nNone\n"
     ]
    },
    {
     "name": "stdout",
     "output_type": "stream",
     "text": [
      "None\nNone\nNone\nNone\nNone\nNone\n"
     ]
    },
    {
     "name": "stdout",
     "output_type": "stream",
     "text": [
      "None\nNone\nNone\nNone\nNone\nNone\n"
     ]
    },
    {
     "name": "stdout",
     "output_type": "stream",
     "text": [
      "None\nNone\nNone\nNone\nNone\nNone\n"
     ]
    },
    {
     "name": "stdout",
     "output_type": "stream",
     "text": [
      "None\nNone\nNone\nNone\nNone\nNone\n"
     ]
    },
    {
     "name": "stdout",
     "output_type": "stream",
     "text": [
      "None\nNone\nNone\nNone\nNone\nNone\n"
     ]
    },
    {
     "name": "stdout",
     "output_type": "stream",
     "text": [
      "None\nNone\nNone\nNone\nNone\nNone\n"
     ]
    },
    {
     "name": "stdout",
     "output_type": "stream",
     "text": [
      "None\nNone\nNone\nNone\nNone\nNone\n"
     ]
    },
    {
     "name": "stdout",
     "output_type": "stream",
     "text": [
      "None\nNone\nNone\nNone\nNone\nNone\n"
     ]
    },
    {
     "name": "stdout",
     "output_type": "stream",
     "text": [
      "None\nNone\nNone\nNone\nNone\nNone\n"
     ]
    },
    {
     "name": "stdout",
     "output_type": "stream",
     "text": [
      "None\nNone\nNone\nNone\nNone\nNone\n"
     ]
    },
    {
     "name": "stdout",
     "output_type": "stream",
     "text": [
      "None\nNone\nNone\nNone\nNone\nNone\n"
     ]
    },
    {
     "name": "stdout",
     "output_type": "stream",
     "text": [
      "None\nNone\nNone\nNone\nNone\nNone\n"
     ]
    },
    {
     "name": "stdout",
     "output_type": "stream",
     "text": [
      "None\nNone\nNone\n"
     ]
    }
   ],
   "source": [
    "insert_cluster(cluster_docs_word2vec, postgresManager, 'word2vec')\n",
    "postgresManager.commit_changes()\n"
   ]
  },
  {
   "cell_type": "code",
   "execution_count": 21,
   "metadata": {
    "collapsed": true
   },
   "outputs": [],
   "source": [
    "insert_cluster(cluster_docs_lsi, postgresManager, 'lsi')\n",
    "postgresManager.commit_changes()\n"
   ]
  },
  {
   "cell_type": "code",
   "execution_count": 53,
   "metadata": {},
   "outputs": [],
   "source": [
    "query = \"Mooi zegd mien jong’, zeggen we dan in Groningen, maar praktijk is dat minister het met de NAM doet, de verbinding… https://t.co/7dgkkNH3P2\"\n",
    "\n",
    "\n",
    "def tokenize(document):\n",
    "    tokens = list(gensim.utils.tokenize(document, lower=True))\n",
    "    return tokens\n",
    "\n",
    "copy_dictionary = gensim.corpora.Dictionary.load(corpus_path + \".dict\")\n",
    "copy_dictionary.filter_extremes(no_below=1, no_above=0.5)\n",
    "bow = copy_dictionary.doc2bow(tokenize(query))\n",
    "sims_td = tfidf[bow]\n",
    "sims_td_ind = index[bow]\n",
    "sims_lsi = lsi_index[lsi[sims_td]]\n",
    "sims_lsi_sorted = sorted(enumerate(sims_lsi), key=lambda item: -item[1])\n",
    "sims_td_sorted = sorted(enumerate(sims_td_ind), key=lambda item: -item[1])\n"
   ]
  },
  {
   "cell_type": "code",
   "execution_count": 54,
   "metadata": {},
   "outputs": [
    {
     "name": "stdout",
     "output_type": "stream",
     "text": [
      "[(218, 0.12537736), (2, 0.12504685), (47, 0.11184342), (506, 0.10252175), (197, 0.10093142)]\n"
     ]
    }
   ],
   "source": [
    "print(sims_td_sorted[0:5])\n"
   ]
  },
  {
   "cell_type": "code",
   "execution_count": 59,
   "metadata": {},
   "outputs": [
    {
     "data": {
      "text/plain": [
       "362"
      ]
     },
     "execution_count": 59,
     "metadata": {},
     "output_type": "execute_result"
    }
   ],
   "source": [
    "corpus.doc_metadata[218]['metadata']['id']"
   ]
  },
  {
   "cell_type": "code",
   "execution_count": 60,
   "metadata": {},
   "outputs": [
    {
     "name": "stdout",
     "output_type": "stream",
     "text": [
      "0.494469\n"
     ]
    }
   ],
   "source": [
    "print(sims_lsi_sorted[0][1])"
   ]
  },
  {
   "cell_type": "code",
   "execution_count": null,
   "metadata": {},
   "outputs": [],
   "source": []
  }
 ],
 "metadata": {
  "kernelspec": {
   "display_name": "Python 2",
   "language": "python",
   "name": "python2"
  },
  "language_info": {
   "codemirror_mode": {
    "name": "ipython",
    "version": 2
   },
   "file_extension": ".py",
   "mimetype": "text/x-python",
   "name": "python",
   "nbconvert_exporter": "python",
   "pygments_lexer": "ipython2",
   "version": "2.7.6"
  }
 },
 "nbformat": 4,
 "nbformat_minor": 0
}
